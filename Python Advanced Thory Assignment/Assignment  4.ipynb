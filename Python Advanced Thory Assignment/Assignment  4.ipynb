{
 "cells": [
  {
   "cell_type": "markdown",
   "metadata": {},
   "source": [
    "### Q1. Which two operator overloading methods can you use in your classes to support iteration?\n",
    "\n",
    "Ans>> There are two operator overloading method that can make a class support iteration.\n",
    "The `__iter__` and `__next__` are used to fort that, the `__iter__` method return iterator object and is implicitly called at the start of loops. And the `__next__` method return the next object or the iter object one by one.\n",
    "\n",
    "The following example will show the process. here i will create my own `Range` function\n"
   ]
  },
  {
   "cell_type": "code",
   "execution_count": 9,
   "metadata": {},
   "outputs": [],
   "source": [
    "# creating the class\n",
    "\n",
    "class My_range():\n",
    "    def __init__(self, start, end):\n",
    "        # defiing the star and end of iteration\n",
    "        self.start = start\n",
    "        self.end = end\n",
    "\n",
    "    def __iter__(self):  # defiing the iterator methode\n",
    "        return self\n",
    " \n",
    "    def __next__(self): # defining next methode\n",
    "        if self.start > self.end : # when it will reach end then it will raise exception\n",
    "            raise StopIteration\n",
    "                \n",
    "        else :\n",
    "            self.start += 1 # incrising the start value by 1\n",
    "            return self.start - 1\n"
   ]
  },
  {
   "cell_type": "code",
   "execution_count": 10,
   "metadata": {},
   "outputs": [
    {
     "name": "stdout",
     "output_type": "stream",
     "text": [
      "1\n",
      "2\n",
      "3\n",
      "4\n",
      "5\n",
      "6\n",
      "7\n",
      "8\n",
      "9\n",
      "10\n"
     ]
    }
   ],
   "source": [
    "for i in My_range(1,10):\n",
    "    print(i)"
   ]
  },
  {
   "cell_type": "markdown",
   "metadata": {},
   "source": [
    "### Q2. In what contexts do the two operator overloading methods manage printing?\n",
    "\n",
    "Ans>> The operator overloading works based of python default behavior, like, if our two object is string then it will perform string addition just like in normal python, and if our two object is number then it will perform the math operation between two objects. So, overall the operator overloading will works based on operands and objects."
   ]
  },
  {
   "cell_type": "code",
   "execution_count": null,
   "metadata": {},
   "outputs": [],
   "source": []
  },
  {
   "cell_type": "markdown",
   "metadata": {},
   "source": [
    "### Q3. In a class, how do you intercept slice operations?\n",
    "\n",
    "Ans>> The slice function works like index slicing, here I can defined star, end and step number form which based my slice is required.\n"
   ]
  },
  {
   "cell_type": "code",
   "execution_count": null,
   "metadata": {},
   "outputs": [],
   "source": []
  },
  {
   "cell_type": "markdown",
   "metadata": {},
   "source": [
    "\n",
    "### Q5. When is it appropriate to use operator overloading?\n",
    "\n",
    "Ans>> Operator overloading is ment to use when we define the datatype of any ibject before performing oprerator overloading, because it is works like normal python operator, if objects are string and operator are plus `+` then it will perform string concatenation, and if object are number then it will sum them up, so we have to predefine object datatype, and in that case we should use iperator overloading.\n",
    "    "
   ]
  },
  {
   "cell_type": "code",
   "execution_count": null,
   "metadata": {},
   "outputs": [],
   "source": []
  }
 ],
 "metadata": {
  "kernelspec": {
   "display_name": "Python 3",
   "language": "python",
   "name": "python3"
  },
  "language_info": {
   "codemirror_mode": {
    "name": "ipython",
    "version": 3
   },
   "file_extension": ".py",
   "mimetype": "text/x-python",
   "name": "python",
   "nbconvert_exporter": "python",
   "pygments_lexer": "ipython3",
   "version": "3.8.5"
  }
 },
 "nbformat": 4,
 "nbformat_minor": 4
}
