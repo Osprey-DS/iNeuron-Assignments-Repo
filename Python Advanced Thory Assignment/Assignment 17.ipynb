{
 "cells": [
  {
   "cell_type": "markdown",
   "metadata": {},
   "source": [
    "### Q1. Explain the difference between greedy and non-greedy syntax with visual terms in as few words as possible. What is the bare minimum effort required to transform a greedy pattern into a non-greedy one? What characters or characters can you introduce or change?\n",
    "\n",
    "Ans>> The greedy and non-greedy are matching type and it is used with curly brackets whic is used for matching multiple repetation of a specific pattern, now the greddy method where the pattern will match **longest** string possible and where th non-greedy will match the **shortest** string possible.\n",
    "\n",
    "we use question mark `?` to tell pythin to match non-greedy way.\n",
    "\n",
    "the following example will show the difference...\n",
    "\n"
   ]
  },
  {
   "cell_type": "code",
   "execution_count": 6,
   "metadata": {},
   "outputs": [
    {
     "name": "stdout",
     "output_type": "stream",
     "text": [
      "The greedy way match: lalalala\n",
      "The non-greedy way match: lala\n"
     ]
    }
   ],
   "source": [
    "#greedy way\n",
    "import re\n",
    "greedy_pat = re.compile(r'(la){2,4}') #greedy way search\n",
    "non_greedy_pat = re.compile(r'(la){2,4}?') # put question mark `?` to tell pythin to search non-greedy way\n",
    "\n",
    "text = 'lalalalalalalalalalalalalalalalalal'\n",
    "\n",
    "print(f'The greedy way match: {greedy_pat.search(text).group()}')\n",
    "print(f'The non-greedy way match: {non_greedy_pat.search(text).group()}')\n",
    "      "
   ]
  },
  {
   "cell_type": "markdown",
   "metadata": {},
   "source": [
    "Now we can see the difference, the greedy search match highest number we are telling him which is 4 \n",
    "\n",
    "and the non greedy match the lowest number, 2"
   ]
  },
  {
   "cell_type": "code",
   "execution_count": null,
   "metadata": {},
   "outputs": [],
   "source": []
  },
  {
   "cell_type": "markdown",
   "metadata": {},
   "source": [
    "### Q2. When exactly does greedy versus non-greedy make a difference?  What if you're looking for a non-greedy match but the only one available is greedy?\n",
    "\n",
    "Ans>> It depends upon the problem in our hand, the greedy way and non-greedy ways will search a string for multiple repetitions and we have the control to how many repetitions will match. To specify the range in curly brackets. As shown in the above example.\n",
    "\n",
    "\n",
    "If we have only greedy is available then we can also work with it like non-greedy way, I will simply remove the highest number from the curly brackets then it will behave non-greedy way as it will not find the highest range, then it will match only the lowest match like non-greedy. \n",
    "\n"
   ]
  },
  {
   "cell_type": "code",
   "execution_count": 7,
   "metadata": {},
   "outputs": [
    {
     "name": "stdout",
     "output_type": "stream",
     "text": [
      "The greedy way match but will behave like non-greedy: lala\n",
      "The non-greedy way match: lala\n"
     ]
    }
   ],
   "source": [
    "greedy_pat = re.compile(r'(la){2}') #greedy way search but remove the highest number from the curly brackets.\n",
    "non_greedy_pat = re.compile(r'(la){2,4}?') # put question mark `?` to tell pythin to search non-greedy way\n",
    "\n",
    "text = 'lalalalalalalalalalalalalalalalalal'\n",
    "\n",
    "print(f'The greedy way match but will behave like non-greedy: {greedy_pat.search(text).group()}')\n",
    "print(f'The non-greedy way match: {non_greedy_pat.search(text).group()}')"
   ]
  },
  {
   "cell_type": "code",
   "execution_count": null,
   "metadata": {},
   "outputs": [],
   "source": []
  },
  {
   "cell_type": "markdown",
   "metadata": {},
   "source": [
    "### Q6. In standard expressions, what is the difference between positive look-ahead and negative look-ahead?\n",
    "\n",
    "Ans>>  This is used if the next element of our match is as per the requirement described in regex. It matches for the element or the characters but after matching, gives it up and returns only if there is a match or no match hence that is why these are called an assertion. They only assert if in a given test string the match with certain conditions is possible or not.\n",
    "\n",
    "The negative look-ahead is used when we want to match something not followed by something else. In this type of lookahead, the regex engine searches for a particular element which may be a character or characters or a group after the item matched. If that particular element is not present then the regex declares the match as a match otherwise it simply rejects that match. \n",
    "\n",
    "And the other side the positive lookahead In this type the regex engine searches for a particular element which may be a character or characters or a group after the item matched. If that particular element is present then the regex declares the match as a match otherwise it simply rejects that match.\n"
   ]
  },
  {
   "cell_type": "code",
   "execution_count": null,
   "metadata": {},
   "outputs": [],
   "source": []
  }
 ],
 "metadata": {
  "kernelspec": {
   "display_name": "Python 3",
   "language": "python",
   "name": "python3"
  },
  "language_info": {
   "codemirror_mode": {
    "name": "ipython",
    "version": 3
   },
   "file_extension": ".py",
   "mimetype": "text/x-python",
   "name": "python",
   "nbconvert_exporter": "python",
   "pygments_lexer": "ipython3",
   "version": "3.8.5"
  }
 },
 "nbformat": 4,
 "nbformat_minor": 4
}
