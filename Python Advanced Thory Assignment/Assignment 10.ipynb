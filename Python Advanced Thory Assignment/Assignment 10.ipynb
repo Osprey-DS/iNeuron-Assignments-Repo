{
 "cells": [
  {
   "cell_type": "markdown",
   "metadata": {},
   "source": [
    "### Q1. What is the difference between __getattr__ and __getattribute__?\n",
    "\n",
    "Ans>> `__getattr__ `method is called when the calling attribute is present in our class and we are sure about it. If the calling attribute is not present in our class then it will through an `AttributeError`\n",
    "\n",
    "And in Another side, if our function has `__getattribute__` then the condition is written inside this method will be put an effect on every other attribute no matter the method is present or not.\n"
   ]
  },
  {
   "cell_type": "code",
   "execution_count": null,
   "metadata": {},
   "outputs": [],
   "source": []
  },
  {
   "cell_type": "markdown",
   "metadata": {},
   "source": [
    "### Q2. What is the difference between properties and descriptors?\n",
    "\n",
    "Ans>> The properties are much simpler to use and understand. Simply says it can convert the method as an attribute. Like we have a method in our class and if we add `@property` as a decorator of that function then we can use that function or method as an attribute means we no longer need to use () like calling a function.\n",
    "\n",
    "Descriptors give us a special ability to create objects that have special behavior when they’re accessed as attributes of other objects.\n"
   ]
  },
  {
   "cell_type": "code",
   "execution_count": null,
   "metadata": {},
   "outputs": [],
   "source": []
  },
  {
   "cell_type": "markdown",
   "metadata": {},
   "source": [
    "### Q3. What are the key differences in functionality between __getattr__ and __getattribute__, as well as properties and descriptors?\n",
    "\n",
    "Q4. What are the key differences in functionality between `__getattr__` and `__getattribute__`, as well as properties and descriptors?\n",
    "\n",
    "Ans>> When we create class and there are some attributes also present, and some time we call them for our purpose, the `__getattr__` and `__getattribute__` are control that property of class.\n",
    "For calling the attribute we use this structure `class_instance.attribute_name` Now here we can tell the class how to deal with attributes which is doesn’t exist or not defined in the class creation time. Python will call `__getattr__` in that situation.\n",
    "\n",
    "And if we need to catch every attribute nomatter that is defined or not, in that time `__getattribute__` will be called. The difference is that `__getattr__` only gets called for attributes that don't actually exist. If you set an attribute directly, referencing that attribute will retrieve it without calling `__getattr__`.  No matter what `__getattribute__` is called all the times when we call attributes from class instance.\n",
    "\n",
    "\n",
    "\n",
    "\n",
    " The properties are much simpler to use and understand. Simply says it can convert the method as an attribute. Like we have a method in our class and if we add @property as a decorator of that function then we can use that function or method as an attribute means we no longer need to use () like calling a function.\n",
    "\n",
    "Descriptors give us a special ability to create objects that have special behavior when they’re accessed as attributes of other objects."
   ]
  },
  {
   "cell_type": "code",
   "execution_count": null,
   "metadata": {},
   "outputs": [],
   "source": []
  }
 ],
 "metadata": {
  "kernelspec": {
   "display_name": "Python 3",
   "language": "python",
   "name": "python3"
  },
  "language_info": {
   "codemirror_mode": {
    "name": "ipython",
    "version": 3
   },
   "file_extension": ".py",
   "mimetype": "text/x-python",
   "name": "python",
   "nbconvert_exporter": "python",
   "pygments_lexer": "ipython3",
   "version": "3.8.5"
  }
 },
 "nbformat": 4,
 "nbformat_minor": 4
}
