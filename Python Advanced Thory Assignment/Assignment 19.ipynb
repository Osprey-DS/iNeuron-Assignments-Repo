{
 "cells": [
  {
   "cell_type": "markdown",
   "metadata": {},
   "source": [
    "### Q1. Define the relationship between a class and its instances. Is it a one-to-one or a one-to-many partnership, for example?\n",
    "\n",
    "Ans>> A class is user-defined data structure classes define a function called methods which can be use to get some information based on the function is create. A class can be describe a blueprint for some structure that the programmer is defined, it would take data from user and are able to return some value through methods as it created.\n",
    "\n",
    "And the other side an instance is user object of that class, where the user will put their information in to the class and will get information based on there data. As many user will use the class an instance will be that many.\n",
    "\n",
    "This is one-to-many relationship, one class can be use by many user. Like an example can be. If we have a `Student` class which take some input like `roll no` and `student name`, then one school will have many student and it is likely to have different name and roll number for each student. Here the `Student` class is one and its relationship is with many students.\n"
   ]
  },
  {
   "cell_type": "code",
   "execution_count": null,
   "metadata": {},
   "outputs": [],
   "source": []
  },
  {
   "cell_type": "markdown",
   "metadata": {},
   "source": [
    "### Q2. What kind of data is held only in an instance?\n",
    "\n",
    "Ans>> The instance hold information about that specific instances or the user information. A class is blue print and an instance is copy of the class, we can create as many copy form that blueprint or class.\n",
    "\n",
    "Like above example the data that one instance will held for one students name and roll number.\n"
   ]
  },
  {
   "cell_type": "code",
   "execution_count": null,
   "metadata": {},
   "outputs": [],
   "source": []
  },
  {
   "cell_type": "markdown",
   "metadata": {},
   "source": [
    "### Q3. What kind of knowledge is stored in a class?\n",
    "\n",
    "Ans>> A class is stored a structured data or the structure of the process, here in class we don’t hold any user data, but we hold the information or the process to how the user data will be calculated. \n"
   ]
  },
  {
   "cell_type": "code",
   "execution_count": null,
   "metadata": {},
   "outputs": [],
   "source": []
  },
  {
   "cell_type": "markdown",
   "metadata": {},
   "source": [
    "### Q4. What exactly is a method, and how is it different from a regular function?\n",
    "\n",
    "Ans>> A regular function is not dependent on any other object but a class method Is dependent on the class instance or class object. For using that class method we need class instance and we need to put class instance and dot followed by the function or method name. but in regular function does not need any of these we can simply call it by regular way.\n"
   ]
  },
  {
   "cell_type": "code",
   "execution_count": null,
   "metadata": {},
   "outputs": [],
   "source": []
  },
  {
   "cell_type": "markdown",
   "metadata": {},
   "source": [
    "### Q5. Is inheritance supported in Python, and if so, what is the syntax?\n",
    "\n",
    "Ans>> Yes inheritance is support in python and it is denoted inside of parenthesis followed by child class in the time of defining of child class.\n",
    "\n",
    "here is an example of syntax of inheritance of parent class inside of child class\n"
   ]
  },
  {
   "cell_type": "code",
   "execution_count": 1,
   "metadata": {},
   "outputs": [],
   "source": [
    "class Parent(): # creating aparent class\n",
    "    pass\n",
    "\n",
    "class Child(Parent): # creating child class inheritance with parent class\n",
    "    pass"
   ]
  },
  {
   "cell_type": "code",
   "execution_count": null,
   "metadata": {},
   "outputs": [],
   "source": []
  },
  {
   "cell_type": "markdown",
   "metadata": {},
   "source": [
    "### Q6. How much encapsulation (making instance or class variables private) does Python support?\n",
    "\n",
    "Ans>> Yes python support encapsulation in object-oriented programming, here we can get more flexibility of our attribute and can save attribute by randomly or accidental change of any attribute value.\n",
    "\n",
    "Here we have two methods for encapsulation one is the protected attribute and the second one is the private attribute.\n",
    "\n",
    "\n",
    "the `procted` attribute are define with single underscore `_` befor the attribute in the time of defining with self.\n",
    "\n",
    "and in other side `private` attribute is define with double underscore `__` befor the attribute name to make it privet. \n",
    "\n",
    "The use is now user can call them directly and don't have to acess to chane them in traditional way."
   ]
  },
  {
   "cell_type": "code",
   "execution_count": null,
   "metadata": {},
   "outputs": [],
   "source": []
  },
  {
   "cell_type": "markdown",
   "metadata": {},
   "source": [
    "### Q7. How do you distinguish between a class variable and an instance variable?\n",
    "\n",
    "Ans>> **Class variables** − Class variables also known as self variables are declared with the self keyword in a class, but outside a method, constructor or inside the `__init__` method. There would only be one copy of each class variable per class, regardless of how many objects are created from it.\n",
    "\n",
    "**Instance variables** − Instance variables are declared in a class, but outside a method. When space is allocated for an object in the heap, a slot for each instance variable value is created. Instance variables hold values that must be referenced by more than one method, constructor or block, or essential parts of an object's state that must be present throughout the class.\n"
   ]
  },
  {
   "cell_type": "code",
   "execution_count": null,
   "metadata": {},
   "outputs": [],
   "source": []
  },
  {
   "cell_type": "markdown",
   "metadata": {},
   "source": [
    "### Q8. When, if ever, can self be included in a class's method definitions?\n",
    "\n",
    "Ans>> The self will be included in class method definition for all the time, it Is the first argument that any method of a class is taken, if some method does not require any value for the calculation in that time also it will self argument,\n",
    "\n",
    "The self is telling that the function is not any regular function and the values are associated which refer to the class itself.\n"
   ]
  },
  {
   "cell_type": "code",
   "execution_count": null,
   "metadata": {},
   "outputs": [],
   "source": []
  }
 ],
 "metadata": {
  "kernelspec": {
   "display_name": "Python 3",
   "language": "python",
   "name": "python3"
  },
  "language_info": {
   "codemirror_mode": {
    "name": "ipython",
    "version": 3
   },
   "file_extension": ".py",
   "mimetype": "text/x-python",
   "name": "python",
   "nbconvert_exporter": "python",
   "pygments_lexer": "ipython3",
   "version": "3.8.5"
  }
 },
 "nbformat": 4,
 "nbformat_minor": 4
}
