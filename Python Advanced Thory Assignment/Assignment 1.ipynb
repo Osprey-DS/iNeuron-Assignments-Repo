{
 "cells": [
  {
   "cell_type": "markdown",
   "metadata": {},
   "source": [
    "# Python Advanced Assignment 1\n"
   ]
  },
  {
   "cell_type": "code",
   "execution_count": null,
   "metadata": {},
   "outputs": [],
   "source": []
  },
  {
   "cell_type": "markdown",
   "metadata": {},
   "source": [
    "## What is the main point of OOP in Python?\n",
    "Ans>> The main point of OOP in python is creating class object\n",
    "\n",
    "A class is  user-defined prototype for an object that defines a set of attributes that characterize any object of the class. The attributes are data members (class variables and instance variables) and methods, accessed via dot notation.\n",
    "\n",
    "The OOP is followed for the code reusebility, and our code and variable or attribute stay more secure than flat scripting code. here python gives us the flexiblity to hide and protect some variable and also we can bind user to use the attribute and change the value of certain attributes. "
   ]
  },
  {
   "cell_type": "code",
   "execution_count": null,
   "metadata": {},
   "outputs": [],
   "source": []
  },
  {
   "cell_type": "markdown",
   "metadata": {},
   "source": [
    "## 2. Where does an inheritance search look for an attribute?\n",
    "\n",
    "Ans>> The inheritance search look for an attribute in his parent class. the parent class is whom our class is inheritating from."
   ]
  },
  {
   "cell_type": "code",
   "execution_count": null,
   "metadata": {},
   "outputs": [],
   "source": []
  },
  {
   "cell_type": "markdown",
   "metadata": {},
   "source": [
    "## 3. What is the difference between a class object and an instance object?\n",
    "Ans>> The class object is the main blueprint of the class and the instance object is a copy of the class whis is representing the class or in more general way A variable that is defined inside a method and belongs only to the current instance of a class."
   ]
  },
  {
   "cell_type": "code",
   "execution_count": null,
   "metadata": {},
   "outputs": [],
   "source": []
  },
  {
   "cell_type": "markdown",
   "metadata": {},
   "source": [
    "## 4. Why is the first argument in a class’s method function special?\n",
    "\n",
    "Ans>> The first function of the class's method is special because it is the main class attribute creating function, here is created our main function base or the blueprint of our class,\n",
    "\n",
    "\n",
    "how many argument will be taken from user and what will be the corresponding value will be hold that argument all discuess in here in the first clsas's methode."
   ]
  },
  {
   "cell_type": "code",
   "execution_count": null,
   "metadata": {},
   "outputs": [],
   "source": []
  },
  {
   "cell_type": "markdown",
   "metadata": {},
   "source": [
    "## 5. What is the __init__ method used for?\n",
    "\n",
    "Ans>> The `__init__` method is nothing but a Constructors, constructors are used to initializing the object’s state. Like methods, a constructor also contains a collection of statements that are executed at the time of Object creation. It is run as soon as an object of a class is instantiated. The method is useful to do any initialization you want to do with your object."
   ]
  },
  {
   "cell_type": "code",
   "execution_count": null,
   "metadata": {},
   "outputs": [],
   "source": []
  },
  {
   "cell_type": "markdown",
   "metadata": {},
   "source": [
    "## 6. How do you create a class instance?\n",
    "Ans>> A class instance is individual object of a class. it can be think as a copy of a our main class. we can use the instnce to use the class\n",
    "\n",
    "We have to pick a any relevant name of our instance and assign it to our class.\n",
    "\n"
   ]
  },
  {
   "cell_type": "code",
   "execution_count": 1,
   "metadata": {},
   "outputs": [],
   "source": [
    "class my_class():\n",
    "    pass\n",
    "\n",
    "#creating instance of our class\n",
    "Instance_our_class = my_class()"
   ]
  },
  {
   "cell_type": "code",
   "execution_count": null,
   "metadata": {},
   "outputs": [],
   "source": []
  },
  {
   "cell_type": "markdown",
   "metadata": {},
   "source": [
    "## 7. How do you create a class?\n",
    "\n",
    "Ans>> For creating class we have to use python inbuilt statement **class** "
   ]
  },
  {
   "cell_type": "code",
   "execution_count": 2,
   "metadata": {},
   "outputs": [],
   "source": [
    "#creaing class \n",
    "class My_class2():\n",
    "    pass\n",
    "\n"
   ]
  },
  {
   "cell_type": "markdown",
   "metadata": {},
   "source": [
    "In the above cell i create a class name **My_class2**"
   ]
  },
  {
   "cell_type": "code",
   "execution_count": null,
   "metadata": {},
   "outputs": [],
   "source": []
  },
  {
   "cell_type": "markdown",
   "metadata": {},
   "source": [
    "\n",
    "## 8. How do you specify a class’s superclasses?\n",
    "Ans>> We use super() function in order to specify super class , \n",
    "superclass is nothing but it inherit attribute property from the parent class\n",
    "\n"
   ]
  },
  {
   "cell_type": "code",
   "execution_count": null,
   "metadata": {},
   "outputs": [],
   "source": [
    "class superclass(My_class): #inheritaing from MY_class2 class\n",
    "    def __init__(self):\n",
    "        super().__init__(self) #specify super class "
   ]
  }
 ],
 "metadata": {
  "kernelspec": {
   "display_name": "Python 3",
   "language": "python",
   "name": "python3"
  },
  "language_info": {
   "codemirror_mode": {
    "name": "ipython",
    "version": 3
   },
   "file_extension": ".py",
   "mimetype": "text/x-python",
   "name": "python",
   "nbconvert_exporter": "python",
   "pygments_lexer": "ipython3",
   "version": "3.8.5"
  }
 },
 "nbformat": 4,
 "nbformat_minor": 5
}
