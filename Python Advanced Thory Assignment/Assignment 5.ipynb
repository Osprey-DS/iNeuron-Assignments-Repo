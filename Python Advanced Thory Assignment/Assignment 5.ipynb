{
 "cells": [
  {
   "cell_type": "markdown",
   "metadata": {},
   "source": [
    "### Q1. What is the meaning of multiple inheritances?\n",
    "\n",
    "Ans>> When we inherit from more than one class,  to make our child class that is called multiple inheritances, it is a way to achieve the re-usability of code as one child class can derive the properties of another class.\n",
    "But Note here the child class will look for the first entered parent class for the calling feature, if it found the feature or the methods it is looking for then it will not go on to the second parent class.\n"
   ]
  },
  {
   "cell_type": "code",
   "execution_count": null,
   "metadata": {},
   "outputs": [],
   "source": []
  },
  {
   "cell_type": "markdown",
   "metadata": {},
   "source": [
    "### Q2. What is the concept of delegation?\n",
    "\n",
    "Ans>> The delegation method allows a class method to be passed as a parameter. The delegates can be used to define the callback method. Delegates can be chained together for example multiple methods can be called on a single event.\n"
   ]
  },
  {
   "cell_type": "code",
   "execution_count": null,
   "metadata": {},
   "outputs": [],
   "source": []
  },
  {
   "cell_type": "markdown",
   "metadata": {},
   "source": [
    "### Q3. What is the concept of composition?\n",
    "\n",
    "Ans>> The whole concept of composition is to use one class method to create for another class similar method, where we don’t need to write explicit code for a second class method. A composition means having a container object that contains other objects. It also can describe a class that references one or more objects of other classes in an instance variable. This allows us to model has association between objects. \n",
    "\n",
    "There is some advantage of composition. \n",
    "Reuse of existing code. Designing clean APIs, change the implementation of a class used in a composition without adapting any external clients.\n",
    "\n",
    "The following example can describe composition better...\n"
   ]
  },
  {
   "cell_type": "code",
   "execution_count": 4,
   "metadata": {},
   "outputs": [],
   "source": [
    "# creating two math class for adding and substractin\n",
    "\n",
    "class Add():  # creating addition class \n",
    "    def __init__(self, x, y):\n",
    "        self.x = x\n",
    "        self.y = y\n",
    "        \n",
    "    def add(self):  # addition method\n",
    "        print('class Add is called')\n",
    "        return self.x + self.y\n",
    "    \n",
    "\n",
    "class Sub():\n",
    "    def __init__(self, x, y):\n",
    "        self.x = x\n",
    "        self.y = y\n",
    "    def sub(self):  # substitution method\n",
    "        print('class Sub is called')\n",
    "        return self.x - self.y\n",
    "    \n",
    "    \n",
    "     \n",
    "class Math():  # our main math class\n",
    "    def __init__(self, x, y):\n",
    "        self.x = x\n",
    "        self.y = y\n",
    "        self.m1 = Add(x,y)\n",
    "        self.m2 = Sub(x,y)\n",
    "        \n",
    "         \n",
    "    def add(self): # add method\n",
    "        return self.m1.add()  # calling Add class methode\n",
    "    \n",
    "    def sub(self):\n",
    "        return self.m2.sub()  # calling Sub class sub method\n",
    "        "
   ]
  },
  {
   "cell_type": "code",
   "execution_count": 5,
   "metadata": {},
   "outputs": [
    {
     "name": "stdout",
     "output_type": "stream",
     "text": [
      "class Add is called\n"
     ]
    },
    {
     "data": {
      "text/plain": [
       "7"
      ]
     },
     "execution_count": 5,
     "metadata": {},
     "output_type": "execute_result"
    }
   ],
   "source": [
    "var = Math(5,2)  # creating Math class instance\n",
    "\n",
    "var.add()"
   ]
  },
  {
   "cell_type": "code",
   "execution_count": 6,
   "metadata": {},
   "outputs": [
    {
     "name": "stdout",
     "output_type": "stream",
     "text": [
      "class Sub is called\n"
     ]
    },
    {
     "data": {
      "text/plain": [
       "3"
      ]
     },
     "execution_count": 6,
     "metadata": {},
     "output_type": "execute_result"
    }
   ],
   "source": [
    "var.sub()"
   ]
  },
  {
   "cell_type": "markdown",
   "metadata": {},
   "source": [
    "The notable things here i pull the property of two different class methode with out inheritance. and i used two different class methode to create another class attribute and from that i create another mehode by calling that method. \n",
    "\n",
    "This was an exmaple of composition"
   ]
  },
  {
   "cell_type": "code",
   "execution_count": null,
   "metadata": {},
   "outputs": [],
   "source": []
  },
  {
   "cell_type": "markdown",
   "metadata": {},
   "source": [
    "### Q4. What are bound methods and how do we use them?\n",
    "\n",
    "Ans>> The bound method are those are bounded with class instances, if a function is an attribute of class and it is accessed via the instances, they are called bound method. A bound method has ‘self’ at its first argument means it is defining the self or class instance property. As these methods are dependent on the instance of classes this is also called the instance method.\n",
    "\n",
    "We need this because one particular object may have a different type of property based on the different types of a similar object.\n",
    "\n",
    "Like if we have a Student class and the instance will be for different students, and now if we have a method called show_marks then this method will show for that particular student marks, and it depends on that student only.\n",
    "\n",
    "This was the whole concept of the bound method. \n"
   ]
  },
  {
   "cell_type": "code",
   "execution_count": null,
   "metadata": {},
   "outputs": [],
   "source": []
  },
  {
   "cell_type": "markdown",
   "metadata": {},
   "source": [
    "### Q5. What is the purpose of pseudoprivate attributes?\n",
    "\n",
    "Ans>> The pseudoprivate attribute is also called privet attribute, these are attribute which is privet and user can not access them, it has some special way to call them. This is required for when we are trying to create a large and complex application. Although it can be useful there if we need some attribute for calculation and we don’t user to access them.\n",
    "\n",
    "For crating privet attribute we need to put double underscore after ‘self.’, and this way we can define privet attribute.\n",
    "Privet attribute can not be called directly as we called other normal attributes, \n"
   ]
  },
  {
   "cell_type": "code",
   "execution_count": 19,
   "metadata": {},
   "outputs": [],
   "source": [
    "class Privet():\n",
    "    def __init__(self, name, age):\n",
    "        self.name = name # normal attributes\n",
    "        self.__age = age # privet attribute                    \n",
    "        \n",
    "        \n",
    "my = Privet('subha', 23) # create a class object\n"
   ]
  },
  {
   "cell_type": "code",
   "execution_count": 20,
   "metadata": {},
   "outputs": [
    {
     "data": {
      "text/plain": [
       "'subha'"
      ]
     },
     "execution_count": 20,
     "metadata": {},
     "output_type": "execute_result"
    }
   ],
   "source": [
    "my.name # calling name attribute"
   ]
  },
  {
   "cell_type": "code",
   "execution_count": 21,
   "metadata": {},
   "outputs": [
    {
     "ename": "AttributeError",
     "evalue": "'Privet' object has no attribute 'age'",
     "output_type": "error",
     "traceback": [
      "\u001b[1;31m---------------------------------------------------------------------------\u001b[0m",
      "\u001b[1;31mAttributeError\u001b[0m                            Traceback (most recent call last)",
      "\u001b[1;32m<ipython-input-21-4fb74dd58ba6>\u001b[0m in \u001b[0;36m<module>\u001b[1;34m\u001b[0m\n\u001b[1;32m----> 1\u001b[1;33m \u001b[0mmy\u001b[0m\u001b[1;33m.\u001b[0m\u001b[0mage\u001b[0m \u001b[1;31m# calling privet ttribute in normal way\u001b[0m\u001b[1;33m\u001b[0m\u001b[1;33m\u001b[0m\u001b[0m\n\u001b[0m",
      "\u001b[1;31mAttributeError\u001b[0m: 'Privet' object has no attribute 'age'"
     ]
    }
   ],
   "source": [
    "my.age # calling privet ttribute in normal way"
   ]
  },
  {
   "cell_type": "markdown",
   "metadata": {},
   "source": [
    "The privet attribute have special way to call them, \n",
    "the rule is \n",
    "\n",
    "`classObject._class_name__attribute` "
   ]
  },
  {
   "cell_type": "code",
   "execution_count": 22,
   "metadata": {},
   "outputs": [
    {
     "data": {
      "text/plain": [
       "23"
      ]
     },
     "execution_count": 22,
     "metadata": {},
     "output_type": "execute_result"
    }
   ],
   "source": [
    "my._Privet__age # calling privet attribute"
   ]
  },
  {
   "cell_type": "code",
   "execution_count": null,
   "metadata": {},
   "outputs": [],
   "source": []
  }
 ],
 "metadata": {
  "kernelspec": {
   "display_name": "Python 3",
   "language": "python",
   "name": "python3"
  },
  "language_info": {
   "codemirror_mode": {
    "name": "ipython",
    "version": 3
   },
   "file_extension": ".py",
   "mimetype": "text/x-python",
   "name": "python",
   "nbconvert_exporter": "python",
   "pygments_lexer": "ipython3",
   "version": "3.8.5"
  }
 },
 "nbformat": 4,
 "nbformat_minor": 4
}
