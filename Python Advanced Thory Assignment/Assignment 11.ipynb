{
 "cells": [
  {
   "cell_type": "markdown",
   "metadata": {},
   "source": [
    "### Q1. What is the concept of a metaclass?\n",
    "\n",
    "Ans>> The metaclass is a class by itself and it decided how our main class will behave. We can think metaclass is some property that is predefined and that is going to put their impact in our main class. When we use metaclass when creating our main class.\n"
   ]
  },
  {
   "cell_type": "code",
   "execution_count": null,
   "metadata": {},
   "outputs": [],
   "source": []
  },
  {
   "cell_type": "markdown",
   "metadata": {},
   "source": [
    "### Q2. What is the best way to declare a class's metaclass?\n",
    "\n",
    "Ans>> Using dunder methode `__metaclass__` in the module level we can define metaclass\n"
   ]
  },
  {
   "cell_type": "code",
   "execution_count": null,
   "metadata": {},
   "outputs": [],
   "source": []
  },
  {
   "cell_type": "markdown",
   "metadata": {},
   "source": [
    "### Q3. How do class decorators overlap with metaclasses for handling classes?\n",
    "\n",
    "Ans>> With a class decorator we can do eith a custom metaclass by just applying the functionality of the decorator finction, there fore the one that takes a class object and modifies it, in the course of the metaclass's new `__new__` or `__init__` that make the class object. here if we want to make class object `A` such that `print(A)` display `'Hello'`, we can not do that with our custom metaclass, because the metaclass's override of `__str__` is the crucial here, we need another methode to do the same. \n",
    "\n",
    "`def __str__(class):\n",
    "    return 'Hello'`\n"
   ]
  },
  {
   "cell_type": "code",
   "execution_count": null,
   "metadata": {},
   "outputs": [],
   "source": []
  },
  {
   "cell_type": "markdown",
   "metadata": {},
   "source": [
    "### Q4. How do class decorators overlap with metaclasses for handling instances?"
   ]
  },
  {
   "cell_type": "code",
   "execution_count": null,
   "metadata": {},
   "outputs": [],
   "source": []
  }
 ],
 "metadata": {
  "kernelspec": {
   "display_name": "Python 3",
   "language": "python",
   "name": "python3"
  },
  "language_info": {
   "codemirror_mode": {
    "name": "ipython",
    "version": 3
   },
   "file_extension": ".py",
   "mimetype": "text/x-python",
   "name": "python",
   "nbconvert_exporter": "python",
   "pygments_lexer": "ipython3",
   "version": "3.8.5"
  }
 },
 "nbformat": 4,
 "nbformat_minor": 4
}
