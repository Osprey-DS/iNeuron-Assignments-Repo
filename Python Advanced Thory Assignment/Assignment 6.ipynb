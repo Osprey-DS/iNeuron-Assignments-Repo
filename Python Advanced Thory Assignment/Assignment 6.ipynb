{
 "cells": [
  {
   "cell_type": "markdown",
   "metadata": {},
   "source": [
    "### Q1. Describe three applications for exception processing.\n",
    "\n",
    "Ans>> The main three applicaions for exceptions processing is \n",
    "\n",
    "* `try:`\n",
    "    \n",
    "        \n",
    "* `except:`\n",
    "\n",
    "        \n",
    "* `finally:`\n",
    "        \n"
   ]
  },
  {
   "cell_type": "code",
   "execution_count": null,
   "metadata": {},
   "outputs": [],
   "source": []
  },
  {
   "cell_type": "markdown",
   "metadata": {},
   "source": [
    "### Q2. What happens if you don't do something extra to treat an exception?\n",
    "\n",
    "Ans>> If I didn't do any extra to treat an exception then the error of the code will appear on our console that maybe will not recognizable to all end-user, \n",
    "\n",
    "for that we have to convert the error to some easy to understand message for those end-users. Or we can use `logging` for exception handling.\n"
   ]
  },
  {
   "cell_type": "code",
   "execution_count": null,
   "metadata": {},
   "outputs": [],
   "source": []
  },
  {
   "cell_type": "markdown",
   "metadata": {},
   "source": [
    "### Q3. What are your options for recovering from an exception in your script?\n",
    "\n",
    "Ans>> we can use except clause after `try` clause to recover the exception from my python script. We can use multiple exceptions in our script to recover the exception. then can use `logging` to store those exceptions into another file for better observation.\n",
    "Then I can use an else statement to get those errors that are occurred during the time of throwing the exceptions. Also, log these into another file.\n"
   ]
  },
  {
   "cell_type": "code",
   "execution_count": null,
   "metadata": {},
   "outputs": [],
   "source": []
  },
  {
   "cell_type": "markdown",
   "metadata": {},
   "source": [
    "### Q4. Describe two methods for triggering exceptions in your script.\n",
    "\n",
    "Ans>> The two methods are triggering exceptions are `raise` and `assert`.\n",
    "\n",
    "* The `raise` statement will through an error at any point in time in my python script. This statement will trigger an error with specified exceptions type.\n",
    "\n",
    "* And the second one is the `assert` statement will through an error if the following expression is false.\n",
    "Like this following code will through an error all the time\n",
    "\n",
    "`assert False`\n"
   ]
  },
  {
   "cell_type": "code",
   "execution_count": 2,
   "metadata": {},
   "outputs": [
    {
     "ename": "NameError",
     "evalue": "Subha",
     "output_type": "error",
     "traceback": [
      "\u001b[1;31m---------------------------------------------------------------------------\u001b[0m",
      "\u001b[1;31mNameError\u001b[0m                                 Traceback (most recent call last)",
      "\u001b[1;32m<ipython-input-2-df9de7fcff55>\u001b[0m in \u001b[0;36m<module>\u001b[1;34m\u001b[0m\n\u001b[0;32m      1\u001b[0m \u001b[1;31m#e.g\u001b[0m\u001b[1;33m\u001b[0m\u001b[1;33m\u001b[0m\u001b[1;33m\u001b[0m\u001b[0m\n\u001b[1;32m----> 2\u001b[1;33m \u001b[1;32mraise\u001b[0m \u001b[0mNameError\u001b[0m \u001b[1;33m(\u001b[0m\u001b[1;34m'Subha'\u001b[0m\u001b[1;33m)\u001b[0m\u001b[1;33m\u001b[0m\u001b[1;33m\u001b[0m\u001b[0m\n\u001b[0m",
      "\u001b[1;31mNameError\u001b[0m: Subha"
     ]
    }
   ],
   "source": [
    "#e.g\n",
    "raise NameError ('Subha')  #user defined error"
   ]
  },
  {
   "cell_type": "code",
   "execution_count": 3,
   "metadata": {},
   "outputs": [
    {
     "ename": "AssertionError",
     "evalue": "",
     "output_type": "error",
     "traceback": [
      "\u001b[1;31m---------------------------------------------------------------------------\u001b[0m",
      "\u001b[1;31mAssertionError\u001b[0m                            Traceback (most recent call last)",
      "\u001b[1;32m<ipython-input-3-97092edb33ed>\u001b[0m in \u001b[0;36m<module>\u001b[1;34m\u001b[0m\n\u001b[0;32m      1\u001b[0m \u001b[1;31m#e.g\u001b[0m\u001b[1;33m\u001b[0m\u001b[1;33m\u001b[0m\u001b[1;33m\u001b[0m\u001b[0m\n\u001b[1;32m----> 2\u001b[1;33m \u001b[1;32massert\u001b[0m \u001b[1;32mFalse\u001b[0m\u001b[1;33m\u001b[0m\u001b[1;33m\u001b[0m\u001b[0m\n\u001b[0m",
      "\u001b[1;31mAssertionError\u001b[0m: "
     ]
    }
   ],
   "source": [
    "#e.g\n",
    "assert False #this line of code will always through error"
   ]
  },
  {
   "cell_type": "code",
   "execution_count": null,
   "metadata": {},
   "outputs": [],
   "source": []
  },
  {
   "cell_type": "markdown",
   "metadata": {},
   "source": [
    "### Q5. Identify two methods for specifying actions to be executed at termination time, regardless of whether or not an exception exists.\n",
    "\n",
    "Ans>> One is `finally` statement will execute at no matter with the exception is occurred or not, it will always at whenever we use it. Although in general `finally` is used at the end of the script or the exception process.\n",
    "\n",
    "And the second one is `raise` statement will always execute whenever we use It regardless if there is an exception or not.\n"
   ]
  },
  {
   "cell_type": "code",
   "execution_count": null,
   "metadata": {},
   "outputs": [],
   "source": []
  }
 ],
 "metadata": {
  "kernelspec": {
   "display_name": "Python 3",
   "language": "python",
   "name": "python3"
  },
  "language_info": {
   "codemirror_mode": {
    "name": "ipython",
    "version": 3
   },
   "file_extension": ".py",
   "mimetype": "text/x-python",
   "name": "python",
   "nbconvert_exporter": "python",
   "pygments_lexer": "ipython3",
   "version": "3.8.5"
  }
 },
 "nbformat": 4,
 "nbformat_minor": 4
}
