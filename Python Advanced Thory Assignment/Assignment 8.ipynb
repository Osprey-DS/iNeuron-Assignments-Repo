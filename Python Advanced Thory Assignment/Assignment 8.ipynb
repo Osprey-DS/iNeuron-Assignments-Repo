{
 "cells": [
  {
   "cell_type": "markdown",
   "metadata": {},
   "source": [
    "### Q1. What are the two latest user-defined exception constraints in Python 3.X?\n",
    "\n",
    "Ans>> The two user-defined exception constraints are\n",
    "\n",
    "`raise` -  can trigger exception at any point of the script.\n",
    "\n",
    "`assert` - will through an error if the following statement of assert is false.\n"
   ]
  },
  {
   "cell_type": "code",
   "execution_count": null,
   "metadata": {},
   "outputs": [],
   "source": []
  },
  {
   "cell_type": "markdown",
   "metadata": {},
   "source": [
    "### Q2. How are class-based exceptions that have been raised matched to handlers?\n",
    "\n",
    "Ans>> \n"
   ]
  },
  {
   "cell_type": "code",
   "execution_count": null,
   "metadata": {},
   "outputs": [],
   "source": []
  },
  {
   "cell_type": "markdown",
   "metadata": {},
   "source": [
    "### Q3. Describe two methods for attaching context information to exception artefacts.\n",
    "\n",
    "Ans>> The python `logging` module helps us to create very flexible way to track our code exceptions, in logging methode there are many way to get information from the `exceptions`, like time(`%(asctime)s`), when the error occured, function name(`%(funcName)s`), like from which function the exception came, and time, and many more. by using that  library we can attach as many context as we want on our exception artifacts. these all are called `log record attribute` and help devoloper to add context."
   ]
  },
  {
   "cell_type": "code",
   "execution_count": null,
   "metadata": {},
   "outputs": [],
   "source": []
  },
  {
   "cell_type": "markdown",
   "metadata": {},
   "source": [
    "### Q4. Describe two methods for specifying the text of an exception object's error message.\n",
    "\n",
    "Ans>> We can use the exception for getting the text message, and also if we know that what kind of exception we will get the that exception message we can get.\n",
    "\n",
    "the following example will show the methode"
   ]
  },
  {
   "cell_type": "code",
   "execution_count": 3,
   "metadata": {},
   "outputs": [
    {
     "name": "stdout",
     "output_type": "stream",
     "text": [
      "division by zero\n"
     ]
    }
   ],
   "source": [
    "try:\n",
    "    5/0 # dividing any number with zero, and it gives error\n",
    "except Exception as e:\n",
    "    print(str(e))"
   ]
  },
  {
   "cell_type": "markdown",
   "metadata": {},
   "source": [
    "from above eample we only get the error message and but if we know that what kind of exception we will get then we can filterout that too."
   ]
  },
  {
   "cell_type": "code",
   "execution_count": 6,
   "metadata": {},
   "outputs": [
    {
     "name": "stdout",
     "output_type": "stream",
     "text": [
      "division by zero\n",
      "dividing by zero is not correct\n"
     ]
    }
   ],
   "source": [
    "try:\n",
    "    5/0 # dividing any number with zero, and it gives error\n",
    "except ZeroDivisionError as zero:\n",
    "    print(str(zero))\n",
    "    print(\"dividing by zero is not correct\") # showing custome error message\n",
    "    \n",
    "    "
   ]
  },
  {
   "cell_type": "markdown",
   "metadata": {},
   "source": [
    "### Q5. Why do you no longer use string-based exceptions?\n",
    "\n",
    "Ans>> Because python provied us to get exact error message from the exception message from terminal, and we can capture that exception message from terminal itself, and store that in another file for latter observation."
   ]
  },
  {
   "cell_type": "code",
   "execution_count": null,
   "metadata": {},
   "outputs": [],
   "source": []
  },
  {
   "cell_type": "code",
   "execution_count": null,
   "metadata": {},
   "outputs": [],
   "source": []
  }
 ],
 "metadata": {
  "kernelspec": {
   "display_name": "Python 3",
   "language": "python",
   "name": "python3"
  },
  "language_info": {
   "codemirror_mode": {
    "name": "ipython",
    "version": 3
   },
   "file_extension": ".py",
   "mimetype": "text/x-python",
   "name": "python",
   "nbconvert_exporter": "python",
   "pygments_lexer": "ipython3",
   "version": "3.8.5"
  }
 },
 "nbformat": 4,
 "nbformat_minor": 4
}
