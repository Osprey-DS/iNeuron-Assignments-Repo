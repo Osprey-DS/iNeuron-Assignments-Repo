{
 "cells": [
  {
   "cell_type": "markdown",
   "metadata": {},
   "source": [
    "### 1. What is the concept of an abstract superclass?\n",
    "\n",
    "Ans>> The abstaract class is allows us to create a set of methode that be created any child classes built from the abstract class. We can consider it as blueprint of the parent class, by this we can construct the methode of parent class inside of the child class. \n"
   ]
  },
  {
   "cell_type": "code",
   "execution_count": null,
   "metadata": {},
   "outputs": [],
   "source": []
  },
  {
   "cell_type": "markdown",
   "metadata": {},
   "source": [
    "### 2. What happens when a class statement's top-level contains a basic assignment statement?\n",
    "\n",
    "Ans>> That assignment statement will be applicable to all class instances that will be created.\n",
    "And that value will be constant for all newly created classes.\n"
   ]
  },
  {
   "cell_type": "code",
   "execution_count": null,
   "metadata": {},
   "outputs": [],
   "source": []
  },
  {
   "cell_type": "markdown",
   "metadata": {},
   "source": [
    "### 3. Why does a class need to manually call a superclass's __init__ method?\n",
    "\n",
    "Ans>> Without calling the  `__init__` method we are not constructing base methods of the parent class.\n",
    "So calling `__init__` methods on superclass telling the construct base methods from the parent class or run those basic methods code.\n"
   ]
  },
  {
   "cell_type": "code",
   "execution_count": null,
   "metadata": {},
   "outputs": [],
   "source": []
  },
  {
   "cell_type": "markdown",
   "metadata": {},
   "source": [
    "### 4. How can you augment, instead of completely replacing, an inherited method?\n",
    "\n",
    "Ans>> A subclass can either completely override the implementation for an inherited method or the subclass can enhance the method by adding functionality to it.\n"
   ]
  },
  {
   "cell_type": "code",
   "execution_count": null,
   "metadata": {},
   "outputs": [],
   "source": []
  },
  {
   "cell_type": "markdown",
   "metadata": {},
   "source": [
    "### 5. How is the local scope of a class different from that of a function?\n",
    "\n",
    "Ans>> The scope local scope of a class function and other script function is differen form each other"
   ]
  },
  {
   "cell_type": "code",
   "execution_count": null,
   "metadata": {},
   "outputs": [],
   "source": []
  }
 ],
 "metadata": {
  "kernelspec": {
   "display_name": "Python 3",
   "language": "python",
   "name": "python3"
  },
  "language_info": {
   "codemirror_mode": {
    "name": "ipython",
    "version": 3
   },
   "file_extension": ".py",
   "mimetype": "text/x-python",
   "name": "python",
   "nbconvert_exporter": "python",
   "pygments_lexer": "ipython3",
   "version": "3.8.5"
  }
 },
 "nbformat": 4,
 "nbformat_minor": 4
}
