{
 "cells": [
  {
   "cell_type": "markdown",
   "metadata": {},
   "source": [
    "### Q1. What is the smallest number of characters and the largest number of characters that the word \"x*\" will match?\n",
    "\n",
    "Ans>> This asterisk is match xero or more character in in our string. \n",
    "\n",
    "so that makes the smallest number is 0 \n",
    "\n",
    "and the largest number can by any up to infinite.\n",
    "\n",
    "Here is na example..\n"
   ]
  },
  {
   "cell_type": "code",
   "execution_count": 16,
   "metadata": {},
   "outputs": [
    {
     "name": "stdout",
     "output_type": "stream",
     "text": [
      "Superman\n",
      "Superwoman\n",
      "Superwowowowoman\n"
     ]
    }
   ],
   "source": [
    "import re\n",
    "\n",
    "pat = re.compile(r'Super(wo)*man') # this will search Superman also Superwoman\n",
    "\n",
    "print(pat.search('Superman').group())\n",
    "print(pat.search('Superwoman').group())\n",
    "print(pat.search('Superwowowowoman').group())"
   ]
  },
  {
   "cell_type": "markdown",
   "metadata": {},
   "source": [
    "From above code we can see that the `*` sign match when there is no `wo` also multiple `wo`"
   ]
  },
  {
   "cell_type": "markdown",
   "metadata": {},
   "source": [
    "### Q2. Describe the difference between the effects of \"(ab)c+\" and \"a(bc)+.\" Which of these, if any, is the unqualified pattern \"abc+\"?\n",
    "\n",
    "Ans>> This plus operator `+` will find when there is atleast one exact match on the group. this find from one to many\n",
    "\n",
    "the smallst number is 1\n",
    "\n",
    "and the largest number is infinite.\n",
    "\n",
    "here is an example\n"
   ]
  },
  {
   "cell_type": "code",
   "execution_count": 10,
   "metadata": {},
   "outputs": [
    {
     "name": "stdout",
     "output_type": "stream",
     "text": [
      "<re.Match object; span=(0, 3), match='abc'>\n",
      "<re.Match object; span=(0, 3), match='abc'>\n",
      "<re.Match object; span=(0, 7), match='abababc'>\n",
      "<re.Match object; span=(4, 7), match='abc'>\n",
      "None\n",
      "None\n"
     ]
    }
   ],
   "source": [
    "pat1 = re.compile(r'(ab)+c')  # creating two different pattern\n",
    "pat2 = re.compile(r'a(bc)+')\n",
    "\n",
    "print(pat1.search('abcdef'))\n",
    "print(pat2.search('abcdef'))\n",
    "\n",
    "\n",
    "print(pat1.search('abababcde'))\n",
    "print(pat2.search('abababcde'))\n",
    "\n",
    "\n",
    "print(pat1.search('ab'))\n",
    "print(pat2.search('ab'))\n"
   ]
  },
  {
   "cell_type": "markdown",
   "metadata": {},
   "source": [
    "Note from above the pattern `(ab)+c` match when there is atleast one set of `ab` in the string\n",
    "and pattern `a(bc)+` match when there is `bc` in present for atleast one."
   ]
  },
  {
   "cell_type": "code",
   "execution_count": null,
   "metadata": {},
   "outputs": [],
   "source": []
  },
  {
   "cell_type": "markdown",
   "metadata": {},
   "source": [
    "### Q3. How much do you need to use the following sentence while using regular expressions?\n",
    "\n",
    "### import re\n",
    "\n",
    "Ans>> This is the **regex module** that is come with pytohn inbuilt. we have to import it before starting work on regex.\n",
    "\n",
    "Every time i need this when we have to work on regex"
   ]
  },
  {
   "cell_type": "code",
   "execution_count": null,
   "metadata": {},
   "outputs": [],
   "source": []
  },
  {
   "cell_type": "markdown",
   "metadata": {},
   "source": [
    "### Q4. Which characters have special significance in square brackets when expressing a range, and under what circumstances?\n",
    "\n",
    "Ans>> The **hyphen** `-` is the character whis help us to define range inside of square brackets.\n",
    "\n",
    "This can works with number or digits like `[0-6]` this will search for any number between 0 to 6\n",
    "\n",
    "and this also the same with alphabet like `[a-z]` this will search any  letter character."
   ]
  },
  {
   "cell_type": "code",
   "execution_count": null,
   "metadata": {},
   "outputs": [],
   "source": []
  },
  {
   "cell_type": "markdown",
   "metadata": {},
   "source": [
    "### Q5. How does compiling a regular-expression object benefit you?\n",
    "\n",
    "Ans>> Before starting the search process it is worth to compile the regular expression. although python can perform search with out compiling, but it is best practics to comile the regular expression.\n",
    "\n",
    "Compiline gives us long term using flexibility, \n",
    "\n",
    "also by compiling a regex object we ca specify a number of option modyfying the way that python will treat that regular expression."
   ]
  },
  {
   "cell_type": "code",
   "execution_count": null,
   "metadata": {},
   "outputs": [],
   "source": []
  },
  {
   "cell_type": "markdown",
   "metadata": {},
   "source": [
    "### Q6. What are some examples of how to use the match object returned by re.match and re.search?\n",
    "\n",
    "Ans>> The `re.match` methode searches only from the beginning of the string and return match object if found. But if a match of substring is found somewhere in the middle of the string, it returns `None`. \n",
    "\n",
    "\n",
    "in case of `re.search`  searches for the whole string even if the string contains multi-lines and tries to find a match of the substring in all the lines of string."
   ]
  },
  {
   "cell_type": "code",
   "execution_count": null,
   "metadata": {},
   "outputs": [],
   "source": []
  },
  {
   "cell_type": "code",
   "execution_count": 21,
   "metadata": {},
   "outputs": [
    {
     "name": "stdout",
     "output_type": "stream",
     "text": [
      "<re.Match object; span=(36, 44), match='superman'>\n",
      "None\n",
      "<re.Match object; span=(0, 8), match='superman'>\n",
      "<re.Match object; span=(0, 8), match='superman'>\n"
     ]
    }
   ],
   "source": [
    "pat ='superman'\n",
    " \n",
    " \n",
    "text1 = '''batman can not help us.\n",
    "            superman save us.'''\n",
    "\n",
    "\n",
    "text2 ='''superman we are in danger.\n",
    "          batman can't' help us.\n",
    "          It is darksaid here.'''\n",
    " \n",
    "# Use of re.search() Method\n",
    "print(re.search(pat, text1))\n",
    "# Use of re.match() Method\n",
    "print(re.match(pat, text1))  # this line output is None\n",
    " \n",
    "# Use of re.search() Method\n",
    "print(re.search(pat, text2))\n",
    "# Use of re.match() Method\n",
    "print(re.match(pat, text2))"
   ]
  },
  {
   "cell_type": "markdown",
   "metadata": {},
   "source": [
    "Here we can see the `match` object only return when he found the match pattern in first line, it does not search other lines.\n",
    "\n",
    "where `search` search multiple line but return first found"
   ]
  },
  {
   "cell_type": "code",
   "execution_count": null,
   "metadata": {},
   "outputs": [],
   "source": []
  },
  {
   "cell_type": "markdown",
   "metadata": {},
   "source": [
    "### Q7. What is the difference between using a vertical bar (|) as an alteration and using square brackets as a character set?\n",
    "\n",
    "ANs>> This vertical line `|` called pipe character and it is used for denote or in search pattern. \n",
    "\n",
    "here is an example\n",
    "\n"
   ]
  },
  {
   "cell_type": "code",
   "execution_count": 22,
   "metadata": {},
   "outputs": [
    {
     "name": "stdout",
     "output_type": "stream",
     "text": [
      "<re.Match object; span=(37, 45), match='superman'>\n",
      "<re.Match object; span=(37, 43), match='batman'>\n"
     ]
    }
   ],
   "source": [
    "pat = re.compile(r'superman|batman')\n",
    "\n",
    "text1 = 'we need hero it doesn\\'t matter it is superman or batman'\n",
    "text2 = 'we need hero it doesn\\'t matter it is batman or superman'\n",
    "\n",
    "print(pat.search(text1)) # will retun superman\n",
    "print(pat.search(text2)) # will retun batman"
   ]
  },
  {
   "cell_type": "markdown",
   "metadata": {},
   "source": [
    "Observe here the `or` or `|` only return the first matching from the two match object it has to be search, it will not see the second if it found the macthing string.\n",
    "\n",
    "like above in text1 it first found **superman** and return it it does't go for batman\n",
    "\n",
    "similar in the text2 it first found **batman** and return it"
   ]
  },
  {
   "cell_type": "code",
   "execution_count": null,
   "metadata": {},
   "outputs": [],
   "source": []
  },
  {
   "cell_type": "markdown",
   "metadata": {},
   "source": [
    "### Q8. In regular-expression search patterns, why is it necessary to use the raw-string indicator (r)? In   replacement strings?\n",
    "\n",
    "Ans>> Putting the `r''` before the search pattern it is helpfull in the time of written regular expression. but it is not necessary. it solve the problem of python `escape` character. in python we use `\\` backslash to denote the excape character. and in regular expression we often used `\\` to write regex object. \n",
    "\n",
    "so like every time to escape the escape charatcer we need extara `\\` charecter. like this to match digist we have to write '\\\\d', for over come this problem we put `r` to make it raw string which doesn't requied escape character.\n"
   ]
  },
  {
   "cell_type": "code",
   "execution_count": null,
   "metadata": {},
   "outputs": [],
   "source": []
  },
  {
   "cell_type": "markdown",
   "metadata": {},
   "source": [
    "### Q9. In a replacement string, which characters, if any, have special meaning?\n",
    "ANs>> we can use string `.replace` methode to replace the string "
   ]
  },
  {
   "cell_type": "code",
   "execution_count": 23,
   "metadata": {},
   "outputs": [
    {
     "data": {
      "text/plain": [
       "'batman is hero'"
      ]
     },
     "execution_count": 23,
     "metadata": {},
     "output_type": "execute_result"
    }
   ],
   "source": [
    "my_str = 'superman is hero'\n",
    "\n",
    "my_str.replace('superman', 'batman')"
   ]
  },
  {
   "cell_type": "code",
   "execution_count": null,
   "metadata": {},
   "outputs": [],
   "source": []
  }
 ],
 "metadata": {
  "kernelspec": {
   "display_name": "Python 3",
   "language": "python",
   "name": "python3"
  },
  "language_info": {
   "codemirror_mode": {
    "name": "ipython",
    "version": 3
   },
   "file_extension": ".py",
   "mimetype": "text/x-python",
   "name": "python",
   "nbconvert_exporter": "python",
   "pygments_lexer": "ipython3",
   "version": "3.8.5"
  }
 },
 "nbformat": 4,
 "nbformat_minor": 4
}
