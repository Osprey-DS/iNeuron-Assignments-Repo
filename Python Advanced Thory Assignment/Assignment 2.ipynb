{
 "cells": [
  {
   "cell_type": "markdown",
   "metadata": {},
   "source": [
    "# Python Advanced Assignment 2"
   ]
  },
  {
   "cell_type": "code",
   "execution_count": null,
   "metadata": {},
   "outputs": [],
   "source": [
    "\n"
   ]
  },
  {
   "cell_type": "markdown",
   "metadata": {},
   "source": [
    "## 1. How are classes related to modules?\n",
    "\n",
    "Ans>> The class and modules have some similarities, as we create both of them for code reusability. This means we can our code for many times without writing the source code. In class, we can take the advantage of many flexibilities of writing class, like private attribute or protected attribute. Although a module can be created with many classes, the Module can the class name by which we can call him."
   ]
  },
  {
   "cell_type": "code",
   "execution_count": null,
   "metadata": {},
   "outputs": [],
   "source": []
  },
  {
   "cell_type": "markdown",
   "metadata": {},
   "source": [
    "### 2. How are instances and classes created?\n",
    "\n",
    "Ans>> The class is created at first and after that the class instance is created,\n",
    "Note here the class can be one for one problem but there can be many isntance of one class"
   ]
  },
  {
   "cell_type": "code",
   "execution_count": 1,
   "metadata": {},
   "outputs": [],
   "source": [
    "# creating class\n",
    "class My_class():\n",
    "    pass\n",
    "\n",
    "# creating two instance of our class\n",
    "\n",
    "ins1 = My_class() # first class\n",
    "ins2 = My_class() # second instance"
   ]
  },
  {
   "cell_type": "code",
   "execution_count": null,
   "metadata": {},
   "outputs": [],
   "source": []
  },
  {
   "cell_type": "markdown",
   "metadata": {},
   "source": [
    "### 3. Where and how are class attributes created?\n",
    "\n",
    "Ans>> The class attributes are created at the very first special function of our class, or we can refer to it as constructor function, it is defined by `__init__` function. Here our class attributes are created."
   ]
  },
  {
   "cell_type": "code",
   "execution_count": 2,
   "metadata": {},
   "outputs": [],
   "source": [
    "class MY_class():  # defining our class\n",
    "    \n",
    "    def __init__(self, atr1, atr2):  # defing our class attributes, here we have two attributes atr1, atr2\n",
    "        self.atr1 = atr1\n",
    "        self.atr2 = atr2 # connecting our attribute to the class by self pointer"
   ]
  },
  {
   "cell_type": "code",
   "execution_count": null,
   "metadata": {},
   "outputs": [],
   "source": []
  },
  {
   "cell_type": "markdown",
   "metadata": {},
   "source": [
    "### 4. Where and how are instance attributes created?\n",
    "\n",
    "Ans>> The instance attribute is created by the time of creating of a class instance, these attributes are defining by the user of the class, but the user is bind to enter the limited number of instance of our class have. Also, we can create some private instances.\n"
   ]
  },
  {
   "cell_type": "code",
   "execution_count": 4,
   "metadata": {},
   "outputs": [],
   "source": [
    "#creatig instance attribute of our class\n",
    "\n",
    "ins1 = MY_class('ins1_atr1', 'ins1_atr2')  # here i define two instance attribute.\n",
    "ins2 = MY_class('ins2_atr1', 'ins2_atr2') "
   ]
  },
  {
   "cell_type": "code",
   "execution_count": null,
   "metadata": {},
   "outputs": [],
   "source": []
  },
  {
   "cell_type": "markdown",
   "metadata": {},
   "source": [
    "### 5. What does self mean in a Python class?\n",
    "\n",
    "Ans>> We can consider the self as a pointer of the current object. which is connecting user arguments to class attributes.\n",
    "It binds the argument with given attributes, using the ‘self’ keyword we can access the attributes and methods of the class here.\n",
    "\n",
    "We use self every time when create a class method and for the very first time, creating of `__init__` constructor we use self to connect the attributes.\n"
   ]
  },
  {
   "cell_type": "code",
   "execution_count": null,
   "metadata": {},
   "outputs": [],
   "source": []
  },
  {
   "cell_type": "markdown",
   "metadata": {},
   "source": [
    "### 6. How is operator overloading coded in a Python class?\n",
    "\n",
    "Ans>> The operator overloading is the use of one operator or one operating method to use multiple times on multiple types of object. For example in python the ‘+’ or plus operator can be used to the addition of two or integer or this same operator can be used to add two string, that means one operator can be used add two different types of object, this concept is called operator overloading. In oop, we can create this type of method. The following example showing operator overloading code.\n"
   ]
  },
  {
   "cell_type": "code",
   "execution_count": 2,
   "metadata": {},
   "outputs": [],
   "source": [
    "# creating a class\n",
    "class opr_overloading():\n",
    "    def __init__(self, atr1):  # creating constructor\n",
    "        self.atr1 = atr1\n",
    "        \n",
    "    def __add__(self, other): # creating addition opearator \n",
    "        return self.atr1 + other.atr1 # here other is refering the other class pointer\n",
    "                                      # this other can be the same class with different instance or different class.\n",
    "        \n",
    "        "
   ]
  },
  {
   "cell_type": "code",
   "execution_count": 3,
   "metadata": {},
   "outputs": [
    {
     "data": {
      "text/plain": [
       "5"
      ]
     },
     "execution_count": 3,
     "metadata": {},
     "output_type": "execute_result"
    }
   ],
   "source": [
    "# creating two instance of same class\n",
    "\n",
    "ins1 = opr_overloading(2)\n",
    "ins2 = opr_overloading(3)\n",
    "\n",
    "ins1 + ins2 #adding two class instance and it return addition of two number"
   ]
  },
  {
   "cell_type": "code",
   "execution_count": 4,
   "metadata": {},
   "outputs": [
    {
     "data": {
      "text/plain": [
       "'iNeuron is a Technology Company'"
      ]
     },
     "execution_count": 4,
     "metadata": {},
     "output_type": "execute_result"
    }
   ],
   "source": [
    "ins3 = opr_overloading('iNeuron is a ') # creating two instance\n",
    "ins4 = opr_overloading('Technology Company')\n",
    "\n",
    "ins3 + ins4 # here we can observe that the plus operator is bheaving like string concatenation of two string"
   ]
  },
  {
   "cell_type": "markdown",
   "metadata": {},
   "source": [
    " This was example of opeator overloading"
   ]
  },
  {
   "cell_type": "code",
   "execution_count": null,
   "metadata": {},
   "outputs": [],
   "source": []
  },
  {
   "cell_type": "markdown",
   "metadata": {},
   "source": [
    "### 7. When might you want to support operator overloading in your classes?\n",
    "\n",
    "Ans>> By creating our own operator class we have to control over how the operator will behave. Operator overloading is used to perform specific operations on the given operands. The operation that any particular operator will perform on any predefined data is already defined in python. Each operator can be used in a different way for different types of the operand. The which operator we are using at the time of execution is doesn’t matter, we have this control in operator overloading. The following example will illustrate my saying.\n"
   ]
  },
  {
   "cell_type": "code",
   "execution_count": 8,
   "metadata": {},
   "outputs": [],
   "source": [
    "# creating a class\n",
    "class opr_overloading():\n",
    "    def __init__(self, atr1):  # creating constructor\n",
    "        self.atr1 = atr1\n",
    "        \n",
    "    def __add__(self, other): # creating addition opearator \n",
    "        return self.atr1 * other.atr1 # here other is refering the other class pointer\n",
    "                                      # this other can be the same class with different instance or different class.\n",
    "        \n",
    "# this is same class that is i create for previous question"
   ]
  },
  {
   "cell_type": "markdown",
   "metadata": {},
   "source": [
    "Here i use python speacial function `__add__` whis is ment to be add two object, this is indecating what operanad should used in the time of execution. also i define in the return statement.\n",
    "\n",
    "\n",
    "Also in the time of execution on instance i use plus operator '+', but this is necessarly require, but if i use astrisk operator in the `return` statement the the result will change.\n"
   ]
  },
  {
   "cell_type": "code",
   "execution_count": 9,
   "metadata": {},
   "outputs": [
    {
     "data": {
      "text/plain": [
       "6"
      ]
     },
     "execution_count": 9,
     "metadata": {},
     "output_type": "execute_result"
    }
   ],
   "source": [
    "# creating two instance of same class\n",
    "\n",
    "ins1 = opr_overloading(2)\n",
    "ins2 = opr_overloading(3)\n",
    "\n",
    "ins1 + ins2 #adding two class instance and it return addition of two number"
   ]
  },
  {
   "cell_type": "markdown",
   "metadata": {},
   "source": [
    "This shuld gives `3+2=5` but it gives `3*2=6` as it defien in the class.\n",
    "\n",
    "This type of control we have in class"
   ]
  },
  {
   "cell_type": "code",
   "execution_count": null,
   "metadata": {},
   "outputs": [],
   "source": []
  },
  {
   "cell_type": "markdown",
   "metadata": {},
   "source": [
    "### 8. Which operator overloading method is most commonly used?\n",
    "\n",
    "Ans>. In the most used cases, the Dunder method or Magic Methode is used, it starts with double underscore also ends with the same. These are called special methods. \n",
    "\n",
    "\n",
    "Examples of some dunder or special methods are.\n",
    "\n",
    " `__str__()`\n",
    " \n",
    " `__repr__()`\n",
    " \n",
    " `__init__()`\n",
    " \n",
    " `__add__()`\n",
    " \n",
    " `__sub__()`\n",
    " \n",
    " `__mul__()`\n",
    "\n",
    "\n",
    "here in creating class the `__init__` methode is most used dunder methode"
   ]
  },
  {
   "cell_type": "code",
   "execution_count": null,
   "metadata": {},
   "outputs": [],
   "source": []
  },
  {
   "cell_type": "markdown",
   "metadata": {},
   "source": [
    "### 9. What are two key concepts required to understand Python OOP code?\n",
    "\n",
    "Ans>> In my opinion we have to understand the attribute construction part of the first special method with `__init__` and the inheritance method where we can inherit another class property in another class, \n",
    "\n",
    "and also there is some concept that can use in many cases, it is good to have these concepts. Like polymorphism, abstraction, and encapsulation\n"
   ]
  },
  {
   "cell_type": "code",
   "execution_count": null,
   "metadata": {},
   "outputs": [],
   "source": []
  }
 ],
 "metadata": {
  "kernelspec": {
   "display_name": "Python 3",
   "language": "python",
   "name": "python3"
  },
  "language_info": {
   "codemirror_mode": {
    "name": "ipython",
    "version": 3
   },
   "file_extension": ".py",
   "mimetype": "text/x-python",
   "name": "python",
   "nbconvert_exporter": "python",
   "pygments_lexer": "ipython3",
   "version": "3.8.5"
  }
 },
 "nbformat": 4,
 "nbformat_minor": 5
}
