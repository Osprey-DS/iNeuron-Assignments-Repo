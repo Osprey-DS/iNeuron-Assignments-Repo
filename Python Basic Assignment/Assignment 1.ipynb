{
 "cells": [
  {
   "cell_type": "markdown",
   "id": "reduced-minimum",
   "metadata": {},
   "source": [
    "# Python Assignment 1"
   ]
  },
  {
   "cell_type": "code",
   "execution_count": null,
   "id": "passing-saskatchewan",
   "metadata": {},
   "outputs": [],
   "source": []
  },
  {
   "cell_type": "markdown",
   "id": "recreational-grade",
   "metadata": {},
   "source": [
    "1. What are the differences between operators and values in the following?\n",
    " \n",
    " '*'  it's is multiplication operator\n",
    "\n",
    "'hello'  it's a string or values\n",
    "\n",
    "'-87.8'  - it's a floating type value\n",
    "\n",
    "' - '  it's a dash operator\n",
    "\n",
    "'/'  it's a division operator\n",
    "\n",
    "'+' it's plus operator\n",
    "\n",
    "'6' it's a vlaue or integer\n"
   ]
  },
  {
   "cell_type": "code",
   "execution_count": null,
   "id": "intellectual-satin",
   "metadata": {},
   "outputs": [],
   "source": []
  },
  {
   "cell_type": "markdown",
   "id": "minute-receptor",
   "metadata": {},
   "source": [
    "2. What is the difference between string and variable?\n",
    "\n",
    "spam\n",
    "\n",
    "'spam'\n",
    "\n",
    "   Ans > String is a data type, where a variable is just an object that holds values that we assign to it. \n"
   ]
  },
  {
   "cell_type": "code",
   "execution_count": null,
   "id": "electoral-failure",
   "metadata": {},
   "outputs": [],
   "source": []
  },
  {
   "cell_type": "code",
   "execution_count": 3,
   "id": "under-parts",
   "metadata": {},
   "outputs": [
    {
     "data": {
      "text/plain": [
       "'spam'"
      ]
     },
     "execution_count": 3,
     "metadata": {},
     "output_type": "execute_result"
    }
   ],
   "source": [
    "#example \n",
    "spam = 'spam' \n",
    "#here the spam containing the string 'spam'\n",
    "spam #if we call spam it will return the value we assign to it"
   ]
  },
  {
   "cell_type": "code",
   "execution_count": null,
   "id": "furnished-adrian",
   "metadata": {},
   "outputs": [],
   "source": []
  },
  {
   "cell_type": "markdown",
   "id": "compliant-words",
   "metadata": {},
   "source": [
    "3. Describe three different data forms.\n",
    "\n",
    "      Ans >  There are three 3 main data forms in statistics, that is qualitative and quantitative, continuous and discrete, and the last form is primary and secondary data. \n"
   ]
  },
  {
   "cell_type": "code",
   "execution_count": null,
   "id": "approximate-gasoline",
   "metadata": {},
   "outputs": [],
   "source": []
  },
  {
   "cell_type": "markdown",
   "id": "fundamental-organic",
   "metadata": {},
   "source": [
    "4. What makes up an expression? What are the functions of all expressions?\n",
    "\n",
    "   Ans>  an expression can be a mix of value, variable, calling a function that is waiting for evaluation. so that it can be evaluated.\n",
    "\n",
    "   python built-in function eval() can be evaluate all expression.\n"
   ]
  },
  {
   "cell_type": "code",
   "execution_count": null,
   "id": "recent-lexington",
   "metadata": {},
   "outputs": [],
   "source": []
  },
  {
   "cell_type": "markdown",
   "id": "separated-candle",
   "metadata": {},
   "source": [
    "5. In this chapter, assignment statements such as spam = 10 were added. What's the difference between a declaration and an expression?\n",
    "\n",
    "Ans> declaration means that we are assigning a value which is 10 to a variable called spam. This is a declaration.\n",
    "\n",
    "And the expression is anything we do in python is an example of expression like 2+2 is an expression which evaluates 4 "
   ]
  },
  {
   "cell_type": "code",
   "execution_count": null,
   "id": "approximate-petroleum",
   "metadata": {},
   "outputs": [],
   "source": []
  },
  {
   "cell_type": "markdown",
   "id": "oriented-encoding",
   "metadata": {},
   "source": [
    "6. After running the following code, what does the variable bacon contain?\n",
    "\n",
    "bacon = 22\n",
    "\n",
    "bacon + 1\n"
   ]
  },
  {
   "cell_type": "code",
   "execution_count": 5,
   "id": "medical-imagination",
   "metadata": {},
   "outputs": [
    {
     "name": "stdout",
     "output_type": "stream",
     "text": [
      "22\n"
     ]
    }
   ],
   "source": [
    "bacon = 22\n",
    "bacon + 8\n",
    "print(bacon)  #because we did not update the bacon variable that is why it dose not add 1 and still print 22"
   ]
  },
  {
   "cell_type": "code",
   "execution_count": null,
   "id": "owned-dragon",
   "metadata": {},
   "outputs": [],
   "source": []
  },
  {
   "cell_type": "markdown",
   "id": "educational-spanking",
   "metadata": {},
   "source": [
    "7. What should the values of the following two terms be?\n",
    "\n",
    "'spam' + 'spamspam'\n",
    "\n",
    "'spam' * 3\n"
   ]
  },
  {
   "cell_type": "code",
   "execution_count": 8,
   "id": "frequent-platform",
   "metadata": {},
   "outputs": [
    {
     "data": {
      "text/plain": [
       "'spamspamspam'"
      ]
     },
     "execution_count": 8,
     "metadata": {},
     "output_type": "execute_result"
    }
   ],
   "source": [
    "'spam' + 'spamspam' "
   ]
  },
  {
   "cell_type": "code",
   "execution_count": 9,
   "id": "democratic-advertiser",
   "metadata": {},
   "outputs": [
    {
     "data": {
      "text/plain": [
       "'spamspamspam'"
      ]
     },
     "execution_count": 9,
     "metadata": {},
     "output_type": "execute_result"
    }
   ],
   "source": [
    "'spam' * 3"
   ]
  },
  {
   "cell_type": "code",
   "execution_count": null,
   "id": "signed-mobile",
   "metadata": {},
   "outputs": [],
   "source": []
  },
  {
   "cell_type": "markdown",
   "id": "enclosed-horse",
   "metadata": {},
   "source": [
    "8. Why is it that eggs is a true variable name but 100 is not?\n",
    "\n",
    "     Ans> because in python we can use any string to declare as variable as long it is not matching with the built-In function name and contains an underscore. But python did not allow to use of the only integer as a variable name. that is why eggs can be a variable name but 100 is not."
   ]
  },
  {
   "cell_type": "code",
   "execution_count": 10,
   "id": "received-philadelphia",
   "metadata": {},
   "outputs": [
    {
     "data": {
      "text/plain": [
       "'hello'"
      ]
     },
     "execution_count": 10,
     "metadata": {},
     "output_type": "execute_result"
    }
   ],
   "source": [
    "eggs ='hello'\n",
    "eggs"
   ]
  },
  {
   "cell_type": "code",
   "execution_count": 11,
   "id": "super-cisco",
   "metadata": {},
   "outputs": [
    {
     "ename": "SyntaxError",
     "evalue": "cannot assign to literal (<ipython-input-11-e1ce8eb8df3d>, line 1)",
     "output_type": "error",
     "traceback": [
      "\u001b[1;36m  File \u001b[1;32m\"<ipython-input-11-e1ce8eb8df3d>\"\u001b[1;36m, line \u001b[1;32m1\u001b[0m\n\u001b[1;33m    100 = 'hello'\u001b[0m\n\u001b[1;37m    ^\u001b[0m\n\u001b[1;31mSyntaxError\u001b[0m\u001b[1;31m:\u001b[0m cannot assign to literal\n"
     ]
    }
   ],
   "source": [
    "100 = 'hello' #it gives error"
   ]
  },
  {
   "cell_type": "code",
   "execution_count": null,
   "id": "metallic-johns",
   "metadata": {},
   "outputs": [],
   "source": []
  },
  {
   "cell_type": "markdown",
   "id": "realistic-summer",
   "metadata": {},
   "source": [
    "9. Which of the following three functions may be used to convert a value to an integer, a floating-point number, or a string\n",
    "\n",
    " Ans> we can use python built-in function to convert a value in to integer, float or string\n",
    "\n",
    "these are for converting integer we use int()\n",
    "\n",
    "for floating-point number float()\n",
    "\n",
    "and for string str()"
   ]
  },
  {
   "cell_type": "code",
   "execution_count": 14,
   "id": "mineral-yugoslavia",
   "metadata": {},
   "outputs": [
    {
     "data": {
      "text/plain": [
       "int"
      ]
     },
     "execution_count": 14,
     "metadata": {},
     "output_type": "execute_result"
    }
   ],
   "source": [
    "my_int = int(5)\n",
    "type(my_int)"
   ]
  },
  {
   "cell_type": "code",
   "execution_count": 12,
   "id": "educational-asthma",
   "metadata": {},
   "outputs": [],
   "source": [
    "my_float = float(5)"
   ]
  },
  {
   "cell_type": "code",
   "execution_count": 13,
   "id": "rough-belly",
   "metadata": {},
   "outputs": [
    {
     "data": {
      "text/plain": [
       "float"
      ]
     },
     "execution_count": 13,
     "metadata": {},
     "output_type": "execute_result"
    }
   ],
   "source": [
    "type(my_float)"
   ]
  },
  {
   "cell_type": "code",
   "execution_count": 15,
   "id": "intense-remark",
   "metadata": {},
   "outputs": [
    {
     "data": {
      "text/plain": [
       "str"
      ]
     },
     "execution_count": 15,
     "metadata": {},
     "output_type": "execute_result"
    }
   ],
   "source": [
    "my_str = str(5) #here i use 5 which is integer by defaut, but i can chage type with str() function\n",
    "type(my_str)"
   ]
  },
  {
   "cell_type": "code",
   "execution_count": null,
   "id": "configured-basement",
   "metadata": {},
   "outputs": [],
   "source": []
  },
  {
   "cell_type": "markdown",
   "id": "concerned-mobility",
   "metadata": {},
   "source": [
    "10. What is the error caused by this expression? What would you do about it?\n",
    "\n",
    "'I have eaten ' + 99 + ' burritos.'\n",
    "\n",
    "Ans > the problem is we did not convert 99 as a string object and that is why it will give us an error. Because python can’t concatenate integer with the string object.\n",
    "\n",
    "i cna convert the 99 as string object by using str() function"
   ]
  },
  {
   "cell_type": "code",
   "execution_count": 16,
   "id": "smaller-score",
   "metadata": {},
   "outputs": [
    {
     "ename": "TypeError",
     "evalue": "can only concatenate str (not \"int\") to str",
     "output_type": "error",
     "traceback": [
      "\u001b[1;31m---------------------------------------------------------------------------\u001b[0m",
      "\u001b[1;31mTypeError\u001b[0m                                 Traceback (most recent call last)",
      "\u001b[1;32m<ipython-input-16-d24137131a5c>\u001b[0m in \u001b[0;36m<module>\u001b[1;34m\u001b[0m\n\u001b[1;32m----> 1\u001b[1;33m \u001b[1;34m'I have eaten '\u001b[0m \u001b[1;33m+\u001b[0m \u001b[1;36m99\u001b[0m \u001b[1;33m+\u001b[0m \u001b[1;34m' burritos.'\u001b[0m\u001b[1;33m\u001b[0m\u001b[1;33m\u001b[0m\u001b[0m\n\u001b[0m",
      "\u001b[1;31mTypeError\u001b[0m: can only concatenate str (not \"int\") to str"
     ]
    }
   ],
   "source": [
    "'I have eaten ' + 99 + ' burritos.' #it gives me an error"
   ]
  },
  {
   "cell_type": "code",
   "execution_count": 17,
   "id": "manufactured-atmosphere",
   "metadata": {},
   "outputs": [
    {
     "data": {
      "text/plain": [
       "'I have eaten 99 burritos.'"
      ]
     },
     "execution_count": 17,
     "metadata": {},
     "output_type": "execute_result"
    }
   ],
   "source": [
    "'I have eaten ' + str(99) + ' burritos.' # it will run fine."
   ]
  },
  {
   "cell_type": "code",
   "execution_count": null,
   "id": "manufactured-directory",
   "metadata": {},
   "outputs": [],
   "source": []
  }
 ],
 "metadata": {
  "kernelspec": {
   "display_name": "Python 3",
   "language": "python",
   "name": "python3"
  },
  "language_info": {
   "codemirror_mode": {
    "name": "ipython",
    "version": 3
   },
   "file_extension": ".py",
   "mimetype": "text/x-python",
   "name": "python",
   "nbconvert_exporter": "python",
   "pygments_lexer": "ipython3",
   "version": "3.8.8"
  }
 },
 "nbformat": 4,
 "nbformat_minor": 5
}
