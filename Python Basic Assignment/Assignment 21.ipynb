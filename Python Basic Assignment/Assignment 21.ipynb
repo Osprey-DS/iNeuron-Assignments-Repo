{
 "cells": [
  {
   "cell_type": "markdown",
   "metadata": {},
   "source": [
    "### 1. Write the current date as a string to the text file today.txt.\n"
   ]
  },
  {
   "cell_type": "code",
   "execution_count": 1,
   "metadata": {},
   "outputs": [
    {
     "data": {
      "text/plain": [
       "datetime.datetime(2021, 5, 11, 22, 48, 45, 779048)"
      ]
     },
     "execution_count": 1,
     "metadata": {},
     "output_type": "execute_result"
    }
   ],
   "source": [
    "from datetime import datetime\n",
    "datetime.now()"
   ]
  },
  {
   "cell_type": "code",
   "execution_count": 3,
   "metadata": {},
   "outputs": [],
   "source": [
    "file = open('today.txt', 'w') # create a new file\n",
    "file.write(str(datetime.now()))  # write the current date\n",
    "file.close() # close the file"
   ]
  },
  {
   "attachments": {
    "image.png": {
     "image/png": "[encoded data removed]"
    }
   },
   "cell_type": "markdown",
   "metadata": {},
   "source": [
    "![image.png](attachment:image.png)"
   ]
  },
  {
   "cell_type": "code",
   "execution_count": null,
   "metadata": {},
   "outputs": [],
   "source": []
  },
  {
   "cell_type": "markdown",
   "metadata": {},
   "source": [
    "### 2. Read the text file today.txt into the string today_string."
   ]
  },
  {
   "cell_type": "code",
   "execution_count": 4,
   "metadata": {},
   "outputs": [
    {
     "data": {
      "text/plain": [
       "'2021-05-11 22:50:04.942454'"
      ]
     },
     "execution_count": 4,
     "metadata": {},
     "output_type": "execute_result"
    }
   ],
   "source": [
    "today_string = open('today.txt', 'r')\n",
    "con = today_string.read() # read the contents of the file\n",
    "today_string.close() # close the file\n",
    "con"
   ]
  },
  {
   "cell_type": "code",
   "execution_count": null,
   "metadata": {},
   "outputs": [],
   "source": []
  },
  {
   "cell_type": "markdown",
   "metadata": {},
   "source": [
    "### 3. Parse the date from today_string."
   ]
  },
  {
   "cell_type": "code",
   "execution_count": 8,
   "metadata": {},
   "outputs": [
    {
     "data": {
      "text/plain": [
       "'2021-05-11'"
      ]
     },
     "execution_count": 8,
     "metadata": {},
     "output_type": "execute_result"
    }
   ],
   "source": [
    "date_only = con[:10]\n",
    "date_only"
   ]
  },
  {
   "cell_type": "code",
   "execution_count": null,
   "metadata": {},
   "outputs": [],
   "source": []
  },
  {
   "cell_type": "markdown",
   "metadata": {},
   "source": [
    "### 4. List the files in your current directory."
   ]
  },
  {
   "cell_type": "code",
   "execution_count": 9,
   "metadata": {},
   "outputs": [
    {
     "data": {
      "text/plain": [
       "['.ipynb_checkpoints',\n",
       " 'Assignment 21.ipynb',\n",
       " 'Assignment_21.docx',\n",
       " 'today.txt',\n",
       " '~$signment_21.docx']"
      ]
     },
     "execution_count": 9,
     "metadata": {},
     "output_type": "execute_result"
    }
   ],
   "source": [
    "import os\n",
    "os.listdir()"
   ]
  },
  {
   "cell_type": "code",
   "execution_count": null,
   "metadata": {},
   "outputs": [],
   "source": []
  },
  {
   "cell_type": "markdown",
   "metadata": {},
   "source": [
    "### 5. List the files in your parent directory."
   ]
  },
  {
   "cell_type": "code",
   "execution_count": 10,
   "metadata": {},
   "outputs": [
    {
     "data": {
      "text/plain": [
       "'E:\\\\Ineuron Assignment Notebook\\\\Python Basic Assignment\\\\Assignment 21'"
      ]
     },
     "execution_count": 10,
     "metadata": {},
     "output_type": "execute_result"
    }
   ],
   "source": [
    "pwd() #this is my parent directory"
   ]
  },
  {
   "cell_type": "code",
   "execution_count": 13,
   "metadata": {},
   "outputs": [
    {
     "data": {
      "text/plain": [
       "'E:\\\\Ineuron Assignment Notebook\\\\Python Basic Assignment'"
      ]
     },
     "execution_count": 13,
     "metadata": {},
     "output_type": "execute_result"
    }
   ],
   "source": [
    "path_parent = os.path.abspath('../')\n",
    "\n",
    "path_parent # gettingt the directory path"
   ]
  },
  {
   "cell_type": "code",
   "execution_count": 15,
   "metadata": {},
   "outputs": [
    {
     "data": {
      "text/plain": [
       "['.ipynb_checkpoints',\n",
       " 'Assignment 1.ipynb',\n",
       " 'Assignment 10',\n",
       " 'Assignment 11',\n",
       " 'Assignment 12',\n",
       " 'Assignment 14',\n",
       " 'Assignment 15',\n",
       " 'Assignment 16',\n",
       " 'Assignment 17',\n",
       " 'Assignment 18',\n",
       " 'Assignment 19',\n",
       " 'Assignment 2.ipynb',\n",
       " 'Assignment 20',\n",
       " 'Assignment 21',\n",
       " 'Assignment 22',\n",
       " 'Assignment 23',\n",
       " 'Assignment 24',\n",
       " 'Assignment 25',\n",
       " 'Assignment 3.ipynb',\n",
       " 'Assignment 4.ipynb',\n",
       " 'Assignment 5.ipynb',\n",
       " 'Assignment 6.ipynb',\n",
       " 'Assignment 7.ipynb',\n",
       " 'Assignment 8',\n",
       " 'Assignment 9',\n",
       " 'Assignmnet 13',\n",
       " 'testing file.ipynb']"
      ]
     },
     "execution_count": 15,
     "metadata": {},
     "output_type": "execute_result"
    }
   ],
   "source": [
    "file_dir = os.listdir(path_parent)\n",
    "file_dir"
   ]
  },
  {
   "cell_type": "code",
   "execution_count": null,
   "metadata": {},
   "outputs": [],
   "source": []
  },
  {
   "cell_type": "markdown",
   "metadata": {},
   "source": [
    "### 6. Use multiprocessing to create three separate processes. Make each one wait a random number of seconds between one and five, print the current time, and then exit."
   ]
  },
  {
   "cell_type": "code",
   "execution_count": 16,
   "metadata": {},
   "outputs": [],
   "source": [
    "# importing multiprocessing\n",
    "import multiprocessing"
   ]
  },
  {
   "cell_type": "code",
   "execution_count": 19,
   "metadata": {},
   "outputs": [],
   "source": [
    "# creating three separate processes\n",
    "def processes1():\n",
    "    print('Priocessing 1')\n",
    "\n",
    "def processes2():\n",
    "    print('Priocessing 2')\n",
    "\n",
    "def processes3():\n",
    "    print('Priocessing 3')\n",
    "    \n",
    "# setting instance for each process\n",
    "p1 = multiprocessing.Process(target=processes1)\n",
    "p2 = multiprocessing.Process(target=processes2)\n",
    "p3 = multiprocessing.Process(target=processes3)\n",
    "\n",
    "\n",
    "from time import sleep\n",
    "from random import randint\n",
    "from datetime import datetime\n",
    "\n",
    "\n",
    "\n",
    "def delay():\n",
    "    seconds = randint(1, 5)\n",
    "    print(f\"Waiting for {seconds} seconds\")\n",
    "    sleep(seconds)"
   ]
  },
  {
   "cell_type": "code",
   "execution_count": 20,
   "metadata": {},
   "outputs": [
    {
     "name": "stdout",
     "output_type": "stream",
     "text": [
      "Process1: TimeStart = 23:07:34\n",
      "Waiting for 3 seconds\n",
      "Process2: TimeStart = 23:07:38\n",
      "Waiting for 5 seconds\n",
      "Process3: TimeStart = 23:07:43\n"
     ]
    }
   ],
   "source": [
    "print(\"Process1: TimeStart =\", datetime.now().strftime(\"%H:%M:%S\"))\n",
    "p1.start()\n",
    "delay()\n",
    "\n",
    "print(\"Process2: TimeStart =\", datetime.now().strftime(\"%H:%M:%S\"))\n",
    "p2.start()\n",
    "delay()\n",
    "\n",
    "print(\"Process3: TimeStart =\", datetime.now().strftime(\"%H:%M:%S\"))\n",
    "p3.start()\n",
    "\n",
    "p1.join()\n",
    "p2.join()\n",
    "p3.join()"
   ]
  },
  {
   "cell_type": "code",
   "execution_count": null,
   "metadata": {},
   "outputs": [],
   "source": []
  },
  {
   "cell_type": "markdown",
   "metadata": {},
   "source": [
    "### 7. Create a date object of your day of birth."
   ]
  },
  {
   "cell_type": "code",
   "execution_count": 22,
   "metadata": {},
   "outputs": [
    {
     "data": {
      "text/plain": [
       "datetime.datetime(1998, 2, 5, 0, 0)"
      ]
     },
     "execution_count": 22,
     "metadata": {},
     "output_type": "execute_result"
    }
   ],
   "source": [
    "my_date = \"05-02-1998\"\n",
    "\n",
    "my_datetime = datetime.strptime(my_date, '%d-%m-%Y')\n",
    "my_datetime"
   ]
  },
  {
   "cell_type": "markdown",
   "metadata": {},
   "source": [
    "### 8. What day of the week was your day of birth?"
   ]
  },
  {
   "cell_type": "code",
   "execution_count": 24,
   "metadata": {},
   "outputs": [
    {
     "data": {
      "text/plain": [
       "3"
      ]
     },
     "execution_count": 24,
     "metadata": {},
     "output_type": "execute_result"
    }
   ],
   "source": [
    "week = my_datetime.weekday()\n",
    "week"
   ]
  },
  {
   "cell_type": "markdown",
   "metadata": {},
   "source": [
    "A python week day name allignment 3 means Thursday"
   ]
  },
  {
   "cell_type": "code",
   "execution_count": null,
   "metadata": {},
   "outputs": [],
   "source": []
  },
  {
   "cell_type": "markdown",
   "metadata": {},
   "source": [
    "### 9. When will you be (or when were you) 10,000 days old?"
   ]
  },
  {
   "cell_type": "code",
   "execution_count": 26,
   "metadata": {},
   "outputs": [
    {
     "data": {
      "text/plain": [
       "datetime.datetime(2025, 6, 23, 0, 0)"
      ]
     },
     "execution_count": 26,
     "metadata": {},
     "output_type": "execute_result"
    }
   ],
   "source": [
    "from datetime import timedelta\n",
    "my_10000_day = timedelta(days=10000) + my_datetime\n",
    "my_10000_day"
   ]
  },
  {
   "cell_type": "code",
   "execution_count": null,
   "metadata": {},
   "outputs": [],
   "source": []
  }
 ],
 "metadata": {
  "kernelspec": {
   "display_name": "Python 3",
   "language": "python",
   "name": "python3"
  },
  "language_info": {
   "codemirror_mode": {
    "name": "ipython",
    "version": 3
   },
   "file_extension": ".py",
   "mimetype": "text/x-python",
   "name": "python",
   "nbconvert_exporter": "python",
   "pygments_lexer": "ipython3",
   "version": "3.8.5"
  }
 },
 "nbformat": 4,
 "nbformat_minor": 4
}
