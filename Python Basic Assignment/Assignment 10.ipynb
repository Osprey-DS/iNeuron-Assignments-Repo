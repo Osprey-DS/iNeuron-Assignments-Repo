{
 "cells": [
  {
   "cell_type": "markdown",
   "metadata": {},
   "source": [
    "### 1. How do you distinguish between shutil.copy() and shutil.copytree()?\n",
    "\n",
    "Ans>> The `shutil.copy()` use for copying a single file where `shutil.copytree()` can copy the entire folder along with all subfolders inside it.\n"
   ]
  },
  {
   "cell_type": "code",
   "execution_count": null,
   "metadata": {},
   "outputs": [],
   "source": []
  },
  {
   "cell_type": "markdown",
   "metadata": {},
   "source": [
    "### 2. What is the name of the feature used to rename files?\n",
    "\n",
    "Ans>> In python we can use `os.rename` function to do the renaming of the file name. we have to pass the source and destination path(absolute) and we can change the file name in the destination. Both these are strings. Then the function will change the existing file name with a newely entered name.\n"
   ]
  },
  {
   "cell_type": "code",
   "execution_count": null,
   "metadata": {},
   "outputs": [],
   "source": []
  },
  {
   "cell_type": "markdown",
   "metadata": {},
   "source": [
    "### 3. How are the delete functions in the send2trash and shutil modules different?\n",
    "\n",
    "Ans>> The shutil module will delete the file completely and will free up space. This means we can’t become the file after we delete with `os.unlike()` function. But if we use a third-party library called send2trash then instead of removing the file from our computer it will send it to our recycle bin and if we have to then we can recover or restore the deleted file from the recycle bin. These are the main difference between them.\n"
   ]
  },
  {
   "cell_type": "code",
   "execution_count": null,
   "metadata": {},
   "outputs": [],
   "source": []
  },
  {
   "cell_type": "markdown",
   "metadata": {},
   "source": [
    "### 4. ZipFile objects have a close() function that is similar to that of File objects. What ZipFile method is similar to the open() method of File objects?\n",
    "\n",
    "Ans>> There is a function of zipFile module called `zipfile.zipFile()` which is similar to `open()` function.\n"
   ]
  },
  {
   "cell_type": "code",
   "execution_count": null,
   "metadata": {},
   "outputs": [],
   "source": []
  },
  {
   "cell_type": "markdown",
   "metadata": {},
   "source": [
    "### 5. Create a program that searches a folder tree for files with a certain file extension (such as .pdf or .jpg). Copy these files to a new folder from wherever they are now.\n"
   ]
  },
  {
   "cell_type": "code",
   "execution_count": null,
   "metadata": {},
   "outputs": [],
   "source": [
    "import os # importing os\n",
    "import shutil # importing shutil\n",
    "\n",
    "source = 'D:\\\\Desktop_Disk' # source folder \n",
    "desti = 'C:\\\\Users\\\\user\\\\Desktop\\\\Ineuron Assignment Notebook\\\\Python Basic Assignment\\\\Assignment 9\\\\only_pdf_folder' #our folder\n",
    "for folder, subfolder, filename in os.walk(source):  # search all folder\n",
    "    for file in filename:\n",
    "        if file.endswith('.pdf') or file.endswith('.jpg'):  # checking for the extension\n",
    "            new_source = os.path.join(folder, file) # creating new source\n",
    "            shutil.copy(src=new_source, dst = desti) # copy to the new folder"
   ]
  }
 ],
 "metadata": {
  "kernelspec": {
   "display_name": "Python 3",
   "language": "python",
   "name": "python3"
  },
  "language_info": {
   "codemirror_mode": {
    "name": "ipython",
    "version": 3
   },
   "file_extension": ".py",
   "mimetype": "text/x-python",
   "name": "python",
   "nbconvert_exporter": "python",
   "pygments_lexer": "ipython3",
   "version": "3.8.5"
  }
 },
 "nbformat": 4,
 "nbformat_minor": 4
}
