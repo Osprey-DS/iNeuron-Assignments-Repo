{
 "cells": [
  {
   "cell_type": "markdown",
   "id": "controlled-orange",
   "metadata": {},
   "source": [
    "# Python Basic Assignment 4"
   ]
  },
  {
   "cell_type": "code",
   "execution_count": null,
   "id": "loose-jason",
   "metadata": {},
   "outputs": [],
   "source": []
  },
  {
   "cell_type": "markdown",
   "id": "social-glenn",
   "metadata": {},
   "source": [
    "## 1. What exactly is [  ]?\n",
    "Ans> it’s square brackets. Usually, in python, we use them to define a list or empty list when there is nothing inside the brackets, for that we have to put the elements inside the square brackets, and also it is used to create list comprehension.\n"
   ]
  },
  {
   "cell_type": "code",
   "execution_count": null,
   "id": "personal-convenience",
   "metadata": {},
   "outputs": [],
   "source": []
  },
  {
   "cell_type": "markdown",
   "id": "blond-landing",
   "metadata": {},
   "source": [
    "## 2. In a list of values stored in a variable called spam, how would you assign the value 'hello' as the third value? (Assume [2, 4, 6, 8, 10] are in spam.)\n",
    "\n",
    "Ans> I will use the insert function for that because in this function I can define the index where I want the value-added.\n",
    "\n",
    "The code will be like this\n",
    "\n",
    "spam.insert(2, ’hello’) \n",
    "Where 2 is the index.\n"
   ]
  },
  {
   "cell_type": "code",
   "execution_count": null,
   "id": "thermal-hearing",
   "metadata": {},
   "outputs": [],
   "source": []
  },
  {
   "cell_type": "markdown",
   "id": "starting-david",
   "metadata": {},
   "source": [
    "## Let's pretend the spam includes the list ['a', 'b', 'c', 'd'] for the next three queries.\n",
    "\n",
    "## 3. What is the value of spam[int(int('3' * 2) / 11)]?\n",
    "\n",
    "Ans> it will return 3rd index value, and which is ‘d’\n",
    "\n",
    "## 4. What is the value of spam[-1]?\n",
    "\n",
    "Ans> [-1] means calling the last elements of the list, here it is ‘d’\n",
    "\n",
    "## 5. What is the value of spam[:2]?\n",
    "\n",
    "Ans> ‘a’, ‘b’, because the index is calling up to 2nd elements.\n"
   ]
  },
  {
   "cell_type": "code",
   "execution_count": null,
   "id": "amino-subcommittee",
   "metadata": {},
   "outputs": [],
   "source": []
  },
  {
   "cell_type": "markdown",
   "id": "literary-diameter",
   "metadata": {},
   "source": [
    "## Let's pretend bacon has the list [3.14, 'cat,' 11, 'cat,' True] for the next three questions.\n",
    "\n",
    "## 6. What is the value of bacon.index('cat')?\n",
    "\n",
    "Ans> it’s 1\n",
    "## 7. How does bacon.append(99) change the look of the list value in bacon?\n",
    "\n",
    "Ans> the new list will look like this  [3.14, 'cat', 11, 'cat', True, 99]\n",
    "\n",
    "## 8. How does bacon.remove('cat') change the look of the list meaning in bacon?\n",
    "\n",
    "Ans> [3.14, 11, 'cat', True, 99]\n"
   ]
  },
  {
   "cell_type": "code",
   "execution_count": null,
   "id": "heard-senegal",
   "metadata": {},
   "outputs": [],
   "source": []
  },
  {
   "cell_type": "markdown",
   "id": "sonic-stockholm",
   "metadata": {},
   "source": [
    "## 9. What are the list concatenation and list replication operators?\n",
    "\n",
    "Ans> list concatenation operator is plus(+) operator and list replication operator is the asterisk(*) operator. the plus operator will contact two or more lists and will produce a single list containing all the elements. And replication(*) operator will create a similar copy and then concatenate will them in a resulting list.\n",
    "\n"
   ]
  },
  {
   "cell_type": "code",
   "execution_count": 4,
   "id": "demographic-hands",
   "metadata": {},
   "outputs": [
    {
     "name": "stdout",
     "output_type": "stream",
     "text": [
      "[1, 2, 3, 4, 5, 6]\n",
      "[1, 2, 3]\n"
     ]
    }
   ],
   "source": [
    "# # e.g.\n",
    "l1 = [1,2,3] #list one\n",
    "l2 = [4,5,6] #list two\n",
    "l3 = l1+l2   # performing list concatenation\n",
    "print(l3) \n",
    " \n",
    "l1*3 #performing list replicatation on list one\n",
    "print(l1) \n"
   ]
  },
  {
   "cell_type": "code",
   "execution_count": null,
   "id": "packed-picture",
   "metadata": {},
   "outputs": [],
   "source": []
  },
  {
   "cell_type": "markdown",
   "id": "threaded-syntax",
   "metadata": {},
   "source": [
    "## 10. What is difference between the list methods append() and insert()?\n",
    "\n",
    "Ans> list method append() add value in the last position on the list, here we can’t control index position. But insert() function the first parameter is the position of the inserting or new elements and the second one is the new elements.\n"
   ]
  },
  {
   "cell_type": "code",
   "execution_count": null,
   "id": "hazardous-honduras",
   "metadata": {},
   "outputs": [],
   "source": []
  },
  {
   "cell_type": "markdown",
   "id": "coordinated-louisville",
   "metadata": {},
   "source": [
    "## 11. What are the two methods for removing items from a list?\n",
    "\n",
    "Ans> one is the remove() method which takes one parameter which we want to remove.\n",
    "And the second one is the clear method clear() method, it will not take any parameter and will remove all item in the existing list, and will return an empty list.\n"
   ]
  },
  {
   "cell_type": "code",
   "execution_count": null,
   "id": "unavailable-strip",
   "metadata": {},
   "outputs": [],
   "source": []
  },
  {
   "cell_type": "markdown",
   "id": "sporting-hartford",
   "metadata": {},
   "source": [
    "## 12. Describe how list values and string values are identical.\n",
    "\n",
    "Ans>  in list value and string value are identical like we can call them by individual elements or call them by slicing by defining the index\n"
   ]
  },
  {
   "cell_type": "code",
   "execution_count": null,
   "id": "figured-surveillance",
   "metadata": {},
   "outputs": [],
   "source": []
  },
  {
   "cell_type": "markdown",
   "id": "threaded-listening",
   "metadata": {},
   "source": [
    "## 13. What's the difference between tuples and lists?\n",
    "\n",
    "Ans> the main difference is between the list and tuples is the list is mutable and the tuple is immutable. \n",
    "This means after defining the list we can modify or add and remove value from the defining list. And other site tuples are immutable or we can’t remove and add value in it after defining.\n"
   ]
  },
  {
   "cell_type": "code",
   "execution_count": null,
   "id": "streaming-crime",
   "metadata": {},
   "outputs": [],
   "source": []
  },
  {
   "cell_type": "markdown",
   "id": "sustainable-running",
   "metadata": {},
   "source": [
    "## 14. How do you type a tuple value that only contains the integer 42?\n",
    "\n",
    "Ans>  my_tuple = (42,)  #with out the comma at the end of the number it will consider as an integer type\n"
   ]
  },
  {
   "cell_type": "code",
   "execution_count": null,
   "id": "accurate-interview",
   "metadata": {},
   "outputs": [],
   "source": []
  },
  {
   "cell_type": "markdown",
   "id": "inner-processing",
   "metadata": {},
   "source": [
    "## 15. How do you get a list value's tuple form? How do you get a tuple value's list form?\n",
    "\n",
    "Ans> \tlist_value_tuple_form =  list(my_tupple)\n",
    "Tuple_value_list_form = tuple(my_list)\n"
   ]
  },
  {
   "cell_type": "code",
   "execution_count": null,
   "id": "incomplete-salmon",
   "metadata": {},
   "outputs": [],
   "source": []
  },
  {
   "cell_type": "markdown",
   "id": "aggressive-steam",
   "metadata": {},
   "source": [
    "## 16. Variables that \"contain\" list values are not necessarily lists themselves. Instead, what do they contain?\n",
    "\n",
    "Ans>  They can be list variables. Or passing on to the list values.\n"
   ]
  },
  {
   "cell_type": "code",
   "execution_count": null,
   "id": "paperback-printing",
   "metadata": {},
   "outputs": [],
   "source": []
  },
  {
   "cell_type": "markdown",
   "id": "initial-landscape",
   "metadata": {},
   "source": [
    "## 17. How do you distinguish between copy.copy() and copy.deepcopy()?\n",
    "\n",
    "\n",
    "Ans>> The copy.copy() or also known as shallow copy did not create a new object when it’s called or executes, but instead of creating a new object it just copies the reference of the memory address. Here changing with the new object put the effect on the old or parent object also vice-versa.\n",
    "\n",
    "\n",
    "But another side when we use copy.deepcopy() or also known as deep copy creates a new object with a new memory address in our program. Instead of just making a reference to the object. As the new object is created so no effect occurs when we change on the new object or vice-versa.\n"
   ]
  },
  {
   "cell_type": "code",
   "execution_count": null,
   "id": "affected-horizontal",
   "metadata": {},
   "outputs": [],
   "source": []
  }
 ],
 "metadata": {
  "kernelspec": {
   "display_name": "Python 3",
   "language": "python",
   "name": "python3"
  },
  "language_info": {
   "codemirror_mode": {
    "name": "ipython",
    "version": 3
   },
   "file_extension": ".py",
   "mimetype": "text/x-python",
   "name": "python",
   "nbconvert_exporter": "python",
   "pygments_lexer": "ipython3",
   "version": "3.8.8"
  }
 },
 "nbformat": 4,
 "nbformat_minor": 5
}
