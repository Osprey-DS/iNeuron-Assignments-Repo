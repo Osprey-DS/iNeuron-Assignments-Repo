{
 "cells": [
  {
   "cell_type": "markdown",
   "metadata": {},
   "source": [
    "### 1. To what does a relative path refer?\n",
    "\n",
    "Ans>> Relative path refers to our current working directory.\n"
   ]
  },
  {
   "cell_type": "code",
   "execution_count": null,
   "metadata": {},
   "outputs": [],
   "source": []
  },
  {
   "cell_type": "markdown",
   "metadata": {},
   "source": [
    "### 2. What is the first step on an absolute path?\n",
    "Ans>> The first step on the absolute path is our base or root folder(disk) like in the windows operating system it’s ‘C:/’\n"
   ]
  },
  {
   "cell_type": "code",
   "execution_count": null,
   "metadata": {},
   "outputs": [],
   "source": []
  },
  {
   "cell_type": "markdown",
   "metadata": {},
   "source": [
    "### 3. On Windows, what does Path('C:/Users') / 'Al' evaluate to?\n"
   ]
  },
  {
   "cell_type": "markdown",
   "metadata": {},
   "source": [
    "### 5. What do the functions os.getcwd() and os.chdir() do?\n",
    "Ans>> The os.getcwd() give us a string that is our current working directory.\n",
    "\n",
    "And the os.chdir() function help us to change our current working directory.\n"
   ]
  },
  {
   "cell_type": "code",
   "execution_count": null,
   "metadata": {},
   "outputs": [],
   "source": []
  },
  {
   "cell_type": "markdown",
   "metadata": {},
   "source": [
    "### 6. What is the difference between the. and.. folders?\n",
    "\n",
    "Ans>> The dot or . and dot-dot or .. is not an actual folder but we can use them when referring to the path when referring folder. The dot(.) is used for telling this directory or where our program is in the current state.\n",
    "\n",
    "And the dot-dot refers to the base folder or parent folder. Like C:/  \n"
   ]
  },
  {
   "cell_type": "code",
   "execution_count": null,
   "metadata": {},
   "outputs": [],
   "source": []
  },
  {
   "cell_type": "markdown",
   "metadata": {},
   "source": [
    "### 7. Which part of C:baconeggsspam.txt is the dir name and which part is the base name?\n",
    "\n",
    "Ans>> Here ‘C:baconeggsspam.txt’ is dir name and ‘C:’ is the base name.\n"
   ]
  },
  {
   "cell_type": "code",
   "execution_count": null,
   "metadata": {},
   "outputs": [],
   "source": []
  },
  {
   "cell_type": "markdown",
   "metadata": {},
   "source": [
    "### . What are the three “mode” arguments that the open() function accepts?\n",
    "\n",
    "Ans>> The open function has three modes, and they are ‘r’ mode for only reading the file and we can’t modify the file when using this mode, the second is ‘w’ mode for writing the file, we can write in the file when using this mode, and the last mode is ‘a’ or append mode just adding value in the file. \n"
   ]
  },
  {
   "cell_type": "code",
   "execution_count": null,
   "metadata": {},
   "outputs": [],
   "source": []
  },
  {
   "cell_type": "markdown",
   "metadata": {},
   "source": [
    "### 9. What happens if you open existing file in write mode?\n",
    "\n",
    "Ans>>  The existing file will be deleted and in that place, a new file will be created with the same name.\n"
   ]
  },
  {
   "cell_type": "code",
   "execution_count": null,
   "metadata": {},
   "outputs": [],
   "source": []
  },
  {
   "cell_type": "markdown",
   "metadata": {},
   "source": [
    "### 10. How do you tell the difference between read() and readlines()?\n",
    "\n",
    "Ans>> The read() returns only a string object that is found from our text file. It will give us the whole written file as a single string object. But the readlines() return a list of strings that contain our file and the list elements are every new line in our file.\n"
   ]
  },
  {
   "cell_type": "code",
   "execution_count": null,
   "metadata": {},
   "outputs": [],
   "source": []
  },
  {
   "cell_type": "markdown",
   "metadata": {},
   "source": [
    "### 11. How does a shelf value resemble a data structure?\n",
    "\n",
    "Ans>> The shelf value resembles a data structure like a dictionary in python, the shelf module itself contains the keys() and values() function like the dictionary has. And it worked in the same way as the dictionary does.\n"
   ]
  },
  {
   "cell_type": "code",
   "execution_count": null,
   "metadata": {},
   "outputs": [],
   "source": []
  },
  {
   "cell_type": "code",
   "execution_count": null,
   "metadata": {},
   "outputs": [],
   "source": []
  }
 ],
 "metadata": {
  "kernelspec": {
   "display_name": "Python 3",
   "language": "python",
   "name": "python3"
  },
  "language_info": {
   "codemirror_mode": {
    "name": "ipython",
    "version": 3
   },
   "file_extension": ".py",
   "mimetype": "text/x-python",
   "name": "python",
   "nbconvert_exporter": "python",
   "pygments_lexer": "ipython3",
   "version": "3.8.5"
  }
 },
 "nbformat": 4,
 "nbformat_minor": 4
}
