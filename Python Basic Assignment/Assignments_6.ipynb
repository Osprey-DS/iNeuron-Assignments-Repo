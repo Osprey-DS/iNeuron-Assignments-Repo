{
 "cells": [
  {
   "cell_type": "code",
   "execution_count": null,
   "metadata": {
    "id": "421xSY_uClQR"
   },
   "outputs": [],
   "source": []
  },
  {
   "cell_type": "markdown",
   "metadata": {
    "id": "ASfqTSVEFMYT"
   },
   "source": [
    "# Assignment 6"
   ]
  },
  {
   "cell_type": "markdown",
   "metadata": {
    "id": "_ufwPa_eCmwH"
   },
   "source": [
    "1. What are escape characters, and how do you use them?\n",
    "\n",
    "Ans> The backslash character ‘\\’ is called the escape character it is kind of special type of character that is used in python code to tell the python that you should ignore that particular character just right after the backslash(\\).\n",
    "e.g:  if we use a single quotation to print any word in python then it will \n",
    "think that our word is only in between inside that single quotation. And then it will print it. Whatever it will find inside two quotations (‘ ‘). But if we want to put a single quotation then we can use escape character to ignore that next character and go on as written. \n"
   ]
  },
  {
   "cell_type": "code",
   "execution_count": 2,
   "metadata": {
    "colab": {
     "base_uri": "https://localhost:8080/"
    },
    "executionInfo": {
     "elapsed": 1035,
     "status": "ok",
     "timestamp": 1615126541750,
     "user": {
      "displayName": "Subhabrata Nath",
      "photoUrl": "https://lh3.googleusercontent.com/a-/AOh14GiUpae4FeV6rvqM213Sh7OyUIhxVq5YFsBNuqLIdw=s64",
      "userId": "16729645967688508781"
     },
     "user_tz": -330
    },
    "id": "vwDRIR4eCqUQ",
    "outputId": "4a7c4b5d-1e3e-4ec9-a9de-d2ccba6c43dc"
   },
   "outputs": [
    {
     "name": "stdout",
     "output_type": "stream",
     "text": [
      "hello's\n"
     ]
    }
   ],
   "source": [
    "print('hello\\'s')"
   ]
  },
  {
   "cell_type": "markdown",
   "metadata": {
    "id": "LU51XFo5CqA4"
   },
   "source": [
    "2. What do the escape characters n and t stand for?\n",
    "\n",
    "Ans> escape characters with n like ‘\\n’ will print a new line or after this, the line will break a new line.\n",
    "And ‘\\t’ will give us 4 spaces or a tab in our line.\n"
   ]
  },
  {
   "cell_type": "code",
   "execution_count": 3,
   "metadata": {
    "colab": {
     "base_uri": "https://localhost:8080/"
    },
    "executionInfo": {
     "elapsed": 898,
     "status": "ok",
     "timestamp": 1615126626053,
     "user": {
      "displayName": "Subhabrata Nath",
      "photoUrl": "https://lh3.googleusercontent.com/a-/AOh14GiUpae4FeV6rvqM213Sh7OyUIhxVq5YFsBNuqLIdw=s64",
      "userId": "16729645967688508781"
     },
     "user_tz": -330
    },
    "id": "B0YvrNGbC8ux",
    "outputId": "26b02fa6-0484-4772-c44a-b943d1ad2cb2"
   },
   "outputs": [
    {
     "name": "stdout",
     "output_type": "stream",
     "text": [
      "hello \n",
      " world\n"
     ]
    }
   ],
   "source": [
    "print('hello \\n world')"
   ]
  },
  {
   "cell_type": "code",
   "execution_count": 4,
   "metadata": {
    "colab": {
     "base_uri": "https://localhost:8080/"
    },
    "executionInfo": {
     "elapsed": 898,
     "status": "ok",
     "timestamp": 1615126638811,
     "user": {
      "displayName": "Subhabrata Nath",
      "photoUrl": "https://lh3.googleusercontent.com/a-/AOh14GiUpae4FeV6rvqM213Sh7OyUIhxVq5YFsBNuqLIdw=s64",
      "userId": "16729645967688508781"
     },
     "user_tz": -330
    },
    "id": "oF892PPLDHtR",
    "outputId": "6ee34706-86f1-42d1-8ca4-b5189ac71099"
   },
   "outputs": [
    {
     "name": "stdout",
     "output_type": "stream",
     "text": [
      "hello \t world\n"
     ]
    }
   ],
   "source": [
    "print('hello \\t world')"
   ]
  },
  {
   "cell_type": "markdown",
   "metadata": {
    "id": "kgYOJmksDO8o"
   },
   "source": [
    "3. What is the way to include backslash characters in a string?\n",
    "\n",
    "Ans> we have to put our escape character or backslash (\\) just before that character is what we want to try scape.\n",
    "\n",
    "Like print(‘my name\\’s is subha’) >> my name’s subha\n"
   ]
  },
  {
   "cell_type": "code",
   "execution_count": 5,
   "metadata": {
    "colab": {
     "base_uri": "https://localhost:8080/"
    },
    "executionInfo": {
     "elapsed": 863,
     "status": "ok",
     "timestamp": 1615126735376,
     "user": {
      "displayName": "Subhabrata Nath",
      "photoUrl": "https://lh3.googleusercontent.com/a-/AOh14GiUpae4FeV6rvqM213Sh7OyUIhxVq5YFsBNuqLIdw=s64",
      "userId": "16729645967688508781"
     },
     "user_tz": -330
    },
    "id": "CcgvgdssDWgI",
    "outputId": "ff2e7be5-b1e5-483e-9c72-c856ee9027db"
   },
   "outputs": [
    {
     "name": "stdout",
     "output_type": "stream",
     "text": [
      "my name is's subha \n"
     ]
    }
   ],
   "source": [
    "print('my name is\\'s is  ')"
   ]
  },
  {
   "cell_type": "markdown",
   "metadata": {
    "id": "L75g9V4dDqsY"
   },
   "source": [
    "4. The string \"Howl's Moving Castle\" is a correct value. Why isn't the single quote character in the word Howl's not escaped a problem?\n",
    "\n",
    "Ans> because we use double quotations for wrapping our string, and python treats that double quotation as our border for that string. And we use a single quotation inside of our string that is why without using escape character we can get the result.\n"
   ]
  },
  {
   "cell_type": "code",
   "execution_count": null,
   "metadata": {
    "id": "_fjuW7P_Dr4x"
   },
   "outputs": [],
   "source": []
  },
  {
   "cell_type": "markdown",
   "metadata": {
    "id": "Lou0HacMDsch"
   },
   "source": [
    "5. How do you write a string of newlines if you don't want to use the n character?\n",
    "\n",
    "Ans> without \\n we have to write the new line in a different print() statement.\n"
   ]
  },
  {
   "cell_type": "code",
   "execution_count": 6,
   "metadata": {
    "colab": {
     "base_uri": "https://localhost:8080/"
    },
    "executionInfo": {
     "elapsed": 928,
     "status": "ok",
     "timestamp": 1615126812588,
     "user": {
      "displayName": "Subhabrata Nath",
      "photoUrl": "https://lh3.googleusercontent.com/a-/AOh14GiUpae4FeV6rvqM213Sh7OyUIhxVq5YFsBNuqLIdw=s64",
      "userId": "16729645967688508781"
     },
     "user_tz": -330
    },
    "id": "gwaO2UXdDxtg",
    "outputId": "bdff7cdb-4c80-4048-d42f-77f790bf1694"
   },
   "outputs": [
    {
     "name": "stdout",
     "output_type": "stream",
     "text": [
      "hello\n",
      "world\n"
     ]
    }
   ],
   "source": [
    "print('hello')\n",
    "print('world')"
   ]
  },
  {
   "cell_type": "markdown",
   "metadata": {
    "id": "pupj3qkPD5zJ"
   },
   "source": [
    "6. What are the values of the given expressions?"
   ]
  },
  {
   "cell_type": "code",
   "execution_count": 7,
   "metadata": {
    "colab": {
     "base_uri": "https://localhost:8080/",
     "height": 35
    },
    "executionInfo": {
     "elapsed": 956,
     "status": "ok",
     "timestamp": 1615126844257,
     "user": {
      "displayName": "Subhabrata Nath",
      "photoUrl": "https://lh3.googleusercontent.com/a-/AOh14GiUpae4FeV6rvqM213Sh7OyUIhxVq5YFsBNuqLIdw=s64",
      "userId": "16729645967688508781"
     },
     "user_tz": -330
    },
    "id": "cJSjiZYZD6ZY",
    "outputId": "0d372726-8fbc-4ecd-dcf4-4b41431400b8"
   },
   "outputs": [
    {
     "data": {
      "application/vnd.google.colaboratory.intrinsic+json": {
       "type": "string"
      },
      "text/plain": [
       "'e'"
      ]
     },
     "execution_count": 7,
     "metadata": {
      "tags": []
     },
     "output_type": "execute_result"
    }
   ],
   "source": [
    "'Hello, world!'[1] "
   ]
  },
  {
   "cell_type": "code",
   "execution_count": 8,
   "metadata": {
    "colab": {
     "base_uri": "https://localhost:8080/",
     "height": 35
    },
    "executionInfo": {
     "elapsed": 887,
     "status": "ok",
     "timestamp": 1615126852633,
     "user": {
      "displayName": "Subhabrata Nath",
      "photoUrl": "https://lh3.googleusercontent.com/a-/AOh14GiUpae4FeV6rvqM213Sh7OyUIhxVq5YFsBNuqLIdw=s64",
      "userId": "16729645967688508781"
     },
     "user_tz": -330
    },
    "id": "x_-7cIMXD8XR",
    "outputId": "05135d1c-44f7-4ee4-87c1-ff4dd977079e"
   },
   "outputs": [
    {
     "data": {
      "application/vnd.google.colaboratory.intrinsic+json": {
       "type": "string"
      },
      "text/plain": [
       "'Hello'"
      ]
     },
     "execution_count": 8,
     "metadata": {
      "tags": []
     },
     "output_type": "execute_result"
    }
   ],
   "source": [
    "'Hello, world!'[0:5] "
   ]
  },
  {
   "cell_type": "code",
   "execution_count": 9,
   "metadata": {
    "colab": {
     "base_uri": "https://localhost:8080/",
     "height": 35
    },
    "executionInfo": {
     "elapsed": 862,
     "status": "ok",
     "timestamp": 1615126860099,
     "user": {
      "displayName": "Subhabrata Nath",
      "photoUrl": "https://lh3.googleusercontent.com/a-/AOh14GiUpae4FeV6rvqM213Sh7OyUIhxVq5YFsBNuqLIdw=s64",
      "userId": "16729645967688508781"
     },
     "user_tz": -330
    },
    "id": "e4WWdeuMD_Bw",
    "outputId": "9fca3275-d885-4edd-8db6-b11a0f569e71"
   },
   "outputs": [
    {
     "data": {
      "application/vnd.google.colaboratory.intrinsic+json": {
       "type": "string"
      },
      "text/plain": [
       "'Hello'"
      ]
     },
     "execution_count": 9,
     "metadata": {
      "tags": []
     },
     "output_type": "execute_result"
    }
   ],
   "source": [
    "'Hello, world!'[:5] "
   ]
  },
  {
   "cell_type": "code",
   "execution_count": 10,
   "metadata": {
    "colab": {
     "base_uri": "https://localhost:8080/",
     "height": 35
    },
    "executionInfo": {
     "elapsed": 941,
     "status": "ok",
     "timestamp": 1615126882783,
     "user": {
      "displayName": "Subhabrata Nath",
      "photoUrl": "https://lh3.googleusercontent.com/a-/AOh14GiUpae4FeV6rvqM213Sh7OyUIhxVq5YFsBNuqLIdw=s64",
      "userId": "16729645967688508781"
     },
     "user_tz": -330
    },
    "id": "vjq5Zd7jEA2p",
    "outputId": "6d8ff2b0-763d-4b88-f1b6-8a1a54708260"
   },
   "outputs": [
    {
     "data": {
      "application/vnd.google.colaboratory.intrinsic+json": {
       "type": "string"
      },
      "text/plain": [
       "'lo, world!'"
      ]
     },
     "execution_count": 10,
     "metadata": {
      "tags": []
     },
     "output_type": "execute_result"
    }
   ],
   "source": [
    "'Hello, world!'[3:] "
   ]
  },
  {
   "cell_type": "code",
   "execution_count": null,
   "metadata": {
    "id": "0ENkxjyIEGYA"
   },
   "outputs": [],
   "source": []
  },
  {
   "cell_type": "markdown",
   "metadata": {
    "id": "bcmifWPkEJho"
   },
   "source": [
    "7. What are the values of the following expressions?"
   ]
  },
  {
   "cell_type": "code",
   "execution_count": 11,
   "metadata": {
    "colab": {
     "base_uri": "https://localhost:8080/",
     "height": 35
    },
    "executionInfo": {
     "elapsed": 888,
     "status": "ok",
     "timestamp": 1615126907036,
     "user": {
      "displayName": "Subhabrata Nath",
      "photoUrl": "https://lh3.googleusercontent.com/a-/AOh14GiUpae4FeV6rvqM213Sh7OyUIhxVq5YFsBNuqLIdw=s64",
      "userId": "16729645967688508781"
     },
     "user_tz": -330
    },
    "id": "_kShhxIGEKCA",
    "outputId": "47c8cc2c-2d6a-4462-f76e-1578f2ae3a31"
   },
   "outputs": [
    {
     "data": {
      "application/vnd.google.colaboratory.intrinsic+json": {
       "type": "string"
      },
      "text/plain": [
       "'HELLO'"
      ]
     },
     "execution_count": 11,
     "metadata": {
      "tags": []
     },
     "output_type": "execute_result"
    }
   ],
   "source": [
    "'Hello'.upper() "
   ]
  },
  {
   "cell_type": "code",
   "execution_count": 12,
   "metadata": {
    "colab": {
     "base_uri": "https://localhost:8080/"
    },
    "executionInfo": {
     "elapsed": 856,
     "status": "ok",
     "timestamp": 1615126914235,
     "user": {
      "displayName": "Subhabrata Nath",
      "photoUrl": "https://lh3.googleusercontent.com/a-/AOh14GiUpae4FeV6rvqM213Sh7OyUIhxVq5YFsBNuqLIdw=s64",
      "userId": "16729645967688508781"
     },
     "user_tz": -330
    },
    "id": "1IKswrNfEMTx",
    "outputId": "deba6266-bc74-4c2b-b1d8-ea93f462e86e"
   },
   "outputs": [
    {
     "data": {
      "text/plain": [
       "True"
      ]
     },
     "execution_count": 12,
     "metadata": {
      "tags": []
     },
     "output_type": "execute_result"
    }
   ],
   "source": [
    "'Hello'.upper().isupper() "
   ]
  },
  {
   "cell_type": "code",
   "execution_count": 14,
   "metadata": {
    "colab": {
     "base_uri": "https://localhost:8080/",
     "height": 35
    },
    "executionInfo": {
     "elapsed": 900,
     "status": "ok",
     "timestamp": 1615126925790,
     "user": {
      "displayName": "Subhabrata Nath",
      "photoUrl": "https://lh3.googleusercontent.com/a-/AOh14GiUpae4FeV6rvqM213Sh7OyUIhxVq5YFsBNuqLIdw=s64",
      "userId": "16729645967688508781"
     },
     "user_tz": -330
    },
    "id": "QGlzMKYREOEo",
    "outputId": "dd24350f-98a0-4efe-bd84-c7168c681526"
   },
   "outputs": [
    {
     "data": {
      "application/vnd.google.colaboratory.intrinsic+json": {
       "type": "string"
      },
      "text/plain": [
       "'hello'"
      ]
     },
     "execution_count": 14,
     "metadata": {
      "tags": []
     },
     "output_type": "execute_result"
    }
   ],
   "source": [
    "'Hello'.upper().lower()"
   ]
  },
  {
   "cell_type": "code",
   "execution_count": null,
   "metadata": {
    "id": "wWsTSqf0EQAI"
   },
   "outputs": [],
   "source": []
  },
  {
   "cell_type": "markdown",
   "metadata": {
    "id": "RQcb2pCbES0r"
   },
   "source": [
    "8. What are the values of the following expressions?"
   ]
  },
  {
   "cell_type": "code",
   "execution_count": 15,
   "metadata": {
    "colab": {
     "base_uri": "https://localhost:8080/"
    },
    "executionInfo": {
     "elapsed": 1095,
     "status": "ok",
     "timestamp": 1615126943878,
     "user": {
      "displayName": "Subhabrata Nath",
      "photoUrl": "https://lh3.googleusercontent.com/a-/AOh14GiUpae4FeV6rvqM213Sh7OyUIhxVq5YFsBNuqLIdw=s64",
      "userId": "16729645967688508781"
     },
     "user_tz": -330
    },
    "id": "-64nA_NMETWg",
    "outputId": "da27b503-1fac-4574-94b3-c65f9bd6e0ee"
   },
   "outputs": [
    {
     "data": {
      "text/plain": [
       "['Remember,', 'remember,', 'the', 'fifth', 'of', 'July.']"
      ]
     },
     "execution_count": 15,
     "metadata": {
      "tags": []
     },
     "output_type": "execute_result"
    }
   ],
   "source": [
    "'Remember, remember, the fifth of July.'.split()"
   ]
  },
  {
   "cell_type": "code",
   "execution_count": 16,
   "metadata": {
    "colab": {
     "base_uri": "https://localhost:8080/",
     "height": 35
    },
    "executionInfo": {
     "elapsed": 877,
     "status": "ok",
     "timestamp": 1615126951459,
     "user": {
      "displayName": "Subhabrata Nath",
      "photoUrl": "https://lh3.googleusercontent.com/a-/AOh14GiUpae4FeV6rvqM213Sh7OyUIhxVq5YFsBNuqLIdw=s64",
      "userId": "16729645967688508781"
     },
     "user_tz": -330
    },
    "id": "V0I9SHbJEVQI",
    "outputId": "65eaca35-e7c3-4a68-9e36-05c37591eb94"
   },
   "outputs": [
    {
     "data": {
      "application/vnd.google.colaboratory.intrinsic+json": {
       "type": "string"
      },
      "text/plain": [
       "'There-can-only-one.'"
      ]
     },
     "execution_count": 16,
     "metadata": {
      "tags": []
     },
     "output_type": "execute_result"
    }
   ],
   "source": [
    "'-'.join('There can only one.'.split())"
   ]
  },
  {
   "cell_type": "markdown",
   "metadata": {
    "id": "FxzYYqFPEeww"
   },
   "source": [
    "9. What are the methods for right-justifying, left-justifying, and centering a string?\n",
    "\n",
    "Ans> these functions are used to get some extra space inside our string or change the alignment of our string.\n",
    "Right-justifying: it provides space on our left side and moved our string to the right side. The function is used called‘ rjust()’ which takes several parameters but the main parameter is the number of the total length of our string will be with extra spaces. Like if we put 10 then it will put\n",
    " (10 - length of the string) no of space on the left side. \n",
    "Left-Justifying is the same as above instead of lest it will put the spaces on the right side.\n",
    "Centering will leave an equal no of space on both sides and align the string in the middle position.\n",
    "e.g\n"
   ]
  },
  {
   "cell_type": "code",
   "execution_count": 18,
   "metadata": {
    "colab": {
     "base_uri": "https://localhost:8080/",
     "height": 35
    },
    "executionInfo": {
     "elapsed": 897,
     "status": "ok",
     "timestamp": 1615127078608,
     "user": {
      "displayName": "Subhabrata Nath",
      "photoUrl": "https://lh3.googleusercontent.com/a-/AOh14GiUpae4FeV6rvqM213Sh7OyUIhxVq5YFsBNuqLIdw=s64",
      "userId": "16729645967688508781"
     },
     "user_tz": -330
    },
    "id": "BTng-m2WEXKA",
    "outputId": "ee103c42-259b-453c-d0f4-81684a59a7ec"
   },
   "outputs": [
    {
     "data": {
      "application/vnd.google.colaboratory.intrinsic+json": {
       "type": "string"
      },
      "text/plain": [
       "'     hello'"
      ]
     },
     "execution_count": 18,
     "metadata": {
      "tags": []
     },
     "output_type": "execute_result"
    }
   ],
   "source": [
    "#example\n",
    "'hello'.rjust(10)  #10 is total character we want"
   ]
  },
  {
   "cell_type": "code",
   "execution_count": 19,
   "metadata": {
    "colab": {
     "base_uri": "https://localhost:8080/",
     "height": 35
    },
    "executionInfo": {
     "elapsed": 835,
     "status": "ok",
     "timestamp": 1615127089568,
     "user": {
      "displayName": "Subhabrata Nath",
      "photoUrl": "https://lh3.googleusercontent.com/a-/AOh14GiUpae4FeV6rvqM213Sh7OyUIhxVq5YFsBNuqLIdw=s64",
      "userId": "16729645967688508781"
     },
     "user_tz": -330
    },
    "id": "3jxetUwuEdnw",
    "outputId": "e4d0e50d-aa69-40b5-b04e-cc8d78d36d4b"
   },
   "outputs": [
    {
     "data": {
      "application/vnd.google.colaboratory.intrinsic+json": {
       "type": "string"
      },
      "text/plain": [
       "'hello     '"
      ]
     },
     "execution_count": 19,
     "metadata": {
      "tags": []
     },
     "output_type": "execute_result"
    }
   ],
   "source": [
    "'hello'.ljust(10)"
   ]
  },
  {
   "cell_type": "code",
   "execution_count": 20,
   "metadata": {
    "colab": {
     "base_uri": "https://localhost:8080/",
     "height": 35
    },
    "executionInfo": {
     "elapsed": 864,
     "status": "ok",
     "timestamp": 1615127113086,
     "user": {
      "displayName": "Subhabrata Nath",
      "photoUrl": "https://lh3.googleusercontent.com/a-/AOh14GiUpae4FeV6rvqM213Sh7OyUIhxVq5YFsBNuqLIdw=s64",
      "userId": "16729645967688508781"
     },
     "user_tz": -330
    },
    "id": "JTZUrzovE44R",
    "outputId": "168c051d-e784-4048-f0c6-b470290b26da"
   },
   "outputs": [
    {
     "data": {
      "application/vnd.google.colaboratory.intrinsic+json": {
       "type": "string"
      },
      "text/plain": [
       "'  hello   '"
      ]
     },
     "execution_count": 20,
     "metadata": {
      "tags": []
     },
     "output_type": "execute_result"
    }
   ],
   "source": [
    "'hello'.center(10)"
   ]
  },
  {
   "cell_type": "markdown",
   "metadata": {
    "id": "hNvciOTSFAQ5"
   },
   "source": [
    "10. What is the best way to remove whitespace characters from the start or end?\n",
    "\n",
    "Ans> Python strip() method can do the job it will remove unnecessary extra space and will return only the solid string as output\n"
   ]
  },
  {
   "cell_type": "code",
   "execution_count": 21,
   "metadata": {
    "colab": {
     "base_uri": "https://localhost:8080/",
     "height": 35
    },
    "executionInfo": {
     "elapsed": 923,
     "status": "ok",
     "timestamp": 1615127149582,
     "user": {
      "displayName": "Subhabrata Nath",
      "photoUrl": "https://lh3.googleusercontent.com/a-/AOh14GiUpae4FeV6rvqM213Sh7OyUIhxVq5YFsBNuqLIdw=s64",
      "userId": "16729645967688508781"
     },
     "user_tz": -330
    },
    "id": "arthqUVuE-no",
    "outputId": "a9c2f370-6ec6-4fa6-a40e-c6f9bea0c43b"
   },
   "outputs": [
    {
     "data": {
      "application/vnd.google.colaboratory.intrinsic+json": {
       "type": "string"
      },
      "text/plain": [
       "'hello'"
      ]
     },
     "execution_count": 21,
     "metadata": {
      "tags": []
     },
     "output_type": "execute_result"
    }
   ],
   "source": [
    "'   hello      '.strip()"
   ]
  },
  {
   "cell_type": "code",
   "execution_count": null,
   "metadata": {
    "id": "ES5-pRD9FHgI"
   },
   "outputs": [],
   "source": []
  }
 ],
 "metadata": {
  "colab": {
   "authorship_tag": "ABX9TyOifIC7NDSyE7Niuvu9haaV",
   "collapsed_sections": [],
   "name": "Assignments_6.ipynb",
   "provenance": []
  },
  "kernelspec": {
   "display_name": "Python 3",
   "language": "python",
   "name": "python3"
  },
  "language_info": {
   "codemirror_mode": {
    "name": "ipython",
    "version": 3
   },
   "file_extension": ".py",
   "mimetype": "text/x-python",
   "name": "python",
   "nbconvert_exporter": "python",
   "pygments_lexer": "ipython3",
   "version": "3.8.8"
  }
 },
 "nbformat": 4,
 "nbformat_minor": 1
}
