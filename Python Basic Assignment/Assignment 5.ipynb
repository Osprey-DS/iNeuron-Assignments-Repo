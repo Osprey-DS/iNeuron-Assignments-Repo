{
 "cells": [
  {
   "cell_type": "markdown",
   "id": "given-trailer",
   "metadata": {},
   "source": [
    "# Python Basic Assignment 5\n"
   ]
  },
  {
   "cell_type": "code",
   "execution_count": null,
   "id": "after-childhood",
   "metadata": {},
   "outputs": [],
   "source": []
  },
  {
   "cell_type": "markdown",
   "id": "flexible-bristol",
   "metadata": {},
   "source": [
    "## 1. What does an empty dictionary's code look like?\n",
    "\n",
    "Ans> my_dict = {}\n",
    "\n",
    "or my_dict = dict()"
   ]
  },
  {
   "cell_type": "code",
   "execution_count": null,
   "id": "productive-registration",
   "metadata": {},
   "outputs": [],
   "source": []
  },
  {
   "cell_type": "markdown",
   "id": "arabic-occasions",
   "metadata": {},
   "source": [
    "## 2. What is the value of a dictionary value with the key 'foo' and the value 42?\n",
    "\n",
    "Ans> the value will be 42 >> {‘foo’: 42}\n"
   ]
  },
  {
   "cell_type": "code",
   "execution_count": null,
   "id": "increased-mercury",
   "metadata": {},
   "outputs": [],
   "source": []
  },
  {
   "cell_type": "markdown",
   "id": "stuffed-prediction",
   "metadata": {},
   "source": [
    "## 3. What is the most significant distinction between a dictionary and a list?\n",
    "\n",
    "And> In the dictionary we have to assign a key for every element, and call the elements by calling their respective keys. This calling dose does not affect the ordering of the values or in the dictionary, order does not matter.\n",
    "\n",
    "And the list is just a collection of elements. And we can call elements by their index. Here ordering does matter as we will call elements by their index position, by changing the ordering the value will be the change for a constant index.\n"
   ]
  },
  {
   "cell_type": "code",
   "execution_count": null,
   "id": "interracial-jurisdiction",
   "metadata": {},
   "outputs": [],
   "source": []
  },
  {
   "cell_type": "markdown",
   "id": "applicable-kitchen",
   "metadata": {},
   "source": [
    "## 4. What happens if spam['foo'] is 'bar': 100 and you try to access it?\n",
    "\n",
    "Ans>>Spam[‘foo’][‘bar’]\n"
   ]
  },
  {
   "cell_type": "code",
   "execution_count": 1,
   "id": "conceptual-ontario",
   "metadata": {},
   "outputs": [],
   "source": [
    "spam = {'foo':{'bar':100}}"
   ]
  },
  {
   "cell_type": "code",
   "execution_count": 3,
   "id": "standard-london",
   "metadata": {},
   "outputs": [
    {
     "data": {
      "text/plain": [
       "100"
      ]
     },
     "execution_count": 3,
     "metadata": {},
     "output_type": "execute_result"
    }
   ],
   "source": [
    "spam['foo']['bar'] #this way i can acess it the value 100"
   ]
  },
  {
   "cell_type": "code",
   "execution_count": null,
   "id": "adult-johns",
   "metadata": {},
   "outputs": [],
   "source": []
  },
  {
   "cell_type": "markdown",
   "id": "black-adams",
   "metadata": {},
   "source": [
    "## 5. What is the difference between the terms 'cat' in spam and 'cat' in spam if a dictionary is contained in spam?\n",
    "\n",
    "Ans>> when ‘cat’ in spam, means the value ‘cat’ is stored in spam variable, but when spam is inside a dictionary and contained the ‘cat’, means the value of the key(spam) is stored.\n"
   ]
  },
  {
   "cell_type": "code",
   "execution_count": 4,
   "id": "affecting-faith",
   "metadata": {},
   "outputs": [],
   "source": [
    "spam = 'cat' # simple variable and value"
   ]
  },
  {
   "cell_type": "code",
   "execution_count": 5,
   "id": "satisfactory-wrist",
   "metadata": {},
   "outputs": [],
   "source": [
    "dic = {'spam':'cat'} #here the cat is the value of spam key."
   ]
  },
  {
   "cell_type": "code",
   "execution_count": null,
   "id": "decreased-islam",
   "metadata": {},
   "outputs": [],
   "source": []
  },
  {
   "cell_type": "markdown",
   "id": "stainless-cedar",
   "metadata": {},
   "source": [
    "## 6. What is the function keys()?\n",
    "\n",
    "Ans> The keys() function used for getting the only key values of our dictionary not the values. It will return only the keys of our dictionary.\n"
   ]
  },
  {
   "cell_type": "code",
   "execution_count": null,
   "id": "knowing-price",
   "metadata": {},
   "outputs": [],
   "source": []
  },
  {
   "cell_type": "markdown",
   "id": "informal-redhead",
   "metadata": {},
   "source": [
    "## 7. What is the difference between the terms 'cat' in spam and 'cat' in spam.values() when a dictionary is contained in spam?\n",
    "Ans>> When the term ‘cat’  in spam means the cat is stored as a value inside a variable called spam.\n",
    "\n",
    "\n",
    "And when a dictionary contained in spam means the ‘cat’ is the value of the key ‘spam’.\n"
   ]
  },
  {
   "cell_type": "code",
   "execution_count": null,
   "id": "filled-namibia",
   "metadata": {},
   "outputs": [],
   "source": []
  },
  {
   "cell_type": "markdown",
   "id": "least-donor",
   "metadata": {},
   "source": [
    "## 7. What is the quickest way to type the following code?\n",
    "\n",
    "\n",
    "\n",
    "if the word 'colour' isn't in spam:\n",
    "\n",
    "'black' for spam['color']\n",
    "\n",
    "Ans>> the setdefault() method is very useful to check that if any key is already present in the dictionary or not, if it presents then it will not execute or will not change the existing dictionary. And if it’s not finding the key-value then it will add that key-value inside of the dictionary.\n",
    "\n",
    "\n",
    "Like, for the above question it can be written as \n",
    "\n",
    " spam.setdefault(‘color’, ‘black’)\n"
   ]
  },
  {
   "cell_type": "code",
   "execution_count": null,
   "id": "plain-glory",
   "metadata": {},
   "outputs": [],
   "source": []
  },
  {
   "cell_type": "markdown",
   "id": "looking-daily",
   "metadata": {},
   "source": [
    "## 8. How do you \"pretty print\" dictionary values using which module and function?\n",
    "\n",
    "Ans>> this is contained inside of ‘pprint’ module\n",
    "\n",
    "And the function is pprint.pprint()\n"
   ]
  },
  {
   "cell_type": "code",
   "execution_count": null,
   "id": "balanced-history",
   "metadata": {},
   "outputs": [],
   "source": []
  }
 ],
 "metadata": {
  "kernelspec": {
   "display_name": "Python 3",
   "language": "python",
   "name": "python3"
  },
  "language_info": {
   "codemirror_mode": {
    "name": "ipython",
    "version": 3
   },
   "file_extension": ".py",
   "mimetype": "text/x-python",
   "name": "python",
   "nbconvert_exporter": "python",
   "pygments_lexer": "ipython3",
   "version": "3.8.8"
  }
 },
 "nbformat": 4,
 "nbformat_minor": 5
}
