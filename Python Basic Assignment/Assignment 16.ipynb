{
 "cells": [
  {
   "cell_type": "markdown",
   "id": "secret-taiwan",
   "metadata": {},
   "source": [
    "# Python Basic Assignments 16\n",
    "\n",
    "\n",
    "\n",
    "\n"
   ]
  },
  {
   "cell_type": "code",
   "execution_count": null,
   "id": "overall-marshall",
   "metadata": {},
   "outputs": [],
   "source": []
  },
  {
   "cell_type": "markdown",
   "id": "nutritional-bedroom",
   "metadata": {},
   "source": [
    "## 1. Make a list called years list that starts with the year you were born and goes through each year until your fifth birthday. If you were born in 1980, suppose take example. Years list = [1980, 1981, 1982, 1983, 1984, 1985] will be the list."
   ]
  },
  {
   "cell_type": "code",
   "execution_count": 1,
   "id": "small-alloy",
   "metadata": {},
   "outputs": [],
   "source": [
    "year_list = [1998,1999,2000,2001,2002,2003]"
   ]
  },
  {
   "cell_type": "markdown",
   "id": "higher-flooring",
   "metadata": {},
   "source": [
    "## 2. When was your third birthday, according to the years list? Remember, for your first year, you were 0 years old."
   ]
  },
  {
   "cell_type": "code",
   "execution_count": 2,
   "id": "interracial-halifax",
   "metadata": {},
   "outputs": [
    {
     "data": {
      "text/plain": [
       "2001"
      ]
     },
     "execution_count": 2,
     "metadata": {},
     "output_type": "execute_result"
    }
   ],
   "source": [
    "#in 2001 was my third birthday.\n",
    "year_list[3] "
   ]
  },
  {
   "cell_type": "markdown",
   "id": "expired-heath",
   "metadata": {},
   "source": [
    "## 3.In the years list, which year were you the oldest?"
   ]
  },
  {
   "cell_type": "code",
   "execution_count": 3,
   "id": "ambient-prescription",
   "metadata": {},
   "outputs": [
    {
     "data": {
      "text/plain": [
       "2003"
      ]
     },
     "execution_count": 3,
     "metadata": {},
     "output_type": "execute_result"
    }
   ],
   "source": [
    "# the last year of the list will be my oldest year, i can use '-1' to get the last element. \n",
    "#note as in my case the list element are just 5 so i don't need any particullar technique to extract data.\n",
    "#but these will be handy when we have millions of element in our list.\n",
    "\n",
    "year_list[-1]"
   ]
  },
  {
   "cell_type": "code",
   "execution_count": null,
   "id": "floating-subject",
   "metadata": {},
   "outputs": [],
   "source": []
  },
  {
   "cell_type": "markdown",
   "id": "liked-organic",
   "metadata": {},
   "source": [
    "## 4. Make a list called things with the three strings \"mozzarella,\" \"cinderella,\" and \"salmonella\" as components."
   ]
  },
  {
   "cell_type": "code",
   "execution_count": 12,
   "id": "greenhouse-joshua",
   "metadata": {},
   "outputs": [],
   "source": [
    "things = [\"mozzarella,\" \"cinderella,\" \"salmonella\"]"
   ]
  },
  {
   "cell_type": "markdown",
   "id": "plain-silicon",
   "metadata": {},
   "source": [
    "## 5. Print the list after capitalising the element in items that refers to an individual. Did the factor in the list change as a result of it?"
   ]
  },
  {
   "cell_type": "code",
   "execution_count": 13,
   "id": "coated-shift",
   "metadata": {},
   "outputs": [
    {
     "data": {
      "text/plain": [
       "['Mozzarella,Cinderella,Salmonella']"
      ]
     },
     "execution_count": 13,
     "metadata": {},
     "output_type": "execute_result"
    }
   ],
   "source": [
    "[i.title() for i in things]"
   ]
  },
  {
   "cell_type": "code",
   "execution_count": 14,
   "id": "suitable-childhood",
   "metadata": {},
   "outputs": [
    {
     "data": {
      "text/plain": [
       "['mozzarella,cinderella,salmonella']"
      ]
     },
     "execution_count": 14,
     "metadata": {},
     "output_type": "execute_result"
    }
   ],
   "source": [
    "things"
   ]
  },
  {
   "cell_type": "markdown",
   "id": "fatty-kruger",
   "metadata": {},
   "source": [
    "so we can see from here the original list did not change after doing the operations."
   ]
  },
  {
   "cell_type": "code",
   "execution_count": null,
   "id": "animated-advisory",
   "metadata": {},
   "outputs": [],
   "source": []
  },
  {
   "cell_type": "markdown",
   "id": "eastern-baseline",
   "metadata": {},
   "source": [
    "## 6. Make the cheesy element of things all uppercase and then print the list."
   ]
  },
  {
   "cell_type": "code",
   "execution_count": 15,
   "id": "metric-rotation",
   "metadata": {},
   "outputs": [
    {
     "data": {
      "text/plain": [
       "['MOZZARELLA,CINDERELLA,SALMONELLA']"
      ]
     },
     "execution_count": 15,
     "metadata": {},
     "output_type": "execute_result"
    }
   ],
   "source": [
    "[i.upper() for i in things]"
   ]
  },
  {
   "cell_type": "code",
   "execution_count": null,
   "id": "smaller-deposit",
   "metadata": {},
   "outputs": [],
   "source": []
  },
  {
   "cell_type": "markdown",
   "id": "assigned-durham",
   "metadata": {},
   "source": [
    "## 7. Remove the disease factor from the list, collect your Nobel Prize, and print it out."
   ]
  },
  {
   "cell_type": "code",
   "execution_count": null,
   "id": "possible-stereo",
   "metadata": {},
   "outputs": [],
   "source": [
    "####################################################################################################################"
   ]
  },
  {
   "cell_type": "code",
   "execution_count": null,
   "id": "opposite-promise",
   "metadata": {},
   "outputs": [],
   "source": [
    "###################################################################################################################"
   ]
  },
  {
   "cell_type": "markdown",
   "id": "willing-learning",
   "metadata": {},
   "source": [
    "## 8. Make a surprise list with the elements \"Groucho,\" \"Chico,\" and \"Harpo.\""
   ]
  },
  {
   "cell_type": "code",
   "execution_count": 1,
   "id": "northern-macedonia",
   "metadata": {},
   "outputs": [],
   "source": [
    "surprise = [\"Groucho\", \"Chico\", \"Harpo\"]"
   ]
  },
  {
   "cell_type": "markdown",
   "id": "loaded-technology",
   "metadata": {},
   "source": [
    "##  9. Lowercase, reverse, and capitalise the last element of the surprise list."
   ]
  },
  {
   "cell_type": "code",
   "execution_count": 6,
   "id": "prime-designation",
   "metadata": {},
   "outputs": [
    {
     "name": "stdout",
     "output_type": "stream",
     "text": [
      "harpo\n",
      "opraH\n",
      "Harpo\n"
     ]
    }
   ],
   "source": [
    "print(surprise[-1].lower())\n",
    "print(surprise[-1][::-1])\n",
    "print(surprise[-1].capitalize())"
   ]
  },
  {
   "cell_type": "code",
   "execution_count": null,
   "id": "champion-reunion",
   "metadata": {},
   "outputs": [],
   "source": []
  },
  {
   "cell_type": "markdown",
   "id": "handled-christianity",
   "metadata": {},
   "source": [
    "## 10. Create and print an English-to-French dictionary called e2f. Here are some of words to get you started with: Dogs are called chien, cats are called chat, and walruses are called morse."
   ]
  },
  {
   "cell_type": "code",
   "execution_count": 7,
   "id": "referenced-grove",
   "metadata": {},
   "outputs": [],
   "source": [
    "e2f = {'dogs':'chien',\n",
    "       'cats': 'chat',\n",
    "       'walruses':'morse'\n",
    "        }"
   ]
  },
  {
   "cell_type": "code",
   "execution_count": 8,
   "id": "associate-missile",
   "metadata": {},
   "outputs": [
    {
     "data": {
      "text/plain": [
       "{'dogs': 'chien', 'cats': 'chat', 'walruses': 'morse'}"
      ]
     },
     "execution_count": 8,
     "metadata": {},
     "output_type": "execute_result"
    }
   ],
   "source": [
    "e2f"
   ]
  },
  {
   "cell_type": "code",
   "execution_count": null,
   "id": "temporal-wesley",
   "metadata": {},
   "outputs": [],
   "source": []
  },
  {
   "cell_type": "markdown",
   "id": "judicial-width",
   "metadata": {},
   "source": [
    "## 11. Write the French word for walrus in your three-word dictionary e2f."
   ]
  },
  {
   "cell_type": "code",
   "execution_count": 9,
   "id": "explicit-package",
   "metadata": {},
   "outputs": [
    {
     "data": {
      "text/plain": [
       "'morse'"
      ]
     },
     "execution_count": 9,
     "metadata": {},
     "output_type": "execute_result"
    }
   ],
   "source": [
    "e2f['walruses']"
   ]
  },
  {
   "cell_type": "code",
   "execution_count": null,
   "id": "personalized-worth",
   "metadata": {},
   "outputs": [],
   "source": []
  },
  {
   "cell_type": "markdown",
   "id": "turned-shape",
   "metadata": {},
   "source": [
    "## 12. Build a f2e from e2f French-to-English dictionary. Make use of the item method."
   ]
  },
  {
   "cell_type": "code",
   "execution_count": 12,
   "id": "norwegian-manitoba",
   "metadata": {},
   "outputs": [
    {
     "data": {
      "text/plain": [
       "{'chien': 'dogs', 'chat': 'cats', 'morse': 'walruses'}"
      ]
     },
     "execution_count": 12,
     "metadata": {},
     "output_type": "execute_result"
    }
   ],
   "source": [
    "f2e = dict((f,e) for e,f in e2f.items())\n",
    "f2e"
   ]
  },
  {
   "cell_type": "code",
   "execution_count": null,
   "id": "closed-thumbnail",
   "metadata": {},
   "outputs": [],
   "source": []
  },
  {
   "cell_type": "markdown",
   "id": "revised-seattle",
   "metadata": {},
   "source": [
    "## 13. Print the English version of the French word chien using f2e."
   ]
  },
  {
   "cell_type": "code",
   "execution_count": 14,
   "id": "commercial-nirvana",
   "metadata": {},
   "outputs": [
    {
     "data": {
      "text/plain": [
       "'dogs'"
      ]
     },
     "execution_count": 14,
     "metadata": {},
     "output_type": "execute_result"
    }
   ],
   "source": [
    "f2e['chien']"
   ]
  },
  {
   "cell_type": "code",
   "execution_count": null,
   "id": "prepared-decrease",
   "metadata": {},
   "outputs": [],
   "source": []
  },
  {
   "cell_type": "markdown",
   "id": "interpreted-title",
   "metadata": {},
   "source": [
    "## 14. Create and print a list of English words using the e2f keys."
   ]
  },
  {
   "cell_type": "code",
   "execution_count": 18,
   "id": "exclusive-forestry",
   "metadata": {},
   "outputs": [
    {
     "name": "stdout",
     "output_type": "stream",
     "text": [
      "['dogs', 'cats', 'walruses']\n"
     ]
    }
   ],
   "source": [
    "print(list(e2f.keys()))"
   ]
  },
  {
   "cell_type": "code",
   "execution_count": null,
   "id": "dedicated-frost",
   "metadata": {},
   "outputs": [],
   "source": []
  },
  {
   "cell_type": "markdown",
   "id": "powered-fountain",
   "metadata": {},
   "source": [
    "## 15. Make a multilevel dictionary called life. Use these strings for the topmost keys: 'animals', 'plants', and 'other'. Make the 'animals' key refer to another dictionary with the keys 'cats', 'octopi', and 'emus'. Make the 'cats' key refer to a list of strings with the values 'Henri', 'Grumpy', and 'Lucy'. Make all the other keys refer to empty dictionaries."
   ]
  },
  {
   "cell_type": "code",
   "execution_count": 19,
   "id": "valued-intervention",
   "metadata": {},
   "outputs": [],
   "source": [
    "life = {\n",
    "    'animals':{'cats':['Henri', 'Grumpy', 'Lucy'], 'octopi':{}, 'emus':{}},\n",
    "    'plants':{},\n",
    "    'other':{}\n",
    "}"
   ]
  },
  {
   "cell_type": "code",
   "execution_count": null,
   "id": "sonic-reading",
   "metadata": {},
   "outputs": [],
   "source": []
  },
  {
   "cell_type": "markdown",
   "id": "robust-width",
   "metadata": {},
   "source": [
    "## 16. Print the top-level keys of life."
   ]
  },
  {
   "cell_type": "code",
   "execution_count": 21,
   "id": "indian-upper",
   "metadata": {},
   "outputs": [
    {
     "data": {
      "text/plain": [
       "dict_keys(['animals', 'plants', 'other'])"
      ]
     },
     "execution_count": 21,
     "metadata": {},
     "output_type": "execute_result"
    }
   ],
   "source": [
    "life.keys()"
   ]
  },
  {
   "cell_type": "code",
   "execution_count": null,
   "id": "through-service",
   "metadata": {},
   "outputs": [],
   "source": []
  },
  {
   "cell_type": "markdown",
   "id": "bottom-niger",
   "metadata": {},
   "source": [
    "## 17. Print the keys for life['animals']."
   ]
  },
  {
   "cell_type": "code",
   "execution_count": 22,
   "id": "cardiovascular-newark",
   "metadata": {},
   "outputs": [
    {
     "data": {
      "text/plain": [
       "dict_keys(['cats', 'octopi', 'emus'])"
      ]
     },
     "execution_count": 22,
     "metadata": {},
     "output_type": "execute_result"
    }
   ],
   "source": [
    "life['animals'].keys()"
   ]
  },
  {
   "cell_type": "code",
   "execution_count": null,
   "id": "general-telling",
   "metadata": {},
   "outputs": [],
   "source": []
  },
  {
   "cell_type": "markdown",
   "id": "senior-metropolitan",
   "metadata": {},
   "source": [
    "## 18. Print the values for life['animals']['cats']"
   ]
  },
  {
   "cell_type": "code",
   "execution_count": 25,
   "id": "refined-tolerance",
   "metadata": {},
   "outputs": [
    {
     "data": {
      "text/plain": [
       "['Henri', 'Grumpy', 'Lucy']"
      ]
     },
     "execution_count": 25,
     "metadata": {},
     "output_type": "execute_result"
    }
   ],
   "source": [
    "life['animals']['cats']"
   ]
  },
  {
   "cell_type": "code",
   "execution_count": null,
   "id": "stuffed-colonial",
   "metadata": {},
   "outputs": [],
   "source": []
  }
 ],
 "metadata": {
  "kernelspec": {
   "display_name": "Python 3",
   "language": "python",
   "name": "python3"
  },
  "language_info": {
   "codemirror_mode": {
    "name": "ipython",
    "version": 3
   },
   "file_extension": ".py",
   "mimetype": "text/x-python",
   "name": "python",
   "nbconvert_exporter": "python",
   "pygments_lexer": "ipython3",
   "version": "3.8.8"
  }
 },
 "nbformat": 4,
 "nbformat_minor": 5
}
