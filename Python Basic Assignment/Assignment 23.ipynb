{
 "cells": [
  {
   "cell_type": "markdown",
   "metadata": {},
   "source": [
    "# Python Basic Assignment 23\n"
   ]
  },
  {
   "cell_type": "markdown",
   "metadata": {},
   "source": [
    "HINT :- To match the 3.X answers exactly in 2.X, import print_function from __future__ before starting."
   ]
  },
  {
   "cell_type": "markdown",
   "metadata": {},
   "source": [
    "## 1. What is the output of the following code, and why?\n",
    " def func(a, b=4, c=5):\n",
    " \n",
    "print(a, b, c)\n",
    "\n",
    "func(1, 2)\n"
   ]
  },
  {
   "cell_type": "code",
   "execution_count": 1,
   "metadata": {},
   "outputs": [
    {
     "name": "stdout",
     "output_type": "stream",
     "text": [
      "1 2 5\n"
     ]
    }
   ],
   "source": [
    "def func(a, b=4, c=5):\n",
    "    print(a,b,c)\n",
    "    \n",
    "func(1,2)"
   ]
  },
  {
   "cell_type": "markdown",
   "metadata": {},
   "source": [
    "In Bove function we set default value for b and c but did not with a, \n",
    "\n",
    "That is why i call the function with givving two parameter as it gose to a and b respectively and we did not enter third argument it takes the default value which is 5"
   ]
  },
  {
   "cell_type": "code",
   "execution_count": null,
   "metadata": {},
   "outputs": [],
   "source": []
  },
  {
   "cell_type": "markdown",
   "metadata": {},
   "source": [
    "## 2. What is the output of this code, and why?\n",
    "\n",
    "def func(a, b, c=5):\n",
    "\n",
    "   print(a, b, c)\n",
    "\n",
    "func(1, c=3, b=2)\n"
   ]
  },
  {
   "cell_type": "code",
   "execution_count": 4,
   "metadata": {},
   "outputs": [
    {
     "name": "stdout",
     "output_type": "stream",
     "text": [
      "1 2 3\n"
     ]
    }
   ],
   "source": [
    "def func(a, b, c=5):\n",
    "    print(a,b,c)\n",
    "    \n",
    "func(1,c=3,b=2)"
   ]
  },
  {
   "cell_type": "markdown",
   "metadata": {},
   "source": [
    "In the above function  we define default value only for c and when we call the function we give all the argument , and it show as we given and the c value override with our given value"
   ]
  },
  {
   "cell_type": "code",
   "execution_count": null,
   "metadata": {},
   "outputs": [],
   "source": []
  },
  {
   "cell_type": "markdown",
   "metadata": {},
   "source": [
    "## 3. How about this code: what is its output, and why?\n",
    "\n",
    "def func(a, *pargs):\n",
    "\n",
    "print(a, pargs)\n",
    "\n",
    " func(1, 2, 3)\n"
   ]
  },
  {
   "cell_type": "code",
   "execution_count": 9,
   "metadata": {},
   "outputs": [
    {
     "name": "stdout",
     "output_type": "stream",
     "text": [
      "1 (2, 3)\n"
     ]
    }
   ],
   "source": [
    "def func(a, *pargs):\n",
    "    print(a, pargs)\n",
    "    \n",
    "func(1, 2, 3)"
   ]
  },
  {
   "cell_type": "markdown",
   "metadata": {},
   "source": [
    "\n",
    "In the above function we set one fixed variable 'a' and another argument with * that is indicating positional arguments. which will be in a form of tuple.\n",
    "\n",
    "By this pargs (we can use any name we want) it will be a tuple and that * is used for tuple unpacking.\n",
    "\n",
    "So when we pass 1,2,3 serially the function takes his only fixed value ‘a’ as the first number 1 and leave that rest of the value for pargs. And python ascept it as tuple.\n"
   ]
  },
  {
   "cell_type": "code",
   "execution_count": null,
   "metadata": {},
   "outputs": [],
   "source": []
  },
  {
   "cell_type": "markdown",
   "metadata": {},
   "source": [
    "## 4. What does this code print, and why?\n",
    "\n",
    "def func(a, **kargs):\n",
    "\n",
    " print(a, kargs)\n",
    "\n",
    "func(a=1, c=3, b=2)\n"
   ]
  },
  {
   "cell_type": "code",
   "execution_count": 10,
   "metadata": {},
   "outputs": [
    {
     "name": "stdout",
     "output_type": "stream",
     "text": [
      "1 {'c': 3, 'b': 2}\n"
     ]
    }
   ],
   "source": [
    "def func(a, **kargs):\n",
    "    print(a, kargs)\n",
    "    \n",
    "    \n",
    "func(a=1,c=3, b=2)"
   ]
  },
  {
   "cell_type": "markdown",
   "metadata": {},
   "source": [
    "In this function we fixed a value in a variable ‘a’ and then used \\*\\*kargs which means keyword arguments. And it takes the values as like dictionary or in key-value pair, \n",
    "\n",
    "so when we pass the value with a=1, it simply prints a’s value which is 1. And after that when pass c=3 and b=2  the function takes these values as key-value pair, c, and b as key, and 3,2 as their value. And we use ** for unpacking the dictionary."
   ]
  },
  {
   "cell_type": "code",
   "execution_count": null,
   "metadata": {},
   "outputs": [],
   "source": []
  },
  {
   "cell_type": "markdown",
   "metadata": {},
   "source": [
    "## 5. What gets printed by this, and why?\n",
    "\n",
    "def func(a, b, c=3, d=4):\n",
    "\n",
    "print(a, b, c, d)\n",
    "\n",
    "func(1, *(5, 6))\n"
   ]
  },
  {
   "cell_type": "code",
   "execution_count": 15,
   "metadata": {},
   "outputs": [
    {
     "name": "stdout",
     "output_type": "stream",
     "text": [
      "1 5 6 4\n",
      "a>> 1\n",
      "b>> 5\n",
      "c>> 6\n",
      "d>> 4\n"
     ]
    }
   ],
   "source": [
    "def func(a, b, c=3, d=4):\n",
    "    print(a,b,c,d)\n",
    "   \n",
    "    print(f'a>> {a}')\n",
    "    print(f'b>> {b}')\n",
    "    print(f'c>> {c}')\n",
    "    print(f'd>> {d}')\n",
    "    #i set extra 4 line print function for better understanding.\n",
    "    \n",
    "func(1, *(5,6))"
   ]
  },
  {
   "cell_type": "markdown",
   "metadata": {},
   "source": [
    "In this function we set two 4 variables and set the default for only two variables, c, and d.\n",
    "\n",
    "And when we pass the values in the time of calling the function it set serially as much we provide value, so it takes first 1 for the variable ‘a’ and then we \n",
    "\n",
    "pass a tuple and used * for tuple unpacking. Before the tuple. But as we pass only 3 values inside of the function and it takes 4 values. It did not give us any\n",
    "\n",
    "error just because we set the default value for two variables, so it takes variable d of the default value which is 4, and prints it In the time of calling.\n"
   ]
  },
  {
   "cell_type": "code",
   "execution_count": null,
   "metadata": {},
   "outputs": [],
   "source": []
  },
  {
   "cell_type": "markdown",
   "metadata": {},
   "source": [
    "## 6. One last time: what is the output of this code, and why?\n",
    "\n",
    "def func(a, b, c): \n",
    "\n",
    "    a = 2;\n",
    "    b[0] = 'x'; \n",
    "    c['a'] = 'y'\n",
    "\n",
    "l=1; \n",
    "\n",
    "m=[1];\n",
    "\n",
    "n={'a':0}\n",
    "\n",
    "func(l, m,  n)\n",
    "\n",
    "l, m, n\n"
   ]
  },
  {
   "cell_type": "code",
   "execution_count": null,
   "metadata": {},
   "outputs": [],
   "source": []
  }
 ],
 "metadata": {
  "kernelspec": {
   "display_name": "Python 3",
   "language": "python",
   "name": "python3"
  },
  "language_info": {
   "codemirror_mode": {
    "name": "ipython",
    "version": 3
   },
   "file_extension": ".py",
   "mimetype": "text/x-python",
   "name": "python",
   "nbconvert_exporter": "python",
   "pygments_lexer": "ipython3",
   "version": "3.8.5"
  }
 },
 "nbformat": 4,
 "nbformat_minor": 5
}
