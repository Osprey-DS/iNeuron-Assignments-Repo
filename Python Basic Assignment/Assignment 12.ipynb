{
 "cells": [
  {
   "cell_type": "markdown",
   "metadata": {},
   "source": [
    "### 1.The PyPDF2.PdfFileReader() function does not receive a string value for the PDF filename. Instead, what do you pass to the function?\n",
    "\n",
    "Ans>> At first we have to use open() function with ‘read binary mode’ or ‘rb’ in the pdf file and have to store it on a variable and then we have to pass this variable into PyPDF2.PdfFileReader() function.\n"
   ]
  },
  {
   "cell_type": "code",
   "execution_count": null,
   "metadata": {},
   "outputs": [],
   "source": []
  },
  {
   "cell_type": "markdown",
   "metadata": {},
   "source": [
    "### 1.The PyPDF2.PdfFileReader() function does not receive a string value for the PDF filename. Instead, what do you pass to the function?\n",
    "\n",
    "Ans>> At first we have to use open() function with ‘read binary mode’ or ‘rb’ in the pdf file and have to store it on a variable and then we have to pass this variable into PyPDF2.PdfFileReader() function.\n"
   ]
  },
  {
   "cell_type": "code",
   "execution_count": null,
   "metadata": {},
   "outputs": [],
   "source": []
  },
  {
   "cell_type": "markdown",
   "metadata": {},
   "source": [
    "### 3. From a PdfFileReader object, how do you get a Page object for page 5?\n",
    "\n",
    "Ans>> page_object = PdfReader.getPage(4) \n",
    "\n",
    "We use 4 to get the 5th page because pypdf2 uses zero indexes like python, which means the first page is zero(0) then the second page is 1, the third page is 2, and so on."
   ]
  },
  {
   "cell_type": "code",
   "execution_count": null,
   "metadata": {},
   "outputs": [],
   "source": []
  },
  {
   "cell_type": "markdown",
   "metadata": {},
   "source": [
    "### 4. Which PdfFileReader variable keeps track of the PDF document's page count?\n",
    "\n",
    "Ans>> The PdfFileReader has numPages() variable which can keep track of the pdf document’s page count.\n"
   ]
  },
  {
   "cell_type": "code",
   "execution_count": null,
   "metadata": {},
   "outputs": [],
   "source": []
  },
  {
   "cell_type": "markdown",
   "metadata": {},
   "source": [
    "### 5. What must you do if the PDF of a PdfFileReader object is encrypted with the password swordfish before you can get Page objects from it?\n",
    "\n",
    "Ans>> We have to use decrypt() function before using getPage() function. And have to pass the password as a string inside of that function.\n",
    "`pdfReader.decrypt(‘swordfish’)`\n"
   ]
  },
  {
   "cell_type": "code",
   "execution_count": null,
   "metadata": {},
   "outputs": [],
   "source": []
  },
  {
   "cell_type": "markdown",
   "metadata": {},
   "source": [
    "### 6. Can you tell me how you rotate a page?\n",
    "\n",
    "Ans>> We can use rotateClockwise() or rotateCounterClockwise() function in order to rotate our page. It take integer which represent degree in oreder we want rotate our page.\n",
    "\n",
    "Likw>> `page_file.rotateClockwise(90)` – this function will rotate the page in 90 degree in clockwise direction.\n"
   ]
  },
  {
   "cell_type": "code",
   "execution_count": null,
   "metadata": {},
   "outputs": [],
   "source": []
  },
  {
   "cell_type": "markdown",
   "metadata": {},
   "source": [
    "### 7. For the file demo.docx, which method returns a Document object?\n",
    "\n",
    "Ans>> we can use docx module to use word documents. \n",
    "\n",
    "Like>> `docx.Document(‘demo.docx’)`\n"
   ]
  },
  {
   "cell_type": "code",
   "execution_count": null,
   "metadata": {},
   "outputs": [],
   "source": []
  },
  {
   "cell_type": "markdown",
   "metadata": {},
   "source": [
    "### 8. What is the difference between a Run object and a Paragraph object?\n",
    "\n",
    "Ans>> A document containing multiple paragraphs, then paragraphs begin on a new line and contain multiple runs. Runs are contiguous groups of characters within a paragraph.\n"
   ]
  },
  {
   "cell_type": "code",
   "execution_count": null,
   "metadata": {},
   "outputs": [],
   "source": []
  },
  {
   "cell_type": "markdown",
   "metadata": {},
   "source": [
    "### 9. For a Document object stored in a variable called doc, how do you get a list of paragraph objects?\n",
    "\n",
    "Ans>>We can use `doc.paragraphs` to get a list of paragraph\n"
   ]
  },
  {
   "cell_type": "code",
   "execution_count": null,
   "metadata": {},
   "outputs": [],
   "source": []
  },
  {
   "cell_type": "markdown",
   "metadata": {},
   "source": [
    "### 10. What object has the variables bold, underline, italic, hit, and outline?\n",
    "Ans>> `Run` object has above variables.\n"
   ]
  },
  {
   "cell_type": "code",
   "execution_count": null,
   "metadata": {},
   "outputs": [],
   "source": []
  },
  {
   "cell_type": "markdown",
   "metadata": {},
   "source": [
    "### 11. What is the difference between False, True, and None for the bold variable?\n",
    "Ans>> \n",
    "\n",
    "False => Don't make the text bold.\n",
    "\n",
    "True => Make the text bold, no matter what other styles are applied to the Run object\n",
    "\n",
    "None => Use the default style which the Run object is set to.\n",
    "\n",
    "\n",
    "\n"
   ]
  },
  {
   "cell_type": "code",
   "execution_count": null,
   "metadata": {},
   "outputs": [],
   "source": []
  },
  {
   "cell_type": "markdown",
   "metadata": {},
   "source": [
    "### 12. How do you make a new Word document's Document object?\n",
    "\n",
    "` import docx`\n",
    "\n",
    "`doc = docx.Document()` "
   ]
  },
  {
   "cell_type": "code",
   "execution_count": null,
   "metadata": {},
   "outputs": [],
   "source": []
  },
  {
   "cell_type": "markdown",
   "metadata": {},
   "source": [
    "### 13. How do you add a paragraph to a Document object stored in a variable called doc with the text 'Hello, there!'?\n",
    "\n",
    "`doc = docx.Document()`\n",
    "\n",
    "\n",
    "`doc.add_paragraph(\"Hello there!\")`\n",
    "\n",
    "\n",
    "`doc.save(\"HelloThereDocx.docx\")`"
   ]
  },
  {
   "cell_type": "code",
   "execution_count": null,
   "metadata": {},
   "outputs": [],
   "source": []
  }
 ],
 "metadata": {
  "kernelspec": {
   "display_name": "Python 3",
   "language": "python",
   "name": "python3"
  },
  "language_info": {
   "codemirror_mode": {
    "name": "ipython",
    "version": 3
   },
   "file_extension": ".py",
   "mimetype": "text/x-python",
   "name": "python",
   "nbconvert_exporter": "python",
   "pygments_lexer": "ipython3",
   "version": "3.8.5"
  }
 },
 "nbformat": 4,
 "nbformat_minor": 4
}
