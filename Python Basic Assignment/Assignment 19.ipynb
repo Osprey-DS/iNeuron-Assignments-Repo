{
 "cells": [
  {
   "cell_type": "markdown",
   "id": "handed-negotiation",
   "metadata": {},
   "source": [
    "# Python Basic Assignment 19"
   ]
  },
  {
   "cell_type": "code",
   "execution_count": null,
   "id": "unnecessary-reverse",
   "metadata": {},
   "outputs": [],
   "source": []
  },
  {
   "cell_type": "markdown",
   "id": "hired-membrane",
   "metadata": {},
   "source": [
    "## 1. Make a class called Thing with no contents and print it. Then, create an object called example from this class and also print it. Are the printed values the same or different?"
   ]
  },
  {
   "cell_type": "code",
   "execution_count": 2,
   "id": "computational-fossil",
   "metadata": {},
   "outputs": [
    {
     "name": "stdout",
     "output_type": "stream",
     "text": [
      "<class '__main__.Thing'>\n"
     ]
    }
   ],
   "source": [
    "#creating class\n",
    "class Thing():\n",
    "    pass\n",
    "\n",
    "print(Thing)"
   ]
  },
  {
   "cell_type": "code",
   "execution_count": 3,
   "id": "pretty-nerve",
   "metadata": {},
   "outputs": [
    {
     "name": "stdout",
     "output_type": "stream",
     "text": [
      "<__main__.Thing object at 0x0000023494655070>\n"
     ]
    }
   ],
   "source": [
    "example = Thing() #creating an object from class\n",
    "print(example)"
   ]
  },
  {
   "cell_type": "markdown",
   "id": "induced-clinton",
   "metadata": {},
   "source": [
    "The printed value is different ,the first printed value was showing was 'Thing' is class type.\n",
    "\n",
    "and the second printed value is showing a class object is stored in a memory location."
   ]
  },
  {
   "cell_type": "code",
   "execution_count": null,
   "id": "thousand-destruction",
   "metadata": {},
   "outputs": [],
   "source": []
  },
  {
   "cell_type": "markdown",
   "id": "widespread-oasis",
   "metadata": {},
   "source": [
    "## 2. Make a new class called Thing2 and assign the value 'abc' to a class attribute called letters. Print letters."
   ]
  },
  {
   "cell_type": "code",
   "execution_count": 6,
   "id": "coated-baltimore",
   "metadata": {},
   "outputs": [],
   "source": [
    "class Thing2():\n",
    "    letters = 'abc'"
   ]
  },
  {
   "cell_type": "code",
   "execution_count": 7,
   "id": "alike-mount",
   "metadata": {},
   "outputs": [
    {
     "data": {
      "text/plain": [
       "'abc'"
      ]
     },
     "execution_count": 7,
     "metadata": {},
     "output_type": "execute_result"
    }
   ],
   "source": [
    "Thing2().letters"
   ]
  },
  {
   "cell_type": "code",
   "execution_count": null,
   "id": "current-blair",
   "metadata": {},
   "outputs": [],
   "source": []
  },
  {
   "cell_type": "markdown",
   "id": "competent-demographic",
   "metadata": {},
   "source": [
    "## 3. Make yet another class called, of course, Thing3. This time, assign the value 'xyz' to an instance (object) attribute called letters. Print letters. Do you need to make an object from the class to do this?"
   ]
  },
  {
   "cell_type": "code",
   "execution_count": 8,
   "id": "empirical-instruction",
   "metadata": {},
   "outputs": [],
   "source": [
    "class Thing3():\n",
    "    def __init__(self, letters):\n",
    "        self.letters = letters #get the value from user\n",
    "    def letter(self): #creating the letter methode\n",
    "        return self.letters "
   ]
  },
  {
   "cell_type": "code",
   "execution_count": 9,
   "id": "medieval-kinase",
   "metadata": {},
   "outputs": [
    {
     "data": {
      "text/plain": [
       "'xyz'"
      ]
     },
     "execution_count": 9,
     "metadata": {},
     "output_type": "execute_result"
    }
   ],
   "source": [
    "ex2 = Thing3('xyz')\n",
    "ex2.letter()"
   ]
  },
  {
   "cell_type": "markdown",
   "id": "cosmetic-motor",
   "metadata": {},
   "source": [
    "Yes i do need an object to get the letters beacuse we have created an instance in the class"
   ]
  },
  {
   "cell_type": "code",
   "execution_count": null,
   "id": "accessory-afghanistan",
   "metadata": {},
   "outputs": [],
   "source": []
  },
  {
   "cell_type": "markdown",
   "id": "legal-lightning",
   "metadata": {},
   "source": [
    "## 4. Make a class called Element, with instance attributes name, symbol, and number. Create an object of this class with the values 'Hydrogen', 'H', and 1."
   ]
  },
  {
   "cell_type": "code",
   "execution_count": 10,
   "id": "pressed-customs",
   "metadata": {},
   "outputs": [],
   "source": [
    "class Element():\n",
    "    def __init__(self, name, symbol, number): #creating constructor\n",
    "        self.name = name #name attribute\n",
    "        self.symbol = symbol #symbol attribute\n",
    "        self.number = number #number attribute"
   ]
  },
  {
   "cell_type": "code",
   "execution_count": 23,
   "id": "pregnant-damage",
   "metadata": {},
   "outputs": [],
   "source": [
    "object3 = Element('Hydrogen', 'H', 1)  #creating an object of class"
   ]
  },
  {
   "cell_type": "code",
   "execution_count": 24,
   "id": "natural-symphony",
   "metadata": {},
   "outputs": [
    {
     "name": "stdout",
     "output_type": "stream",
     "text": [
      "Hydrogen\n",
      "H\n",
      "1\n"
     ]
    }
   ],
   "source": [
    "print(object3.name)\n",
    "print(object3.symbol)\n",
    "print(object3.number)"
   ]
  },
  {
   "cell_type": "code",
   "execution_count": null,
   "id": "loving-german",
   "metadata": {},
   "outputs": [],
   "source": []
  },
  {
   "cell_type": "markdown",
   "id": "boxed-version",
   "metadata": {},
   "source": [
    "## 5. Make a dictionary with these keys and values: 'name': 'Hydrogen', 'symbol': 'H', 'number': 1. Then, create an object called hydrogen from class Element using this dictionary."
   ]
  },
  {
   "cell_type": "code",
   "execution_count": 29,
   "id": "secure-independence",
   "metadata": {},
   "outputs": [],
   "source": [
    "ele_dic = {'name': 'Hydrogen', 'symbol': 'H', 'number': 1}\n",
    "hydrogen = Element(**ele_dic)"
   ]
  },
  {
   "cell_type": "code",
   "execution_count": 31,
   "id": "leading-motor",
   "metadata": {},
   "outputs": [
    {
     "name": "stdout",
     "output_type": "stream",
     "text": [
      "Hydrogen\n",
      "H\n",
      "1\n"
     ]
    }
   ],
   "source": [
    "print(hydrogen.name)\n",
    "print(hydroge.symbol)\n",
    "print(hydroge.number)"
   ]
  },
  {
   "cell_type": "code",
   "execution_count": null,
   "id": "controversial-future",
   "metadata": {},
   "outputs": [],
   "source": []
  },
  {
   "cell_type": "markdown",
   "id": "coordinate-convertible",
   "metadata": {},
   "source": [
    "## 6. For the Element class, define a method called dump() that prints the values of the object’s attributes (name, symbol, and number). Create the hydrogen object from this new definition and use dump() to print its attributes."
   ]
  },
  {
   "cell_type": "code",
   "execution_count": 38,
   "id": "worldwide-harassment",
   "metadata": {},
   "outputs": [],
   "source": [
    "class Element():\n",
    "    def __init__(self, name, symbol, number): #creating constructor\n",
    "        self.name = name #name attribute\n",
    "        self.symbol = symbol #symbol attribute\n",
    "        self.number = number #number attribute\n",
    "        \n",
    "    def dump(self):  #creating dump methode \n",
    "        print(self.name)\n",
    "        print(self.symbol)\n",
    "        print(self.number)"
   ]
  },
  {
   "cell_type": "code",
   "execution_count": 39,
   "id": "animated-player",
   "metadata": {},
   "outputs": [
    {
     "name": "stdout",
     "output_type": "stream",
     "text": [
      "Hydrogen\n",
      "H\n",
      "1\n"
     ]
    }
   ],
   "source": [
    "hydrogen = Element('Hydrogen', 'H', 1) \n",
    "\n",
    "hydrogen.dump() #calling the 'dump' methode"
   ]
  },
  {
   "cell_type": "code",
   "execution_count": null,
   "id": "undefined-lobby",
   "metadata": {},
   "outputs": [],
   "source": []
  },
  {
   "cell_type": "markdown",
   "id": "hawaiian-spyware",
   "metadata": {},
   "source": [
    "## 7. Call print(hydrogen). In the definition of Element, change the name of method dump to \\_\\_str_\\_, create a new hydrogen object, and call print(hydrogen) again."
   ]
  },
  {
   "cell_type": "code",
   "execution_count": 40,
   "id": "human-smell",
   "metadata": {},
   "outputs": [
    {
     "name": "stdout",
     "output_type": "stream",
     "text": [
      "<__main__.Element object at 0x00000234956F9040>\n"
     ]
    }
   ],
   "source": [
    "print(hydrogen)"
   ]
  },
  {
   "cell_type": "code",
   "execution_count": 41,
   "id": "mobile-slovak",
   "metadata": {},
   "outputs": [],
   "source": [
    "class Element():\n",
    "    def __init__(self, name, symbol, number): #creating constructor\n",
    "        self.name = name #name attribute\n",
    "        self.symbol = symbol #symbol attribute\n",
    "        self.number = number #number attribute\n",
    "        \n",
    "    def __str__(self):  #creating __str__ methode \n",
    "        print(self.name)\n",
    "        print(self.symbol)\n",
    "        print(self.number)"
   ]
  },
  {
   "cell_type": "code",
   "execution_count": 44,
   "id": "overhead-immunology",
   "metadata": {},
   "outputs": [
    {
     "name": "stdout",
     "output_type": "stream",
     "text": [
      "Hydrogen\n",
      "H\n",
      "1\n"
     ]
    },
    {
     "ename": "TypeError",
     "evalue": "__str__ returned non-string (type NoneType)",
     "output_type": "error",
     "traceback": [
      "\u001b[1;31m---------------------------------------------------------------------------\u001b[0m",
      "\u001b[1;31mTypeError\u001b[0m                                 Traceback (most recent call last)",
      "\u001b[1;32m<ipython-input-44-c2acddbb3ca9>\u001b[0m in \u001b[0;36m<module>\u001b[1;34m\u001b[0m\n\u001b[0;32m      1\u001b[0m \u001b[0mhydrogen\u001b[0m \u001b[1;33m=\u001b[0m \u001b[0mElement\u001b[0m\u001b[1;33m(\u001b[0m\u001b[1;34m'Hydrogen'\u001b[0m\u001b[1;33m,\u001b[0m \u001b[1;34m'H'\u001b[0m\u001b[1;33m,\u001b[0m \u001b[1;36m1\u001b[0m\u001b[1;33m)\u001b[0m\u001b[1;33m\u001b[0m\u001b[1;33m\u001b[0m\u001b[0m\n\u001b[1;32m----> 2\u001b[1;33m \u001b[0mprint\u001b[0m\u001b[1;33m(\u001b[0m\u001b[0mhydrogen\u001b[0m\u001b[1;33m)\u001b[0m\u001b[1;33m\u001b[0m\u001b[1;33m\u001b[0m\u001b[0m\n\u001b[0m",
      "\u001b[1;31mTypeError\u001b[0m: __str__ returned non-string (type NoneType)"
     ]
    }
   ],
   "source": [
    "hydrogen = Element('Hydrogen', 'H', 1) \n",
    "print(hydrogen)"
   ]
  },
  {
   "cell_type": "code",
   "execution_count": null,
   "id": "graphic-garage",
   "metadata": {},
   "outputs": [],
   "source": []
  },
  {
   "cell_type": "markdown",
   "id": "parental-eagle",
   "metadata": {},
   "source": [
    "\n",
    "## 8. Modify Element to make the attributes name, symbol, and number private. Define a getter property for each to return its value."
   ]
  },
  {
   "cell_type": "code",
   "execution_count": 54,
   "id": "impressed-zambia",
   "metadata": {},
   "outputs": [],
   "source": [
    "class Element():\n",
    "    def __init__(self, name, symbol, number): #creating constructor\n",
    "        self.name_ = name #name attribute   #putting an extra underscor_ for differ it from methode name i will define latter.\n",
    "        self.symbol_ = symbol #symbol attribute\n",
    "        self.number_ = number #number attribute\n",
    "    #@property -  help us to use methode like attribute. means we don't hvee to put parenthesis() in last.\n",
    "    @property    \n",
    "    def name(self):\n",
    "        return self.name_\n",
    "    @property\n",
    "    def symbol(self):\n",
    "        return self.symbol_\n",
    "    @property\n",
    "    def number(self):\n",
    "        return self.number_\n",
    "    "
   ]
  },
  {
   "cell_type": "code",
   "execution_count": 58,
   "id": "fleet-casting",
   "metadata": {},
   "outputs": [
    {
     "name": "stdout",
     "output_type": "stream",
     "text": [
      "Hydrogen\n",
      "H\n",
      "1\n"
     ]
    }
   ],
   "source": [
    "ob4 = Element('Hydrogen', 'H', 1)\n",
    "print(ob.name) #calling the name methode(in line 8 on above cell) not the attribute as in my class there is no attribute called 'name'. \n",
    "#but there is attribute with extra underscore 'name_' in constructor section.\n",
    "\n",
    "print(ob4.symbol) #calling the symbol methiode (line 11 in above cell)\n",
    "print(ob4.number) #calling the number methode (line 14 in above cell)\n",
    "\n"
   ]
  },
  {
   "cell_type": "markdown",
   "id": "changed-kernel",
   "metadata": {},
   "source": [
    "Note:- As we can see with the @property we can use method in attribute way."
   ]
  },
  {
   "cell_type": "code",
   "execution_count": null,
   "id": "metropolitan-pregnancy",
   "metadata": {},
   "outputs": [],
   "source": []
  },
  {
   "cell_type": "code",
   "execution_count": null,
   "id": "junior-costa",
   "metadata": {},
   "outputs": [],
   "source": []
  },
  {
   "cell_type": "markdown",
   "id": "fifty-greenhouse",
   "metadata": {},
   "source": [
    "\n",
    "## 9. Define three classes: Bear, Rabbit, and Octothorpe. For each, define only one method: eats(). This should return 'berries' (Bear), 'clover' (Rabbit), or 'campers' (Octothorpe). Create one object from each and print what it eats."
   ]
  },
  {
   "cell_type": "code",
   "execution_count": 86,
   "id": "southern-listing",
   "metadata": {},
   "outputs": [],
   "source": [
    "class Bear():\n",
    "    def eats(self):\n",
    "        print('berries')\n",
    "class Rabbit():\n",
    "    def eats(self):\n",
    "        print('clover')\n",
    "class Octothorpe():\n",
    "    def eats(self):\n",
    "        print('campers')"
   ]
  },
  {
   "cell_type": "code",
   "execution_count": 90,
   "id": "educational-scratch",
   "metadata": {},
   "outputs": [
    {
     "name": "stdout",
     "output_type": "stream",
     "text": [
      "berries\n",
      "clover\n",
      "campers\n"
     ]
    }
   ],
   "source": [
    "bear = Bear()\n",
    "rabbit = Rabbit()\n",
    "octo = Octothorpe()\n",
    "\n",
    "bear.eats()\n",
    "rabbit.eats()\n",
    "octo.eats()"
   ]
  },
  {
   "cell_type": "code",
   "execution_count": null,
   "id": "sophisticated-costa",
   "metadata": {},
   "outputs": [],
   "source": []
  },
  {
   "cell_type": "markdown",
   "id": "protective-comparative",
   "metadata": {},
   "source": [
    "## 10. Define these classes: Laser, Claw, and SmartPhone. Each has only one method: does(). This returns 'disintegrate' (Laser), 'crush' (Claw), or 'ring' (SmartPhone). Then, define the class Robot that has one instance (object) of each of these. Define a does() method for the Robot that prints what its component objects do."
   ]
  },
  {
   "cell_type": "code",
   "execution_count": 96,
   "id": "indonesian-chase",
   "metadata": {},
   "outputs": [],
   "source": [
    "class Laser():\n",
    "    def does(self):\n",
    "        return 'disitegrate'\n",
    "class Claw():\n",
    "    def does(self):\n",
    "        return 'crush'\n",
    "class SmartPhone():\n",
    "    def does(self):\n",
    "        return 'ring'\n",
    "        \n",
    "class Robot():\n",
    "    def __init__(self):\n",
    "        self.laser = Laser()\n",
    "        self.claw = Claw()\n",
    "        self.smartphone = SmartPhone()\n",
    "    def does(self):\n",
    "        return ('Laser is %s, Claw is %s, SmartPhone is %s' % (self.laser.does(),self.claw.does(),self.smartphone.does()))"
   ]
  },
  {
   "cell_type": "code",
   "execution_count": 97,
   "id": "blank-galaxy",
   "metadata": {},
   "outputs": [
    {
     "data": {
      "text/plain": [
       "'Laser is disitegrate, Claw is crush, SmartPhone is ring'"
      ]
     },
     "execution_count": 97,
     "metadata": {},
     "output_type": "execute_result"
    }
   ],
   "source": [
    "r = Robot()\n",
    "r.does()"
   ]
  },
  {
   "cell_type": "code",
   "execution_count": null,
   "id": "looking-frost",
   "metadata": {},
   "outputs": [],
   "source": []
  }
 ],
 "metadata": {
  "kernelspec": {
   "display_name": "Python 3",
   "language": "python",
   "name": "python3"
  },
  "language_info": {
   "codemirror_mode": {
    "name": "ipython",
    "version": 3
   },
   "file_extension": ".py",
   "mimetype": "text/x-python",
   "name": "python",
   "nbconvert_exporter": "python",
   "pygments_lexer": "ipython3",
   "version": "3.8.8"
  }
 },
 "nbformat": 4,
 "nbformat_minor": 5
}
