{
 "cells": [
  {
   "cell_type": "markdown",
   "metadata": {},
   "source": [
    "### . What advantages do Excel spreadsheets have over CSV spreadsheets?\n",
    "\n",
    "* An Excel file not only stores data but can also do operations on data.\n",
    "On the otherhand, CSV is just a text file which stores data but doesnot contain formatting, formulas, macros, etc. It is also known as flat files.\n",
    "\n",
    "\n",
    "* In data-warehouse, Excel is preferable for detailed standardization schema specification, while CSVs in data-warehouse, follows a fairly flat, simple schema.\n",
    "\n",
    "* Reading larger files is much easy in Excel for the end user. Also, excel gives end users additional functions like selecting individual cells for import, convert dates and time automatically, reading formulas and their results, filters, sorting etc.\n",
    "On the other hand, reading large CSV files will not be easy for the end user.\n",
    "\n",
    "\n",
    "* In Excel, data can also be stored in the form of charts and graphs, apart from text.\n",
    "On the other hand, in CSVs, each record is stored as one line of a text file. Also, CSVs cannot store data as charts or graphs"
   ]
  },
  {
   "cell_type": "code",
   "execution_count": null,
   "metadata": {},
   "outputs": [],
   "source": []
  },
  {
   "cell_type": "markdown",
   "metadata": {},
   "source": [
    "### 2. To construct reader and writer artefacts, what do you pass to csv.reader() and csv.writer()?\n",
    "\n",
    "Ans>> We paas into them the file object, which is actually the _io.TextIOWrapper class object"
   ]
  },
  {
   "cell_type": "code",
   "execution_count": null,
   "metadata": {},
   "outputs": [],
   "source": []
  },
  {
   "cell_type": "markdown",
   "metadata": {},
   "source": [
    "### 3. What modes do File objects for reader and writer objects need to be opened in?\n",
    "Ans>> The modes are\n",
    "\n",
    "reader = 'r'\n",
    "\n",
    "writer = 'w'"
   ]
  },
  {
   "cell_type": "code",
   "execution_count": null,
   "metadata": {},
   "outputs": [],
   "source": []
  },
  {
   "cell_type": "markdown",
   "metadata": {},
   "source": [
    "### 4. What method takes a list argument and writes it to a CSV file?\n",
    "Ans>> The `writerows()` methode of `csv.writer()` take list argument"
   ]
  },
  {
   "cell_type": "code",
   "execution_count": null,
   "metadata": {},
   "outputs": [],
   "source": []
  },
  {
   "cell_type": "markdown",
   "metadata": {},
   "source": [
    "### 5. What do the delimiter and lineterminator keyword arguments do?\n",
    "\n",
    "* delimiter = This arguement is used to set the delimiter value. It should be a single character value and it tells the python interpreter that that the elements of the csv file are separated by the delimiter value. By default it is comma (,).\n",
    "\n",
    "* lineterminator = It is used to set the line terminator value. By default it is the new line character(\"\\r\\n\"). Whenever the line_terminator value(which we set) is encountered in the csv file, the python interpreter will treat it as a line break, i.e. after that line_terminator value, new line starts.\n"
   ]
  },
  {
   "cell_type": "code",
   "execution_count": null,
   "metadata": {},
   "outputs": [],
   "source": []
  },
  {
   "cell_type": "markdown",
   "metadata": {},
   "source": [
    "### 6. What function takes a string of JSON data and returns a Python data structure?\n",
    "Ans>> The `loads()` function"
   ]
  },
  {
   "cell_type": "code",
   "execution_count": null,
   "metadata": {},
   "outputs": [],
   "source": []
  },
  {
   "cell_type": "markdown",
   "metadata": {},
   "source": [
    "### 7. What function takes a Python data structure and returns a string of JSON data?\n",
    "\n",
    "Ans>> `dump()` function of jason"
   ]
  },
  {
   "cell_type": "code",
   "execution_count": null,
   "metadata": {},
   "outputs": [],
   "source": []
  }
 ],
 "metadata": {
  "kernelspec": {
   "display_name": "Python 3",
   "language": "python",
   "name": "python3"
  },
  "language_info": {
   "codemirror_mode": {
    "name": "ipython",
    "version": 3
   },
   "file_extension": ".py",
   "mimetype": "text/x-python",
   "name": "python",
   "nbconvert_exporter": "python",
   "pygments_lexer": "ipython3",
   "version": "3.8.5"
  }
 },
 "nbformat": 4,
 "nbformat_minor": 4
}
