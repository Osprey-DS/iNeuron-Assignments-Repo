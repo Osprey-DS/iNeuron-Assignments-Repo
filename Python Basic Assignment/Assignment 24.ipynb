{
 "cells": [
  {
   "cell_type": "markdown",
   "metadata": {},
   "source": [
    "# Python Basic Assignment 24"
   ]
  },
  {
   "cell_type": "code",
   "execution_count": null,
   "metadata": {},
   "outputs": [],
   "source": []
  },
  {
   "cell_type": "markdown",
   "metadata": {},
   "source": [
    "## 1. How are lambda expressions and def statements related?\n",
    "\n",
    "Ans>> The lambda and def, both statements are used to create a function in python."
   ]
  },
  {
   "cell_type": "code",
   "execution_count": 8,
   "metadata": {},
   "outputs": [],
   "source": [
    "def square_def(a): #usning def function\n",
    "    return a**2\n"
   ]
  },
  {
   "cell_type": "code",
   "execution_count": 9,
   "metadata": {},
   "outputs": [
    {
     "data": {
      "text/plain": [
       "36"
      ]
     },
     "execution_count": 9,
     "metadata": {},
     "output_type": "execute_result"
    }
   ],
   "source": [
    "#calling def function\n",
    "square_def(6)"
   ]
  },
  {
   "cell_type": "code",
   "execution_count": null,
   "metadata": {},
   "outputs": [],
   "source": [
    "square_lambda = lambda a:a**2   #using lambda function"
   ]
  },
  {
   "cell_type": "code",
   "execution_count": 10,
   "metadata": {},
   "outputs": [
    {
     "data": {
      "text/plain": [
       "36"
      ]
     },
     "execution_count": 10,
     "metadata": {},
     "output_type": "execute_result"
    }
   ],
   "source": [
    "# calling lambda function \n",
    "square_lambda(6)"
   ]
  },
  {
   "cell_type": "markdown",
   "metadata": {},
   "source": [
    "**Note**\n",
    "Both result give us same result. but we use different method. \n",
    "\n",
    "Generally, lambda uses for creating simple functions or linerar functions, and we use def for creating complex functions."
   ]
  },
  {
   "cell_type": "code",
   "execution_count": null,
   "metadata": {},
   "outputs": [],
   "source": []
  },
  {
   "cell_type": "markdown",
   "metadata": {},
   "source": [
    "## 2. What’s the point of using lambda?\n",
    "Ans>> Both def and lambda will do the same job, but we use some time lambda for just only code simplicity of making the code a little less complex and shorter. \n",
    "\n",
    "As we can create a function on one line. There is no other reason to use lambda. But when we prefer the little complex function we use def."
   ]
  },
  {
   "cell_type": "code",
   "execution_count": 6,
   "metadata": {},
   "outputs": [],
   "source": []
  },
  {
   "cell_type": "code",
   "execution_count": null,
   "metadata": {},
   "outputs": [],
   "source": []
  },
  {
   "cell_type": "markdown",
   "metadata": {},
   "source": [
    "## 3. Compare and contrast map, filter, and reduce.\n",
    "\n",
    "Ans>> This function is also achievable by creating some list comprehension or loop. But using these function make our code more elegant and simpler and short. "
   ]
  },
  {
   "cell_type": "markdown",
   "metadata": {},
   "source": [
    "I will try to describe each function with an example.."
   ]
  },
  {
   "cell_type": "code",
   "execution_count": null,
   "metadata": {},
   "outputs": [],
   "source": [
    "#the follwoing function will check the element of the list is string object or not.\n",
    "def is_str(x):\n",
    "    return type(x) == str"
   ]
  },
  {
   "cell_type": "code",
   "execution_count": 7,
   "metadata": {},
   "outputs": [
    {
     "data": {
      "text/plain": [
       "[False, False, True, False, True]"
      ]
     },
     "execution_count": 7,
     "metadata": {},
     "output_type": "execute_result"
    }
   ],
   "source": [
    "lst = [1,5,'d',8,'h']\n",
    "list(map(is_str, lst))"
   ]
  },
  {
   "cell_type": "markdown",
   "metadata": {},
   "source": [
    "**map()** – inside map() function we have to pass a function and iterable object as a list.\n",
    "\n",
    "Then the map function will apply our given function in every element and will return  a map object, we can convert it by using an inbuild list() function to check the result, as we can see the using map() it return a boolean value. It returns True when the condition meet as our function and return False when it didn’t\n"
   ]
  },
  {
   "cell_type": "markdown",
   "metadata": {},
   "source": [
    "**filter()** - : it worked similar to map() but it return the value instead of Boolean value."
   ]
  },
  {
   "cell_type": "code",
   "execution_count": 8,
   "metadata": {},
   "outputs": [
    {
     "data": {
      "text/plain": [
       "['d', 'h']"
      ]
     },
     "execution_count": 8,
     "metadata": {},
     "output_type": "execute_result"
    }
   ],
   "source": [
    "list(filter(is_str, lst))"
   ]
  },
  {
   "cell_type": "markdown",
   "metadata": {},
   "source": [
    "**reduce()** – function is kind of different than above these two functions.\n",
    "reduce() available inside the fucntools module and we have to import this in order to use it.\n",
    "\n",
    "it takes function as first argument and sequence or iterable object in second argument, but it dosen't return any iterable object , it return a single value.\n",
    "\n",
    "\n",
    "we have to define another function to show the work of reduce()\n"
   ]
  },
  {
   "cell_type": "code",
   "execution_count": 9,
   "metadata": {},
   "outputs": [
    {
     "data": {
      "text/plain": [
       "15"
      ]
     },
     "execution_count": 9,
     "metadata": {},
     "output_type": "execute_result"
    }
   ],
   "source": [
    "#the following function will add two value.\n",
    "def add_lst(a,b):\n",
    "    return a+b\n",
    "\n",
    "my_lst = [1,2,3,4,5]\n",
    "\n",
    "#imoring reduce()\n",
    "\n",
    "from functools import reduce\n",
    "\n",
    "reduce(add_lst, my_lst)\n"
   ]
  },
  {
   "cell_type": "markdown",
   "metadata": {},
   "source": [
    "Now how these things work, my function takes only two arguments and add them, but we pass a list of 5 elements and it returns the sum of all the elements\n",
    "for this reduce function gives us the flexibility to add all the elements to the list. \n",
    "\n",
    "* It first takes two arguments from the list 1 and 2, and then add them with the function add_lst. And produced result 3 \n",
    "* It takes again two elements the previous result 3 and another from the list which is 3 and adds them and produced result 6.\n",
    "* Then again it takes 6 and 4 from the list and adds them and produces result 10.\n",
    "* And then it takes last element 5 and add it with 10 and produced 15, \n",
    "* Then it looks for another value but it didn’t find any and give us the final result 15 as our output.\n",
    "\n",
    "**this is how the redue work**\n"
   ]
  },
  {
   "cell_type": "code",
   "execution_count": null,
   "metadata": {},
   "outputs": [],
   "source": []
  },
  {
   "cell_type": "markdown",
   "metadata": {},
   "source": [
    "## 4. What are function annotations, and how are they used?\n",
    "Ans>> The function annotations are nothing but metadata about our function argument. "
   ]
  },
  {
   "cell_type": "code",
   "execution_count": 14,
   "metadata": {},
   "outputs": [
    {
     "name": "stdout",
     "output_type": "stream",
     "text": [
      "Hello Subha\n",
      "How it's going !!\n"
     ]
    }
   ],
   "source": [
    "#the following function will add a greet with your name.\n",
    "def hello(s: ' s :-is name will added Hello'):  #adding anaotation inside argument.\n",
    "    print('Hello '+ s)\n",
    "    print('How it\\'s going !!')\n",
    "    \n",
    "hello('Subha')"
   ]
  },
  {
   "cell_type": "markdown",
   "metadata": {},
   "source": [
    "**Note** that anotation text doesn't put any affect in our function , it is jsut showing the information of our argument 's'"
   ]
  },
  {
   "cell_type": "code",
   "execution_count": null,
   "metadata": {},
   "outputs": [],
   "source": []
  },
  {
   "cell_type": "markdown",
   "metadata": {},
   "source": [
    "## 5. What are recursive functions, and how are they used?\n",
    "\n",
    "Ans>> A recursive function can call itself during the time of execution.\n",
    "\n",
    "The best way to recursive to create a factorial function that will give us the factorial of a given input.\n"
   ]
  },
  {
   "cell_type": "code",
   "execution_count": 15,
   "metadata": {},
   "outputs": [],
   "source": [
    "def factorial_recursive(n):\n",
    "    # Base case: 1! = 1\n",
    "    if n == 1:\n",
    "        return 1\n",
    "\n",
    "    # Recursive case: n! = n * (n-1)!\n",
    "    else:\n",
    "        return n * factorial_recursive(n-1)"
   ]
  },
  {
   "cell_type": "code",
   "execution_count": 16,
   "metadata": {},
   "outputs": [
    {
     "data": {
      "text/plain": [
       "24"
      ]
     },
     "execution_count": 16,
     "metadata": {},
     "output_type": "execute_result"
    }
   ],
   "source": [
    "factorial_recursive(4)"
   ]
  },
  {
   "cell_type": "code",
   "execution_count": null,
   "metadata": {},
   "outputs": [],
   "source": []
  },
  {
   "cell_type": "code",
   "execution_count": null,
   "metadata": {},
   "outputs": [],
   "source": []
  },
  {
   "cell_type": "markdown",
   "metadata": {},
   "source": [
    "## 6. What are some general design guidelines for coding functions?\n",
    "\n",
    "Ans>>  \n",
    "* We use 'def' keyword to declaer function. it is in-built keyword in python to define a function.\n",
    "\n",
    "* After the 'def' we have to provied function name after a single space of 'def'\n",
    "\n",
    "* after declaring the name of the function we need to put a pair of parenthesis ()\n",
    "\n",
    "* ANd inside of the parenthesis we have to pass our function input or more general way arguments.\n",
    "\n",
    "\n",
    "* In function we have to maintain  Python functions don't have any explicit begin or end like curly braces to indicate the start and stop for the function, they have to rely on this indentation. that is we have to provied a tab or 4 times space after declaring function name and argument.\n",
    "\n",
    "* At least, one indent is enough to make your code work successfully. But as a best practice it is advisable to leave about 3-4 indent to call your function.\n",
    "\n",
    "* doc strig -  it is appear after passing our function name of python inbuilt `help()` function, It is consist of information abour our function, what our fuction will do, what parameter we will pass it to it. It is written insode of triple quote ` ''' doc sting ''' `\n",
    "\n"
   ]
  },
  {
   "cell_type": "markdown",
   "metadata": {},
   "source": [
    "## 7. Name three or more ways that functions can communicate results to a caller.\n",
    "Ans>>\n",
    "Function have 'return' keyword with this a function can give us the desier output when the function will call.\n",
    "\n",
    "Using the `print()` function\n",
    "\n",
    "Using `logging`, with this we can store information\n"
   ]
  },
  {
   "cell_type": "code",
   "execution_count": null,
   "metadata": {},
   "outputs": [],
   "source": []
  }
 ],
 "metadata": {
  "kernelspec": {
   "display_name": "Python 3",
   "language": "python",
   "name": "python3"
  },
  "language_info": {
   "codemirror_mode": {
    "name": "ipython",
    "version": 3
   },
   "file_extension": ".py",
   "mimetype": "text/x-python",
   "name": "python",
   "nbconvert_exporter": "python",
   "pygments_lexer": "ipython3",
   "version": "3.8.5"
  }
 },
 "nbformat": 4,
 "nbformat_minor": 5
}
