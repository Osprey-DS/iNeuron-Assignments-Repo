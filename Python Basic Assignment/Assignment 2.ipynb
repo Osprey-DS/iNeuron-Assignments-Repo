{
 "cells": [
  {
   "cell_type": "markdown",
   "id": "forbidden-diana",
   "metadata": {},
   "source": [
    "1. What are the Boolean data type's two values? How do you go about writing them?\n",
    "\n",
    "Ans> Boolean data type, one is ‘True’ or 1, and the second one is ‘False’ or 0.\n",
    "We use these data types when we need to assign a binary value like 1 and 0 or yes/no. for this needs, we can use python Boolean data types here ‘True’ works as 1 and ‘False’ works as 0 as integer value\n"
   ]
  },
  {
   "cell_type": "markdown",
   "id": "democratic-disposal",
   "metadata": {},
   "source": [
    "2. What are the three different types of Boolean operators?\n",
    "\n",
    "Ans>  Boolean operator can be ‘and’, ‘’not’, and ‘or’. when we use these operators by default it gives us booleans result unless others function is defined by following these operators.\n"
   ]
  },
  {
   "cell_type": "markdown",
   "id": "afraid-bradford",
   "metadata": {},
   "source": [
    "3. Make a list of each Boolean operator's truth tables (i.e. every possible combination of Boolean values for the operator and what it evaluate ).\n",
    "  "
   ]
  },
  {
   "cell_type": "code",
   "execution_count": 9,
   "id": "pending-relay",
   "metadata": {},
   "outputs": [],
   "source": [
    "# +-------------------+-------------------------+-------------------------+-------------------------------+\n",
    "# +    Boolean Value  +        Operator         +    Boolean Value        +            Result             +\n",
    "# +-------------------+-------------------------+-------------------------+-------------------------------+\n",
    "#         True                  OR                       True                             True\n",
    "#         True                  OR                       False                            True\n",
    "#         True                 AND                       True                             True\n",
    "#         True                 AND                       False                            False\n",
    "#         True                 NOT                                                        False\n",
    "#         False                NOT                                                        True\n",
    "# +-------------------+-------------------------+------------------------+--------------------------------+ "
   ]
  },
  {
   "cell_type": "markdown",
   "id": "piano-modern",
   "metadata": {},
   "source": [
    "4. What are the values of the following expressions?"
   ]
  },
  {
   "cell_type": "code",
   "execution_count": 10,
   "id": "successful-charleston",
   "metadata": {},
   "outputs": [
    {
     "data": {
      "text/plain": [
       "False"
      ]
     },
     "execution_count": 10,
     "metadata": {},
     "output_type": "execute_result"
    }
   ],
   "source": [
    "(5 > 4) and (3 == 5) "
   ]
  },
  {
   "cell_type": "code",
   "execution_count": 11,
   "id": "nutritional-destruction",
   "metadata": {},
   "outputs": [
    {
     "data": {
      "text/plain": [
       "False"
      ]
     },
     "execution_count": 11,
     "metadata": {},
     "output_type": "execute_result"
    }
   ],
   "source": [
    "not (5 > 4)  #False(5>4 is True but there is a not operator thts’s why the final output will be False"
   ]
  },
  {
   "cell_type": "code",
   "execution_count": 12,
   "id": "developmental-belly",
   "metadata": {},
   "outputs": [
    {
     "data": {
      "text/plain": [
       "True"
      ]
     },
     "execution_count": 12,
     "metadata": {},
     "output_type": "execute_result"
    }
   ],
   "source": [
    "(5 > 4) or (3 == 5)  #True, because one condition is satisfies, 5>4"
   ]
  },
  {
   "cell_type": "code",
   "execution_count": 13,
   "id": "boring-conservative",
   "metadata": {},
   "outputs": [
    {
     "data": {
      "text/plain": [
       "False"
      ]
     },
     "execution_count": 13,
     "metadata": {},
     "output_type": "execute_result"
    }
   ],
   "source": [
    "not ((5 > 4) or (3 == 5)) #as it contain ‘or’ operator it will give True as one conditions is meet, 5>4, but for the ‘not’ opearator it’s final outpt will be False"
   ]
  },
  {
   "cell_type": "code",
   "execution_count": 14,
   "id": "lightweight-ladder",
   "metadata": {},
   "outputs": [
    {
     "data": {
      "text/plain": [
       "False"
      ]
     },
     "execution_count": 14,
     "metadata": {},
     "output_type": "execute_result"
    }
   ],
   "source": [
    "not ((5 > 4) or (3 == 5))  #"
   ]
  },
  {
   "cell_type": "code",
   "execution_count": 15,
   "id": "divine-apache",
   "metadata": {},
   "outputs": [
    {
     "data": {
      "text/plain": [
       "True"
      ]
     },
     "execution_count": 15,
     "metadata": {},
     "output_type": "execute_result"
    }
   ],
   "source": [
    "(not False) or (not True)  #not False will give True , and not True will give False, with ‘or’ operator True or False will give True."
   ]
  },
  {
   "cell_type": "markdown",
   "id": "interpreted-candy",
   "metadata": {},
   "source": [
    "5. What are the six different types of reference operators?\n",
    "\n",
    "Ans> The main six reference operators are\n",
    "\n",
    "1>  ‘==’   which is used to reference  a value with a variable\n",
    "e.g.   a==10, here I do not assign 10 to a variable called ‘a’, but I am telling that search a where it is exactly as or same as 10\n",
    "\n",
    "2> ‘!=’  which is the same as above operator ‘==’. Here if assign ‘a!=10’, then it will search for where ‘a’ variable value is not 10. And will return True when the expression will meet the condition.\n",
    "\n",
    "3> ‘>’  it’s called ‘greater than’ the operator, it will use when we want to relate some variable is greater than another variable.\n",
    "\n",
    "4> ‘<’ it’s ‘less than’ operator exactly opposite of greater than(>) operator. \n",
    "\n",
    "5> ‘>=’ It’s ‘greater than or equals to’- operator and work like ‘or’ operator when one operator will meet ‘>’ or ‘=’ it will return True as output.\n",
    "\n",
    "6> ‘<=’  same as above but with different operator, here expression will find ‘less than’ operator or ‘equal to’, and if one of them will meet then return True\n"
   ]
  },
  {
   "cell_type": "markdown",
   "id": "chinese-classification",
   "metadata": {},
   "source": [
    "6. How do you tell the difference between the equal to and assignment operators?\n",
    "\n",
    "Ans> equal to is ‘==’, means double equal sign and assignment operator is ‘=’ or with a single equal sign. Equal sign(==) is used when we want to tell the computer to match two expressions and check whether these two expressions meet or not. if meet then return True. And in the opposite site the assignment operator(=) is used when we assign some value to a variable like (a=10), here we can use it as ‘a’ like it’s integer value 10 and perform necessary operations.  Like a+2 and it will return 12 (10+2)\n"
   ]
  },
  {
   "cell_type": "markdown",
   "id": "palestinian-sequence",
   "metadata": {},
   "source": [
    "7. Describe a condition and when you would use one.\n",
    "\n",
    "Ans>  I will equal(==) operator when I have to write any condition or filter. I will use equal for my declaration and when I have to assign any value to a variable I will use the assignment(=) operator, like a = 10, here 10 is stored in variable a\n"
   ]
  },
  {
   "cell_type": "markdown",
   "id": "colored-swaziland",
   "metadata": {},
   "source": [
    "8. Recognize the following three blocks in this code:\n",
    "\n",
    "\n"
   ]
  },
  {
   "cell_type": "code",
   "execution_count": 16,
   "id": "diverse-reservoir",
   "metadata": {},
   "outputs": [
    {
     "name": "stdout",
     "output_type": "stream",
     "text": [
      "spam\n"
     ]
    }
   ],
   "source": [
    "spam = 0\n",
    "if spam == 10:\n",
    "    print('eggs')\n",
    "    if spam > 5:\n",
    "        print('bacon')\n",
    "    else:\n",
    "        print('ham')\n",
    "    print('spam')\n",
    "print('spam')"
   ]
  },
  {
   "cell_type": "markdown",
   "id": "seasonal-holocaust",
   "metadata": {},
   "source": [
    "9. Create a programme that prints. If 1 is stored in spam, prints Hello; if 2 is stored in spam, prints Howdy; and if 3 is stored in spam, prints Salutations! if there's something else in spam."
   ]
  },
  {
   "cell_type": "code",
   "execution_count": 17,
   "id": "placed-representation",
   "metadata": {},
   "outputs": [
    {
     "name": "stdout",
     "output_type": "stream",
     "text": [
      "Hello\n"
     ]
    }
   ],
   "source": [
    "spam = 1\n",
    "\n",
    "if spam == 1:\n",
    "    print('Hello')\n",
    "elif spam ==2:\n",
    "    print('Howdy')\n",
    "elif spam ==3:\n",
    "    print('Salutations!')\n",
    "else:\n",
    "    print('Nothing mention in the question')\n"
   ]
  },
  {
   "cell_type": "markdown",
   "id": "massive-wright",
   "metadata": {},
   "source": [
    "10.If your programme is stuck in an endless loop, what keys can you press?\n",
    "\n",
    "Ans> ‘Ctrl+c’\n",
    " when the program is stuck in an endless loop we have to interpret the running by pressing ctrl+c we can do that, this key may vary in different ide. \n"
   ]
  },
  {
   "cell_type": "markdown",
   "id": "atmospheric-species",
   "metadata": {},
   "source": [
    "11. How can you tell the difference between break and continue?\n",
    "\n",
    "Ans> The continue statement helps the program executions to go to the top of the loop statement.\n",
    "And break statement break or helps to exit from the loop.\n"
   ]
  },
  {
   "cell_type": "markdown",
   "id": "polished-camping",
   "metadata": {},
   "source": [
    "12. In a for loop, what is the difference between range(10), range(0, 10), and range(0, 10, 1)?\n",
    "Ans> There will be no difference in the output for the above three codes as they mean the same.\n",
    "By default if we use the range function and if we pass only one parameter, it will consider that is our end value of the series and it will always start from zero unless we define others. And the third parameter is step size, it is 1 by default. So, the default range function is like this\n",
    "> range(start=0, end, step_size=1)\n",
    "We have to define the end value\n"
   ]
  },
  {
   "cell_type": "markdown",
   "id": "spoken-coordinate",
   "metadata": {},
   "source": [
    "13. Using a for loop, write a short programme that prints the numbers 1 to 10 Then, using a while loop, create an identical programme that prints the numbers 1 to 10."
   ]
  },
  {
   "cell_type": "code",
   "execution_count": 18,
   "id": "flexible-devices",
   "metadata": {},
   "outputs": [
    {
     "name": "stdout",
     "output_type": "stream",
     "text": [
      "1\n",
      "2\n",
      "3\n",
      "4\n",
      "5\n",
      "6\n",
      "7\n",
      "8\n",
      "9\n",
      "10\n"
     ]
    }
   ],
   "source": [
    "#using for loop\n",
    "for i in range(1,11,1):\n",
    "    print(i)\n"
   ]
  },
  {
   "cell_type": "code",
   "execution_count": 19,
   "id": "fantastic-package",
   "metadata": {},
   "outputs": [
    {
     "name": "stdout",
     "output_type": "stream",
     "text": [
      "1\n",
      "2\n",
      "3\n",
      "4\n",
      "5\n",
      "6\n",
      "7\n",
      "8\n",
      "9\n",
      "10\n"
     ]
    }
   ],
   "source": [
    "#using while loop\n",
    "i=1\n",
    "while i<=10:\n",
    "    print(i)\n",
    "    i+=1 \n"
   ]
  },
  {
   "cell_type": "markdown",
   "id": "designed-investigation",
   "metadata": {},
   "source": [
    "14. If you had a bacon() function within a spam module, what would you call it after importing spam?\n",
    "\n",
    "First way -  \n",
    "Import spam #importing the module\n",
    "\n",
    "spam.bacon() #calling the module\n",
    " \n",
    "Or the Second way - \n",
    "\n",
    "from spam import bacon #import the module\n",
    "\n",
    "bacon() #calling the module\n"
   ]
  },
  {
   "cell_type": "code",
   "execution_count": null,
   "id": "manufactured-dakota",
   "metadata": {},
   "outputs": [],
   "source": []
  }
 ],
 "metadata": {
  "kernelspec": {
   "display_name": "Python 3",
   "language": "python",
   "name": "python3"
  },
  "language_info": {
   "codemirror_mode": {
    "name": "ipython",
    "version": 3
   },
   "file_extension": ".py",
   "mimetype": "text/x-python",
   "name": "python",
   "nbconvert_exporter": "python",
   "pygments_lexer": "ipython3",
   "version": "3.8.8"
  }
 },
 "nbformat": 4,
 "nbformat_minor": 5
}
