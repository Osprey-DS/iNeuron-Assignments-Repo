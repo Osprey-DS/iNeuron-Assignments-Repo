{
 "cells": [
  {
   "cell_type": "markdown",
   "id": "residential-sculpture",
   "metadata": {},
   "source": [
    "1. What are the Boolean data type's two values? How do you go about writing them?\n",
    "\n",
    "Ans> Boolean data type, one is ‘True’ or 1, and the second one is ‘False’ or 0.\n",
    "We use these data types when we need to assign a binary value like 1 and 0 or yes/no. for this needs, we can use python Boolean data types here ‘True’ works as 1 and ‘False’ works as 0 as integer value\n"
   ]
  },
  {
   "cell_type": "markdown",
   "id": "static-inclusion",
   "metadata": {},
   "source": [
    "2. What are the three different types of Boolean operators?\n",
    "\n",
    "Ans>  Boolean operator can be ‘and’, ‘’not’, and ‘or’. when we use these operators by default it gives us booleans result unless others function is defined by following these operators.\n"
   ]
  },
  {
   "cell_type": "markdown",
   "id": "economic-haven",
   "metadata": {},
   "source": [
    "3. Make a list of each Boolean operator's truth tables (i.e. every possible combination of Boolean values for the operator and what it evaluate ).\n",
    "  "
   ]
  },
  {
   "cell_type": "code",
   "execution_count": 9,
   "id": "distributed-guyana",
   "metadata": {},
   "outputs": [],
   "source": [
    "# +-------------------+-------------------------+-------------------------+-------------------------------+\n",
    "# +    Boolean Value  +        Operator         +    Boolean Value        +            Result             +\n",
    "# +-------------------+-------------------------+-------------------------+-------------------------------+\n",
    "#         True                  OR                       True                             True\n",
    "#         True                  OR                       False                            True\n",
    "#         True                 AND                       True                             True\n",
    "#         True                 AND                       False                            False\n",
    "#         True                 NOT                                                        False\n",
    "#         False                NOT                                                        True\n",
    "# +-------------------+-------------------------+------------------------+--------------------------------+ "
   ]
  },
  {
   "cell_type": "markdown",
   "id": "isolated-edinburgh",
   "metadata": {},
   "source": [
    "4. What are the values of the following expressions?"
   ]
  },
  {
   "cell_type": "code",
   "execution_count": 10,
   "id": "after-clock",
   "metadata": {},
   "outputs": [
    {
     "data": {
      "text/plain": [
       "False"
      ]
     },
     "execution_count": 10,
     "metadata": {},
     "output_type": "execute_result"
    }
   ],
   "source": [
    "(5 > 4) and (3 == 5) "
   ]
  },
  {
   "cell_type": "code",
   "execution_count": 11,
   "id": "governmental-majority",
   "metadata": {},
   "outputs": [
    {
     "data": {
      "text/plain": [
       "False"
      ]
     },
     "execution_count": 11,
     "metadata": {},
     "output_type": "execute_result"
    }
   ],
   "source": [
    "not (5 > 4) "
   ]
  },
  {
   "cell_type": "code",
   "execution_count": 12,
   "id": "innovative-bailey",
   "metadata": {},
   "outputs": [
    {
     "data": {
      "text/plain": [
       "True"
      ]
     },
     "execution_count": 12,
     "metadata": {},
     "output_type": "execute_result"
    }
   ],
   "source": [
    "(5 > 4) or (3 == 5) "
   ]
  },
  {
   "cell_type": "code",
   "execution_count": null,
   "id": "impossible-facial",
   "metadata": {},
   "outputs": [],
   "source": []
  }
 ],
 "metadata": {
  "kernelspec": {
   "display_name": "Python 3",
   "language": "python",
   "name": "python3"
  },
  "language_info": {
   "codemirror_mode": {
    "name": "ipython",
    "version": 3
   },
   "file_extension": ".py",
   "mimetype": "text/x-python",
   "name": "python",
   "nbconvert_exporter": "python",
   "pygments_lexer": "ipython3",
   "version": "3.8.8"
  }
 },
 "nbformat": 4,
 "nbformat_minor": 5
}
