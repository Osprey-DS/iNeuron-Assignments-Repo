{
 "cells": [
  {
   "cell_type": "markdown",
   "id": "saving-equilibrium",
   "metadata": {},
   "source": [
    "# Python Basics Assignment 3"
   ]
  },
  {
   "cell_type": "code",
   "execution_count": null,
   "id": "preceding-morning",
   "metadata": {},
   "outputs": [],
   "source": []
  },
  {
   "cell_type": "markdown",
   "id": "surprised-amplifier",
   "metadata": {},
   "source": [
    "## 1. what are the benefits of including function in the program? \n",
    "\n",
    "Ans> Including function can save us time to not write repeating code. For a particular application we don’t have to write the code for every time we want to execute the application. With the function, we can do the same task all over our program just by one-time creating.\n"
   ]
  },
  {
   "cell_type": "code",
   "execution_count": null,
   "id": "still-exhaust",
   "metadata": {},
   "outputs": [],
   "source": []
  },
  {
   "cell_type": "markdown",
   "id": "quick-mediterranean",
   "metadata": {},
   "source": [
    "## 2. When does the code in a function run: when it's specified or when it's called?\n",
    "The function run when it is called with parenthesis() along with function name.\n",
    "\n",
    "Like , >> my_func()\n"
   ]
  },
  {
   "cell_type": "code",
   "execution_count": null,
   "id": "liquid-geology",
   "metadata": {},
   "outputs": [],
   "source": []
  },
  {
   "cell_type": "markdown",
   "id": "jewish-bosnia",
   "metadata": {},
   "source": [
    "## 3. What statement causes a feature to be created?\n",
    "\n",
    "Ans> In python with ‘def’ statement function can be created.\n"
   ]
  },
  {
   "cell_type": "code",
   "execution_count": null,
   "id": "primary-binary",
   "metadata": {},
   "outputs": [],
   "source": []
  },
  {
   "cell_type": "markdown",
   "id": "legendary-spyware",
   "metadata": {},
   "source": [
    "## 4. What is the distinction between a function and a call to a function?\n",
    "\n",
    "Ans>  A function is a set of instructions to do with the parameter we are given to it. A function is just the process of how he will process and what calculation will do with those given parameters. it's created by putting the  'def' statement followed by the function name.\n",
    "\n",
    "And call to a function means we are calling or executing that function to perform.  It is done by typing the function name along with the parenthesis. Or simply getting the final result from the function when it calls.\n",
    "\n"
   ]
  },
  {
   "cell_type": "code",
   "execution_count": null,
   "id": "working-potential",
   "metadata": {},
   "outputs": [],
   "source": []
  },
  {
   "cell_type": "markdown",
   "id": "intellectual-style",
   "metadata": {},
   "source": [
    "## 5. In a Python application, how many global scopes are there? How many local scopes are there?\n",
    "Ans>>  There is only one global scope in one python application,\n",
    "\n",
    "but for the local scope which is defined inside of a function can be more than one as many we want a local variable.\n"
   ]
  },
  {
   "cell_type": "code",
   "execution_count": null,
   "id": "neural-interstate",
   "metadata": {},
   "outputs": [],
   "source": []
  },
  {
   "cell_type": "markdown",
   "id": "amazing-emperor",
   "metadata": {},
   "source": [
    "## 6. When a function call returns, what happens to variables in the local scope?\n",
    "\n",
    "\n",
    "Ans>> After the function returns the variable that wee inside of the function or local variables are forgotten or those local variables are destroyed.\n",
    "\n",
    "Those can’t use any further process.\n"
   ]
  },
  {
   "cell_type": "code",
   "execution_count": null,
   "id": "preliminary-extraction",
   "metadata": {},
   "outputs": [],
   "source": []
  },
  {
   "cell_type": "markdown",
   "id": "incorporate-surname",
   "metadata": {},
   "source": [
    "## 7. What is the concept of a return value? Is it possible to have a return value in an expression?\n",
    "\n",
    "Ans> The return value is the value that Is evaluated by our function and giving us as output. Or in simple the value that function call evaluates to is called the return value of the function.\n",
    "\n",
    "\n",
    "Yes, a return value can be in an expression. As we can pass return value as an argument to another function call.\n"
   ]
  },
  {
   "cell_type": "code",
   "execution_count": null,
   "id": "blessed-beatles",
   "metadata": {},
   "outputs": [],
   "source": []
  },
  {
   "cell_type": "markdown",
   "id": "proved-syracuse",
   "metadata": {},
   "source": [
    "## 8. What is the return value of a call to a function that does not have a return statement?\n",
    "\n",
    "Ans>> NoneType\n",
    "\n",
    "When a function dose not contain a return statement it return None\n",
    "\n"
   ]
  },
  {
   "cell_type": "code",
   "execution_count": null,
   "id": "double-effort",
   "metadata": {},
   "outputs": [],
   "source": []
  },
  {
   "cell_type": "markdown",
   "id": "wanted-answer",
   "metadata": {},
   "source": [
    "## 9. How do you make a function variable refer to the global variable?\n",
    "We can use the global variable as a function variable by just putting the ‘global’  keyword just before the variable name.\n",
    "\n",
    "like :\n",
    "\n",
    "global var_name\n",
    "\n"
   ]
  },
  {
   "cell_type": "code",
   "execution_count": null,
   "id": "hollow-connectivity",
   "metadata": {},
   "outputs": [],
   "source": []
  },
  {
   "cell_type": "markdown",
   "id": "induced-train",
   "metadata": {},
   "source": [
    "## 10. What data form does None belong to?\n",
    "\n",
    "Ans>> it’s ‘NoneType’ data form or data types.\n",
    "\n",
    "Only ‘None’ can be a ‘NoneType’ data types\n"
   ]
  },
  {
   "cell_type": "code",
   "execution_count": null,
   "id": "collectible-prerequisite",
   "metadata": {},
   "outputs": [],
   "source": []
  },
  {
   "cell_type": "markdown",
   "id": "particular-jordan",
   "metadata": {},
   "source": [
    "## 11. What does the sentence import areallyourpetsnamederic do?\n",
    "\n",
    "Ans>> it will import the module named ‘areallyourpetsnamederic’.\n"
   ]
  },
  {
   "cell_type": "code",
   "execution_count": null,
   "id": "boolean-reproduction",
   "metadata": {},
   "outputs": [],
   "source": []
  },
  {
   "cell_type": "markdown",
   "id": "lesser-company",
   "metadata": {},
   "source": [
    "## 12. If you had a bacon() feature in a spam module, what would you call it after importing spam?\n",
    "\n",
    "Ans>> spam.bacon()\n",
    "\n",
    "In this way I can call bacon() function.\n"
   ]
  },
  {
   "cell_type": "code",
   "execution_count": null,
   "id": "retained-lambda",
   "metadata": {},
   "outputs": [],
   "source": []
  },
  {
   "cell_type": "markdown",
   "id": "fitted-lithuania",
   "metadata": {},
   "source": [
    "## 13. What can you do to save a programme from crashing if it encounters an error?\n",
    "\n",
    "Ans>> using an exception handling method like the ‘try’ clause, if we place our code inside of the try clause then it will not give us any error and will give users the print or our define method under the ‘except’ clause.\n"
   ]
  },
  {
   "cell_type": "code",
   "execution_count": null,
   "id": "delayed-action",
   "metadata": {},
   "outputs": [],
   "source": []
  },
  {
   "cell_type": "markdown",
   "id": "blond-newcastle",
   "metadata": {},
   "source": [
    "\n",
    "## 14. What is the purpose of the try clause? What is the purpose of the except clause?\n",
    "\n",
    "Ans>> the purpose of the try and except clause is to do the exception handling. Like if our code gives us any error or fails to run then it will go to under except clause instead of giving us an error. And then it will run the following code which is under except clause.\n"
   ]
  },
  {
   "cell_type": "code",
   "execution_count": null,
   "id": "forbidden-tutorial",
   "metadata": {},
   "outputs": [],
   "source": []
  }
 ],
 "metadata": {
  "kernelspec": {
   "display_name": "Python 3",
   "language": "python",
   "name": "python3"
  },
  "language_info": {
   "codemirror_mode": {
    "name": "ipython",
    "version": 3
   },
   "file_extension": ".py",
   "mimetype": "text/x-python",
   "name": "python",
   "nbconvert_exporter": "python",
   "pygments_lexer": "ipython3",
   "version": "3.8.8"
  }
 },
 "nbformat": 4,
 "nbformat_minor": 5
}
