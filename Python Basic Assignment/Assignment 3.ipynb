{
 "cells": [
  {
   "cell_type": "markdown",
   "id": "original-cliff",
   "metadata": {},
   "source": [
    "# Python Basics Assignment 3"
   ]
  },
  {
   "cell_type": "code",
   "execution_count": null,
   "id": "russian-designer",
   "metadata": {},
   "outputs": [],
   "source": []
  },
  {
   "cell_type": "markdown",
   "id": "beginning-heating",
   "metadata": {},
   "source": [
    "## 1. what are the benefits of including function in the program? \n",
    "\n",
    "Ans> Including function can save us time to not write repeating code. For a particular application we don’t have to write the code for every time we want to execute the application. With the function, we can do the same task all over our program just by one-time creating.\n"
   ]
  },
  {
   "cell_type": "code",
   "execution_count": null,
   "id": "freelance-violation",
   "metadata": {},
   "outputs": [],
   "source": []
  },
  {
   "cell_type": "markdown",
   "id": "widespread-jonathan",
   "metadata": {},
   "source": [
    "## 2. When does the code in a function run: when it's specified or when it's called?\n",
    "The function run when it is called with parenthesis() along with function name.\n",
    "\n",
    "Like , >> my_func()\n"
   ]
  },
  {
   "cell_type": "code",
   "execution_count": null,
   "id": "exclusive-athletics",
   "metadata": {},
   "outputs": [],
   "source": []
  },
  {
   "cell_type": "markdown",
   "id": "interstate-sapphire",
   "metadata": {},
   "source": [
    "## 3. What statement causes a feature to be created?\n",
    "\n",
    "Ans> In python with ‘def’ statement function can be created.\n"
   ]
  },
  {
   "cell_type": "code",
   "execution_count": null,
   "id": "regulated-prospect",
   "metadata": {},
   "outputs": [],
   "source": []
  },
  {
   "cell_type": "markdown",
   "id": "negative-emerald",
   "metadata": {},
   "source": [
    "## 4. What is the distinction between a function and a call to a function?\n",
    "\n",
    "Ans>  A function is a set of instructions to do with the parameter we are given to it. A function is just the process of how he will process and what calculation will do with those given parameters. it's created by putting the  'def' statement followed by the function name.\n",
    "\n",
    "And call to a function means we are calling or executing that function to perform.  It is done by typing the function name along with the parenthesis. Or simply getting the final result from the function when it calls.\n",
    "\n"
   ]
  },
  {
   "cell_type": "code",
   "execution_count": null,
   "id": "partial-margin",
   "metadata": {},
   "outputs": [],
   "source": []
  },
  {
   "cell_type": "markdown",
   "id": "pleasant-wisconsin",
   "metadata": {},
   "source": [
    "## 5. In a Python application, how many global scopes are there? How many local scopes are there?\n",
    "Ans>>  There is only one global scope in one python application,\n",
    "\n",
    "but for the local scope which is defined inside of a function can be more than one as many we want a local variable.\n"
   ]
  },
  {
   "cell_type": "code",
   "execution_count": null,
   "id": "corrected-fundamentals",
   "metadata": {},
   "outputs": [],
   "source": []
  },
  {
   "cell_type": "markdown",
   "id": "anonymous-coverage",
   "metadata": {},
   "source": [
    "## 6. When a function call returns, what happens to variables in the local scope?\n",
    "\n",
    "\n",
    "Ans>> After the function returns the variable that wee inside of the function or local variables are forgotten or those local variables are destroyed.\n",
    "\n",
    "Those can’t use any further process.\n"
   ]
  },
  {
   "cell_type": "code",
   "execution_count": null,
   "id": "protected-gallery",
   "metadata": {},
   "outputs": [],
   "source": []
  },
  {
   "cell_type": "markdown",
   "id": "extraordinary-happening",
   "metadata": {},
   "source": [
    "## 7. What is the concept of a return value? Is it possible to have a return value in an expression?\n",
    "\n",
    "Ans> The return value is the value that Is evaluated by our function and giving us as output. Or in simple the value that function call evaluates to is called the return value of the function.\n",
    "\n",
    "\n",
    "Yes, a return value can be in an expression. As we can pass return value as an argument to another function call.\n"
   ]
  },
  {
   "cell_type": "code",
   "execution_count": null,
   "id": "dressed-waterproof",
   "metadata": {},
   "outputs": [],
   "source": []
  },
  {
   "cell_type": "markdown",
   "id": "therapeutic-premium",
   "metadata": {},
   "source": [
    "## 8. What is the return value of a call to a function that does not have a return statement?\n",
    "\n",
    "Ans>> NoneType\n",
    "\n",
    "When a function dose not contain a return statement it return None\n",
    "\n"
   ]
  },
  {
   "cell_type": "code",
   "execution_count": null,
   "id": "sweet-syracuse",
   "metadata": {},
   "outputs": [],
   "source": []
  },
  {
   "cell_type": "markdown",
   "id": "significant-sheriff",
   "metadata": {},
   "source": [
    "## 9. How do you make a function variable refer to the global variable?\n",
    "We can use the global variable as a function variable by just putting the ‘global’  keyword just before the variable name.\n",
    "\n",
    "like :\n",
    "\n",
    "global var_name\n",
    "\n"
   ]
  },
  {
   "cell_type": "code",
   "execution_count": null,
   "id": "external-termination",
   "metadata": {},
   "outputs": [],
   "source": []
  },
  {
   "cell_type": "markdown",
   "id": "pregnant-cisco",
   "metadata": {},
   "source": [
    "## 10. What data form does None belong to?\n",
    "\n",
    "Ans>> it’s ‘NoneType’ data form or data types.\n",
    "\n",
    "Only ‘None’ can be a ‘NoneType’ data types\n"
   ]
  },
  {
   "cell_type": "code",
   "execution_count": null,
   "id": "hidden-peace",
   "metadata": {},
   "outputs": [],
   "source": []
  }
 ],
 "metadata": {
  "kernelspec": {
   "display_name": "Python 3",
   "language": "python",
   "name": "python3"
  },
  "language_info": {
   "codemirror_mode": {
    "name": "ipython",
    "version": 3
   },
   "file_extension": ".py",
   "mimetype": "text/x-python",
   "name": "python",
   "nbconvert_exporter": "python",
   "pygments_lexer": "ipython3",
   "version": "3.8.8"
  }
 },
 "nbformat": 4,
 "nbformat_minor": 5
}
