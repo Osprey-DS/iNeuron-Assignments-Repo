{
 "cells": [
  {
   "cell_type": "markdown",
   "metadata": {},
   "source": [
    "### 1.\tWhat is the definition of a target function? In the sense of a real-life example, express the target function. How is a target function's fitness assessed?\n",
    "\n",
    "Ans>> The target function is the main function that is used for prediction given our input data. In machine learning algorithms that are best fit the training, data is called the target function, the target function is nothing but a formula that is used to predict the value or the class for our problem.\n",
    "\n",
    "In the time of training, we feed the data to the target function to observe the underlying pattern so the model or the algorithm fits the data in order to perform on unseen data. This is the main goal of the target function. The function first calculates the target value from the input feature then it evaluates his error, and then based on that error it tries to modify its behavior and the pattern for calculating the target value, then the algorithms repeat this procedure for every data or instance we feed into it and improving its performance and lowering the error. And go to close the original pattern of the data. This is how fitness is assessed.\n"
   ]
  },
  {
   "cell_type": "code",
   "execution_count": null,
   "metadata": {},
   "outputs": [],
   "source": []
  },
  {
   "cell_type": "markdown",
   "metadata": {},
   "source": [
    "### 2.\tWhat are predictive models, and how do they work? What are descriptive types, and how do you use them? Examples of both types of models should be provided. Distinguish between these two forms of models. \n",
    "\n",
    "Ans>>\n",
    "* The predictive model is a model that has main focus on calculating the target value or predicting the class based on the instance. It mainly does the calculation for predicting the value not to describe that much the data variability. The predictive model works with training data to learn the underlying patterns and find the logical relationship from the data. And then predict the future based on that learning.\n",
    "An example of a predictive model can be linear regressing where we can use with this model any continuous numerical value based on its feature, like predicting house price based on the feature like house size number of bedroom, position, and others feature, Also predictive model can be Logistic regression where we can predict the class from its feature, like we can predict a patient have a certain disease or not based on his/her physical condition, like age, blood sugar, blood pressure. These all are predictive models where we are mainly focusing to find some value or class that is our main goal.\n",
    "\n",
    "\n",
    "* The descriptive model is used in an unsupervised machine learning problem where our main focus is to find the relationship between instances rather than to predict some value or class. In the descriptive model, we group similar instances based on their similarity pattern. A descriptive model finds the logical relationship, capture the requirement of the system, capture the pattern of the instance and group them in a different cluster. An example of the descriptive model can be k-means clustering, an unsupervised algorithm where it separates the similar item into different groups or clusters. The main focus of the algorithm to find the pattern and find the similarity of the instances to group them together.\n"
   ]
  },
  {
   "cell_type": "code",
   "execution_count": null,
   "metadata": {},
   "outputs": [],
   "source": []
  },
  {
   "attachments": {
    "image.png": {
     "image/png": "[encoded data removed]"
    }
   },
   "cell_type": "markdown",
   "metadata": {},
   "source": [
    "### 3.\tDescribe the method of assessing a classification model's efficiency in detail. Describe the various measurement parameters.\n",
    "\n",
    "Ans>> Evaluate classification model is different from a regression problem, In classification problem our model predicts classes instead of any continuous value like regression problem there are various way to measure the efficiency of a classification model The most common few ways are…\n",
    "Confusion Matrix – confusion matrix is a very popular and most common way to evaluate a classification model where we can observe how much correct prediction was made by our model out of all the instances.  Confusion matrix results from binary predictions, also it can be used for multiclass predictions. .  If we have created a model which is predicting between two classes Positive and Negative. Then our confusion matrox will be like. \n",
    "\n",
    "![image.png](attachment:image.png)\n",
    "\n",
    "The matrix is structured in a way to identify the rate of the correct prediction along with the wrong prediction.  The component of the confusion matrix is for the main parameter that is mainly denoted by the result.  If we have created a model which is predicting between two classes Positive and Negative. \n",
    "\n",
    "These are. True Positive(TP) , False Positive(FP), False Negative(FN) and True Negative(TN)\n",
    "These are the four main parameters of the confusion matrix. \n",
    "\n",
    "\n",
    "* True Positive – This is the number which is the model is correctly classified it class or the model correctly classifies the positive class at the time of prediction.\n",
    "\n",
    "* False Positive – This number represents the number of predicting positive class by our model, but the prediction is wrong as in actual those classes are Negative. \n",
    "\n",
    "* False Negative – This number represents the prediction made by our model of the Negative class but those predictions are wrong in actual that is why it called false Negative. In actual the class is Positive.\n",
    "\n",
    "* True Negative – This number represents how much negative class is predicted by our model is, and the name suggests the True negative means the prediction is correct as in actual the classes are indeed negative.\n",
    "\n",
    "But some time confusion matrix may give us the satisfaction we need for our problem, for that we have two more parameters that can be derived from the confusion matrix parameter, these are Precision and Recall, and Accuracy.\n",
    "\n",
    "* Precision – The Precision tells us how much positive class is correctly predicted and it is calculated by\n",
    "\n",
    "`Precision = TP / (TP + FP)` \n",
    "\n",
    "* Recall – The recoil tells us how much positive class is predicted within the total positive class in our dataset.\n",
    "\n",
    "`Recall = TP / (TP + FN)`\n",
    "\n",
    "* Accuracy – `Accuracy is defined as (TP + TN) / (TP + FP + FN + TN).`\n",
    "\n",
    "But in most cases, the accuracy metrics are not used for the classification problem, but it completely depends on the problem type and our requirement. The precision and recall also depend on the problem that which class is we want more accurately than other classes, depend on that we can modify our model to increase our precision or recall.\n",
    "\n",
    "\n",
    "* F-measurement - F-measurement is a combined performance matrices for the classification model of precision and recall. Precision and recoils are separate performance metrics for the classification model. the f-measurement or f-score give us overall performance measure the range is 0 to 1, this is an accuracy function, not a cost function, which means so the greater the number will be the more good result, but this is not used that much in used case because, in a classification problem, we need to focus either precision or recall rather than overall, but it completely depends on the problem in our hand.\n",
    "\n",
    "* Receiver operating characteristic curve - The Receiver operating characteristics curve or the roc curve is one of the great model performance metrics for the classification problem, As the name suggests we plot a curve and from the plot, e can decide our model performance. or we also have a roc score that is also accuracy score can tell us how good our model is. The roc curve plot true positive rate vs false positive rate. To plot the roc curve we need to calculate the true positive rate or tpr and the false positive rate or fpr for our model.\n"
   ]
  },
  {
   "cell_type": "code",
   "execution_count": null,
   "metadata": {},
   "outputs": [],
   "source": []
  },
  {
   "cell_type": "markdown",
   "metadata": {},
   "source": [
    "### 4.\ti. In the sense of machine learning models, what is underfitting? What is the most common reason for underfitting?\n",
    "\n",
    "Ans>> Underfitting is the kind of situation when our model Is too simple as it fails to capture the underlying pattern of the data or fails to capture the logical relationship to perform on the new data. This situation may also arise when our choosing algorithm is not suitable for that specific data and problem, we may choose a more complex algorithm for our problem. If our model is in an Underfitting state also we can say that it has high bias and low variance. The Underfitting model does not work well on training data as well as testing data. If our model is Underfitting then our model needs further improvement.\n",
    "\n",
    "* ii. What does it mean to overfit? When is it going to happen?\n",
    "\n",
    "Ans>> Overfitting is the kind of situation when our model is too complex and it finds the relationship well only for the given training data as it worked very well on the training data, but it fails when it comes to the test data or the new data. This type of problem arises when the model is learned too much from his training data and is suited only for the training data, and unable to perform new unseen data. for this type of problem, we can choose a less complex algorithm for the task.\n",
    "\n",
    "\n",
    "* iii. In the sense of model fitting, explain the bias-variance trade-off.\n",
    "\n",
    "Ans>> The bias-variance trade-off is important for machine learning statistics which generalize the model performance in unseen data. It is defined by the error is made by our model during the time of prediction. \n",
    "The term Bias error is generally occurs to choosing the wrong algorithms for our model. the high bias means our model is underfitting. And the model is too simple to capture the underlying pattern. This can be done for making wrong assumptions.\n",
    "The term Variance occurs when the model is too much capture and fit with training data and it performed very well on training time but very bad in the time of testing. This means the high variance means the model is overfitting.\n",
    "Reducing one error make the increasing other, and we have to go through a very complex situation when handling this situation, this is why it is called bias-variance trade-off.\n"
   ]
  },
  {
   "cell_type": "code",
   "execution_count": null,
   "metadata": {},
   "outputs": [],
   "source": []
  },
  {
   "cell_type": "markdown",
   "metadata": {},
   "source": [
    "### 5.\tIs it possible to boost the efficiency of a learning model? If so, please clarify how.\n",
    "\n",
    "Ans>> Our first choosing model may not gives the full and accurate result that we desire, but here is a serval way to improve or boost the efficiency of the learning model. The few methods are…\n",
    "More Data – To improve our model efficiency we can add more data to the model to help the algorithms to capture the underlying data, in that case, if we are able to gather more data to feed the model then the model efficiency can be increased.\n",
    "\n",
    "\n",
    "\n",
    "* Data Cleaning – The efficiency of the model relies on the cleanness of the data we feeding to it. Before passing the data to the model we need to clean it, remove the unnecessary number if the feature is consists of the word then we should remove the punctuation and make the data, Also we have to remove the null value from the data in a structured way to get a better result.\n",
    "\n",
    "\n",
    "\n",
    "* Feature Engineering – Feature engineering is the most major part of machine learning model creation, in this part we choose which feature we will use to make the model and which feature we will remove from the model. Adding more feature and removing it depends on the condition of the current model. if our model has a high bias means our model is underfitting then we should consider increasing its complexity by adding more features. If we don’t have enough feature then we can create by using the polynomial feature technique. And in another side if our model has high variance then means our model is overfitting then we should consider to removing some feature based on its weights. In Feature engineering steps one more major task is to convert the categorical value into numerical once, we can perform one-hot encoding to do so, or in another process as we required for our problem. Also, we can be scaling the data to get more efficiency from our model. scaling means to scale down the higher range value into a lower range scale.\n",
    "\n",
    "\n",
    "\n",
    "* Ensemble Methode – The ensemble method is one of the major techniques, the ensemble method is putting more than one algorithms into one to train the data to get more efficiency. The ensemble method can be considered as the concatenation of multiple models or working multiple models at once. This can be done by adding serval learners or models to create a strong model that can perform better than the individual model will work. The ensemble method can be described by giving an example, One simple DecessionTree algorithm may not be performed very well on a problem, but instead of using one algorithm we can add serval DecessionTree to create a strong model, In practice, we have a model called RandomForest which is very strong model can perform both classification and regression problem(have different algorithms for regression and classification). The RandomForest model is nothing but adding multiple DecessionTree models altogether. This is the main concept of the ensemble method. The main reason to use ensemble methods is getting higher performance and robustness of the model. In machine learning, if we get some complex problem with a very complex dataset then we can use ensemble methods to achieve a good method when other algorithms will not give us a good result. In that time ensemble method may work better. \n",
    "There are several ensemble methods, some popular ensemble methods are boosting, bagging, and stacking methods, working methods are slightly different than one. Although the ensemble method is a more popular way to boost the model efficiency.\n"
   ]
  },
  {
   "cell_type": "code",
   "execution_count": null,
   "metadata": {},
   "outputs": [],
   "source": []
  },
  {
   "cell_type": "markdown",
   "metadata": {},
   "source": [
    "### 6.\tHow would you rate an unsupervised learning model's success? What are the most common success indicators for an unsupervised learning model?\n",
    "\n",
    "Ans>> \n",
    "                                              Study at first form the book\n"
   ]
  },
  {
   "cell_type": "code",
   "execution_count": null,
   "metadata": {},
   "outputs": [],
   "source": []
  },
  {
   "cell_type": "markdown",
   "metadata": {},
   "source": [
    "### 7.\tIs it possible to use a classification model for numerical data or a regression model for categorical data with a classification model? Explain your answer.\n",
    "Ans>> Telling the possibility of using regression model on classification problem and classification problem on the regression problem if we do that then the model will not give us the desired result we want for. Because bost algorithms are designed in a different way to perform the task and their output value is also going to be different, most of the classification model give us output a probability number means a number between 0 to 1, and then based on a threshold value we evaluate the class, and In case of a regression problem, the model evaluates a continuous number. A simple example will describe it better. Like if we have two algorithms Linear Regression for regression problem and Logistics Regression Problem for classification problem. Now both algorithms give us output different numbers, Linear regression will give us continuous numbers, as we use it for calculating continuous numbers like house price or car price based on the input feature. And in another side in logistic regression algorithms, the model gives us to output a value 0 to 1 or the probability of being of a certain class.  Like a person have a certain disease or based on some feature. The output will be only ‘yes’ or ‘no’. not any continuous numbers.\n",
    "\n",
    "Now if we use the Logistics regression model for calculating the house price and if we do so then we can see the every house price is between 0 to 1 and that will not make any sense, the output is we want here is a continuous number like 50,000 or 86748 like that, not any ‘yes’ or ‘no’. \n",
    "\n",
    "And the working procedure is also different for regression algorithms and classification algorithms the fitting process of training data is also different. That is why we should not use regression algorithms for classification problems and vice versa.\n"
   ]
  },
  {
   "cell_type": "code",
   "execution_count": null,
   "metadata": {},
   "outputs": [],
   "source": []
  },
  {
   "cell_type": "markdown",
   "metadata": {},
   "source": [
    "### 8. Describe the predictive modeling method for numerical values. What distinguishes it from categorical predictive modeling?\n",
    "\n",
    "Ans>> The predictive model's main focus to calculate or predict a value from the given input feature rather than explain the variability of the instances like a descriptive model. Predictive modeling for numerical values works on the prediction number, from the given feature also numerical value it tries to capture the underlying pattern and find the logical relationship, and then it calculates the output number from that relationship. This is how predictive modeling for numerical value works. An example of a predictive model for numerical value can be Linear Regression which can calculate continuous numbers from the given input feature. The linear regression model first calculates the slope from the given input features.  And intercept and the coefficient for the line and try to fit all instances to that line. After that And then based on that formula it predicts the output value from new data.\n",
    "\n",
    "The categorical predictive model also works in a similar way but instead of predicting a continuous value, it predicts classes. The categorical predictive model or classification model works with the input feature and captures the underlying pattern and then it predicts the class that best fits with the input feature. This is the main difference from the numerical predictive model.\n"
   ]
  },
  {
   "cell_type": "code",
   "execution_count": null,
   "metadata": {},
   "outputs": [],
   "source": []
  },
  {
   "attachments": {
    "image.png": {
     "image/png": "[encoded data removed]"
    }
   },
   "cell_type": "markdown",
   "metadata": {},
   "source": [
    "###  9. The following data were collected when using a classification model to predict the malignancy of a group of patients' tumors:\n",
    "         i. Accurate estimates – 15 cancerous, 75 benign\n",
    "         ii. Wrong predictions – 3 cancerous, 7 benign\n",
    "                Determine the model's error rate, Kappa value, sensitivity, precision, and F-measure.\n",
    "                \n",
    "                \n",
    "Ans>> The confusion matrix can be for this result…\n",
    "\n",
    "![image.png](attachment:image.png)\n",
    "\n",
    "    \n",
    "`TP  = true positive`,  `TN  = true negative`,  `FP  = false positive`,  `FN  = false negative`\n",
    "\n",
    "Now I have created the confusion matrix for the problem now from the given problem.\n",
    "\n",
    "\n",
    "* The kappa value – The kappa value can be used in a classification model to measure the model performance. kappa value compare any classifier to the baseline a random classifier\n",
    "\n",
    "* `Κ  = (accuracy − random accuracy)  /  (1 − random accuracy)`\n",
    "\n",
    "Where accuracy formula is , accuracy = (TP+TN) / (TP+TN+FP+FN)\n",
    "\n",
    "And the random accuracy is calculated …\n",
    "\n",
    "`p1 = (TP+FN) / (TP+FP+TN+FN)`\n",
    "`p2 = (TP+FP) / (TP+FP+TN+FN)`\n",
    "\n",
    "where p1 is the probability of randomly label class from the data by our model, \n",
    "and p2 is the probability of making a positive label from data by our model.\n",
    "\n",
    "now the `random accuracy =  (p1*p2) + {(1−p1) * (1−p2)}`\n",
    "\n",
    "now for the given data, \n",
    "\n",
    "`accuracy = (15+75) / (15 + 7 + 3 + 75) = 9/10 = 0.9 or 90%`\n",
    "\n",
    "`p1 = (15 + 7) / (15+7+3+75) = 22/100 = 0.22`\n",
    "\n",
    "`p2 = (15+3) / (15+7+3+75) = 18/100 = 0.18`\n",
    "\n",
    "`random accuracy = (0.22 * 0.18) + (0.78 * 0.82) = 0.0396 + 0.6396 = 0.6792`\n",
    "`kappa value (k) = (0.9 – 0.6792) / 0.3208 = 0.6882 or 69% `\n",
    "\n",
    "now we can observe that although our model has over 90% accuracy but the kappa value is only 69%, here the kappa value is a more reliable measure than accuracy, This type of behavior can observe that where the positive class has very less amount than a negative class like if our data set have only 10 people have cancer out of 100 people then if our model chooses every people doesn’t have cancer then our model will give 90% accuracy, but our model is predicted all of them don’t have cancer, but our kappa value is 68%, this is the reason we should not use accuracy on a classification problem.\n",
    "\n",
    "* Sensitivity or `recall = TP / TP + FN , = 15 / 15+7 = 15/22 = 0.681`\n",
    "\n",
    "\n",
    "*  `Precision = TP / TP + FP = 15 / 15+3 = 15/18 = 0.833`\n",
    "\n",
    "* F- measure or `f-score = 2(recall * precision) / recall + precision = 1.1345 / 1.514 = 0.749`\n",
    "\n",
    "We can consider f-score as average of recall and precison.\n"
   ]
  },
  {
   "cell_type": "code",
   "execution_count": null,
   "metadata": {},
   "outputs": [],
   "source": []
  },
  {
   "cell_type": "markdown",
   "metadata": {},
   "source": [
    "### 10. Make quick notes on:\n",
    "\n",
    "* 1. The process of holding out\n",
    "\n",
    "Ans>> In the time of machine learning model creation the data set is divided into 3 separate part, one is called training data, this part is bigger around more than 70% of data used in this section, and the second one is validation set which the model is used during the training time to check its performance on unseen data, but this is not reliable as the model will see the same data in the many time during the time of model tuning of hyperparameter. \n",
    "And the third one is the Holdout set which is separate completely from the model to test the model in the final stage for its performance. the hold-out set should never use for tuning the model it should keep completely separate from the model during the training time.\n",
    "\n",
    "\n",
    "* 2. Cross-validation by tenfold\n",
    "\n",
    "Ans>> cross-validation by tenfold means the data with the split into 10 separate groups and every group will have training data and test data. cross-validation use to check the performance of the model in unseen data. to use a limited sample to estimate how the model is expected to perform in general when used to make predictions on data not used during the training of the model. In the k-fold cross-validation, the `k` is denoted that in how many groups the data will be split in to test set and training set, because we use cross-validation with a small size of data and we use the same data with resampling. In here the value of k Is 10 as we split 10 groups.\n",
    "\n",
    "\n",
    "* 3. Adjusting the parameters\n",
    "\n",
    "Ans>> The machine learning algorithms have many parameters to work with and these parameters are called hyperparameter and the model performance may vary on these parameters. When a machine learning algorithm is tuned for a specific problem, such as when we are using a grid search or a random search, for finding the best hyperparameters for our problem then you are tuning the hyperparameters of the model or order to discover the parameters of the model that result in the most skillful predictions.\n",
    "\n",
    "Some examples of model hyperparameters include:\n",
    "\n",
    "The learning rate for training a neural network.\n",
    "\n",
    "The C and sigma hyperparameters for support vector machines.\n",
    "\n",
    "The k in k-nearest neighbors.\n"
   ]
  },
  {
   "cell_type": "code",
   "execution_count": null,
   "metadata": {},
   "outputs": [],
   "source": []
  },
  {
   "cell_type": "markdown",
   "metadata": {},
   "source": [
    "### 11. Define the following terms: \n",
    "\n",
    "* 1. Purity vs. Silhouette width\n",
    "\n",
    "Ans>> The silhouette represents how well the data is fitted in different is own cluster or group, this is can be found in unsupervised machine learning where we group similar instance in different groups based on their similarity. And the silhouette technique provides a graphical technique for representation of how well each object has been classified. The silhouette value is a measure of how similar an object is to its cluster compared to other clusters, The silhouette value ranges between −1 to +1, where a high value indicates that the object is well matched to its own cluster and poorly matched to others clusters. If most objects have a high value, then the clustering configuration is appropriate. If many points have a low or negative value, then the clustering configuration may have too many or too few clusters.\n",
    "\n",
    "\n",
    "* 2. Boosting vs. Bagging\n",
    "\n",
    "Ans>> Bagging is a method of merging the same type of predictions. Boosting is a method of merging different types of predictions made by our model, and bagging decreases variance, not bias, and solves over-fitting issues in a model. Boosting decreases bias, not variance. In Bagging, each model receives an equal weight. In Boosting, models are weighed based on their performance. Models are built independently in Bagging. New models are affected by a previously built model’s performance in Boosting. In Bagging, training data subsets are drawn randomly with a replacement for the training dataset. In Boosting, every new subset comprises the elements that were misclassified by previous models. Bagging is usually applied where the classifier is unstable and has a high variance. Boosting is usually applied where the classifier is stable and simple and has a high bias\n",
    "\n",
    "\n",
    "* 3. The eager learner vs. the lazy learner\n",
    "\n",
    "Ans>> Eager learners construct a classification model based on the given training data before receiving data for classification. It must be able to commit to a single hypothesis that covers the entire instance space. Due to the model construction, eager learners take a long time to train and less time to predict, and in the case of Lazy learners simply store the training data and wait until a testing data appear. When it does, classification is conducted based on the most related data in the stored training data. Compared to eager learners, lazy learners have less training time but more time in predicting. The example of a lazy learner can be k- nearest neighbor and an example of an eager learner can be the Decision Tree algorithm.\n"
   ]
  },
  {
   "cell_type": "code",
   "execution_count": null,
   "metadata": {},
   "outputs": [],
   "source": []
  }
 ],
 "metadata": {
  "kernelspec": {
   "display_name": "Python 3",
   "language": "python",
   "name": "python3"
  },
  "language_info": {
   "codemirror_mode": {
    "name": "ipython",
    "version": 3
   },
   "file_extension": ".py",
   "mimetype": "text/x-python",
   "name": "python",
   "nbconvert_exporter": "python",
   "pygments_lexer": "ipython3",
   "version": "3.8.5"
  }
 },
 "nbformat": 4,
 "nbformat_minor": 4
}
