{
 "cells": [
  {
   "cell_type": "markdown",
   "metadata": {},
   "source": [
    "### 1. What exactly is a feature? Give an example to illustrate your point.\n",
    "\n",
    "Ans>> The features are data from that data our model will learn, we can consider these are predictors to predict the value or class, the desired output of ours.  The feature is collected information, based on that our model will train like if we are creating a model that will predict a house price based on some features, then the features will be.\n",
    "\n",
    "`House Size`, `Number of Rooms`, `Total area of the property` and many more, the notable things here we have to provide the same number of input to the model in the time of predicting although we can tackle that problem to convert non-entry feature to zero, in that case, the result may vary. Now the model will learn from these features and will try to capture the logical relationship between those features and house price, like if the house size is big then it tends to the house price will be more than compared to small size house, or how many rooms in the house has that will depend on the house price, it is more likely to the house price will be more if the house contains a large number of rooms in that house. This is how feature works on the model.\n"
   ]
  },
  {
   "cell_type": "code",
   "execution_count": null,
   "metadata": {},
   "outputs": [],
   "source": []
  },
  {
   "cell_type": "markdown",
   "metadata": {},
   "source": [
    "###  2. What are the various circumstances in which feature construction is required?\n",
    "\n",
    "Ans>> The feature construction may be required in the time, if our model has high bias, as if the model is underfitting then we may consider creating more feature from existing features if our model is too simple and fails to capture the underlying data and choosing more complex algorithms is not working in that time we can use create a polynomial feature from our existing data. By doing squared root of any numerical feature or increasing the qube power to the feature. Scikitlearn `PolynomialFeature` class can be used for this purpose it transforms our training data, adding the square (2nd-degree polynomial) of each feature in the training set as new features.\n"
   ]
  },
  {
   "cell_type": "code",
   "execution_count": null,
   "metadata": {},
   "outputs": [],
   "source": []
  },
  {
   "cell_type": "markdown",
   "metadata": {},
   "source": [
    "### 3. Describe how nominal variables are encoded.\n",
    "\n",
    "Ans>> Nominal data is the type of categorical data along with one type for the categorical type called ordinal data, Nominal data is defined as data that is used for naming or labeling variables of a feature, without any quantitative value. It is sometimes called “named” data - a meaning coined from the word nominal. There is a serval way to encoded categorical data and for the nominal data, we also have serval way to encode like `One-Hot-Encoding`, `Binary Encoding`, pandas `get_dummy` method.\n",
    "\n",
    "The demonstration will be better with an example.\n",
    "Creating a data frame to performe encoding"
   ]
  },
  {
   "cell_type": "code",
   "execution_count": 1,
   "metadata": {},
   "outputs": [
    {
     "data": {
      "text/html": [
       "<div>\n",
       "<style scoped>\n",
       "    .dataframe tbody tr th:only-of-type {\n",
       "        vertical-align: middle;\n",
       "    }\n",
       "\n",
       "    .dataframe tbody tr th {\n",
       "        vertical-align: top;\n",
       "    }\n",
       "\n",
       "    .dataframe thead th {\n",
       "        text-align: right;\n",
       "    }\n",
       "</style>\n",
       "<table border=\"1\" class=\"dataframe\">\n",
       "  <thead>\n",
       "    <tr style=\"text-align: right;\">\n",
       "      <th></th>\n",
       "      <th>Column_Numeric</th>\n",
       "      <th>Columns_Nominal</th>\n",
       "    </tr>\n",
       "  </thead>\n",
       "  <tbody>\n",
       "    <tr>\n",
       "      <th>0</th>\n",
       "      <td>1</td>\n",
       "      <td>Cat</td>\n",
       "    </tr>\n",
       "    <tr>\n",
       "      <th>1</th>\n",
       "      <td>4</td>\n",
       "      <td>Dog</td>\n",
       "    </tr>\n",
       "    <tr>\n",
       "      <th>2</th>\n",
       "      <td>5</td>\n",
       "      <td>Cat</td>\n",
       "    </tr>\n",
       "    <tr>\n",
       "      <th>3</th>\n",
       "      <td>8</td>\n",
       "      <td>Dog</td>\n",
       "    </tr>\n",
       "    <tr>\n",
       "      <th>4</th>\n",
       "      <td>2</td>\n",
       "      <td>Mouse</td>\n",
       "    </tr>\n",
       "  </tbody>\n",
       "</table>\n",
       "</div>"
      ],
      "text/plain": [
       "   Column_Numeric Columns_Nominal\n",
       "0               1             Cat\n",
       "1               4             Dog\n",
       "2               5             Cat\n",
       "3               8             Dog\n",
       "4               2           Mouse"
      ]
     },
     "execution_count": 1,
     "metadata": {},
     "output_type": "execute_result"
    }
   ],
   "source": [
    "import pandas as pd\n",
    "d = {\n",
    "    'Column_Numeric' : [1,4,5,8,2],\n",
    "    'Columns_Nominal': ['Cat', 'Dog', 'Cat', 'Dog','Mouse']\n",
    "}\n",
    "#creating data frame from the dictionary\n",
    "df = pd.DataFrame(d)\n",
    "df"
   ]
  },
  {
   "cell_type": "markdown",
   "metadata": {},
   "source": [
    "Now we can see that our data frame have two columns one is numeric and one is categorical consist of name some animal, we can't work with this column, in order to work with we have to encode this colum.\n"
   ]
  },
  {
   "cell_type": "markdown",
   "metadata": {},
   "source": [
    "Performing pandas `get_dummies` in to the nominal column"
   ]
  },
  {
   "cell_type": "code",
   "execution_count": 2,
   "metadata": {},
   "outputs": [
    {
     "data": {
      "text/html": [
       "<div>\n",
       "<style scoped>\n",
       "    .dataframe tbody tr th:only-of-type {\n",
       "        vertical-align: middle;\n",
       "    }\n",
       "\n",
       "    .dataframe tbody tr th {\n",
       "        vertical-align: top;\n",
       "    }\n",
       "\n",
       "    .dataframe thead th {\n",
       "        text-align: right;\n",
       "    }\n",
       "</style>\n",
       "<table border=\"1\" class=\"dataframe\">\n",
       "  <thead>\n",
       "    <tr style=\"text-align: right;\">\n",
       "      <th></th>\n",
       "      <th>Column_Numeric</th>\n",
       "      <th>Columns_Nominal_Cat</th>\n",
       "      <th>Columns_Nominal_Dog</th>\n",
       "      <th>Columns_Nominal_Mouse</th>\n",
       "    </tr>\n",
       "  </thead>\n",
       "  <tbody>\n",
       "    <tr>\n",
       "      <th>0</th>\n",
       "      <td>1</td>\n",
       "      <td>1</td>\n",
       "      <td>0</td>\n",
       "      <td>0</td>\n",
       "    </tr>\n",
       "    <tr>\n",
       "      <th>1</th>\n",
       "      <td>4</td>\n",
       "      <td>0</td>\n",
       "      <td>1</td>\n",
       "      <td>0</td>\n",
       "    </tr>\n",
       "    <tr>\n",
       "      <th>2</th>\n",
       "      <td>5</td>\n",
       "      <td>1</td>\n",
       "      <td>0</td>\n",
       "      <td>0</td>\n",
       "    </tr>\n",
       "    <tr>\n",
       "      <th>3</th>\n",
       "      <td>8</td>\n",
       "      <td>0</td>\n",
       "      <td>1</td>\n",
       "      <td>0</td>\n",
       "    </tr>\n",
       "    <tr>\n",
       "      <th>4</th>\n",
       "      <td>2</td>\n",
       "      <td>0</td>\n",
       "      <td>0</td>\n",
       "      <td>1</td>\n",
       "    </tr>\n",
       "  </tbody>\n",
       "</table>\n",
       "</div>"
      ],
      "text/plain": [
       "   Column_Numeric  Columns_Nominal_Cat  Columns_Nominal_Dog  Columns_Nominal_Mouse\n",
       "0               1                    1                    0                      0\n",
       "1               4                    0                    1                      0\n",
       "2               5                    1                    0                      0\n",
       "3               8                    0                    1                      0\n",
       "4               2                    0                    0                      1"
      ]
     },
     "execution_count": 2,
     "metadata": {},
     "output_type": "execute_result"
    }
   ],
   "source": [
    "df = pd.get_dummies(df)\n",
    "df"
   ]
  },
  {
   "cell_type": "markdown",
   "metadata": {},
   "source": [
    "Now we can see the nominal column did not exist, insted of that we now create few new column, the extra number of columns depends on the how many categorical label we have in that column. Note here the column value is 1 only when the column postfix name is mattching with the label and others are zeros.\n",
    "Now this final dataframe is redy to fedd any machine leaarning model. \n",
    "I have only performe one methode, but there are more similar way to obtain the same result, but all of them have same intension to convert categorical label in to numeric form"
   ]
  },
  {
   "cell_type": "code",
   "execution_count": null,
   "metadata": {},
   "outputs": [],
   "source": []
  },
  {
   "cell_type": "markdown",
   "metadata": {},
   "source": [
    "### 4. Describe how numeric features are converted to categorical features.\n",
    "\n",
    "Ans>> The conversation of numeric feature to categorical can be needed for some specific problem ad we can do so to get solve the problem. There are a few ways to convert numeric features into categorical values, like pandas `qcut`, `cut`. Here is an example of converting numerical features into categorical values.\n"
   ]
  },
  {
   "cell_type": "code",
   "execution_count": 4,
   "metadata": {},
   "outputs": [
    {
     "data": {
      "text/html": [
       "<div>\n",
       "<style scoped>\n",
       "    .dataframe tbody tr th:only-of-type {\n",
       "        vertical-align: middle;\n",
       "    }\n",
       "\n",
       "    .dataframe tbody tr th {\n",
       "        vertical-align: top;\n",
       "    }\n",
       "\n",
       "    .dataframe thead th {\n",
       "        text-align: right;\n",
       "    }\n",
       "</style>\n",
       "<table border=\"1\" class=\"dataframe\">\n",
       "  <thead>\n",
       "    <tr style=\"text-align: right;\">\n",
       "      <th></th>\n",
       "      <th>Numeric column</th>\n",
       "    </tr>\n",
       "  </thead>\n",
       "  <tbody>\n",
       "    <tr>\n",
       "      <th>0</th>\n",
       "      <td>1</td>\n",
       "    </tr>\n",
       "    <tr>\n",
       "      <th>1</th>\n",
       "      <td>2</td>\n",
       "    </tr>\n",
       "    <tr>\n",
       "      <th>2</th>\n",
       "      <td>3</td>\n",
       "    </tr>\n",
       "    <tr>\n",
       "      <th>3</th>\n",
       "      <td>4</td>\n",
       "    </tr>\n",
       "    <tr>\n",
       "      <th>4</th>\n",
       "      <td>5</td>\n",
       "    </tr>\n",
       "    <tr>\n",
       "      <th>5</th>\n",
       "      <td>6</td>\n",
       "    </tr>\n",
       "    <tr>\n",
       "      <th>6</th>\n",
       "      <td>7</td>\n",
       "    </tr>\n",
       "    <tr>\n",
       "      <th>7</th>\n",
       "      <td>8</td>\n",
       "    </tr>\n",
       "    <tr>\n",
       "      <th>8</th>\n",
       "      <td>9</td>\n",
       "    </tr>\n",
       "    <tr>\n",
       "      <th>9</th>\n",
       "      <td>10</td>\n",
       "    </tr>\n",
       "  </tbody>\n",
       "</table>\n",
       "</div>"
      ],
      "text/plain": [
       "   Numeric column\n",
       "0               1\n",
       "1               2\n",
       "2               3\n",
       "3               4\n",
       "4               5\n",
       "5               6\n",
       "6               7\n",
       "7               8\n",
       "8               9\n",
       "9              10"
      ]
     },
     "execution_count": 4,
     "metadata": {},
     "output_type": "execute_result"
    }
   ],
   "source": [
    "#creating a dataframe for the converting\n",
    "d2 = {\n",
    "    'Numeric column': [1,2,3,4,5,6,7,8,9,10], #range of 1 to 10\n",
    "}\n",
    "df2 = pd.DataFrame(d2)\n",
    "df2"
   ]
  },
  {
   "cell_type": "markdown",
   "metadata": {},
   "source": [
    "For now we have only one column with numeric values, now we can set these valuees to categorical value, for that we have to set a range for value. \n",
    "\n",
    "* 1 to 4 - Low Rnage\n",
    "\n",
    "* 5 to 7 - Medium Rnage\n",
    "\n",
    "* 8 to 10 - High Range\n",
    "\n"
   ]
  },
  {
   "cell_type": "code",
   "execution_count": 8,
   "metadata": {},
   "outputs": [
    {
     "data": {
      "text/html": [
       "<div>\n",
       "<style scoped>\n",
       "    .dataframe tbody tr th:only-of-type {\n",
       "        vertical-align: middle;\n",
       "    }\n",
       "\n",
       "    .dataframe tbody tr th {\n",
       "        vertical-align: top;\n",
       "    }\n",
       "\n",
       "    .dataframe thead th {\n",
       "        text-align: right;\n",
       "    }\n",
       "</style>\n",
       "<table border=\"1\" class=\"dataframe\">\n",
       "  <thead>\n",
       "    <tr style=\"text-align: right;\">\n",
       "      <th></th>\n",
       "      <th>Numeric column</th>\n",
       "      <th>Categorical</th>\n",
       "    </tr>\n",
       "  </thead>\n",
       "  <tbody>\n",
       "    <tr>\n",
       "      <th>0</th>\n",
       "      <td>1</td>\n",
       "      <td>Low Rnage</td>\n",
       "    </tr>\n",
       "    <tr>\n",
       "      <th>1</th>\n",
       "      <td>2</td>\n",
       "      <td>Low Rnage</td>\n",
       "    </tr>\n",
       "    <tr>\n",
       "      <th>2</th>\n",
       "      <td>3</td>\n",
       "      <td>Low Rnage</td>\n",
       "    </tr>\n",
       "    <tr>\n",
       "      <th>3</th>\n",
       "      <td>4</td>\n",
       "      <td>Low Rnage</td>\n",
       "    </tr>\n",
       "    <tr>\n",
       "      <th>4</th>\n",
       "      <td>5</td>\n",
       "      <td>Medium Range</td>\n",
       "    </tr>\n",
       "    <tr>\n",
       "      <th>5</th>\n",
       "      <td>6</td>\n",
       "      <td>Medium Range</td>\n",
       "    </tr>\n",
       "    <tr>\n",
       "      <th>6</th>\n",
       "      <td>7</td>\n",
       "      <td>Medium Range</td>\n",
       "    </tr>\n",
       "    <tr>\n",
       "      <th>7</th>\n",
       "      <td>8</td>\n",
       "      <td>High Range</td>\n",
       "    </tr>\n",
       "    <tr>\n",
       "      <th>8</th>\n",
       "      <td>9</td>\n",
       "      <td>High Range</td>\n",
       "    </tr>\n",
       "    <tr>\n",
       "      <th>9</th>\n",
       "      <td>10</td>\n",
       "      <td>High Range</td>\n",
       "    </tr>\n",
       "  </tbody>\n",
       "</table>\n",
       "</div>"
      ],
      "text/plain": [
       "   Numeric column   Categorical\n",
       "0               1     Low Rnage\n",
       "1               2     Low Rnage\n",
       "2               3     Low Rnage\n",
       "3               4     Low Rnage\n",
       "4               5  Medium Range\n",
       "5               6  Medium Range\n",
       "6               7  Medium Range\n",
       "7               8    High Range\n",
       "8               9    High Range\n",
       "9              10    High Range"
      ]
     },
     "execution_count": 8,
     "metadata": {},
     "output_type": "execute_result"
    }
   ],
   "source": [
    "# creating a nwe column with pandas cut methode\n",
    "\n",
    "df2['Categorical'] = pd.cut(x = df2['Numeric column'], # passing the datafram column in which we want ot convert\n",
    "                           bins=[0,4,7,10], # setting the bins in which we want\n",
    "                           labels=['Low Rnage', 'Medium Range', 'High Range']) # setting value rnage in to groups\n",
    "df2"
   ]
  },
  {
   "cell_type": "markdown",
   "metadata": {},
   "source": [
    "This was a basic example converting numeric feature into categorical feature. the vaue range are now divided in categorical value as we want. for this we can categorize each value to it belongs to which groups."
   ]
  },
  {
   "cell_type": "code",
   "execution_count": null,
   "metadata": {},
   "outputs": [],
   "source": []
  },
  {
   "cell_type": "markdown",
   "metadata": {},
   "source": [
    "### 5. Describe the feature selection wrapper approach. State the advantages and disadvantages of this approach?\n",
    "\n",
    "Ans>> The feature selection process's main purpose is to find the best feature or find the useful feature or attribute that can create a good and efficient model. The wrapper approach is divided into three sections, in every section, it follows a different approach in order to find the useful feature for our model, these methods are for the wrapper approach.\n",
    "\n",
    "* Forward Selection – In this method, we try to take feature one by and keep adding them to create a different model every time, like at first we start with no feature and build the model and evaluate performance metrics that are required for our model like accuracy or error rate for that model, then we start adding a feature in an iterative process and create a model at every time and calculate performance metrics for that model, and we do this process until a model is created for every feature in the dataset, and based on these performance metrics we check that in where our model gives us better performance and keep those feature and those feature consist model gives us no improvement we remove those features from the data, this is how forward selection methods work.\n",
    "\n",
    "\n",
    "* Backward Elimination – This method is totally opposite from the above method, here we start building a model with all features we have in our dataset and evaluate performance metrics and then we keep removing feature one by one from the data and build a model, we keep doing this until no improvement observes by removing feature, we do the selection process on models metrics.\n",
    "\n",
    "\n",
    "* Recursive feature elimination – In this method, we take a subset of the feature, first we start by taking one feature from the data, and then we keep adding feature randomly by doing permutation combination and build a model at every step and evaluate performance metrics and after that based on that metrics we choose useful feature for the final model\n",
    "\n",
    "\n",
    "* Advantage and Disadvantage – The main advantage of the wrapper method by using this we don’t need that much statistical approach to find a useful feature, this works on by taking all feature one by one to check the model performance to obtain the best feature, by using this method we can extract useful feature, But the main disadvantage of this is we need to use a smaller dataset for this approach as the wrapper method works it creates a new model at every iteration, that means this process is very computationally expensive, either we need a heavy system to perform this method or have to use smaller dataset, but in real life, we generally have a large dataset, for that reason this using this method is limited.\n"
   ]
  },
  {
   "cell_type": "code",
   "execution_count": null,
   "metadata": {},
   "outputs": [],
   "source": []
  },
  {
   "cell_type": "markdown",
   "metadata": {},
   "source": [
    "### 6. When is a feature considered irrelevant? What can be said to quantify it?\n",
    "\n",
    "Ans>> We can perform many feature selection processes to extract the useful feature from many unnecessary features, there are serval way to do this, like filtering methods, wrapper methods, embedding methods, all these are feature selection methods,\n",
    "\n",
    "A feature is called irrelevant when the feature is not contributing to our model performance, also if it is downgrading our model performance then we should consider removing that feature from our data, these types of features are called irrelevant features.\n",
    "\n",
    "The one method is can use to quantify it to use coefficient-correlation that features with the target variable. If increasing the feature value also increases the target value then we can say that this feature has a high correlation with the target variable, and we should consider keeping it, and if have no correlation with the target value then we can remove that irrelevant feature.\n"
   ]
  },
  {
   "cell_type": "code",
   "execution_count": null,
   "metadata": {},
   "outputs": [],
   "source": []
  },
  {
   "cell_type": "markdown",
   "metadata": {},
   "source": [
    "### 7. When is a function considered redundant? What criteria are used to identify features that could be redundant?\n",
    "\n",
    "Ans>> Redundant features add no relevant information to our other features, because they are correlated or because they can be obtained by a combination of other features. Having them on your set will not add anything, but it won't hurt either, information-wise. \n",
    "Like in a medical sector a patient dataset we can have a column for BMI also have Height and Weight column. In that case, the BMI can be obtained by calculating from patient height and weight, in this case, we can call BMI is the redundant feature.\n"
   ]
  },
  {
   "cell_type": "code",
   "execution_count": null,
   "metadata": {},
   "outputs": [],
   "source": []
  },
  {
   "cell_type": "markdown",
   "metadata": {},
   "source": [
    "### 8. What are the various distance measurements used to determine feature similarity?\n",
    "\n",
    "Ans>> A distance measure can be considered as a score that can be helpful to find feature similarity or relative difference between two objects. This type of distance measurement used in clustering algorithms where the model is trying to group similar instance based on their similarity score, this similarity score is the distance which can be calculated form few methods. An example of these types of algorithms can be K-Nearest Neighbour for supervised learning, and k-means clustering for unsupervised learning where the distance measurement is the main heart of the algorithms.\n",
    "\n",
    "Few methods are – \n",
    "\n",
    "* Hamming Distance - Hamming distance calculates the distance between two binary vectors, also referred to as binary strings or bitstrings. This is mostly used when we have categorical data with one-hot-encoded\n",
    "We can calculate Hamming distance between two objects from scipy distance class by importing hamming.\n"
   ]
  },
  {
   "cell_type": "code",
   "execution_count": 17,
   "metadata": {},
   "outputs": [
    {
     "name": "stdout",
     "output_type": "stream",
     "text": [
      "The Hamming distance is 0.333\n"
     ]
    }
   ],
   "source": [
    "from scipy.spatial.distance import hamming # importin hamming\n",
    "# define data\n",
    "row1 = [0, 0, 0, 0, 0, 1]\n",
    "row2 = [0, 0, 1, 0, 0, 0]\n",
    "# calculate distance\n",
    "ham_dist = hamming(row1, row2)\n",
    "print(\"The Hamming distance is {:.3f}\".format(ham_dist))"
   ]
  },
  {
   "cell_type": "markdown",
   "metadata": {},
   "source": [
    "* Euclidean Distance - Euclidean distance calculates the distance between two real-valued vectors.\n",
    "Here we are working with most real numerical value like integer or float numbers, If columns have values with differing scales, it is common to normalize or standardize the numerical values across all columns before calculating the euclidean distance. Otherwise, columns that have large values will dominate the distance measure. euclidean distance is calculated as the square root of the sum of the squared differences between the two vectors.\n",
    "Similarly we can calculate euclidean distance from scipy distance class"
   ]
  },
  {
   "cell_type": "code",
   "execution_count": 20,
   "metadata": {},
   "outputs": [
    {
     "name": "stdout",
     "output_type": "stream",
     "text": [
      "The Euclidean distance is 6.083\n"
     ]
    }
   ],
   "source": [
    "from scipy.spatial.distance import euclidean\n",
    "# define data\n",
    "row1 = [10, 20, 15, 10, 5]\n",
    "row2 = [12, 24, 18, 8, 7]\n",
    "# calculate distance\n",
    "euc_dist = euclidean(row1, row2)\n",
    "print('The Euclidean distance is {:.3f}'.format(euc_dist))"
   ]
  },
  {
   "cell_type": "markdown",
   "metadata": {},
   "source": [
    "* Manhattan Distance -  Manhattan distance is calculated as the sum of the absolute differences between the two vectors. We can also perform manhattan disctance calculation using the cityblock() function from SciPy."
   ]
  },
  {
   "cell_type": "code",
   "execution_count": 21,
   "metadata": {},
   "outputs": [
    {
     "name": "stdout",
     "output_type": "stream",
     "text": [
      "The Manhattan distance is 13.000\n"
     ]
    }
   ],
   "source": [
    "# calculating manhattan distance between vectors\n",
    "from scipy.spatial.distance import cityblock\n",
    "# define data\n",
    "row1 = [10, 20, 15, 10, 5]\n",
    "row2 = [12, 24, 18, 8, 7]\n",
    "# calculate distance\n",
    "man_dist = cityblock(row1, row2)\n",
    "print('The Manhattan distance is {:.3f}'.format(man_dist))"
   ]
  },
  {
   "cell_type": "code",
   "execution_count": null,
   "metadata": {},
   "outputs": [],
   "source": []
  },
  {
   "cell_type": "markdown",
   "metadata": {},
   "source": [
    "### 9. State difference between Euclidean and Manhattan distances?"
   ]
  },
  {
   "cell_type": "code",
   "execution_count": null,
   "metadata": {},
   "outputs": [],
   "source": []
  },
  {
   "attachments": {
    "image-2.png": {
     "image/png": "[encoded data removed]"
    },
    "image.png": {
     "image/png": "[encoded data removed]"
    }
   },
   "cell_type": "markdown",
   "metadata": {},
   "source": [
    "### 10. Distinguish between feature transformation and feature selection.\n",
    "\n",
    "Ans>> The feature transformation Is a need for our dataset when we have featured in different scale, like if we have a dataset where we have one column a person age and another column where we have that person’s monthly income, so inspite of these two numerical value, these are in different range any person age can be o to 80 most of the cases but in case of income this can vary in various range, now if we feed this type of data directly to the model, then the model can be confused and may not be performed very well, for overcome this problem we have a solution called feature transformation, \n",
    "The feature transformation is changing the various feature value range by keeping all the information. The main two methods are used to perform the feature scaling is called MInMax Scaler and Standard Sacler.\n",
    "\n",
    "* MinMaxScaler – The method is used to scale down the data range into between 0 to 1 by keeping all the relevant information, \n",
    "![image.png](attachment:image.png)\n",
    "\n",
    "* Standard Scaler – Here we scale down the data to mean 0 and standard deviation to 1. \n",
    "![image-2.png](attachment:image-2.png)\n",
    "\n",
    "\n",
    "* And The Feature Selection process is different from feature transformation, here we are trying to find useful feature for our model, not all the feature that our dataset has can be necessary, there are unnecessary feature or column can be there, these features are not any contribution to our model, keeping them is just increasing the dimension and it can be costly to training time, that is why we should remove these feature, \n",
    "There is various way to choosing the useful feature from many features, the methods are.\n",
    "Filtering method- Under this method we perform a statistical approach to choosing the right feature for our models like a chi-squared test, ANOVA test, and checking correlation with every feature with our target feature.\n",
    "Wrapper Methode – The wrapper method also can be useful to find the right feature, Forward selection, Backward Elimination are a method for this method, but this method is not used just because this can be very slow for, if we have large data then following this process can be very computationally expensive.\n"
   ]
  },
  {
   "cell_type": "code",
   "execution_count": null,
   "metadata": {},
   "outputs": [],
   "source": []
  },
  {
   "cell_type": "markdown",
   "metadata": {},
   "source": [
    "### 11. Make brief notes on any two of the following:\n",
    " 3. The width of the silhouette\n",
    " Ans>> The silhouette represents how well the data is fitted in different is own cluster or group, this is can be found in unsupervised machine learning where we group similar instance in different groups based on their similarity. And the silhouette technique provides a graphical technique for representation of how well each object has been classified. The silhouette value is a measure of how similar an object is to its cluster compared to other clusters, The silhouette value ranges between −1 to +1, where a high value indicates that the object is well matched to its own cluster and poorly matched to others clusters. If most objects have a high value, then the clustering configuration is appropriate. If many points have a low or negative value, then the clustering configuration may have too many or too few clusters.\n",
    " \n",
    " \n",
    " \n",
    " 4. Receiver operating characteristic curve\n",
    "Ans>> The Receiver operating characteristics curve or the roc curve is one of the great model performance metrics for the classification problem, As the name suggests we plot a curve and from the plot, e can decide our model performance. or we also have a roc score that is also accuracy score can tell us how good our model is. The roc curve plot true positive rate vs false positive rate. To plot the roc curve we need to calculate true positive rate or tpr and false positive rate or fpr for our model."
   ]
  },
  {
   "cell_type": "code",
   "execution_count": null,
   "metadata": {},
   "outputs": [],
   "source": []
  }
 ],
 "metadata": {
  "kernelspec": {
   "display_name": "Python 3",
   "language": "python",
   "name": "python3"
  },
  "language_info": {
   "codemirror_mode": {
    "name": "ipython",
    "version": 3
   },
   "file_extension": ".py",
   "mimetype": "text/x-python",
   "name": "python",
   "nbconvert_exporter": "python",
   "pygments_lexer": "ipython3",
   "version": "3.8.5"
  }
 },
 "nbformat": 4,
 "nbformat_minor": 4
}
