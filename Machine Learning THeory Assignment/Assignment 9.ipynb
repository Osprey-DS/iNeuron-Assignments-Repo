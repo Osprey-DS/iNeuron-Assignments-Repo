{
 "cells": [
  {
   "cell_type": "markdown",
   "metadata": {},
   "source": [
    "### 1. What is feature engineering, and how does it work? Explain the various aspects of feature engineering in depth.\n",
    "\n",
    "Ans>> feature engineering is a method to extract useful feature from the dataset, The data has come with us has many features, and all the feature may not be helpful to build the model, and Feature engineering can be described as a process of transforming raw data into features that better represent the underlying problem to the predictive models, resulting in improved model accuracy on unseen data. Feature engineering turns your inputs into things the algorithm can understand and that is to improve the model performance. The main purpose of feature engineering is to cleaning the data or creating final data that is we can feed to the machine learning model.\n",
    "The feature engineering takes serval steps for every step we handle different problem occurs with our dataset. The steps are…\n",
    "\n",
    "* **Find Missing Value/ Imputation** – The data set we gather from different sources and that information can be filled by human or any system report(any log file) so it is normal to refuse to give some information and these absence values are called nan value. And we have to take care of these nan values, if the value is numerical type then we can fill those positions with the mean of the total value. And if the features are categorical then we can proceed with a different approach like a forward filling or backward filling, Note that filling the missing value or handling the missing value completely depends on the problem we are tackling, and also it is chosen by the ml engineer or the developers and he will do so from his past experience.\n",
    "\n",
    "\n",
    "* **Handling Outliers** -  The one major problem for the bad input can be outliers. The outliers are some value that stays far from the normal range. Like if have columns that consist of a person's age, and we find some values are more than 100 or like 120, 130, these can be considered as outliers. We know that the normal range of a person can be within 80 to 90, in most cases it does not exceed form this. If we feed the model with these outliers value then the model will be very confused\n",
    "To overcome this problem we can perform some approach that would remove these outliers. And these are\n",
    "* **Log transformation** - Logarithm transformation (or log transform) is one of the most commonly used mathematical transformations in feature engineering. Here are the benefits of using log transform, It helps to handle skewed data and after transformation, the distribution becomes more approximate to normal, It also decreases the effect of the outliers due to the normalization of magnitude differences and the model become more robust, The data we apply log transform to must have only positive values.\n",
    " \n",
    " \n",
    "* **Percentile** - Percentiles according to the range of the data. In other words, if our data range from 0 to 100, our top 5% is not the values between 96 and 100. Top 5% means here the values that are out of the 95th percentile of data, so we can consider taking only 95 percentile of the total data for the work and remove the 5%.\n",
    "\n",
    "\n",
    "* **Handling Categorical Feature** – We can have features or columns like consist of values those are word, not any number, like any product name, or the car company name, gender(male or female), we can feed these word to the model, we have to convert the in number before fitting them to the model. There are serval steps we can do for handling this situation, like One-hot-encoding, or Binary-encoding, these methods turn all the categorial value in numerical representation.\n",
    "\n",
    "\n",
    "* **Scaling** – This is the most important step in feature engineering, almost every machine learning algorithm required this step, this step improves the model performance by large steps. The scaling is scaling down the feature value in the minimum range, There are most two approaches to handling scaling.\n",
    "\n",
    "* **MinMax Scaling** – Minmax Scaling (also called Normalization) scales all values in a fixed range between 0 and 1. This transformation does not change the distribution of the feature and due to the decreased standard deviations, the effects of the outliers increases. Therefore, before normalization, it is recommended to handle the outliers.\n",
    "\n",
    "\n",
    "* **Standardization** - Standardization (or z-score normalization) scales the values while calculating standard deviation. If the standard deviation of features is different, their range also would differ from each other. This reduces the effect of the outliers in the features.\n"
   ]
  },
  {
   "cell_type": "code",
   "execution_count": null,
   "metadata": {},
   "outputs": [],
   "source": []
  },
  {
   "cell_type": "code",
   "execution_count": null,
   "metadata": {},
   "outputs": [],
   "source": []
  },
  {
   "cell_type": "markdown",
   "metadata": {},
   "source": [
    "### 2. What is feature selection, and how does it work? What is the aim of it? What are the various methods of function selection?\n",
    "\n",
    "Ans>> The Feature Selection process is for finding useful feature for our model that will improve our model performance, This part is challenging because at first one single feature or a couple of features may not be seen as very useful but combine with a few more feature those can be become very good combination and can be put impact in model. here we are trying to find useful feature for our model, not all the feature that our dataset has can be necessary, there are \n",
    "unnecessary feature or column can be there, these features are not any contribution to our model, keeping them is just increasing the dimension and it can be costly to training time, that is why we should remove these feature, \n",
    "There is various way to choosing the useful feature from many features, the methods are.\n",
    "\n",
    "\n",
    "* Filtering method- Under this method we perform a statistical approach to choosing the right feature for our models like a chi-squared test, ANOVA test, and checking correlation with every feature with our target feature.\n",
    "\n",
    "\n",
    "* Wrapper Methode – The wrapper method also can be useful to find the right feature, Forward selection, Backward Elimination are a method for this method, but this method is not used just because this can be very slow for, if we have large data then following this process can be very computationally expensive.\n"
   ]
  },
  {
   "cell_type": "code",
   "execution_count": null,
   "metadata": {},
   "outputs": [],
   "source": []
  },
  {
   "attachments": {
    "image.png": {
     "image/png": "[encoded data removed]"
    }
   },
   "cell_type": "markdown",
   "metadata": {},
   "source": [
    "### 3. Describe the function selection filter and wrapper approaches. State the pros and cons of each approach?\n",
    "Ans>> The feature selection process is a very important step for our data preprocessing here we find the most important feature that we are going to use for creating our model.  For the feature selection process we have a few techniques.\n",
    "Filter Methode -  This method consists of statistical calculation, we choose a feature by calculating some statistical score in order to rate the feature for its usefulness.\n",
    "\n",
    "* **Pearson’s Correlation:** It is used as a measure for quantifying linear dependence between two continuous variables X and Y. Its value varies from -1 to +1. Pearson’s correlation is given as:\n",
    "![image.png](attachment:image.png)\n",
    "\n",
    "* **LDA**: Linear discriminant analysis is used to find a linear combination of features that characterizes or separates two or more classes (or levels) of a categorical variable.\n",
    "ANOVA: ANOVA stands for Analysis of variance. It is similar to LDA except for the fact that it is operated using one or more categorical independent features and one continuous dependent feature. It provides a statistical test of whether the means of several groups are equal or not.\n",
    "\n",
    "\n",
    "* **Chi-Square:** It is a statistical test applied to the groups of categorical features to evaluate the likelihood of correlation or association between them using their frequency distribution.\n",
    "\n",
    "\n",
    "**Advantage/ Disadvantage** -  This process is relatively fast than wrapper methods, and it can be easy to find the best feature based on some statistical score, but  The common disadvantage of filter methods is that they ignore the interaction with the classifier and each feature is considered independently thus ignoring feature dependencies, In addition, it is not clear how to determine the threshold point for rankings to select only the best features.\n",
    "\n",
    "* **Wrapper Methode** - The wrapper method also can be useful to find the right feature, Forward selection, Backward Elimination are a method for this method, but this method is not used just because this can be very slow for, if we have large data then following this process can be very computationally expensive. In wrapper methods, we try to use a subset of features and train a model using them. Based on the inferences that we draw from the previous model, we decide to add or remove features from your subset. The problem is essentially reduced to a search problem.\n",
    "\n",
    "\n",
    "* Forward Selection: Forward selection is an iterative method in which we start with having no feature in the model. In each iteration, we keep adding the feature which best improves our model till an addition of a new variable does not improve the performance of the model.\n",
    "\n",
    "* Backward Elimination: In backward elimination, we start with all the features and removes the least significant feature at each iteration which improves the performance of the model. We repeat this until no improvement is observed in the removal of features.\n",
    "\n",
    "\n",
    "* **Recursive Feature elimination:** It is a greedy optimization algorithm that aims to find the best performing feature subset. It repeatedly creates models and keeps aside the best or the worst performing feature at each iteration. It constructs the next model with the left features until all the features are exhausted. It then ranks the features based on the order of their elimination.\n",
    "\n",
    "**Advantage/Disadvantage** – The main advantage of this method is it can find the best feature from this process, can provide us some guarantee for that, but the main disadvantage for this method as this process makes the model for many time, mostly as many features as many models, it makes the extremely slow process for that. And if we have large data then it becomes very computationally expensive.\n",
    "\n"
   ]
  },
  {
   "cell_type": "code",
   "execution_count": null,
   "metadata": {},
   "outputs": [],
   "source": []
  },
  {
   "cell_type": "markdown",
   "metadata": {},
   "source": [
    "### 4.i. Describe the overall feature selection process.\n",
    "\n",
    "Ans>> In Feature Selection process  we are trying to find useful feature for our model, not all the feature that our dataset has can be necessary, there are unnecessary feature or column can be there, these features are not any contribution to our model, keeping them is just increasing the dimension and it can be costly to training time, that is why we should remove these feature, \n",
    "\n",
    "There is various way to choosing the useful feature from many features, the methods are.\n",
    "\n",
    "Filtering method- Under this method we perform a statistical approach to choosing the right feature for our models like a chi-squared test, ANOVA test, and checking correlation with every feature with our target feature.\n",
    "\n",
    "Wrapper Methode – The wrapper method also can be useful to find the right feature, Forward selection, Backward Elimination are a method for this method, but this method is not used just because this can be very slow for, if we have large data then following this process can be very computationally expensive.\n"
   ]
  },
  {
   "cell_type": "code",
   "execution_count": null,
   "metadata": {},
   "outputs": [],
   "source": []
  },
  {
   "cell_type": "markdown",
   "metadata": {},
   "source": [
    "### 6. What makes cosine similarity a good metric for text categorization? A document-term matrix has two rows with values of (2, 3, 2, 0, 2, 3, 3, 0, 1) and (2, 1, 0, 0, 3, 2, 1, 3, 1). Find the resemblance in cosine.\n",
    "\n",
    "\n",
    "Ans>> Cosine similarity measures the similarity between two vectors of an inner product space. It is measured by the cosine of the angle between two vectors and determines whether two vectors are pointing in roughly the same direction. It is often used to measure document similarity in text analysis, The advantage of cosine similarity The cosine similarity is beneficial because even if the two similar data objects are far apart by the Euclidean distance because of the size, they could still have a smaller angle between them. Smaller the angle, the higher the similarity. When plotted on a multi-dimensional space, the cosine similarity captures the orientation (the angle) of the data objects and not the magnitude.\n",
    "The formula to find the cosine similarity between two vectors is – \n",
    "\n",
    "`Cos(x, y) = x . y / ||x|| * ||y||`\n",
    "Where, \n",
    "\n",
    "x . y = product (dot) of the vectors ‘x’ and ‘y’.\n",
    "||x|| and ||y|| = length of the two vectors ‘x’ and ‘y’.\n",
    "||x|| * ||y|| = cross product of the two vectors ‘x’ and ‘y’.\n",
    "\n",
    "\n",
    "In our problem, \n",
    "\n",
    "X = (2, 3, 2, 0, 2, 3, 3, 0, 1)\n",
    "Y = (2, 1, 0, 0, 3, 2, 1, 3, 1)\n",
    "\n",
    "`X * y = (2*2) + (3*1) + (2*0) + (0*0) + (2*3) + (3*2) + (3*1) + (0*3) + (1*1) = 23`\n",
    "\n",
    "`||x|| = √ +(2)^2+(3)^2+(2)^2+(0)^2+(2)^2+(3)^2+(3)^2+(0)^2+(1)^2 = 40`\n",
    "\n",
    "`||y|| = √ +(2)^2+(1)^2+(0)^2+(0)^2+(3)^2+(2)^2+(1)^2+(3)^2+(1)^2 = 29`\n",
    "\n",
    "Now the distance is = `23 / (40*29) = 0.0198`\n"
   ]
  },
  {
   "cell_type": "code",
   "execution_count": null,
   "metadata": {},
   "outputs": [],
   "source": []
  },
  {
   "attachments": {
    "image-2.png": {
     "image/png": "[encoded data removed]"
    }
   },
   "cell_type": "markdown",
   "metadata": {},
   "source": [
    "### 7. i. What is the formula for calculating Hamming distance? Between 10001011 and 11001111, calculate the Hamming gap.\n",
    "\n",
    "Ans>> The hamming distance works based on the xor gate formula. here is xor gate rule.\n",
    "![image-2.png](attachment:image-2.png)\n",
    "\n",
    "In order to calculate the Hamming distance between two strings, and , we perform their XOR operation, (a⊕ b), and then count the total number of 1s in the resultant string.\n",
    "\n",
    "Now we have \n",
    "\n",
    "`x = 10001011`\n",
    "\n",
    "`y = 11001111`\n",
    "\n",
    "`x xor y = 01000100`\n",
    "\n",
    "Now the final result contain two 1 then the hamming distance will be 2"
   ]
  },
  {
   "cell_type": "code",
   "execution_count": 14,
   "metadata": {},
   "outputs": [
    {
     "data": {
      "text/plain": [
       "0.25"
      ]
     },
     "execution_count": 14,
     "metadata": {},
     "output_type": "execute_result"
    }
   ],
   "source": [
    "from scipy.spatial.distance import hamming\n",
    "\n",
    "x = [1,0,0,0,1,0,1,1]\n",
    "\n",
    "y = [1,1,0,0,1,1,1,1]\n",
    "\n",
    "hamming(x, y)"
   ]
  },
  {
   "cell_type": "code",
   "execution_count": null,
   "metadata": {},
   "outputs": [],
   "source": []
  },
  {
   "cell_type": "code",
   "execution_count": null,
   "metadata": {},
   "outputs": [],
   "source": []
  }
 ],
 "metadata": {
  "kernelspec": {
   "display_name": "Python 3",
   "language": "python",
   "name": "python3"
  },
  "language_info": {
   "codemirror_mode": {
    "name": "ipython",
    "version": 3
   },
   "file_extension": ".py",
   "mimetype": "text/x-python",
   "name": "python",
   "nbconvert_exporter": "python",
   "pygments_lexer": "ipython3",
   "version": "3.8.5"
  }
 },
 "nbformat": 4,
 "nbformat_minor": 4
}
