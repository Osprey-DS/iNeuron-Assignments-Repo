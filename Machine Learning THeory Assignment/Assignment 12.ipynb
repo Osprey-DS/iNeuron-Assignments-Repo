{
 "cells": [
  {
   "cell_type": "markdown",
   "metadata": {},
   "source": [
    "### 1. What is prior probability? Give an example.\n",
    "\n",
    "Ans>> The prior probability is the probability that is given or already occurred, In Bayesian probability, we are work with prior probability to do the calculation. It is the probability that it happened in past.\n",
    "\n",
    "Example can be if we are trying to predict a train will come to late or not in a particular station, then we need information about the probability of train coming in late, that information is already we have and this is called prior probability.\n"
   ]
  },
  {
   "cell_type": "code",
   "execution_count": null,
   "metadata": {},
   "outputs": [],
   "source": []
  },
  {
   "cell_type": "markdown",
   "metadata": {},
   "source": [
    "### 2. What is posterior probability? Give an example.\n",
    "\n",
    "Ans>> The posterior probability is the probability that we are trying to predict or evaluating to, for the prior probability, In the Bayesian probability formula the value we are calculating from prior probability is posterior probability. \n",
    "\n",
    "Example from above that if we have information about late coming tarin, then based on that prior information we can calculate about one particular coming train and the probability that train will be late or not.\n"
   ]
  },
  {
   "cell_type": "code",
   "execution_count": null,
   "metadata": {},
   "outputs": [],
   "source": []
  },
  {
   "cell_type": "markdown",
   "metadata": {},
   "source": [
    "### 3. What is likelihood probability? Give an example.\n",
    "\n",
    "Ans>>  Likelihood can be described as the chance of getting success to form an event or an experiment where we know the probability of success and failure.\n",
    "\n",
    "An example can be in binomial distribution we have the information of a number of getting success and fails. Then we try to find the probability of success\n"
   ]
  },
  {
   "cell_type": "code",
   "execution_count": null,
   "metadata": {},
   "outputs": [],
   "source": []
  },
  {
   "cell_type": "markdown",
   "metadata": {},
   "source": [
    "### 4. What is Naïve Bayes classifier? Why is it named so?\n",
    "\n",
    "Ans>> The Naïve Bayes is classification algorithm. It is worked on the ‘probability’ formula or rule. The Naïve Bayes classifier is worked on the ‘Bayes Theorem’ which relies on conditional probability. And use the Bayes theorem as core algorithm, it named because it considers every feature independent from each other. That is why it is called `Naïve`.\n"
   ]
  },
  {
   "cell_type": "code",
   "execution_count": null,
   "metadata": {},
   "outputs": [],
   "source": []
  },
  {
   "cell_type": "markdown",
   "metadata": {},
   "source": [
    "### 6. Write any two features of Bayesian learning methods.\n",
    "Ans>> Bayesian learning gives us many useful advantages like it is very flexible. Each row of our training data can incrementally be increased or decreased the estimated probability that a hypothesis is correct. This is provided more flexible methods for better those algorithms those are completely removed the hypothesis if it found to inconsistent with a single instance\n",
    "\n",
    "Prior knowledge can be combined with observed data to determine the final probability of a hypothesis. In Bayesian learning, prior knowledge is provided by asserting \n",
    "* a prior probability for each candidate hypothesis, and\n",
    "* a probability distribution over observed data for each possible hypothesis.\n"
   ]
  },
  {
   "cell_type": "code",
   "execution_count": null,
   "metadata": {},
   "outputs": [],
   "source": []
  },
  {
   "cell_type": "markdown",
   "metadata": {},
   "source": [
    "### 7. Define the concept of consistent learners.\n",
    "\n",
    "Ans>> A learner returns a hypothesis on training data with zero error is called a consistent learner. A consistent learning algorithm is simply required to output a hypothesis that is consistent with all the training data provided to it.\n"
   ]
  },
  {
   "cell_type": "code",
   "execution_count": null,
   "metadata": {},
   "outputs": [],
   "source": []
  },
  {
   "cell_type": "markdown",
   "metadata": {},
   "source": [
    "### 8. Write any two strengths of the Bayes classifier.\n",
    "\n",
    "Ans>> The Bayes Classifier’s implementation is very easy and the working principle.\n",
    "This classifier is not needed more training data to perform. Although the size of the training data and the value in instances can be put an effect on the result. This is highly scalable with the number of features and size of the data.\n",
    "This classifier is capable to handle both continuous and discrete data.\n",
    "\n",
    "Because of the simplicity of the core algorithms, it is very fast in process, it can be used in real-time predictions.\n",
    "This is not sensitive to irrelevant features.\n"
   ]
  },
  {
   "cell_type": "code",
   "execution_count": null,
   "metadata": {},
   "outputs": [],
   "source": []
  },
  {
   "cell_type": "markdown",
   "metadata": {},
   "source": [
    "### 9. Write any two weaknesses of the Bayes classifier.\n",
    "\n",
    "Ans>> The main disadvantage of the Bayes classifier is, it is considered all feature is independent, but is not all cases this is true, if we plot some scatterplot to check some correlation between features, then we can find some of them are strongly related with each other.\n",
    "\n",
    "Some time the prediction can be wrong, and the working efficiency of this classifier is very dependable and vary with the problem statement in our hand.\n"
   ]
  },
  {
   "cell_type": "code",
   "execution_count": null,
   "metadata": {},
   "outputs": [],
   "source": []
  }
 ],
 "metadata": {
  "kernelspec": {
   "display_name": "Python 3",
   "language": "python",
   "name": "python3"
  },
  "language_info": {
   "codemirror_mode": {
    "name": "ipython",
    "version": 3
   },
   "file_extension": ".py",
   "mimetype": "text/x-python",
   "name": "python",
   "nbconvert_exporter": "python",
   "pygments_lexer": "ipython3",
   "version": "3.8.5"
  }
 },
 "nbformat": 4,
 "nbformat_minor": 4
}
