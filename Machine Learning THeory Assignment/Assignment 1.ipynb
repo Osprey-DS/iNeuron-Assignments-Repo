{
 "cells": [
  {
   "cell_type": "markdown",
   "metadata": {},
   "source": [
    "## 1.\tWhat does one mean by the term \"machine learning\"?\n",
    "\n",
    "Ans>\n",
    "The term ‘Machine Learning’ means that machine is learned from us.\n",
    "So the machine can now perform the specific predetermined job that we teach the machine by feeding data.\n",
    "By a formal definition ‘Machine Learning’ means a machine can do the job without being an explecity programmed.\n"
   ]
  },
  {
   "cell_type": "code",
   "execution_count": null,
   "metadata": {},
   "outputs": [],
   "source": []
  },
  {
   "cell_type": "markdown",
   "metadata": {},
   "source": [
    "## 2.Can you think of 4 distinct types of issues where it shines?\n",
    "Ans> Machine learning shine almost everywhere like in\n",
    "\n",
    "the google search engine, \n",
    "\n",
    "in the video watching platform like youtube or Netflix where it used to recommend the movie based on our interest,\n",
    "\n",
    "Automated car drive like Tesla,\n",
    "\n",
    "Machine learning used in the healthcare industry where it sued to determine the patient have the disease or not,\n",
    "\n",
    "It also very useful to detect an object or predicting price based on our previous data\n",
    "\n"
   ]
  },
  {
   "cell_type": "code",
   "execution_count": null,
   "metadata": {},
   "outputs": [],
   "source": []
  },
  {
   "cell_type": "markdown",
   "metadata": {},
   "source": [
    "## 3.What is a labeled training set, and how does it work?\n",
    "\n",
    "Ans> labeled training set means the data have the label into it, and thus it has the label so we will put this in the supervised ml category. \n",
    "The machine will learn from these labeled with their respected feature. So it will determine how the label will determine from what features.\n"
   ]
  },
  {
   "cell_type": "code",
   "execution_count": null,
   "metadata": {},
   "outputs": [],
   "source": []
  },
  {
   "cell_type": "markdown",
   "metadata": {},
   "source": [
    "## 4.What are the two most important tasks that are supervised?\n",
    "\n",
    "Ans> two most important task in supervised ml are ‘Regression’ and ‘Classification’\n"
   ]
  },
  {
   "cell_type": "code",
   "execution_count": null,
   "metadata": {},
   "outputs": [],
   "source": []
  },
  {
   "cell_type": "markdown",
   "metadata": {},
   "source": [
    "## 5.Can you think of four examples of unsupervised tasks?\n",
    "Ans> unsupervised task is when we don’t have the label in our data set, so we grouped similar instances by matching their features, the unsupervised task can be...\n",
    "\n",
    "Grouping loyal customers from other customers in a supermarket.\n",
    "\n",
    "Grouping Movie recommend by the similar genre,\n",
    "\n",
    "Grouping Man and woman clothes by their size and style,\n",
    "\n",
    "\n"
   ]
  },
  {
   "cell_type": "code",
   "execution_count": null,
   "metadata": {},
   "outputs": [],
   "source": []
  },
  {
   "cell_type": "markdown",
   "metadata": {},
   "source": [
    "## 6.State the machine learning model that would be best to make a robot walk through various unfamiliar terrains?\n",
    "Ans> Reinforcement Learning would be the best for this purpose. This model(Robot) learns from the training by getting a reward or penalty. If he got a reward then he will remember the feature and think that is a useful feature and if he gets a penalty then he will think of that as a bad feature.\n"
   ]
  },
  {
   "cell_type": "code",
   "execution_count": null,
   "metadata": {},
   "outputs": [],
   "source": []
  },
  {
   "cell_type": "markdown",
   "metadata": {},
   "source": [
    "## 7.Which algorithm will you use to divide your customers into different groups?\n",
    "\n",
    "Ans> For this case Clustering algorithm will be the best choice. It will divide customers into many different groups.\n",
    "Like k-Means Clustering\n"
   ]
  },
  {
   "cell_type": "code",
   "execution_count": null,
   "metadata": {},
   "outputs": [],
   "source": []
  },
  {
   "cell_type": "markdown",
   "metadata": {},
   "source": [
    "## 8.Will you consider the problem of spam detection to be a supervised or unsupervised learning problem?\n",
    "Ans> Spam detection will be supervised machine learning\n"
   ]
  },
  {
   "cell_type": "code",
   "execution_count": null,
   "metadata": {},
   "outputs": [],
   "source": []
  },
  {
   "cell_type": "markdown",
   "metadata": {},
   "source": [
    "## 9.What is the concept of an online learning system?\n",
    "Ans> Online learning system means when the model received the data in the time of learning or it receives data as a continuous flow In online learning system we train the system incrementally by feeding it data instances sequentially. \n",
    "Use this type of online learning in stock price prediction as the data change frequently or daily in a different manner. So we need to feed the data daily to update our model. Otherwise, it will not able to predict the current rate.\n"
   ]
  },
  {
   "cell_type": "code",
   "execution_count": null,
   "metadata": {},
   "outputs": [],
   "source": []
  },
  {
   "cell_type": "markdown",
   "metadata": {},
   "source": [
    "## 10.What is out-of-core learning, and how does it differ from core learning?\n",
    "Ans>> ’Out of core’ learning means dividing the data into smaller parts and feed the system one by one not all at a time. This is usually done when the system can't hold the entire data at once or in the machine memory, this can occur when the data set is huge or big enough to not fit on the system memory at once.\n",
    "And the ‘core learning’ or ‘in-core learning is just the opposite of the out-core learning when the system is strong enough to hold the entire data at once and perform the training.\n"
   ]
  },
  {
   "cell_type": "code",
   "execution_count": null,
   "metadata": {},
   "outputs": [],
   "source": []
  },
  {
   "cell_type": "markdown",
   "metadata": {},
   "source": [
    "### 11.What kind of learning algorithm makes predictions using a similarity measure?\n",
    "Ans> Instance-based Algorithms are make  predictions using similarity measure\t\n"
   ]
  },
  {
   "cell_type": "code",
   "execution_count": null,
   "metadata": {},
   "outputs": [],
   "source": []
  },
  {
   "cell_type": "markdown",
   "metadata": {},
   "source": [
    "## 12.What's the difference between a model parameter and a hyperparameter in a learning algorithm?\n",
    "Ans>> The model parameter is the parameter that determines how the model will perform in the time of predictions and it is completely different from hyperparameters. The Hyperparameter of a learning algorithm sets the learning algorithm and this parameter will change the performance of the learning algorithm at the time of learning or training.\n"
   ]
  },
  {
   "cell_type": "code",
   "execution_count": null,
   "metadata": {},
   "outputs": [],
   "source": []
  },
  {
   "cell_type": "markdown",
   "metadata": {},
   "source": [
    "## 13.What are the criteria that model-based learning algorithms look for? What is the most popular method they use to achieve success? What method do they use to make predictions?\n",
    "Ans>> The model-based learning algorithms look for the best parameter in order to achieve to best result on test data or unseen data which make the model perfect.\n",
    "\n",
    "\n",
    "The popular methods are error function or cost function which is as lower is better and second is score function or accuracy which Is as high is better, both in the general case, the value lies between 0 to 1. \n"
   ]
  },
  {
   "cell_type": "code",
   "execution_count": null,
   "metadata": {},
   "outputs": [],
   "source": []
  },
  {
   "cell_type": "markdown",
   "metadata": {},
   "source": [
    "## 14.Can you name four of the most important Machine Learning challenges?\n",
    "\n",
    "Ans>> In the time of creating a machine learning model there are serval challenge that we have to face when finding the right parameter and tuning the model in order to get the best performance from our model. The few most important are.\n",
    "\n",
    "* The model overfitting and underfitting. \n",
    "* Datasets imbalancing or label imbalancing\n",
    "* Data leakage problem .\n"
   ]
  },
  {
   "cell_type": "code",
   "execution_count": null,
   "metadata": {},
   "outputs": [],
   "source": []
  },
  {
   "cell_type": "markdown",
   "metadata": {},
   "source": [
    "## 15.What happens if the model performs well on the training data but fails to generalize the results to new situations? Can you think of three different options?\n",
    "\n",
    "Ans>> If the model performs well in the training time and fails at the time of unseen data that means the model is overfit. This means it captures too much of the underlying structure of the training data that it is failing at the unseen data. This is one major problem of machine learning.\n",
    "\n",
    "The three different options can be.\n",
    "\n",
    "* The three different options can be to choose a simpler model,\n",
    "* get better data, \n",
    "* tuning the hyperparameter, \n",
    "* and reducing the model learning rate of optimizing algorithms.\n"
   ]
  },
  {
   "cell_type": "code",
   "execution_count": null,
   "metadata": {},
   "outputs": [],
   "source": []
  },
  {
   "cell_type": "markdown",
   "metadata": {},
   "source": [
    "##  16.What exactly is a test set, and why would you need one?\n",
    "Ans>> The test set is completely unseen data. And we can use this unseen data to test our model performance on the new instance to get confirmed how our model works.\n"
   ]
  },
  {
   "cell_type": "code",
   "execution_count": null,
   "metadata": {},
   "outputs": [],
   "source": []
  },
  {
   "cell_type": "markdown",
   "metadata": {},
   "source": [
    "## 17.What is a validation set's purpose?\n",
    "Ans>> The validation set is more likely to test set, but it uses in the time of learning or training to compare in different learning algorithms. We can say that the validation set is used in the time of training.\n"
   ]
  },
  {
   "cell_type": "code",
   "execution_count": null,
   "metadata": {},
   "outputs": [],
   "source": []
  },
  {
   "cell_type": "markdown",
   "metadata": {},
   "source": [
    "## 18.What precisely is the train-dev kit, when will you need it, how do you put it to use?\n",
    "Ans>> In our total quantity(say, 100%) of data set we divide that into three portions like training set(around 65%) and hold-out set or validation set(around 15% ), and for the last test set(around 20%) for the testing purpose. We keep train our algorithms into our training set and check that model into our dev set or validation set before testing completely unseen data or test data.\n"
   ]
  },
  {
   "cell_type": "code",
   "execution_count": null,
   "metadata": {},
   "outputs": [],
   "source": []
  },
  {
   "cell_type": "markdown",
   "metadata": {},
   "source": [
    "## 19.What could go wrong if you use the test set to tune hyperparameters?\n",
    "Ans>> If I use the test set to tune the hyperparameter then we make the learning algorithm perfect for that specific test data only. Our model may not work well on other test data.\n"
   ]
  },
  {
   "cell_type": "code",
   "execution_count": null,
   "metadata": {},
   "outputs": [],
   "source": []
  }
 ],
 "metadata": {
  "kernelspec": {
   "display_name": "Python 3",
   "language": "python",
   "name": "python3"
  },
  "language_info": {
   "codemirror_mode": {
    "name": "ipython",
    "version": 3
   },
   "file_extension": ".py",
   "mimetype": "text/x-python",
   "name": "python",
   "nbconvert_exporter": "python",
   "pygments_lexer": "ipython3",
   "version": "3.8.5"
  }
 },
 "nbformat": 4,
 "nbformat_minor": 5
}
