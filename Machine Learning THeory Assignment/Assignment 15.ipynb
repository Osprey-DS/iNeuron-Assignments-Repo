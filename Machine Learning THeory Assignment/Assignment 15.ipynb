{
 "cells": [
  {
   "cell_type": "markdown",
   "metadata": {},
   "source": [
    "### 1. Recognize the differences between supervised, semi-supervised, and unsupervised learning.\n",
    "\n",
    "Ans>> supervised learning is where we provide the features and the target variable at the same time to the model so the model can learn from it and can recognize the underlying pattern. \n",
    "\n",
    "And semisupervised learning is where some of the data are provided with the target variable and the rest of it unlabeled. Based on the similarity with labeled data the other data are labeled or be recognized, and we try to cluster all data based on the similarity and then we try to feed the data to the machine learning model\n",
    "\n",
    "And in the last, unsupervised learning is where all our data comes with unlabeled means there is no target variable with it, and we have to group them or divided them based on the feature similarity.\n"
   ]
  },
  {
   "cell_type": "markdown",
   "metadata": {},
   "source": [
    "### 2. Describe in detail any five examples of classification problems.\n",
    "\n",
    "Ans>> Classification problems are where we try to find a label or a specific class, unlike regression problems where we find numerical continuous numbers.\n",
    "\n",
    "Some of the examples that can be of classification problem are…\n",
    "\n",
    "* Detecting an email is ‘spam’ or ‘not-spam’.\n",
    "* Hospital patients have a certain disease or not.\n",
    "* Given a handwritten digit.\n",
    "* Classifying flowers species.\n",
    "* User behavior is churned or not.\n"
   ]
  },
  {
   "cell_type": "markdown",
   "metadata": {},
   "source": [
    "### 3. Describe each phase of the classification process in detail.\n",
    "\n",
    "Ans>> The classification process is where we are trying to predict class based on the input feature.\n",
    "\n",
    "The process consists of various steps to predict the class. In machine learning, we follow many processing pipelines based on the problem in our hands. The classification process is different from the regression problem. Here are steps we can follow to make a classification model, but the process can vary based on the problem.\n",
    "\n",
    "* Data Collection: - At first we need to collect data, that can be achieved through various processes, we can download the data from a website or we can be dependent on our client to provide the data to us. \n",
    "\n",
    "* Look at the Data:- After getting the data the first major task is to look at the data and perform some exploratory data analysis. To become familiar with our data set, because the data is going to take a major part in the model creation. This step is common to any process of creating a machine learning model.\n",
    "\n",
    "* Pre-Processing:- In this step, we pre-process the data we have or clean the data for feeding the model. such as removing the null values, scaling the data. If the data is image data, we can try to resize all the images, obtaining grayscale images, removing noise from images.\n",
    "\n",
    "* Model:-  Here we choose the classification model for our data, this process is experimental, which means there is no hard code rule that we have to use a fixed algorithm. We have to try with some classification algorithms then based on the performance result we can select the final model.\n",
    "\n",
    "* Accuracy evaluation:- For the classification model, the evaluating matric is different, For the process of measuring the model performance, we use confusion-matrix, which is the most popular way to evaluate the classification model. \n"
   ]
  },
  {
   "cell_type": "code",
   "execution_count": null,
   "metadata": {},
   "outputs": [],
   "source": []
  },
  {
   "attachments": {},
   "cell_type": "markdown",
   "metadata": {},
   "source": [
    "### 4. Go through the SVM model in depth using various scenarios.\n",
    "Ans>> ns>> The support vector machine or SVM is a supervised machine learning algorithm, It is very sufficient for both classification and regressing problems, but in the case of classification problems it is strictly binary classification algorithms. The SVM model is efficient for the small and medium-size data set, it may not perform very well on big-size datasets. But it is capable to handle very complex data.  The support vector machine is worked on by dividing the two classes positive and negative classed by creating a boundary line, this boundary line is called Hyperplane. This line separates two classes. \n",
    "\n",
    "\n",
    "But in the algorithm, there are a total of 3 decision boundary is present in the model. one is the hyperplane which is the main decision boundary and two marginal boundaries which is pass to the nearest one point on both side or in both classes. \n",
    "There is a distance between both marginal lines to the hyper line, the length of the distance is can be defined by the model quality, the more the distance will be the more generalized the model will be, which means the good model will be.\n",
    "As in the above picture, two classes are there one red and the other is blue, one solid line side is going through between them that is called hyperplane. And two dotted lines pass by touching two classes is called marginal plane, the marginal plane passes through at least one or multiple data points in both sides. The SVM algorithm is required scale dataset, it is best practice to scale our data with MinMax scaler or perform Normalization before passing the data to the SVM model. as it is working on the value or the magnitude of the feature, it is very sensitive to the feature scale. This is the main concept of the Support Vector Machine algorithm. \n",
    "\n"
   ]
  },
  {
   "cell_type": "code",
   "execution_count": null,
   "metadata": {},
   "outputs": [],
   "source": []
  },
  {
   "cell_type": "markdown",
   "metadata": {},
   "source": [
    "### 5. What are some of the benefits and drawbacks of SVM?\n",
    "#### Benigfits\n",
    "Ans>> The SVM model wors in the smaller size and medium size of the data\n",
    "\n",
    "The SVM model works well when the separation between two classes is very clear and very clearly linearly separatable.\n",
    "\n",
    "The SVM model is best in high-dimensional space.\n",
    "\n",
    "The SVM model can be memory efficient.\n",
    "\n",
    "\n",
    "#### Drawbacks\n",
    "The SVM model works very poorly with large datasets.\n",
    "\n",
    "The SVM model can not be very efficient when there is noise in the dataset.\n",
    "\n",
    "As the SVM model just put the data points two sides of the hyperplane and marginal plane there is no probabilistic explanation for the classification.\n"
   ]
  },
  {
   "cell_type": "code",
   "execution_count": null,
   "metadata": {},
   "outputs": [],
   "source": []
  },
  {
   "attachments": {
    "image.png": {
     "image/png": "[encoded data removed]"
    }
   },
   "cell_type": "markdown",
   "metadata": {},
   "source": [
    "### 6. Go over the kNN model in depth.\n",
    "\n",
    "\n",
    "Ans>> The knn algorithm is a great choice when we have non-linear distributed data for the classification model. it is a `supervised` ml algorithm The behind working principle is very simple, the model is work on the distance between data point when it got new data point to predict the class, it calculates the minimum distance from it closest neighbor data point and based on that it predicts the new data point. It worked on the similarity of data points and store them in a different cluster.\n",
    "\n",
    "\n",
    "The `K-Nearest Neighbour` or knn is mostly used for the classification problem, but it also can be used for a regression problem. Knn is a `nonparametric algorithm` means it does not make any assumptions on the data. It is also called `lazy learner algorithm` because it does not learn from the data at the time of training, it stores the data, and when we give it to new data point it calculates the distance and predicts the class.\n",
    "\n",
    "The working process of knn algorithms is here…\n",
    "\n",
    "* Here we have to select the number of `k` which is the number is needed for the prediction, this number is how many neighbors our knn model will consider in the time of prediction for checking the feature similarity. One major this we have to remember the `k` has to be an odd number we have to choose otherwise there can be a situation we got an equal number of class groups and then the model will be confused to predict the new class.\n",
    "\n",
    "\n",
    "* There are mainly two distance calculating processes for the knn, one is `Euclidian Distance` and another is `Manhattan Distance`. In the most general case, we used `euclidian distance` for the model. the `Euclidian distance` is the length of a line segment between the two points, it can be calculated from the cartesian coordinates of the points using the `Pythagorean theorem`, that is why we can also be called this distance is Pythagorean distance.\n",
    "\n",
    "\n",
    "* In the next step, we take the k nearest neighbor as per the calculated euclidian distance. Among these k neighbors, we count the number of data points in each category. And then when we got a new data point we calculate `Euclidian distance` for the number of `k` times, and based on the highest number of cluster votes we put the new point in that class or category. \n",
    "\n",
    "![image.png](attachment:image.png)\n",
    "\n",
    "\n",
    "\n",
    "* Few benefits of the knn-algorithm\n",
    "\n",
    "It is a simple process and easy to understand.\n",
    "\n",
    "It robust and work wee on noisy data set.\n",
    "\n",
    "It can be more effective if the training data is large.\n",
    "\n",
    "* Few drawbacks of knn-algorithm\n",
    "\n",
    "The choosing of `k` can be a very complex task some time.\n",
    "\n",
    "It is computationally expensive because of calculating the distance between the data points for all the training samples.\n"
   ]
  },
  {
   "cell_type": "code",
   "execution_count": null,
   "metadata": {},
   "outputs": [],
   "source": []
  },
  {
   "cell_type": "code",
   "execution_count": null,
   "metadata": {},
   "outputs": [],
   "source": []
  }
 ],
 "metadata": {
  "kernelspec": {
   "display_name": "Python 3",
   "language": "python",
   "name": "python3"
  },
  "language_info": {
   "codemirror_mode": {
    "name": "ipython",
    "version": 3
   },
   "file_extension": ".py",
   "mimetype": "text/x-python",
   "name": "python",
   "nbconvert_exporter": "python",
   "pygments_lexer": "ipython3",
   "version": "3.8.5"
  }
 },
 "nbformat": 4,
 "nbformat_minor": 4
}
