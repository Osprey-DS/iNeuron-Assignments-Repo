{
 "cells": [
  {
   "cell_type": "markdown",
   "metadata": {},
   "source": [
    "### 1. What is machine learning, and how does it work? What are the key responsibilities of machine learning?\n",
    "\n",
    "Ans>> Machine learning is a process where a machine can learn from past resources and able perform a new task without getting help from humans in the time of performing.\n",
    "\n",
    "Machine learning work on the basis of previous resources that we feed to the model for performing a specific task. At first, we feed some data to the model and train the model on that dataset so it can perform on the new dataset.\n",
    "The key responsibilities of machine learning are to make sure that the model Is working as expected on the real-life example or on the unseen data. It should not Overfit as well as not underfit then it will perform very poorly on the unseen data or objects.\n"
   ]
  },
  {
   "cell_type": "code",
   "execution_count": null,
   "metadata": {},
   "outputs": [],
   "source": []
  },
  {
   "cell_type": "markdown",
   "metadata": {},
   "source": [
    "### 2. Define the terms \"penalty\" and \"reward\" in the context of reinforcement learning.\n",
    "Ans>> The `penalty` can refer to as negative feedback to the model in a specif task that defines how the model is performing model is taking a penalty means the model is doing a wrong prediction or it is learning incorrectly.\n",
    "\n",
    "And the term `reward` is referring to positive feedback to the model that can be telling the model it is doing the correct things or it is learning correctly.\n"
   ]
  },
  {
   "cell_type": "code",
   "execution_count": null,
   "metadata": {},
   "outputs": [],
   "source": []
  },
  {
   "cell_type": "markdown",
   "metadata": {},
   "source": [
    "### 3. Explain the term \"learning as a search\"?\n",
    "Ans>> `learning as a search` is meaning that the model is learning means It is finding or searching the underlying pattern of the given resource for a specific output. That is the main goal of machine learning the training of the model on the training data can be referred to in a different way that the model is trying to find the underlying structure for the dataset so it can learn the pattern and perform when the new data will come. So in this way, we can refer to the learning as a search. The searching of the pattern.\n"
   ]
  },
  {
   "cell_type": "code",
   "execution_count": null,
   "metadata": {},
   "outputs": [],
   "source": []
  },
  {
   "cell_type": "markdown",
   "metadata": {},
   "source": [
    "### 4. What are the various goals of machine learning? What is the relationship between these and human learning?\n",
    "\n",
    "Ans>> The various goal of machine learning can be to find the right pattern of the given training data.\n",
    "Reducing the cost function value, As much low will be it the model will perform well on the time of testing.\n",
    "Avoiding overfitting in the time of training time.\n",
    "\n",
    "Learn from data and gives us the correct prediction on unseen data.\n"
   ]
  },
  {
   "cell_type": "code",
   "execution_count": null,
   "metadata": {},
   "outputs": [],
   "source": []
  },
  {
   "cell_type": "markdown",
   "metadata": {},
   "source": [
    "### 5. What is classification, exactly? What are the main distinctions between classification and regression?\n",
    "\n",
    "Ans>> The classification task is correctly identifying an object rather than a continuous number like in a regression problem. The main goal is the classification ml problem is the prediction of classes from many features these can be done from structured data or unstructured data. \n",
    "\n",
    "The main distinction is in the regression problem we predicted output as a continuous number or value. But in the case of classification, we predicted class or a specific object. In one problem there can be more than two classes, although the minimum number is two or binary class where we have to identify two-class by processing features.\n",
    "e.g. If we have to predict from many features that the given image is of a dog or cat then we can call this problem a classification problem that we have to find between two classes, not any numbers.\n"
   ]
  },
  {
   "cell_type": "code",
   "execution_count": null,
   "metadata": {},
   "outputs": [],
   "source": []
  },
  {
   "cell_type": "markdown",
   "metadata": {},
   "source": [
    "### 6. What is regression, and how does it work? Give an example of a real-world problem that was solved using regression.\n",
    "\n",
    "Ans>> The Regression problem is where we are calculating a continuous real number as our output. For that, we use various mathematical approaches to find the correct value. For the regression problem first, we find some constant value and then we take our input features and based on those numbers we calculate our predictions.\n",
    "\n",
    "By giving a real-world example we use the machine learning regression technique for predicting house price or second-hand car price. Wher it is notable that those outputs are a real continuous number, nither a class nor an object\n"
   ]
  },
  {
   "cell_type": "code",
   "execution_count": null,
   "metadata": {},
   "outputs": [],
   "source": []
  }
 ],
 "metadata": {
  "kernelspec": {
   "display_name": "Python 3",
   "language": "python",
   "name": "python3"
  },
  "language_info": {
   "codemirror_mode": {
    "name": "ipython",
    "version": 3
   },
   "file_extension": ".py",
   "mimetype": "text/x-python",
   "name": "python",
   "nbconvert_exporter": "python",
   "pygments_lexer": "ipython3",
   "version": "3.8.5"
  }
 },
 "nbformat": 4,
 "nbformat_minor": 4
}
