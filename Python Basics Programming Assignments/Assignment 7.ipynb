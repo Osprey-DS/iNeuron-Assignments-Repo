{
 "cells": [
  {
   "cell_type": "markdown",
   "metadata": {},
   "source": [
    "## 1.\tWrite a Python Program to find sum of array?\n"
   ]
  },
  {
   "cell_type": "code",
   "execution_count": 3,
   "metadata": {},
   "outputs": [
    {
     "data": {
      "text/plain": [
       "15"
      ]
     },
     "execution_count": 3,
     "metadata": {},
     "output_type": "execute_result"
    }
   ],
   "source": [
    "#now the array is only available is with numpy library. as it did not mention in the question i will assumen a list will be my array\n",
    "\n",
    "my_arr = [1,2,3,4,5]\n",
    "arr_sum=0 #storing a variable to store the sum\n",
    "for i in my_arr: \n",
    "    arr_sum+=i\n",
    "print('The sum of the array is: ', arr_sum)"
   ]
  },
  {
   "cell_type": "code",
   "execution_count": null,
   "metadata": {},
   "outputs": [],
   "source": []
  },
  {
   "cell_type": "markdown",
   "metadata": {},
   "source": [
    "## 2.\tWrite a Python Program to find largest element in an array?\n",
    "\n"
   ]
  },
  {
   "cell_type": "code",
   "execution_count": 8,
   "metadata": {},
   "outputs": [
    {
     "name": "stdout",
     "output_type": "stream",
     "text": [
      "The max value in the given array:  100\n"
     ]
    }
   ],
   "source": [
    "my_arr = [1,2,3,4,5, 100] #given array\n",
    "guess_max = my_arr[0] #assuming the first element is the max value\n",
    "try:\n",
    "    for i in range(1, len(my_arr)): #using len() function to get the how many number are there in array, here it's 6\n",
    "        if my_arr[i]>guess_max:\n",
    "            guess_max = my_arr[i] #replacing the max value with current\n",
    "\n",
    "    print('The max value in the given array: ', guess_max)\n",
    "\n",
    "except:\n",
    "    print('Error Occured')\n",
    "        "
   ]
  },
  {
   "cell_type": "code",
   "execution_count": null,
   "metadata": {},
   "outputs": [],
   "source": []
  },
  {
   "cell_type": "markdown",
   "metadata": {},
   "source": [
    "## 3.\tWrite a Python Program for array rotation?"
   ]
  },
  {
   "cell_type": "code",
   "execution_count": 5,
   "metadata": {},
   "outputs": [],
   "source": [
    "arr = [1,2,3,4,5]\n",
    "\n",
    "def rotate_arr(arr:\"array\", n:\"Rotate by no. of elements\"=2, rot:\"left or right\"=\"left\"):    # taking some default value\n",
    "    try:\n",
    "        if rot==\"right\":\n",
    "            n = -n\n",
    "\n",
    "        rotated_elements = arr[:n]\n",
    "        result = arr[n:]\n",
    "\n",
    "        result.extend(rotated_elements)\n",
    "        return result\n",
    "    except Exception as e:\n",
    "        log.info(str(e))"
   ]
  },
  {
   "cell_type": "code",
   "execution_count": 6,
   "metadata": {},
   "outputs": [
    {
     "data": {
      "text/plain": [
       "[3, 4, 5, 1, 2]"
      ]
     },
     "execution_count": 6,
     "metadata": {},
     "output_type": "execute_result"
    }
   ],
   "source": [
    "rotate_arr(arr)"
   ]
  },
  {
   "cell_type": "markdown",
   "metadata": {},
   "source": [
    "## 4.\tWrite a Python Program to Split the array and add the first part to the end?"
   ]
  },
  {
   "cell_type": "code",
   "execution_count": 12,
   "metadata": {},
   "outputs": [],
   "source": [
    "def split(arr):\n",
    "    try:\n",
    "        num = int(len(arr) / 2) # taking divisible part  \n",
    "        rotated_elements = arr[:num] \n",
    "        result = arr[num:]\n",
    "\n",
    "        result.extend(rotated_elements) # atking first part to the last\n",
    "        return result\n",
    "    except Exception as e:\n",
    "        log.info(str(e))"
   ]
  },
  {
   "cell_type": "code",
   "execution_count": 13,
   "metadata": {},
   "outputs": [
    {
     "data": {
      "text/plain": [
       "[5, 6, 7, 8, 1, 2, 3, 4]"
      ]
     },
     "execution_count": 13,
     "metadata": {},
     "output_type": "execute_result"
    }
   ],
   "source": [
    "split([1,2,3,4,5,6,7,8])"
   ]
  },
  {
   "cell_type": "code",
   "execution_count": null,
   "metadata": {},
   "outputs": [],
   "source": []
  },
  {
   "cell_type": "markdown",
   "metadata": {},
   "source": [
    "## 5.\tWrite a Python Program to check if given array is Monotonic?"
   ]
  },
  {
   "cell_type": "code",
   "execution_count": 13,
   "metadata": {},
   "outputs": [],
   "source": [
    "# An array is monotonic if and only if it is monotone increasing, or monotone decreasing.\n",
    "\n",
    "def monotonic(ar):\n",
    "    try:\n",
    "        increasing = all(ar[i] <= ar[i+1] for i in range(len(ar) - 1))  # checking for increasing value in the arraya\n",
    "        decreasing = all(ar[i] >= ar[i+1] for i in range(len(ar) - 1))  # checking for decreasing value in the array\n",
    "        if increasing or decreasing:\n",
    "            print('The array is MONOTONIC')\n",
    "        else:\n",
    "            print('The array is NOT monotonic')\n",
    "    except TypeError:\n",
    "        print('Enter Only Integer value in the list')\n",
    "        \n",
    "        "
   ]
  },
  {
   "cell_type": "code",
   "execution_count": 15,
   "metadata": {},
   "outputs": [
    {
     "name": "stdout",
     "output_type": "stream",
     "text": [
      "The array is MONOTONIC\n"
     ]
    }
   ],
   "source": [
    "ar = [1,2,3,4,10]\n",
    "monotonic(ar)"
   ]
  },
  {
   "cell_type": "code",
   "execution_count": 19,
   "metadata": {},
   "outputs": [
    {
     "name": "stdout",
     "output_type": "stream",
     "text": [
      "The array is NOT monotonic\n"
     ]
    }
   ],
   "source": [
    "ar = [10,15,8,1,7,9]\n",
    "monotonic(ar)"
   ]
  },
  {
   "cell_type": "code",
   "execution_count": null,
   "metadata": {},
   "outputs": [],
   "source": []
  },
  {
   "cell_type": "code",
   "execution_count": null,
   "metadata": {},
   "outputs": [],
   "source": []
  }
 ],
 "metadata": {
  "kernelspec": {
   "display_name": "Python 3",
   "language": "python",
   "name": "python3"
  },
  "language_info": {
   "codemirror_mode": {
    "name": "ipython",
    "version": 3
   },
   "file_extension": ".py",
   "mimetype": "text/x-python",
   "name": "python",
   "nbconvert_exporter": "python",
   "pygments_lexer": "ipython3",
   "version": "3.8.5"
  }
 },
 "nbformat": 4,
 "nbformat_minor": 4
}
