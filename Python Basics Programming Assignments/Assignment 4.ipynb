{
 "cells": [
  {
   "cell_type": "markdown",
   "metadata": {},
   "source": [
    "## 1.\tWrite a Python Program to Find the Factorial of a Number?"
   ]
  },
  {
   "cell_type": "code",
   "execution_count": 9,
   "metadata": {},
   "outputs": [
    {
     "data": {
      "text/plain": [
       "24"
      ]
     },
     "execution_count": 9,
     "metadata": {},
     "output_type": "execute_result"
    }
   ],
   "source": [
    "#we know that factorial means 1*2*3*.......*num \n",
    "num = 4 #our number to find the factorial\n",
    "fact = 1 #starting with 1\n",
    "for i in range(1, num+1):\n",
    "    fact*=i\n",
    "    \n",
    "fact #4 factorial 4*3*2*1 = 24"
   ]
  },
  {
   "cell_type": "code",
   "execution_count": null,
   "metadata": {},
   "outputs": [],
   "source": []
  },
  {
   "cell_type": "markdown",
   "metadata": {},
   "source": [
    "## 2.\tWrite a Python Program to Display the multiplication Table?"
   ]
  },
  {
   "cell_type": "code",
   "execution_count": 17,
   "metadata": {},
   "outputs": [
    {
     "name": "stdout",
     "output_type": "stream",
     "text": [
      "5 x 1 =  5\n",
      "5 x 2 =  10\n",
      "5 x 3 =  15\n",
      "5 x 4 =  20\n",
      "5 x 5 =  25\n",
      "5 x 6 =  30\n",
      "5 x 7 =  35\n",
      "5 x 8 =  40\n",
      "5 x 9 =  45\n",
      "5 x 10 =  50\n"
     ]
    }
   ],
   "source": [
    "num = 5 #getting the multiplication table for 5\n",
    "\n",
    "for i in range(1,11):\n",
    "    print(str(num) +' x '+ str(i) + ' = ', num*i)"
   ]
  },
  {
   "cell_type": "code",
   "execution_count": null,
   "metadata": {},
   "outputs": [],
   "source": []
  },
  {
   "cell_type": "markdown",
   "metadata": {},
   "source": [
    "## 3.\tWrite a Python Program to Print the Fibonacci sequence?"
   ]
  },
  {
   "cell_type": "code",
   "execution_count": 1,
   "metadata": {},
   "outputs": [
    {
     "name": "stdout",
     "output_type": "stream",
     "text": [
      "Fibonacci sequence:\n",
      "0\n",
      "1\n",
      "1\n",
      "2\n",
      "3\n",
      "5\n",
      "8\n",
      "13\n",
      "21\n",
      "34\n"
     ]
    }
   ],
   "source": [
    "n=10\n",
    "\n",
    "# first two terms\n",
    "n1, n2 = 0, 1\n",
    "count = 0\n",
    "\n",
    "# check if the number of terms is valid\n",
    "try:\n",
    "    if n <= 0:\n",
    "       print(\"Please enter a positive integer\")\n",
    "    elif n == 1:\n",
    "       print(\"Fibonacci sequence upto\",nterms,\":\")\n",
    "       print(n1)\n",
    "    else:\n",
    "       print(\"Fibonacci sequence:\")\n",
    "       while count < n:\n",
    "           print(n1)\n",
    "           nth = n1 + n2\n",
    "           # update values\n",
    "           n1 = n2\n",
    "           n2 = nth\n",
    "           count += 1\n",
    "except:\n",
    "    print('Error Occured')"
   ]
  },
  {
   "cell_type": "code",
   "execution_count": null,
   "metadata": {},
   "outputs": [],
   "source": []
  },
  {
   "cell_type": "markdown",
   "metadata": {},
   "source": [
    "## 4.\tWrite a Python Program to Check Armstrong Number?"
   ]
  },
  {
   "cell_type": "code",
   "execution_count": 26,
   "metadata": {},
   "outputs": [
    {
     "name": "stdout",
     "output_type": "stream",
     "text": [
      "58 is not an Armstrong number\n"
     ]
    }
   ],
   "source": [
    "#Armstrong number is a number that is equal to the sum of cubes of its digits.\n",
    "num =  58\n",
    "sum = 0  \n",
    "temp = num  \n",
    "\n",
    "try:\n",
    "    while temp > 0:  \n",
    "       digit = temp % 10  \n",
    "       sum += digit ** 3  \n",
    "       temp //= 10  \n",
    "\n",
    "    if num == sum:  \n",
    "       print(num,\"is an Armstrong number\")  \n",
    "    else:  \n",
    "       print(num,\"is not an Armstrong number\")  \n",
    "except:\n",
    "    print('Error occured')"
   ]
  },
  {
   "cell_type": "code",
   "execution_count": null,
   "metadata": {},
   "outputs": [],
   "source": []
  },
  {
   "cell_type": "markdown",
   "metadata": {},
   "source": [
    "## 5.\tWrite a Python Program to Find Armstrong Number in an Interval?"
   ]
  },
  {
   "cell_type": "code",
   "execution_count": 2,
   "metadata": {},
   "outputs": [
    {
     "data": {
      "text/plain": [
       "[1, 64, 125, 153, 216, 370, 371, 407, 729]"
      ]
     },
     "execution_count": 2,
     "metadata": {},
     "output_type": "execute_result"
    }
   ],
   "source": [
    "lower=1\n",
    "upper=1000\n",
    "arm_strong = [] #stroing the arm strong numbers\n",
    "\n",
    "try:\n",
    "    for num in range(lower,upper + 1):  \n",
    "       sum = 0  \n",
    "       temp = num  \n",
    "       while temp > 0:  \n",
    "           digit = temp % 10  \n",
    "           sum += digit ** 3  \n",
    "           temp //= 10  \n",
    "           if num == sum:  \n",
    "                arm_strong.append(num)\n",
    "except:\n",
    "    print('Error Occured')\n",
    "            \n",
    "arm_strong\n",
    "            "
   ]
  },
  {
   "cell_type": "code",
   "execution_count": null,
   "metadata": {},
   "outputs": [],
   "source": []
  },
  {
   "cell_type": "markdown",
   "metadata": {},
   "source": [
    "# 6.\tWrite a Python Program to Find the Sum of Natural Numbers?"
   ]
  },
  {
   "cell_type": "code",
   "execution_count": 38,
   "metadata": {},
   "outputs": [
    {
     "data": {
      "text/plain": [
       "26"
      ]
     },
     "execution_count": 38,
     "metadata": {},
     "output_type": "execute_result"
    }
   ],
   "source": [
    "#natural number is an integer greater than 0\n",
    "num_range = [1,2,3.5,5,8.0,7,9,0.5,2]\n",
    "nat_sum = 0\n",
    "\n",
    "try:\n",
    "    for i in num_range:\n",
    "        if type(i)==int and i>0:   #putting the condition for being natural number\n",
    "            nat_sum+=i\n",
    "except:\n",
    "    print('Error Occured')\n",
    "nat_sum        "
   ]
  },
  {
   "cell_type": "code",
   "execution_count": null,
   "metadata": {},
   "outputs": [],
   "source": []
  },
  {
   "cell_type": "code",
   "execution_count": null,
   "metadata": {},
   "outputs": [],
   "source": []
  }
 ],
 "metadata": {
  "kernelspec": {
   "display_name": "Python 3",
   "language": "python",
   "name": "python3"
  },
  "language_info": {
   "codemirror_mode": {
    "name": "ipython",
    "version": 3
   },
   "file_extension": ".py",
   "mimetype": "text/x-python",
   "name": "python",
   "nbconvert_exporter": "python",
   "pygments_lexer": "ipython3",
   "version": "3.8.5"
  }
 },
 "nbformat": 4,
 "nbformat_minor": 4
}
