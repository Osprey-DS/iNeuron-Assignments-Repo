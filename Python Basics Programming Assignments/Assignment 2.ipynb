{
 "cells": [
  {
   "cell_type": "markdown",
   "metadata": {},
   "source": [
    "## 1.\tWrite a Python program to convert kilometers to miles?"
   ]
  },
  {
   "cell_type": "code",
   "execution_count": 2,
   "metadata": {},
   "outputs": [
    {
     "name": "stdout",
     "output_type": "stream",
     "text": [
      "The value in mile  3.106855\n"
     ]
    }
   ],
   "source": [
    "one_kilomet = 0.621371 #this is constant value, one kilometer is equals to 0.621371 mile\n",
    "\n",
    "kilomet_value = 5 #our kilometer value\n",
    "\n",
    "converted_value = kilomet_value*one_kilomet  #converting the value\n",
    "print('The value in mile ', converted_value)"
   ]
  },
  {
   "cell_type": "code",
   "execution_count": null,
   "metadata": {},
   "outputs": [],
   "source": []
  },
  {
   "cell_type": "markdown",
   "metadata": {},
   "source": [
    "## 2.\tWrite a Python program to convert Celsius to Fahrenheit? "
   ]
  },
  {
   "cell_type": "code",
   "execution_count": 5,
   "metadata": {},
   "outputs": [
    {
     "name": "stdout",
     "output_type": "stream",
     "text": [
      "The converted temp is:  122.0\n"
     ]
    }
   ],
   "source": [
    "#formula (cel * 9/5) + 32 \n",
    "\n",
    "cel_temp = 50 #50 degree celsius\n",
    "\n",
    "convert_temp = (cel_temp * 9/5) + 32 #converting to fahremhite\n",
    "print('The converted temp is: ', convert_temp)"
   ]
  },
  {
   "cell_type": "code",
   "execution_count": null,
   "metadata": {},
   "outputs": [],
   "source": []
  },
  {
   "cell_type": "markdown",
   "metadata": {},
   "source": [
    "## 3.\tWrite a Python program to display calendar?"
   ]
  },
  {
   "cell_type": "code",
   "execution_count": 11,
   "metadata": {},
   "outputs": [
    {
     "name": "stdout",
     "output_type": "stream",
     "text": [
      "     March 2021\n",
      "Mo Tu We Th Fr Sa Su\n",
      " 1  2  3  4  5  6  7\n",
      " 8  9 10 11 12 13 14\n",
      "15 16 17 18 19 20 21\n",
      "22 23 24 25 26 27 28\n",
      "29 30 31\n",
      "\n"
     ]
    }
   ],
   "source": [
    "import calendar\n",
    "print(calendar.month(2021,3)) #showing the current month calendar\n",
    "\n"
   ]
  },
  {
   "cell_type": "code",
   "execution_count": null,
   "metadata": {},
   "outputs": [],
   "source": []
  },
  {
   "cell_type": "markdown",
   "metadata": {},
   "source": [
    "## 4.\tWrite a Python program to solve quadratic equation?"
   ]
  },
  {
   "cell_type": "markdown",
   "metadata": {},
   "source": [
    "# main_quardratic_formula  = (-b ± (b ** 2 - 4 * a * c) ** 0.5) / 2 * a \n"
   ]
  },
  {
   "cell_type": "code",
   "execution_count": 3,
   "metadata": {},
   "outputs": [
    {
     "name": "stdout",
     "output_type": "stream",
     "text": [
      "The solution of the equation is : \n",
      " -4.686291501015239 \n",
      " -27.31370849898476\n"
     ]
    }
   ],
   "source": [
    "#defining our three variable\n",
    "a = 4\n",
    "b= 8\n",
    "c=2\n",
    "#as we know quadratic equation have two solution for two operator + nd - \n",
    "sol1 = (-b+(b**2 - 4*a*c)**0.5) / 2*a #using +\n",
    "sol2 = (-b-(b**2 - 4*a*c)**0.5) / 2*a #using -\n",
    "print(f'The solution of the equation is : \\n {sol1} \\n {sol2}')"
   ]
  },
  {
   "cell_type": "code",
   "execution_count": null,
   "metadata": {},
   "outputs": [],
   "source": []
  },
  {
   "cell_type": "markdown",
   "metadata": {},
   "source": [
    "## 5.\tWrite a Python program to swap two variables without temp variable?"
   ]
  },
  {
   "cell_type": "code",
   "execution_count": 5,
   "metadata": {},
   "outputs": [
    {
     "name": "stdout",
     "output_type": "stream",
     "text": [
      "Before swap a , b  20 10\n",
      "After swaping a, b 10 20\n"
     ]
    }
   ],
   "source": [
    "#we can use arithmatic operator to do the swaping\n",
    "#initial value\n",
    "a = 20\n",
    "b=10\n",
    "print('Before swap a , b ', a, b)\n",
    "#performing swaping\n",
    "a=a+b # a become 30: 20+10 = 30\n",
    "b=a-b # b become 20: 30 - 10 = 20\n",
    "a = a-b # a become 10: 30-20 = 10 \n",
    "\n",
    "print('After swaping a, b', a,b )\n"
   ]
  },
  {
   "cell_type": "code",
   "execution_count": null,
   "metadata": {},
   "outputs": [],
   "source": []
  }
 ],
 "metadata": {
  "kernelspec": {
   "display_name": "Python 3",
   "language": "python",
   "name": "python3"
  },
  "language_info": {
   "codemirror_mode": {
    "name": "ipython",
    "version": 3
   },
   "file_extension": ".py",
   "mimetype": "text/x-python",
   "name": "python",
   "nbconvert_exporter": "python",
   "pygments_lexer": "ipython3",
   "version": "3.8.5"
  }
 },
 "nbformat": 4,
 "nbformat_minor": 4
}
