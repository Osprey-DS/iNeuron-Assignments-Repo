{
 "cells": [
  {
   "cell_type": "markdown",
   "metadata": {},
   "source": [
    "## 1.\tWrite a Python Program to Find LCM?"
   ]
  },
  {
   "cell_type": "code",
   "execution_count": 6,
   "metadata": {},
   "outputs": [
    {
     "data": {
      "text/plain": [
       "60"
      ]
     },
     "execution_count": 6,
     "metadata": {},
     "output_type": "execute_result"
    }
   ],
   "source": [
    "from math import gcd\n",
    "a = [10, 20, 15, 3]   #will work for an int array of any length\n",
    "lcm = a[0]\n",
    "\n",
    "try:\n",
    "    for i in a[1:]:\n",
    "      lcm = lcm*i//gcd(lcm, i)\n",
    "except TypeError:\n",
    "    print('Enter only Integer Values in the list')\n",
    "lcm"
   ]
  },
  {
   "cell_type": "code",
   "execution_count": null,
   "metadata": {},
   "outputs": [],
   "source": []
  },
  {
   "cell_type": "markdown",
   "metadata": {},
   "source": [
    "## 2.\tWrite a Python Program to Find HCF?"
   ]
  },
  {
   "cell_type": "code",
   "execution_count": 9,
   "metadata": {},
   "outputs": [
    {
     "data": {
      "text/plain": [
       "5"
      ]
     },
     "execution_count": 9,
     "metadata": {},
     "output_type": "execute_result"
    }
   ],
   "source": [
    "from math import gcd\n",
    "a = [10, 20, 15]   #will work for an int array of any length\n",
    "hcf = a[0]\n",
    "\n",
    "try:\n",
    "    for i in a[1:]:\n",
    "          hcf = gcd(hcf, i)\n",
    "except TypeError:\n",
    "    print('Enter only Integer Values in the list')\n",
    "hcf"
   ]
  },
  {
   "cell_type": "code",
   "execution_count": null,
   "metadata": {},
   "outputs": [],
   "source": []
  },
  {
   "cell_type": "markdown",
   "metadata": {},
   "source": [
    "## 3.\tWrite a Python Program to Convert Decimal to Binary, Octal and Hexadecimal?"
   ]
  },
  {
   "cell_type": "code",
   "execution_count": 5,
   "metadata": {},
   "outputs": [
    {
     "name": "stdout",
     "output_type": "stream",
     "text": [
      "Binary:  0b1100100\n",
      "Octal:  0o144\n",
      "Hexadecimal:  0x64\n"
     ]
    }
   ],
   "source": [
    "#python have built-in function to convert decimal to binary, octal or hexadecimal\n",
    "# Python program to convert decimal into other number systems\n",
    "num = 100\n",
    "\n",
    "print('Binary: ', bin(num)) #binary\n",
    "print('Octal: ', oct(num)) #octal\n",
    "print('Hexadecimal: ', hex(num)) #hexadecimal\n"
   ]
  },
  {
   "cell_type": "code",
   "execution_count": null,
   "metadata": {},
   "outputs": [],
   "source": []
  },
  {
   "cell_type": "markdown",
   "metadata": {},
   "source": [
    "## 4.\tWrite a Python Program To Find ASCII value of a character?"
   ]
  },
  {
   "cell_type": "code",
   "execution_count": 7,
   "metadata": {},
   "outputs": [
    {
     "name": "stdout",
     "output_type": "stream",
     "text": [
      "The ASCII value of 'A' :-  65\n",
      "The ASCII value of 'a' :-  97\n"
     ]
    }
   ],
   "source": [
    "#python have built-in function to find ASSCII value of a character which is ord()\n",
    "\n",
    "print(\"The ASCII value of 'A' :- \", ord('A')) #ASCII of A\n",
    "print(\"The ASCII value of 'a' :- \", ord('a')) #ASCII of a\n",
    "#ASCII value is case sensitive"
   ]
  },
  {
   "cell_type": "code",
   "execution_count": null,
   "metadata": {},
   "outputs": [],
   "source": []
  },
  {
   "cell_type": "markdown",
   "metadata": {},
   "source": [
    "## 5.\tWrite a Python Program to Make a Simple Calculator with 4 basic mathematical operations?"
   ]
  },
  {
   "cell_type": "code",
   "execution_count": 9,
   "metadata": {},
   "outputs": [
    {
     "name": "stdout",
     "output_type": "stream",
     "text": [
      "Enter first num: 8\n",
      "Enter second num: 2\n",
      "Enter the operator + - * / *\n",
      "16\n"
     ]
    }
   ],
   "source": [
    "a = int(input('Enter first num: '))\n",
    "b = int(input('Enter second num: '))\n",
    "choice = str(input('Enter the operator + - * / '))\n",
    "\n",
    "try:\n",
    "    if choice == '+':\n",
    "        print(a+b)\n",
    "    elif choice == '-':\n",
    "        print(a-b)\n",
    "    elif choice =='*':\n",
    "        print(a*b)\n",
    "    elif choice == '/':\n",
    "        print(a/b)\n",
    "except:\n",
    "    print('Error Occured')"
   ]
  },
  {
   "cell_type": "code",
   "execution_count": null,
   "metadata": {},
   "outputs": [],
   "source": []
  }
 ],
 "metadata": {
  "kernelspec": {
   "display_name": "Python 3",
   "language": "python",
   "name": "python3"
  },
  "language_info": {
   "codemirror_mode": {
    "name": "ipython",
    "version": 3
   },
   "file_extension": ".py",
   "mimetype": "text/x-python",
   "name": "python",
   "nbconvert_exporter": "python",
   "pygments_lexer": "ipython3",
   "version": "3.8.5"
  }
 },
 "nbformat": 4,
 "nbformat_minor": 4
}
