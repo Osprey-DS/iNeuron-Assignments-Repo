{
 "cells": [
  {
   "cell_type": "code",
   "execution_count": 1,
   "metadata": {},
   "outputs": [],
   "source": [
    "# import logging \n",
    "import logging as log\n",
    "log.basicConfig(filename='Assignment_12_log.log', level=log.INFO, format='%(asctime)s %(message)s')\n",
    "log.info(\"Assignment_12_log---\")"
   ]
  },
  {
   "cell_type": "markdown",
   "metadata": {},
   "source": [
    "## 1.\tWrite a Python program to Extract Unique values dictionary values?"
   ]
  },
  {
   "cell_type": "code",
   "execution_count": 5,
   "metadata": {},
   "outputs": [
    {
     "name": "stdout",
     "output_type": "stream",
     "text": [
      "[2, 4, 5]\n"
     ]
    }
   ],
   "source": [
    "my_dict = {'a':2, 'b':4, 'c':2, 'd':5}\n",
    "my_list =[] # create empty list\n",
    "\n",
    "try:\n",
    "    for i in my_dict.values(): \n",
    "        if i in my_list: \n",
    "            continue \n",
    "        else:\n",
    "            my_list.append(i)\n",
    "except Exception as e:\n",
    "    log.info(str(e))\n",
    "\n",
    "print(my_list)"
   ]
  },
  {
   "cell_type": "code",
   "execution_count": null,
   "metadata": {},
   "outputs": [],
   "source": []
  },
  {
   "cell_type": "markdown",
   "metadata": {},
   "source": [
    "## 2.\tWrite a Python program to find the sum of all items in a dictionary?"
   ]
  },
  {
   "cell_type": "code",
   "execution_count": 6,
   "metadata": {},
   "outputs": [
    {
     "data": {
      "text/plain": [
       "13"
      ]
     },
     "execution_count": 6,
     "metadata": {},
     "output_type": "execute_result"
    }
   ],
   "source": [
    "my_dict = {'a':2, 'b':4, 'c':2, 'd':5}\n",
    "sum_val = 0\n",
    "\n",
    "try:\n",
    "    for i in my_dict.values():\n",
    "        sum_val+=i\n",
    "except Exception as e:\n",
    "    log.info(str(e))\n",
    "\n",
    "sum_val #2+4+2+5 = 13"
   ]
  },
  {
   "cell_type": "code",
   "execution_count": null,
   "metadata": {},
   "outputs": [],
   "source": []
  },
  {
   "cell_type": "markdown",
   "metadata": {},
   "source": [
    "## 3.\tWrite a Python program to Merging two Dictionaries?"
   ]
  },
  {
   "cell_type": "code",
   "execution_count": 3,
   "metadata": {},
   "outputs": [
    {
     "data": {
      "text/plain": [
       "{'a': 2, 'b': 4, 'c': 2, 'd': 5, 'f': 2, 'h': 4, 'j': 2, 'k': 5}"
      ]
     },
     "execution_count": 3,
     "metadata": {},
     "output_type": "execute_result"
    }
   ],
   "source": [
    "my_dict1 = {'a':2, 'b':4, 'c':2, 'd':5}\n",
    "my_dict2 = {'f':2, 'h':4, 'j':2, 'k':5}\n",
    "my_dict1.update(my_dict2)\n",
    "my_dict1 #new dict"
   ]
  },
  {
   "cell_type": "code",
   "execution_count": null,
   "metadata": {},
   "outputs": [],
   "source": []
  },
  {
   "cell_type": "markdown",
   "metadata": {},
   "source": [
    "## 4.\tWrite a Python program to convert key-values list to flat dictionary?"
   ]
  },
  {
   "cell_type": "code",
   "execution_count": 8,
   "metadata": {},
   "outputs": [
    {
     "data": {
      "text/plain": [
       "dict_items([('s', [1, 2, 3]), ('b', [5, 4, 7, 4]), ('c', [1, 2, 5])])"
      ]
     },
     "execution_count": 8,
     "metadata": {},
     "output_type": "execute_result"
    }
   ],
   "source": [
    "key_val_lst = {'s':[1,2,3], 'b':[5,4,7,4], 'c':[1,2,5]}\n",
    "res_dict = dict()\n",
    "b = key_val_lst.items()\n",
    "b"
   ]
  },
  {
   "cell_type": "code",
   "execution_count": null,
   "metadata": {},
   "outputs": [],
   "source": []
  }
 ],
 "metadata": {
  "kernelspec": {
   "display_name": "Python 3",
   "language": "python",
   "name": "python3"
  },
  "language_info": {
   "codemirror_mode": {
    "name": "ipython",
    "version": 3
   },
   "file_extension": ".py",
   "mimetype": "text/x-python",
   "name": "python",
   "nbconvert_exporter": "python",
   "pygments_lexer": "ipython3",
   "version": "3.8.5"
  }
 },
 "nbformat": 4,
 "nbformat_minor": 4
}
