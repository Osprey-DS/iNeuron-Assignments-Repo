{
 "cells": [
  {
   "cell_type": "code",
   "execution_count": 2,
   "metadata": {},
   "outputs": [],
   "source": [
    "# import logging \n",
    "import logging as log\n",
    "log.basicConfig(filename='Assignment_11_log.log', level=log.INFO, format='%(asctime)s %(message)s')\n",
    "log.info(\"Assignment_11_log---\")"
   ]
  },
  {
   "cell_type": "markdown",
   "metadata": {},
   "source": [
    "## 1.\tWrite a Python program to find words which are greater than given length k?"
   ]
  },
  {
   "cell_type": "code",
   "execution_count": null,
   "metadata": {},
   "outputs": [],
   "source": []
  },
  {
   "cell_type": "code",
   "execution_count": 3,
   "metadata": {},
   "outputs": [
    {
     "data": {
      "text/plain": [
       "['looooooong']"
      ]
     },
     "execution_count": 3,
     "metadata": {},
     "output_type": "execute_result"
    }
   ],
   "source": [
    "my_str = 'i am subha and i don\\'t have that much to write now just need a looooooong word'\n",
    "str_lst = my_str.split(' ')\n",
    "requ_lenght = 5 #intention to get the word that have length more than 5 or K\n",
    "res_str = [] #creating empty list to store to get the lengthy word\n",
    "\n",
    "try:\n",
    "    for i in str_lst:\n",
    "        if len(i)>requ_lenght: #checking the length\n",
    "            res_str.append(i)  #if found then will be added on res_str\n",
    "except Exception as e:\n",
    "    log.info(str(e))\n",
    "    \n",
    "    \n",
    "res_str\n"
   ]
  },
  {
   "cell_type": "code",
   "execution_count": null,
   "metadata": {},
   "outputs": [],
   "source": []
  },
  {
   "cell_type": "markdown",
   "metadata": {},
   "source": [
    "## 2.\tWrite a Python program for removing i-th character from a string?"
   ]
  },
  {
   "cell_type": "code",
   "execution_count": 5,
   "metadata": {},
   "outputs": [
    {
     "data": {
      "text/plain": [
       "'Suhabrata'"
      ]
     },
     "execution_count": 5,
     "metadata": {},
     "output_type": "execute_result"
    }
   ],
   "source": [
    "my_str =  'Subhabrata'\n",
    "new_str = '' #empty string\n",
    "i_th_char = 2 #can be any number with the limit of our word length\n",
    "\n",
    "try:\n",
    "    for i in range(len(my_str)):\n",
    "        if i != i_th_char: #will be True for all number except 3 , our given i_th char which we want to remove\n",
    "            new_str+=my_str[i] #adding all char in new char\n",
    "except Exception as e:\n",
    "    log.info(str(e))\n",
    "    \n",
    "    \n",
    "new_str #notice that 'b' is removed which was in 2nd position"
   ]
  },
  {
   "cell_type": "code",
   "execution_count": null,
   "metadata": {},
   "outputs": [],
   "source": []
  },
  {
   "cell_type": "markdown",
   "metadata": {},
   "source": [
    "## 3.\tWrite a Python program to split and join a string?"
   ]
  },
  {
   "cell_type": "code",
   "execution_count": 10,
   "metadata": {},
   "outputs": [
    {
     "name": "stdout",
     "output_type": "stream",
     "text": [
      "['I', 'am', 'subhabrata', 'and', 'doing', 'assignments', 'bruaaahhhhhhhhhhhh']\n",
      "I am subhabrata and doing assignments bruaaahhhhhhhhhhhh\n"
     ]
    }
   ],
   "source": [
    "my_str = 'I am subhabrata and doing assignments,  bruaaahhhhhhhhhhhh'\n",
    "split_str = my_str.split() #spliting string \n",
    "print(split_str)\n",
    "join_str = ' '.join(split_str) #joining the string with space it will be sismilar to initial string\n",
    "print(join_str)"
   ]
  },
  {
   "cell_type": "code",
   "execution_count": null,
   "metadata": {},
   "outputs": [],
   "source": []
  },
  {
   "cell_type": "markdown",
   "metadata": {},
   "source": [
    "## 4.\tWrite a Python to check if a given string is binary string or not?"
   ]
  },
  {
   "cell_type": "code",
   "execution_count": 14,
   "metadata": {},
   "outputs": [
    {
     "name": "stdout",
     "output_type": "stream",
     "text": [
      "Enter a string to check binary or not:- 01011100\n",
      "Given string is binary element\n"
     ]
    }
   ],
   "source": [
    "# binary string means given string has characters which are only 1 or 0\n",
    "binary_str = '0101101101010010'\n",
    "nonbinary_str = 'subah01'\n",
    "\n",
    "my_str = str(input('Enter a string to check binary or not:- '))\n",
    "binary_ele = {'0','1'}\n",
    "set_bin = set(my_str)\n",
    "\n",
    "try:\n",
    "    if set_bin == binary_ele or set_bin == '0' or set_bin=='1':  #will check the o and 1 is present in the given string after unique value\n",
    "        print('Given string is binary element')\n",
    "    else:\n",
    "        print('Given string is NOT binary element')\n",
    "        \n",
    "except Exception as e:\n",
    "    log.info(str(e))"
   ]
  },
  {
   "cell_type": "code",
   "execution_count": null,
   "metadata": {},
   "outputs": [],
   "source": []
  },
  {
   "cell_type": "markdown",
   "metadata": {},
   "source": [
    "## 5.\tWrite a Python program to find uncommon words from two Strings?"
   ]
  },
  {
   "cell_type": "code",
   "execution_count": 25,
   "metadata": {},
   "outputs": [
    {
     "data": {
      "text/plain": [
       "' subaha gg python'"
      ]
     },
     "execution_count": 25,
     "metadata": {},
     "output_type": "execute_result"
    }
   ],
   "source": [
    "#A uncommon word is which is appeared only one time i given string , which are occuring more than one will not consider as uncommon word\n",
    "my_str_a = 'i am subaha gg'\n",
    "my_str_b = 'i am python'\n",
    "\n",
    "list_a = my_str_a.split() #splitng the string\n",
    "list_b = my_str_b.split()\n",
    "res_str = '' # getting an empty string\n",
    "\n",
    "try:\n",
    "    for i in list_a:\n",
    "       if i not in list_b:\n",
    "          res_str = res_str + \" \" + i #if not in list_b then it will be added with a single space\n",
    "    for j in list_b:\n",
    "         if j not in list_a:\n",
    "           res_str = res_str + \" \" + j\n",
    "except Exception as e:\n",
    "    log.info(str(e))\n",
    "    \n",
    "res_str"
   ]
  },
  {
   "cell_type": "code",
   "execution_count": null,
   "metadata": {},
   "outputs": [],
   "source": []
  },
  {
   "cell_type": "markdown",
   "metadata": {},
   "source": [
    "## 6.\tWrite a Python to find all duplicate characters in string?"
   ]
  },
  {
   "cell_type": "code",
   "execution_count": 30,
   "metadata": {},
   "outputs": [
    {
     "data": {
      "text/plain": [
       "' i am'"
      ]
     },
     "execution_count": 30,
     "metadata": {},
     "output_type": "execute_result"
    }
   ],
   "source": [
    "# this can be get from same code above jsut chane few things\n",
    "my_str_a = 'i am subaha'\n",
    "my_str_b = 'i am python'\n",
    "\n",
    "list_a = my_str_a.split() #splitng the string\n",
    "list_b = my_str_b.split()\n",
    "res_str = '' # getting an empty string\n",
    "\n",
    "try:\n",
    "    for i in list_a:\n",
    "       if i in list_b:\n",
    "          res_str = res_str + \" \" + i #if also present in list_b then it will be added with a single space\n",
    "except Exception as e:\n",
    "    log.info(str(e))\n",
    "res_str"
   ]
  },
  {
   "cell_type": "code",
   "execution_count": null,
   "metadata": {},
   "outputs": [],
   "source": []
  },
  {
   "cell_type": "markdown",
   "metadata": {},
   "source": [
    "## 7.\tWrite a Python Program to check if a string contains any special character?"
   ]
  },
  {
   "cell_type": "code",
   "execution_count": 57,
   "metadata": {},
   "outputs": [
    {
     "name": "stdout",
     "output_type": "stream",
     "text": [
      "Have special char\n"
     ]
    }
   ],
   "source": [
    "special_characters = '!@#$%^&*()-+?_=,<>/'\n",
    "my_str = 'SUbha@*'\n",
    "# Example: $tackoverflow\n",
    "\n",
    "try:\n",
    "    if any(c in special_characters for c in s):\n",
    "        print(\"Have special char\")\n",
    "    else:\n",
    "        print(\"DOn't have special char \")\n",
    "except Exception as e:\n",
    "    log.info(str(e))"
   ]
  },
  {
   "cell_type": "code",
   "execution_count": null,
   "metadata": {},
   "outputs": [],
   "source": []
  },
  {
   "cell_type": "code",
   "execution_count": null,
   "metadata": {},
   "outputs": [],
   "source": []
  }
 ],
 "metadata": {
  "kernelspec": {
   "display_name": "Python 3",
   "language": "python",
   "name": "python3"
  },
  "language_info": {
   "codemirror_mode": {
    "name": "ipython",
    "version": 3
   },
   "file_extension": ".py",
   "mimetype": "text/x-python",
   "name": "python",
   "nbconvert_exporter": "python",
   "pygments_lexer": "ipython3",
   "version": "3.8.5"
  }
 },
 "nbformat": 4,
 "nbformat_minor": 4
}
