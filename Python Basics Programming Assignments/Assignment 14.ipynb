{
 "cells": [
  {
   "cell_type": "code",
   "execution_count": null,
   "metadata": {},
   "outputs": [],
   "source": [
    "# import logging \n",
    "import logging as log\n",
    "log.basicConfig(filename='Assignment_14_log.log', level=log.INFO, format='%(asctime)s %(message)s')\n",
    "log.info(\"Assignment_14_log---\")"
   ]
  },
  {
   "cell_type": "markdown",
   "metadata": {},
   "source": [
    "## Question 1:\n",
    "Define a class with a generator which can iterate the numbers, which are divisible by 7, between a given range 0 and n.\n"
   ]
  },
  {
   "cell_type": "code",
   "execution_count": 29,
   "metadata": {},
   "outputs": [],
   "source": [
    "class Gen_7(): #defining class \n",
    "    try:\n",
    "        def div_7(self, my_range): #creating attribute\n",
    "            for i in range(my_range): \n",
    "                if i%7==0: #checkeing to divisible to 7 or not\n",
    "                    yield i #yielding that value\n",
    "    except Exception as e:\n",
    "        log.info(str(e))"
   ]
  },
  {
   "cell_type": "code",
   "execution_count": 30,
   "metadata": {},
   "outputs": [
    {
     "data": {
      "text/plain": [
       "<generator object Gen_7.div_7 at 0x000001800BDD29E0>"
      ]
     },
     "execution_count": 30,
     "metadata": {},
     "output_type": "execute_result"
    }
   ],
   "source": [
    "gen = Gen_7() #creating instance of the class\n",
    "gen = gen.div_7(100) #updating the value\n",
    "gen"
   ]
  },
  {
   "cell_type": "code",
   "execution_count": 31,
   "metadata": {},
   "outputs": [
    {
     "name": "stdout",
     "output_type": "stream",
     "text": [
      "0\n",
      "7\n",
      "14\n",
      "21\n",
      "28\n",
      "35\n",
      "42\n",
      "49\n",
      "56\n",
      "63\n",
      "70\n",
      "77\n",
      "84\n",
      "91\n",
      "98\n"
     ]
    }
   ],
   "source": [
    "for i in gen:\n",
    "    print(i)"
   ]
  },
  {
   "cell_type": "code",
   "execution_count": null,
   "metadata": {},
   "outputs": [],
   "source": []
  },
  {
   "cell_type": "markdown",
   "metadata": {},
   "source": [
    "## Question 2:\n",
    "Write a program to compute the frequency of the words from the input. The output should output after sorting the key alphanumerically. \n",
    "\n",
    "Suppose the following input is supplied to the program:\n",
    "\n",
    "New to Python or choosing between Python 2 and Python 3? Read Python 2 or Python 3.\n",
    "\n",
    "Then, the output should be:\n",
    "\n",
    "2:2\n",
    "\n",
    "3.:1\n",
    "\n",
    "3?:1\n",
    "\n",
    "New:1\n",
    "\n",
    "Python:5\n",
    "\n",
    "Read:1\n",
    "\n",
    "and:1\n",
    "\n",
    "between:1\n",
    "\n",
    "choosing:1\n",
    "\n",
    "or:2\n",
    "\n",
    "to:1\n"
   ]
  },
  {
   "cell_type": "code",
   "execution_count": 35,
   "metadata": {},
   "outputs": [
    {
     "name": "stdout",
     "output_type": "stream",
     "text": [
      "2:2\n",
      "3.:1\n",
      "3?:1\n",
      "New:1\n",
      "Python:5\n",
      "Read:1\n",
      "and:1\n",
      "between:1\n",
      "choosing:1\n",
      "or:2\n",
      "to:1\n"
     ]
    }
   ],
   "source": [
    "my_str = 'New to Python or choosing between Python 2 and Python 3? Read Python 2 or Python 3.'\n",
    "splt = my_str.split()\n",
    "word = sorted(set(splt))     # split words are stored and sorted as a set\n",
    "\n",
    "for i in word:\n",
    "    print(\"{0}:{1}\".format(i,splt.count(i)))"
   ]
  },
  {
   "cell_type": "code",
   "execution_count": null,
   "metadata": {},
   "outputs": [],
   "source": []
  },
  {
   "cell_type": "markdown",
   "metadata": {},
   "source": [
    "## Question 3:\n",
    "\n",
    "\n",
    "\n",
    "Define a class Person and its two child classes: Male and Female. All classes have a method \"getGender\" which can print \"Male\" for Male class and \"Female\" for Female class.\n"
   ]
  },
  {
   "cell_type": "code",
   "execution_count": 60,
   "metadata": {},
   "outputs": [],
   "source": [
    "class Person(): #parent class\n",
    "    def __init__(self, gender): #initialize gender \n",
    "        self.gender = gender\n",
    "   \n",
    "    def getGender(): #person will print gender as it don't know which gender\n",
    "        print('Gender')\n",
    "        \n",
    "    \n",
    "class Male(Person): #child class\n",
    "    def __init__(self):\n",
    "       super().__init__('Male') #inherite the gender feature from parent and set 'Male' for this class\n",
    "    def getGender(self):\n",
    "        print(self.gender)\n",
    "        \n",
    "class Female(Person): #child class\n",
    "    def __init__(self):\n",
    "        super().__init__('Female') #set 'Female' for this class\n",
    "    def getGender(self):\n",
    "        print(self.gender)\n",
    "        "
   ]
  },
  {
   "cell_type": "code",
   "execution_count": 61,
   "metadata": {},
   "outputs": [
    {
     "name": "stdout",
     "output_type": "stream",
     "text": [
      "Male\n"
     ]
    }
   ],
   "source": [
    "ml = Male()\n",
    "ml.getGender()"
   ]
  },
  {
   "cell_type": "code",
   "execution_count": 62,
   "metadata": {},
   "outputs": [
    {
     "name": "stdout",
     "output_type": "stream",
     "text": [
      "Female\n"
     ]
    }
   ],
   "source": [
    "fl = Female()\n",
    "fl.getGender()"
   ]
  },
  {
   "cell_type": "code",
   "execution_count": null,
   "metadata": {},
   "outputs": [],
   "source": []
  },
  {
   "cell_type": "markdown",
   "metadata": {},
   "source": [
    "## Question 4:\n",
    "Please write a program to generate all sentences where subject is in [\"I\", \"You\"] and verb is in [\"Play\", \"Love\"] and the object is in [\"Hockey\",\"Football\"].\n"
   ]
  },
  {
   "cell_type": "code",
   "execution_count": 66,
   "metadata": {},
   "outputs": [
    {
     "name": "stdout",
     "output_type": "stream",
     "text": [
      "I Paly Hocwkey.\n",
      "I Paly Football.\n",
      "I Love Hocwkey.\n",
      "I Love Football.\n",
      "You Paly Hocwkey.\n",
      "You Paly Football.\n",
      "You Love Hocwkey.\n",
      "You Love Football.\n"
     ]
    }
   ],
   "source": [
    "sub1 = ['I', 'You']\n",
    "sub2 = ['Paly', 'Love']\n",
    "sub3 = ['Hocwkey', 'Football']\n",
    "\n",
    "try:\n",
    "    for i in sub1: #firt iteration\n",
    "        for j in sub2: #second iteration\n",
    "            for k in sub3: #third iteration\n",
    "                print(i +' '+ j +' '+ k +'.') #print the complete sentence\n",
    "except Exception as e:\n",
    "    log.info(str(e))"
   ]
  },
  {
   "cell_type": "code",
   "execution_count": null,
   "metadata": {},
   "outputs": [],
   "source": []
  },
  {
   "cell_type": "markdown",
   "metadata": {},
   "source": [
    "## Question 5:\n",
    "Please write a program to compress and decompress the string \"hello world!hello world!hello world!hello world!\".\n"
   ]
  },
  {
   "cell_type": "code",
   "execution_count": 81,
   "metadata": {},
   "outputs": [
    {
     "name": "stdout",
     "output_type": "stream",
     "text": [
      "size at initial:-  80\n",
      "Size after compress:-  56\n",
      "Size of after decompress 80\n",
      "b'hello world!hello world!hello world!hello world'\n"
     ]
    }
   ],
   "source": [
    "#we can use zlib mdule to compress and decompress any string\n",
    "my_str = b'hello world!hello world!hello world!hello world'\n",
    "import sys\n",
    "import zlib\n",
    "print('size at initial:- ',sys.getsizeof(my_str))\n",
    "com = zlib.compress(my_str)\n",
    "print('Size after compress:- ', sys.getsizeof(com))\n",
    "decom = zlib.decompress(com)\n",
    "print('Size of after decompress', sys.getsizeof(decom))\n",
    "print(decom)"
   ]
  },
  {
   "cell_type": "code",
   "execution_count": null,
   "metadata": {},
   "outputs": [],
   "source": []
  },
  {
   "cell_type": "markdown",
   "metadata": {},
   "source": [
    "### Question 6:\n",
    "Please write a binary search function which searches an item in a sorted list. The function should return the index of element to be searched in the list.\n"
   ]
  },
  {
   "cell_type": "code",
   "execution_count": 1,
   "metadata": {},
   "outputs": [
    {
     "name": "stdout",
     "output_type": "stream",
     "text": [
      "Enter length of list: 3\n",
      "Please Enter 3 Elements: \n",
      "Enter 1 Element: \n",
      "5\n",
      "Enter 2 Element: \n",
      "2\n",
      "Enter 3 Element: \n",
      "7\n",
      "Enter Key you want to search: \n",
      "0\n",
      "Key not found\n"
     ]
    }
   ],
   "source": [
    "class binarySearch:\n",
    "    def search(key):\n",
    "        try:\n",
    "            flag = 0\n",
    "            for i in range(len(li)):\n",
    "                if li[i]==key:\n",
    "                    return i\n",
    "            if(flag==0):\n",
    "                return \"Key not found\"\n",
    "        except Exception as e:\n",
    "            lg.info(e)\n",
    "    def __str__(self):\n",
    "        return \"Binary search Class Created\"\n",
    "    \n",
    "try:\n",
    "    n = int(input(\"Enter length of list: \"))\n",
    "    print(\"Please Enter {} Elements: \".format(n))\n",
    "    li=[]\n",
    "    for i in range(1,n+1):\n",
    "        print(\"Enter {} Element: \".format(i))\n",
    "        num = int(input())\n",
    "        li.append(num)\n",
    "    print(\"Enter Key you want to search: \")\n",
    "    key = int(input())\n",
    "    ob=binarySearch\n",
    "    print(ob.search(key))\n",
    "except Exception as e:\n",
    "        lg.info(e)"
   ]
  },
  {
   "cell_type": "code",
   "execution_count": null,
   "metadata": {},
   "outputs": [],
   "source": []
  }
 ],
 "metadata": {
  "kernelspec": {
   "display_name": "Python 3",
   "language": "python",
   "name": "python3"
  },
  "language_info": {
   "codemirror_mode": {
    "name": "ipython",
    "version": 3
   },
   "file_extension": ".py",
   "mimetype": "text/x-python",
   "name": "python",
   "nbconvert_exporter": "python",
   "pygments_lexer": "ipython3",
   "version": "3.8.5"
  }
 },
 "nbformat": 4,
 "nbformat_minor": 4
}
