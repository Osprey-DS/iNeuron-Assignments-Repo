{
 "cells": [
  {
   "cell_type": "markdown",
   "metadata": {},
   "source": [
    "## 1.\tWrite a Python Program to Display Fibonacci Sequence Using Recursion?"
   ]
  },
  {
   "cell_type": "code",
   "execution_count": 26,
   "metadata": {},
   "outputs": [
    {
     "name": "stdout",
     "output_type": "stream",
     "text": [
      "Enter the range:10\n",
      "Fibonacci sequence:\n",
      "0\n",
      "1\n",
      "1\n",
      "2\n",
      "3\n",
      "5\n",
      "8\n",
      "13\n",
      "21\n",
      "34\n"
     ]
    }
   ],
   "source": [
    "#fibonacci sequence using recursion\n",
    "\n",
    "def fibonacci_rec(n):\n",
    "    try:\n",
    "        if(n <= 1): #checking for positibe number\n",
    "            return n\n",
    "        else:\n",
    "            return(fibonacci_rec(n-1) + fibonacci_rec(n-2))\n",
    "    except:\n",
    "        print('Error Occured')\n",
    "        \n",
    "        \n",
    "n = int(input(\"Enter the range:\")) #asking the range or the n th term\n",
    "print(\"Fibonacci sequence:\")\n",
    "for i in range(n):\n",
    "    print(fibonacci_rec(i))"
   ]
  },
  {
   "cell_type": "markdown",
   "metadata": {},
   "source": [
    "## 2.\tWrite a Python Program to Find Factorial of Number Using Recursion?"
   ]
  },
  {
   "cell_type": "code",
   "execution_count": 24,
   "metadata": {},
   "outputs": [
    {
     "name": "stdout",
     "output_type": "stream",
     "text": [
      "Enter number:5\n",
      "The factorial is:  120\n"
     ]
    }
   ],
   "source": [
    "# recursion means when a function call by itself\n",
    "def factorial(n): #recursion function\n",
    "    try:\n",
    "        if(n <= 1): #checking for positive number\n",
    "            return 1 #if 1 then 1\n",
    "        else:\n",
    "            return(n*factorial(n-1)) #the loop\n",
    "    except: \n",
    "        print('Error Occured')\n",
    "        \n",
    "n = int(input(\"Enter number:\")) #asking for a num from user\n",
    "print('The factorial is: ',factorial(n))"
   ]
  },
  {
   "cell_type": "markdown",
   "metadata": {},
   "source": [
    "## 3.\tWrite a Python Program to calculate your Body Mass Index?"
   ]
  },
  {
   "cell_type": "code",
   "execution_count": 11,
   "metadata": {},
   "outputs": [
    {
     "name": "stdout",
     "output_type": "stream",
     "text": [
      "Enter your Weight:(kg) 100\n",
      "Enter your Height:(Meter) 1.524\n",
      "Your Body mass Index is :-  43.05564166683889\n"
     ]
    }
   ],
   "source": [
    "# body mass index calculate using a person's height and weight\n",
    "#bmi = weight/height**2 or kg/meter**2\n",
    "\n",
    "weight = float(input('Enter your Weight:(kg) ')) #taking weight\n",
    "height = float(input('Enter your Height:(Meter) '))#taking height\n",
    "bmi = weight/height**2 #calcualting bmi\n",
    "\n",
    "print('Your Body mass Index is :- ', bmi)"
   ]
  },
  {
   "cell_type": "markdown",
   "metadata": {},
   "source": [
    "## 4.\tWrite a Python Program to calculate the natural logarithm of any number?"
   ]
  },
  {
   "cell_type": "code",
   "execution_count": 7,
   "metadata": {},
   "outputs": [
    {
     "data": {
      "text/plain": [
       "1.6094379124341003"
      ]
     },
     "execution_count": 7,
     "metadata": {},
     "output_type": "execute_result"
    }
   ],
   "source": [
    "#python have built-in function log() method returns the natural logarithm of a number\n",
    "import math #import math module\n",
    "my_num = 5 #getting a number\n",
    "my_log = math.log(my_num)\n",
    "my_log"
   ]
  },
  {
   "cell_type": "markdown",
   "metadata": {},
   "source": [
    "## 5.\tWrite a Python Program for cube sum of first n natural numbers?"
   ]
  },
  {
   "cell_type": "code",
   "execution_count": 6,
   "metadata": {},
   "outputs": [
    {
     "data": {
      "text/plain": [
       "100"
      ]
     },
     "execution_count": 6,
     "metadata": {},
     "output_type": "execute_result"
    }
   ],
   "source": [
    "# cube sum of n natural number \n",
    "nat_num_range = 4\n",
    "nat_sum = 0\n",
    "for i in range(1,nat_num_range+1):\n",
    "    nat_sum+= (i*i*i)\n",
    "nat_sum"
   ]
  },
  {
   "cell_type": "code",
   "execution_count": null,
   "metadata": {},
   "outputs": [],
   "source": []
  },
  {
   "cell_type": "code",
   "execution_count": null,
   "metadata": {},
   "outputs": [],
   "source": []
  }
 ],
 "metadata": {
  "kernelspec": {
   "display_name": "Python 3",
   "language": "python",
   "name": "python3"
  },
  "language_info": {
   "codemirror_mode": {
    "name": "ipython",
    "version": 3
   },
   "file_extension": ".py",
   "mimetype": "text/x-python",
   "name": "python",
   "nbconvert_exporter": "python",
   "pygments_lexer": "ipython3",
   "version": "3.8.5"
  }
 },
 "nbformat": 4,
 "nbformat_minor": 4
}
