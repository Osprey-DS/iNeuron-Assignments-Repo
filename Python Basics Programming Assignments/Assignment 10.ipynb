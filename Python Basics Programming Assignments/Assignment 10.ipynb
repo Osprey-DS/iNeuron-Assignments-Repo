{
 "cells": [
  {
   "cell_type": "markdown",
   "metadata": {},
   "source": [
    "## 1.\tWrite a Python program to find sum of elements in list?"
   ]
  },
  {
   "cell_type": "code",
   "execution_count": 4,
   "metadata": {},
   "outputs": [],
   "source": [
    "# import logging \n",
    "import logging as log\n",
    "log.basicConfig(filename='Assignment_10_log.log', level=log.INFO, format='%(asctime)s %(message)s')\n",
    "log.info(\"Assignment_10_log---\")"
   ]
  },
  {
   "cell_type": "code",
   "execution_count": 2,
   "metadata": {},
   "outputs": [
    {
     "data": {
      "text/plain": [
       "21"
      ]
     },
     "execution_count": 2,
     "metadata": {},
     "output_type": "execute_result"
    }
   ],
   "source": [
    "#my List\n",
    "my_lst = [1,2,3,4,5,6]\n",
    "sum_lst = 0 # creating a variable to store the some\n",
    "\n",
    "for i in my_lst:  #iterate through the list and adding the sum in sum_lst variable\n",
    "    sum_lst+=i\n",
    "    \n",
    "sum_lst"
   ]
  },
  {
   "cell_type": "markdown",
   "metadata": {},
   "source": [
    "## Or"
   ]
  },
  {
   "cell_type": "code",
   "execution_count": 3,
   "metadata": {},
   "outputs": [
    {
     "data": {
      "text/plain": [
       "21"
      ]
     },
     "execution_count": 3,
     "metadata": {},
     "output_type": "execute_result"
    }
   ],
   "source": [
    "#Python have inbuilt option to find sum of the element insisde a list\n",
    "#using sum() function\n",
    "\n",
    "sum_lst_2 = sum(my_lst)\n",
    "sum_lst_2 #as we get the same result"
   ]
  },
  {
   "cell_type": "code",
   "execution_count": null,
   "metadata": {},
   "outputs": [],
   "source": []
  },
  {
   "cell_type": "markdown",
   "metadata": {},
   "source": [
    "## 2.\tWrite a Python program to  Multiply all numbers in the list?"
   ]
  },
  {
   "cell_type": "code",
   "execution_count": 4,
   "metadata": {},
   "outputs": [
    {
     "data": {
      "text/plain": [
       "120"
      ]
     },
     "execution_count": 4,
     "metadata": {},
     "output_type": "execute_result"
    }
   ],
   "source": [
    "my_lst = [1,2,3,4,5]\n",
    "mul_res = 1\n",
    "for i in my_lst:\n",
    "    mul_res*=i\n",
    "mul_res"
   ]
  },
  {
   "cell_type": "markdown",
   "metadata": {},
   "source": [
    "## Or"
   ]
  },
  {
   "cell_type": "code",
   "execution_count": 5,
   "metadata": {},
   "outputs": [
    {
     "data": {
      "text/plain": [
       "120"
      ]
     },
     "execution_count": 5,
     "metadata": {},
     "output_type": "execute_result"
    }
   ],
   "source": [
    "# or we can use python built in function operator.mul with the reduce function under the functools module\n",
    "import operator\n",
    "from functools import reduce\n",
    "\n",
    "mul_res = reduce(operator.mul, my_lst)  #using reduce function()\n",
    "mul_res \n",
    "#but for this we have to import two separate module that is time consuming but more efficient, when we work on production it is the better way"
   ]
  },
  {
   "cell_type": "code",
   "execution_count": null,
   "metadata": {},
   "outputs": [],
   "source": []
  },
  {
   "cell_type": "markdown",
   "metadata": {},
   "source": [
    "## 3.\tWrite a Python program to find smallest number in a list?"
   ]
  },
  {
   "cell_type": "code",
   "execution_count": 8,
   "metadata": {},
   "outputs": [
    {
     "data": {
      "text/plain": [
       "2"
      ]
     },
     "execution_count": 8,
     "metadata": {},
     "output_type": "execute_result"
    }
   ],
   "source": [
    "my_lst = [4,8,7,8,2,3,4,5] # 2 is the smallest number\n",
    "small = my_lst[0] #creating an variable with assume value as the first one issmallest\n",
    "\n",
    "try:\n",
    "    for i in my_lst:\n",
    "        if i<small: #will check the first value is small or not from second value\n",
    "            small=i\n",
    "except Exception as e:\n",
    "    log.info(str(e))\n",
    "small"
   ]
  },
  {
   "cell_type": "markdown",
   "metadata": {},
   "source": [
    "## Or"
   ]
  },
  {
   "cell_type": "code",
   "execution_count": 9,
   "metadata": {},
   "outputs": [
    {
     "data": {
      "text/plain": [
       "2"
      ]
     },
     "execution_count": 9,
     "metadata": {},
     "output_type": "execute_result"
    }
   ],
   "source": [
    "# we also have inbuilt function for this one called min() for find min value and max() for find max or bigest value in a list\n",
    "min(my_lst)"
   ]
  },
  {
   "cell_type": "code",
   "execution_count": null,
   "metadata": {},
   "outputs": [],
   "source": []
  },
  {
   "cell_type": "markdown",
   "metadata": {},
   "source": [
    "## 4.\tWrite a Python program to find largest number in a list?"
   ]
  },
  {
   "cell_type": "code",
   "execution_count": 10,
   "metadata": {},
   "outputs": [
    {
     "data": {
      "text/plain": [
       "8"
      ]
     },
     "execution_count": 10,
     "metadata": {},
     "output_type": "execute_result"
    }
   ],
   "source": [
    "my_lst = [4,8,7,8,2,3,4,5] # 8 is the largest number\n",
    "large = my_lst[0] #creating  an variable with assume value as the first one is largest value\n",
    "\n",
    "try:\n",
    "    for i in my_lst:\n",
    "        if i>large:\n",
    "            large=i\n",
    "except Exception as e:\n",
    "    log.info(str(e))\n",
    "large"
   ]
  },
  {
   "cell_type": "markdown",
   "metadata": {},
   "source": [
    "## Or"
   ]
  },
  {
   "cell_type": "code",
   "execution_count": 11,
   "metadata": {},
   "outputs": [
    {
     "data": {
      "text/plain": [
       "8"
      ]
     },
     "execution_count": 11,
     "metadata": {},
     "output_type": "execute_result"
    }
   ],
   "source": [
    "max(my_lst)"
   ]
  },
  {
   "cell_type": "code",
   "execution_count": null,
   "metadata": {},
   "outputs": [],
   "source": []
  },
  {
   "cell_type": "markdown",
   "metadata": {},
   "source": [
    "## 5.\tWrite a Python program to find second largest number in a list?"
   ]
  },
  {
   "cell_type": "code",
   "execution_count": 7,
   "metadata": {
    "scrolled": true
   },
   "outputs": [
    {
     "name": "stdout",
     "output_type": "stream",
     "text": [
      "Second largest element is: 8\n"
     ]
    }
   ],
   "source": [
    "my_lst = [1,5,7,8,9,2,8,7,4,7]\n",
    "#sorting the list\n",
    "my_lst.sort(reverse=True) #use reverse True to get the value as decending order\n",
    "print(\"Second largest element is:\", my_lst[1])  #get the second value as that will be second largest as first value is largest"
   ]
  },
  {
   "cell_type": "code",
   "execution_count": null,
   "metadata": {},
   "outputs": [],
   "source": []
  },
  {
   "cell_type": "markdown",
   "metadata": {},
   "source": [
    "## 6.\tWrite a Python program to find N largest elements from a list?"
   ]
  },
  {
   "cell_type": "code",
   "execution_count": 11,
   "metadata": {},
   "outputs": [
    {
     "name": "stdout",
     "output_type": "stream",
     "text": [
      "2 Largest element of the list:- [9, 8]\n"
     ]
    }
   ],
   "source": [
    "my_lst = [1,2,4,8,7,8,9,2,6,7,4]\n",
    "n = 2 #assume a initial value n which is 2 , means we want 2 largest element form the list\n",
    "my_lst.sort(reverse=True)\n",
    "print(f'{n} Largest element of the list:- {my_lst[0:n]}')  #used indexed slicing"
   ]
  },
  {
   "cell_type": "code",
   "execution_count": null,
   "metadata": {},
   "outputs": [],
   "source": []
  },
  {
   "cell_type": "markdown",
   "metadata": {},
   "source": [
    "## 7.\tWrite a Python program to print even numbers in a list?"
   ]
  },
  {
   "cell_type": "code",
   "execution_count": 12,
   "metadata": {},
   "outputs": [
    {
     "data": {
      "text/plain": [
       "[4, 2, 4, 8, 8, 10]"
      ]
     },
     "execution_count": 12,
     "metadata": {},
     "output_type": "execute_result"
    }
   ],
   "source": [
    "my_lst = [4,2,3,4,8,5,8,9,7,1,10]\n",
    "evn_lst = [] #creating an emptty list for adding the even value\n",
    "\n",
    "try:\n",
    "    for i in my_lst:\n",
    "        if i%2==0:\n",
    "            evn_lst.append(i)\n",
    "except Exception as e:\n",
    "    log.info(str(e))\n",
    "    \n",
    "    \n",
    "evn_lst #list of only even number"
   ]
  },
  {
   "cell_type": "code",
   "execution_count": null,
   "metadata": {},
   "outputs": [],
   "source": []
  },
  {
   "cell_type": "markdown",
   "metadata": {},
   "source": [
    "## 8.\tWrite a Python program to print odd numbers in a List?"
   ]
  },
  {
   "cell_type": "code",
   "execution_count": 13,
   "metadata": {},
   "outputs": [
    {
     "data": {
      "text/plain": [
       "[3, 5, 9, 7, 1]"
      ]
     },
     "execution_count": 13,
     "metadata": {},
     "output_type": "execute_result"
    }
   ],
   "source": [
    "my_lst = [4,2,3,4,8,5,8,9,7,1,10]\n",
    "odd_lst = [] #creating an emptty list for adding the odd value\n",
    "\n",
    "try:\n",
    "    for i in my_lst:\n",
    "        if i%2!=0:\n",
    "            odd_lst.append(i)\n",
    "except Exception as e:\n",
    "    log.info(str(e))\n",
    "odd_lst #list of only odd number"
   ]
  },
  {
   "cell_type": "code",
   "execution_count": null,
   "metadata": {},
   "outputs": [],
   "source": []
  },
  {
   "cell_type": "markdown",
   "metadata": {},
   "source": [
    "## 9.\tWrite a Python program to Remove empty List from List?"
   ]
  },
  {
   "cell_type": "code",
   "execution_count": 25,
   "metadata": {},
   "outputs": [
    {
     "data": {
      "text/plain": [
       "[1, 4, 5, 7, 2, 4, [4, 7, 8, 4], 45, 45, [1, 4, 4]]"
      ]
     },
     "execution_count": 25,
     "metadata": {},
     "output_type": "execute_result"
    }
   ],
   "source": [
    "my_lst = [1,4,5,7,2,[],4,[4,7,8,4],45,45,[],[],[1,4,4],[]] #our list contain 4 empty list\n",
    "new_lst = []\n",
    "try:\n",
    "    for i in my_lst:\n",
    "        if i!=[]:#checking for empty list\n",
    "            new_lst.append(i) #add element in new list\n",
    "except Exception as e:\n",
    "    log.info(str(e))\n",
    "    \n",
    "        \n",
    "    \n",
    "new_lst"
   ]
  },
  {
   "cell_type": "code",
   "execution_count": null,
   "metadata": {},
   "outputs": [],
   "source": []
  },
  {
   "cell_type": "markdown",
   "metadata": {},
   "source": [
    "## 10.\tWrite a Python program to Cloning or Copying a list?"
   ]
  },
  {
   "cell_type": "code",
   "execution_count": 26,
   "metadata": {},
   "outputs": [
    {
     "data": {
      "text/plain": [
       "[12, 5, 7, 5, 7, 5]"
      ]
     },
     "execution_count": 26,
     "metadata": {},
     "output_type": "execute_result"
    }
   ],
   "source": [
    "my_lst = [12,5,7,5,7,5]\n",
    "clone_lst = [i for i in my_lst] #adding all elemetn inside clone list\n",
    "clone_lst #exact copy of my_lst"
   ]
  },
  {
   "cell_type": "code",
   "execution_count": null,
   "metadata": {},
   "outputs": [],
   "source": []
  },
  {
   "cell_type": "markdown",
   "metadata": {},
   "source": [
    "## 11.\tWrite a Python program to Count occurrences of an element in a list?"
   ]
  },
  {
   "cell_type": "code",
   "execution_count": 35,
   "metadata": {},
   "outputs": [
    {
     "data": {
      "text/plain": [
       "{1: 2, 2: 1, 4: 2, 7: 5, 8: 4, 5: 2}"
      ]
     },
     "execution_count": 35,
     "metadata": {},
     "output_type": "execute_result"
    }
   ],
   "source": [
    "my_lst = [1,2,4,7,8,7,5,8,4,7,5,7,8,8,7,1]\n",
    "count_dict = dict() #creating a empty dic\n",
    "\n",
    "try:\n",
    "    for i in my_lst:\n",
    "        count = 0\n",
    "        for j in my_lst: #checking every element with every elemtn, O(n**2)\n",
    "            if j==i:\n",
    "                count+=1 #if found duplicate then count will be add 1\n",
    "                count_dict[i]=count #creating key value on count dict\n",
    "except Exception as e:\n",
    "    log.info(str(e))\n",
    "            \n",
    "count_dict  #the key is element of the list and value is occurrences"
   ]
  },
  {
   "cell_type": "code",
   "execution_count": null,
   "metadata": {},
   "outputs": [],
   "source": []
  },
  {
   "cell_type": "code",
   "execution_count": null,
   "metadata": {},
   "outputs": [],
   "source": []
  }
 ],
 "metadata": {
  "kernelspec": {
   "display_name": "Python 3",
   "language": "python",
   "name": "python3"
  },
  "language_info": {
   "codemirror_mode": {
    "name": "ipython",
    "version": 3
   },
   "file_extension": ".py",
   "mimetype": "text/x-python",
   "name": "python",
   "nbconvert_exporter": "python",
   "pygments_lexer": "ipython3",
   "version": "3.8.5"
  }
 },
 "nbformat": 4,
 "nbformat_minor": 4
}
