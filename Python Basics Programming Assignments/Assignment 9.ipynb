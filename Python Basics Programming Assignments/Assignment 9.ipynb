{
 "cells": [
  {
   "cell_type": "markdown",
   "metadata": {},
   "source": [
    "### 1.\tWrite a Python program to check if the given number is a Disarium Number?\n",
    "\n",
    "A number is said to be the Disarium number when the sum of its digit raised to the power of their respective positions becomes equal to the number itself."
   ]
  },
  {
   "cell_type": "code",
   "execution_count": 20,
   "metadata": {},
   "outputs": [
    {
     "name": "stdout",
     "output_type": "stream",
     "text": [
      "175 is Disarium Number\n"
     ]
    }
   ],
   "source": [
    "num = 175 # taking a number\n",
    "\n",
    "count = 0\n",
    "\n",
    "temp=num\n",
    "while(temp>0):\n",
    "    rem = temp%10\n",
    "    count=count+1\n",
    "    temp//=10  \n",
    "length =  count\n",
    "res = 0\n",
    "power=length\n",
    "temp1=num\n",
    "for i in range(1,length+1):\n",
    "    rem = temp1%10\n",
    "    res+=(rem**power)\n",
    "    power-=1\n",
    "    temp1//=10\n",
    "if(res == num):\n",
    "    print(\"{} is Disarium Number\".format(num))\n",
    "else:\n",
    "    print(\"{} is Not a Disarium Number\".format(num))\n",
    "    "
   ]
  },
  {
   "cell_type": "code",
   "execution_count": null,
   "metadata": {},
   "outputs": [],
   "source": []
  },
  {
   "cell_type": "markdown",
   "metadata": {},
   "source": [
    "### 2.\tWrite a Python program to print all disarium numbers between 1 to 100?"
   ]
  },
  {
   "cell_type": "code",
   "execution_count": 1,
   "metadata": {},
   "outputs": [
    {
     "name": "stdout",
     "output_type": "stream",
     "text": [
      "1\n",
      "2\n",
      "3\n",
      "4\n",
      "5\n",
      "6\n",
      "7\n",
      "8\n",
      "9\n",
      "89\n"
     ]
    }
   ],
   "source": [
    "for num in range(1,101):  \n",
    "    count = 0\n",
    "    temp=num\n",
    "    while(temp>0):\n",
    "        rem = temp%10\n",
    "        count=count+1\n",
    "        temp//=10  \n",
    "    length =  count\n",
    "    res = 0\n",
    "    power=length\n",
    "    temp1=num\n",
    "    for i in range(1,length+1):\n",
    "        rem = temp1%10\n",
    "        res+=(rem**power)\n",
    "        power-=1\n",
    "        temp1//=10\n",
    "    if(res == num):\n",
    "        print(num)\n",
    "    "
   ]
  },
  {
   "cell_type": "code",
   "execution_count": null,
   "metadata": {},
   "outputs": [],
   "source": []
  },
  {
   "cell_type": "markdown",
   "metadata": {},
   "source": [
    "### 3.\tWrite a Python program to check if the given number is Happy Number?\n",
    "In number theory, a happy number is a number which eventually reaches 1 when replaced by the sum of the square of each digit. For instance, 13 is a happy number."
   ]
  },
  {
   "cell_type": "code",
   "execution_count": 6,
   "metadata": {},
   "outputs": [
    {
     "name": "stdout",
     "output_type": "stream",
     "text": [
      "Enter the number: 13\n",
      "Happy Number\n"
     ]
    }
   ],
   "source": [
    "def happynumber(num):\n",
    "    try:\n",
    "        rem = my_sum = 0\n",
    "        while(num > 0):\n",
    "            rem = num%10\n",
    "            my_sum = my_sum + (rem*rem)  # calculating sum of square of digits\n",
    "            num//=10\n",
    "        return my_sum\n",
    "    except:\n",
    "        print('Error occured')\n",
    "\n",
    "\n",
    "num = int(input(\"Enter the number: \")) # taking input from user.\n",
    "result = num\n",
    "while(result != 1 and result != 4):    \n",
    "        result = happynumber(result)\n",
    "    \n",
    "\n",
    "if(result == 1):  # happy number always end with 1\n",
    "    print(\"Happy Number\")\n",
    "else:\n",
    "    print(\"Not a Happy Number\")"
   ]
  },
  {
   "cell_type": "code",
   "execution_count": null,
   "metadata": {},
   "outputs": [],
   "source": []
  },
  {
   "cell_type": "markdown",
   "metadata": {},
   "source": [
    "### 4.\tWrite a Python program to print all happy numbers between 1 and 100?"
   ]
  },
  {
   "cell_type": "code",
   "execution_count": 11,
   "metadata": {},
   "outputs": [
    {
     "name": "stdout",
     "output_type": "stream",
     "text": [
      "1\n",
      "7\n",
      "10\n",
      "13\n",
      "19\n",
      "23\n",
      "28\n",
      "31\n",
      "32\n",
      "44\n",
      "49\n",
      "68\n",
      "70\n",
      "79\n",
      "82\n",
      "86\n",
      "91\n",
      "94\n",
      "97\n",
      "100\n"
     ]
    }
   ],
   "source": [
    "def happyumber(num):\n",
    "    rem = my_sum = 0\n",
    "    while(num > 0):\n",
    "        rem = num%10\n",
    "        my_sum = my_sum + (rem*rem)\n",
    "        num//=10\n",
    "    return my_sum\n",
    "\n",
    "for i in range(1,101):\n",
    "    result = i\n",
    "    while(result != 1 and result != 4):    \n",
    "        result = happynumber(result)\n",
    "    if(result == 1):\n",
    "        print(i)"
   ]
  },
  {
   "cell_type": "code",
   "execution_count": null,
   "metadata": {},
   "outputs": [],
   "source": []
  },
  {
   "cell_type": "markdown",
   "metadata": {},
   "source": [
    "### 5.\tWrite a Python program to determine whether the given number is a Harshad Number?\n",
    "If a number is divisible by the sum of its digits, then it will be known as a Harshad Number.\n",
    "\n",
    "The Number 120 is harshad number,\n",
    "1+2+0 = 3 \n",
    "and 12/3 = 4 or 12%3 = 0"
   ]
  },
  {
   "cell_type": "code",
   "execution_count": 16,
   "metadata": {},
   "outputs": [
    {
     "name": "stdout",
     "output_type": "stream",
     "text": [
      "Enter a number to check the harshad number120\n",
      "harshad number\n"
     ]
    }
   ],
   "source": [
    "num = int(input('Enter a number to check the harshad number'))\n",
    "rem = 0\n",
    "my_sum = 0\n",
    "temp=num\n",
    "\n",
    "while(temp>0):\n",
    "    rem = temp%10\n",
    "    my_sum = my_sum+rem\n",
    "    temp//=10\n",
    "    \n",
    "if (num%my_sum==0):\n",
    "    print('harshad number')\n",
    "else:\n",
    "    print('harshad number')"
   ]
  },
  {
   "cell_type": "code",
   "execution_count": null,
   "metadata": {},
   "outputs": [],
   "source": []
  },
  {
   "cell_type": "markdown",
   "metadata": {},
   "source": [
    "### 6.\tWrite a Python program to print all pronic numbers between 1 and 100?\n",
    "The pronic number is a product of two consecutive integers of the form: n(n+1)"
   ]
  },
  {
   "cell_type": "code",
   "execution_count": 23,
   "metadata": {},
   "outputs": [
    {
     "name": "stdout",
     "output_type": "stream",
     "text": [
      "2\n",
      "6\n",
      "12\n",
      "20\n",
      "30\n",
      "42\n",
      "56\n",
      "72\n",
      "90\n"
     ]
    }
   ],
   "source": [
    "def pronic_number(num):\n",
    "    flag = False\n",
    "    for i in range(1,num+1):\n",
    "        if(i*(i+1) == num):\n",
    "            flag=True\n",
    "            break\n",
    "    return flag\n",
    "\n",
    "for i in range(1,101):\n",
    "    if(pronic_number(i)):\n",
    "        print(i)"
   ]
  },
  {
   "cell_type": "code",
   "execution_count": null,
   "metadata": {},
   "outputs": [],
   "source": []
  }
 ],
 "metadata": {
  "kernelspec": {
   "display_name": "Python 3",
   "language": "python",
   "name": "python3"
  },
  "language_info": {
   "codemirror_mode": {
    "name": "ipython",
    "version": 3
   },
   "file_extension": ".py",
   "mimetype": "text/x-python",
   "name": "python",
   "nbconvert_exporter": "python",
   "pygments_lexer": "ipython3",
   "version": "3.8.5"
  }
 },
 "nbformat": 4,
 "nbformat_minor": 4
}
