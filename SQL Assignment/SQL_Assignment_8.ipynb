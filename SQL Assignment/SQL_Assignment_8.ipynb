{
 "cells": [
  {
   "cell_type": "markdown",
   "metadata": {},
   "source": [
    "### Q-15. Write an SQL query to fetch intersecting records of two tables.\n",
    "\n",
    "We can use `INTERESCT` clause to match from two tables..\n",
    "\n",
    "the query will look like this...\n",
    "\n",
    "```\n",
    "            SELECT \n",
    "                column_name\n",
    "            FROM \n",
    "                table_1_name\n",
    "\n",
    "            INTERESCT\n",
    "\n",
    "            SELECT \n",
    "                column_name\n",
    "            FROM \n",
    "                table_2_name;\n",
    "\n",
    "```\n",
    "Above query will gives us only intersecting records from two tables.\n",
    "\n",
    "`column_name` have to primary_key from one table and foreign_key from another table"
   ]
  },
  {
   "cell_type": "code",
   "execution_count": null,
   "metadata": {},
   "outputs": [],
   "source": []
  },
  {
   "cell_type": "markdown",
   "metadata": {},
   "source": [
    "### Q-16. Write an SQL query to show records from one table that another table does not have.\n",
    "\n",
    "```\n",
    "                    SELECT \n",
    "                        column_name\n",
    "                    FROM\n",
    "                        table_1\n",
    "                    WHERE NOT EXISTS (\n",
    "                        SELECT \n",
    "                            * \n",
    "                        FROM \n",
    "                            table_2\n",
    "                        WHERE table_2.column_name = table_1.column_name\n",
    "                     );\n",
    "```\n",
    "Above query will gives us all the record from `table_1` which is not `table_2` and it will consider `column_name` as primary key."
   ]
  },
  {
   "cell_type": "code",
   "execution_count": null,
   "metadata": {},
   "outputs": [],
   "source": []
  }
 ],
 "metadata": {
  "kernelspec": {
   "display_name": "Python 3",
   "language": "python",
   "name": "python3"
  },
  "language_info": {
   "codemirror_mode": {
    "name": "ipython",
    "version": 3
   },
   "file_extension": ".py",
   "mimetype": "text/x-python",
   "name": "python",
   "nbconvert_exporter": "python",
   "pygments_lexer": "ipython3",
   "version": "3.8.5"
  }
 },
 "nbformat": 4,
 "nbformat_minor": 4
}
